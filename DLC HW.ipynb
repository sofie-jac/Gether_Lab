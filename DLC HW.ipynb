{
 "cells": [
  {
   "cell_type": "code",
   "execution_count": 2,
   "id": "c812452f",
   "metadata": {},
   "outputs": [
    {
     "name": "stdout",
     "output_type": "stream",
     "text": [
      "Loading DLC 2.2.3...\n",
      "Successfully imported DeepLabCut version: 2.2.3\n"
     ]
    }
   ],
   "source": [
    "import deeplabcut\n",
    "import os\n",
    "\n",
    "# Note: To get some feedback for the successful import, you can add the print function:\n",
    "\n",
    "print(f'Successfully imported DeepLabCut version: {deeplabcut. __version__}')"
   ]
  },
  {
   "cell_type": "code",
   "execution_count": 2,
   "id": "02219f74",
   "metadata": {},
   "outputs": [
    {
     "data": {
      "text/plain": [
       "['C:\\\\Users\\\\UCPH\\\\gabi\\\\thesis analysis\\\\hw_train\\\\180822PreHW19HAL1,6.avi',\n",
       " 'C:\\\\Users\\\\UCPH\\\\gabi\\\\thesis analysis\\\\hw_train\\\\191022PreHW28VEH.avi',\n",
       " 'C:\\\\Users\\\\UCPH\\\\gabi\\\\thesis analysis\\\\hw_train\\\\230822PreHW17HAL1,6.avi',\n",
       " 'C:\\\\Users\\\\UCPH\\\\gabi\\\\thesis analysis\\\\hw_train\\\\240822PostHW16HAL1,6a.avi',\n",
       " 'C:\\\\Users\\\\UCPH\\\\gabi\\\\thesis analysis\\\\hw_train\\\\28112022PreHW51HAL1,6.avi',\n",
       " 'C:\\\\Users\\\\UCPH\\\\gabi\\\\thesis analysis\\\\hw_train\\\\28112022PreHW55HAL1,6.avi',\n",
       " 'C:\\\\Users\\\\UCPH\\\\gabi\\\\thesis analysis\\\\hw_train\\\\29112022PreHW59HAL1,6.avi',\n",
       " 'C:\\\\Users\\\\UCPH\\\\gabi\\\\thesis analysis\\\\hw_train\\\\GT280722PostHW25HAL0,2.avi']"
      ]
     },
     "execution_count": 2,
     "metadata": {},
     "output_type": "execute_result"
    }
   ],
   "source": [
    "folder_path = r'C:\\Users\\UCPH\\gabi\\thesis analysis\\hw_train'\n",
    "\n",
    "# Initialize an empty list to store the full paths of .avi files\n",
    "videolist = []\n",
    "\n",
    "# List all files in the folder\n",
    "files_in_folder = os.listdir(folder_path)\n",
    "\n",
    "# Iterate through the files and check if they have a .avi extension\n",
    "for file in files_in_folder:\n",
    "    if file.endswith('.avi'):\n",
    "        # Create the full path by joining the folder path and file name\n",
    "        full_path = os.path.join(folder_path, file)\n",
    "        # Append the full path to the list\n",
    "        videolist.append(full_path)\n",
    "        \n",
    "videolist"
   ]
  },
  {
   "cell_type": "code",
   "execution_count": 19,
   "id": "99b03a4a",
   "metadata": {},
   "outputs": [
    {
     "data": {
      "text/plain": [
       "['C:\\\\Users\\\\UCPH\\\\gabi\\\\thesis analysis\\\\test2\\\\1_POST_BB_15_H0,2_KI_M_T1.avi',\n",
       " 'C:\\\\Users\\\\UCPH\\\\gabi\\\\thesis analysis\\\\test2\\\\1_POST_BB_15_H0,2_KI_M_T2.avi',\n",
       " 'C:\\\\Users\\\\UCPH\\\\gabi\\\\thesis analysis\\\\test2\\\\1_POST_BB_15_H0,2_KI_M_T3.avi',\n",
       " 'C:\\\\Users\\\\UCPH\\\\gabi\\\\thesis analysis\\\\test2\\\\1_POST_BB_15_H0,2_KI_M_T4.avi',\n",
       " 'C:\\\\Users\\\\UCPH\\\\gabi\\\\thesis analysis\\\\test2\\\\1_POST_BB_15_H0,4_KI_M_T1.avi',\n",
       " 'C:\\\\Users\\\\UCPH\\\\gabi\\\\thesis analysis\\\\test2\\\\1_POST_BB_15_H0,4_KI_M_T2.avi',\n",
       " 'C:\\\\Users\\\\UCPH\\\\gabi\\\\thesis analysis\\\\test2\\\\1_POST_BB_15_H0,4_KI_M_T3.avi',\n",
       " 'C:\\\\Users\\\\UCPH\\\\gabi\\\\thesis analysis\\\\test2\\\\1_POST_BB_15_H0,4_KI_M_T4.avi',\n",
       " 'C:\\\\Users\\\\UCPH\\\\gabi\\\\thesis analysis\\\\test2\\\\1_POST_BB_15_H0,8_KI_M_T1.avi',\n",
       " 'C:\\\\Users\\\\UCPH\\\\gabi\\\\thesis analysis\\\\test2\\\\1_POST_BB_15_H0,8_KI_M_T2.avi',\n",
       " 'C:\\\\Users\\\\UCPH\\\\gabi\\\\thesis analysis\\\\test2\\\\1_POST_BB_15_H0,8_KI_M_T3.avi',\n",
       " 'C:\\\\Users\\\\UCPH\\\\gabi\\\\thesis analysis\\\\test2\\\\1_POST_BB_15_H0,8_KI_M_T4.avi',\n",
       " 'C:\\\\Users\\\\UCPH\\\\gabi\\\\thesis analysis\\\\test2\\\\1_POST_BB_16_H0,2_WT_F_T1.avi',\n",
       " 'C:\\\\Users\\\\UCPH\\\\gabi\\\\thesis analysis\\\\test2\\\\1_POST_BB_16_H0,2_WT_F_T2.avi',\n",
       " 'C:\\\\Users\\\\UCPH\\\\gabi\\\\thesis analysis\\\\test2\\\\1_POST_BB_16_H0,2_WT_F_T3.avi',\n",
       " 'C:\\\\Users\\\\UCPH\\\\gabi\\\\thesis analysis\\\\test2\\\\1_POST_BB_16_H0,2_WT_F_T4.avi',\n",
       " 'C:\\\\Users\\\\UCPH\\\\gabi\\\\thesis analysis\\\\test2\\\\1_POST_BB_16_H0,4_WT_F_T1.avi',\n",
       " 'C:\\\\Users\\\\UCPH\\\\gabi\\\\thesis analysis\\\\test2\\\\1_POST_BB_16_H0,4_WT_F_T2.avi',\n",
       " 'C:\\\\Users\\\\UCPH\\\\gabi\\\\thesis analysis\\\\test2\\\\1_POST_BB_16_H0,4_WT_F_T3.avi',\n",
       " 'C:\\\\Users\\\\UCPH\\\\gabi\\\\thesis analysis\\\\test2\\\\1_POST_BB_16_H0,4_WT_F_T4.avi',\n",
       " 'C:\\\\Users\\\\UCPH\\\\gabi\\\\thesis analysis\\\\test2\\\\1_POST_BB_16_H0,8_WT_F_T1.avi',\n",
       " 'C:\\\\Users\\\\UCPH\\\\gabi\\\\thesis analysis\\\\test2\\\\1_POST_BB_16_H0,8_WT_F_T2.avi',\n",
       " 'C:\\\\Users\\\\UCPH\\\\gabi\\\\thesis analysis\\\\test2\\\\1_POST_BB_16_H0,8_WT_F_T3.avi',\n",
       " 'C:\\\\Users\\\\UCPH\\\\gabi\\\\thesis analysis\\\\test2\\\\1_POST_BB_16_H0,8_WT_F_T4.avi',\n",
       " 'C:\\\\Users\\\\UCPH\\\\gabi\\\\thesis analysis\\\\test2\\\\1_POST_BB_17_H0,2_KI_M_T1.avi',\n",
       " 'C:\\\\Users\\\\UCPH\\\\gabi\\\\thesis analysis\\\\test2\\\\1_POST_BB_17_H0,2_KI_M_T2.avi',\n",
       " 'C:\\\\Users\\\\UCPH\\\\gabi\\\\thesis analysis\\\\test2\\\\1_POST_BB_17_H0,2_KI_M_T3.avi',\n",
       " 'C:\\\\Users\\\\UCPH\\\\gabi\\\\thesis analysis\\\\test2\\\\1_POST_BB_17_H0,2_KI_M_T4.avi',\n",
       " 'C:\\\\Users\\\\UCPH\\\\gabi\\\\thesis analysis\\\\test2\\\\1_POST_BB_17_H0,4_KI_M_T1.avi',\n",
       " 'C:\\\\Users\\\\UCPH\\\\gabi\\\\thesis analysis\\\\test2\\\\1_POST_BB_17_H0,4_KI_M_T2.avi',\n",
       " 'C:\\\\Users\\\\UCPH\\\\gabi\\\\thesis analysis\\\\test2\\\\1_POST_BB_17_H0,4_KI_M_T3.avi',\n",
       " 'C:\\\\Users\\\\UCPH\\\\gabi\\\\thesis analysis\\\\test2\\\\1_POST_BB_17_H0,4_KI_M_T4.avi',\n",
       " 'C:\\\\Users\\\\UCPH\\\\gabi\\\\thesis analysis\\\\test2\\\\1_POST_BB_17_H0,8_KI_M_T1.avi',\n",
       " 'C:\\\\Users\\\\UCPH\\\\gabi\\\\thesis analysis\\\\test2\\\\1_POST_BB_17_H0,8_KI_M_T2.avi',\n",
       " 'C:\\\\Users\\\\UCPH\\\\gabi\\\\thesis analysis\\\\test2\\\\1_POST_BB_17_H0,8_KI_M_T3.avi',\n",
       " 'C:\\\\Users\\\\UCPH\\\\gabi\\\\thesis analysis\\\\test2\\\\1_POST_BB_17_H0,8_KI_M_T4.avi',\n",
       " 'C:\\\\Users\\\\UCPH\\\\gabi\\\\thesis analysis\\\\test2\\\\1_POST_BB_19_H0,2_HET_M_T1.avi',\n",
       " 'C:\\\\Users\\\\UCPH\\\\gabi\\\\thesis analysis\\\\test2\\\\1_POST_BB_19_H0,2_HET_M_T2.avi',\n",
       " 'C:\\\\Users\\\\UCPH\\\\gabi\\\\thesis analysis\\\\test2\\\\1_POST_BB_19_H0,2_HET_M_T3.avi',\n",
       " 'C:\\\\Users\\\\UCPH\\\\gabi\\\\thesis analysis\\\\test2\\\\1_POST_BB_19_H0,2_HET_M_T4.avi',\n",
       " 'C:\\\\Users\\\\UCPH\\\\gabi\\\\thesis analysis\\\\test2\\\\1_POST_BB_19_H0,4_HET_M_T1.avi',\n",
       " 'C:\\\\Users\\\\UCPH\\\\gabi\\\\thesis analysis\\\\test2\\\\1_POST_BB_19_H0,4_HET_M_T2.avi',\n",
       " 'C:\\\\Users\\\\UCPH\\\\gabi\\\\thesis analysis\\\\test2\\\\1_POST_BB_19_H0,4_HET_M_T3.avi',\n",
       " 'C:\\\\Users\\\\UCPH\\\\gabi\\\\thesis analysis\\\\test2\\\\1_POST_BB_19_H0,4_HET_M_T4.avi',\n",
       " 'C:\\\\Users\\\\UCPH\\\\gabi\\\\thesis analysis\\\\test2\\\\1_POST_BB_19_H0,8_HET_M_T1.avi',\n",
       " 'C:\\\\Users\\\\UCPH\\\\gabi\\\\thesis analysis\\\\test2\\\\1_POST_BB_19_H0,8_HET_M_T2.avi',\n",
       " 'C:\\\\Users\\\\UCPH\\\\gabi\\\\thesis analysis\\\\test2\\\\1_POST_BB_19_H0,8_HET_M_T3.avi',\n",
       " 'C:\\\\Users\\\\UCPH\\\\gabi\\\\thesis analysis\\\\test2\\\\1_POST_BB_19_H0,8_HET_M_T4.avi',\n",
       " 'C:\\\\Users\\\\UCPH\\\\gabi\\\\thesis analysis\\\\test2\\\\1_POST_BB_20_H0,2_KI_F_T1.avi',\n",
       " 'C:\\\\Users\\\\UCPH\\\\gabi\\\\thesis analysis\\\\test2\\\\1_POST_BB_20_H0,2_KI_F_T2.avi',\n",
       " 'C:\\\\Users\\\\UCPH\\\\gabi\\\\thesis analysis\\\\test2\\\\1_POST_BB_20_H0,2_KI_F_T3.avi',\n",
       " 'C:\\\\Users\\\\UCPH\\\\gabi\\\\thesis analysis\\\\test2\\\\1_POST_BB_20_H0,2_KI_F_T4.avi',\n",
       " 'C:\\\\Users\\\\UCPH\\\\gabi\\\\thesis analysis\\\\test2\\\\1_POST_BB_20_H0,4_KI_F_T1.avi',\n",
       " 'C:\\\\Users\\\\UCPH\\\\gabi\\\\thesis analysis\\\\test2\\\\1_POST_BB_20_H0,4_KI_F_T2.avi',\n",
       " 'C:\\\\Users\\\\UCPH\\\\gabi\\\\thesis analysis\\\\test2\\\\1_POST_BB_20_H0,4_KI_F_T3.avi',\n",
       " 'C:\\\\Users\\\\UCPH\\\\gabi\\\\thesis analysis\\\\test2\\\\1_POST_BB_20_H0,4_KI_F_T4.avi',\n",
       " 'C:\\\\Users\\\\UCPH\\\\gabi\\\\thesis analysis\\\\test2\\\\1_POST_BB_20_H0,8_KI_F_T1.avi',\n",
       " 'C:\\\\Users\\\\UCPH\\\\gabi\\\\thesis analysis\\\\test2\\\\1_POST_BB_20_H0,8_KI_F_T2.avi',\n",
       " 'C:\\\\Users\\\\UCPH\\\\gabi\\\\thesis analysis\\\\test2\\\\1_POST_BB_20_H0,8_KI_F_T3.avi',\n",
       " 'C:\\\\Users\\\\UCPH\\\\gabi\\\\thesis analysis\\\\test2\\\\1_POST_BB_20_H0,8_KI_F_T4.avi',\n",
       " 'C:\\\\Users\\\\UCPH\\\\gabi\\\\thesis analysis\\\\test2\\\\1_POST_BB_24_H0,2_KI_F_T1.avi',\n",
       " 'C:\\\\Users\\\\UCPH\\\\gabi\\\\thesis analysis\\\\test2\\\\1_POST_BB_24_H0,2_KI_F_T2.avi',\n",
       " 'C:\\\\Users\\\\UCPH\\\\gabi\\\\thesis analysis\\\\test2\\\\1_POST_BB_24_H0,2_KI_F_T3.avi',\n",
       " 'C:\\\\Users\\\\UCPH\\\\gabi\\\\thesis analysis\\\\test2\\\\1_POST_BB_24_H0,2_KI_F_T4.avi',\n",
       " 'C:\\\\Users\\\\UCPH\\\\gabi\\\\thesis analysis\\\\test2\\\\1_POST_BB_24_H0,4_KI_F_T1.avi',\n",
       " 'C:\\\\Users\\\\UCPH\\\\gabi\\\\thesis analysis\\\\test2\\\\1_POST_BB_24_H0,4_KI_F_T2.avi',\n",
       " 'C:\\\\Users\\\\UCPH\\\\gabi\\\\thesis analysis\\\\test2\\\\1_POST_BB_24_H0,4_KI_F_T3.avi',\n",
       " 'C:\\\\Users\\\\UCPH\\\\gabi\\\\thesis analysis\\\\test2\\\\1_POST_BB_24_H0,4_KI_F_T4.avi',\n",
       " 'C:\\\\Users\\\\UCPH\\\\gabi\\\\thesis analysis\\\\test2\\\\1_POST_BB_24_H0,8_KI_F_T1.avi',\n",
       " 'C:\\\\Users\\\\UCPH\\\\gabi\\\\thesis analysis\\\\test2\\\\1_POST_BB_24_H0,8_KI_F_T2.avi',\n",
       " 'C:\\\\Users\\\\UCPH\\\\gabi\\\\thesis analysis\\\\test2\\\\1_POST_BB_24_H0,8_KI_F_T3.avi',\n",
       " 'C:\\\\Users\\\\UCPH\\\\gabi\\\\thesis analysis\\\\test2\\\\1_POST_BB_24_H0,8_KI_F_T4.avi',\n",
       " 'C:\\\\Users\\\\UCPH\\\\gabi\\\\thesis analysis\\\\test2\\\\1_POST_BB_25_H0,2_HET_M_T1.avi',\n",
       " 'C:\\\\Users\\\\UCPH\\\\gabi\\\\thesis analysis\\\\test2\\\\1_POST_BB_25_H0,2_HET_M_T2.avi',\n",
       " 'C:\\\\Users\\\\UCPH\\\\gabi\\\\thesis analysis\\\\test2\\\\1_POST_BB_25_H0,2_HET_M_T3.avi',\n",
       " 'C:\\\\Users\\\\UCPH\\\\gabi\\\\thesis analysis\\\\test2\\\\1_POST_BB_25_H0,2_HET_M_T4.avi',\n",
       " 'C:\\\\Users\\\\UCPH\\\\gabi\\\\thesis analysis\\\\test2\\\\1_POST_BB_26_H0,2_HET_F_T1.avi',\n",
       " 'C:\\\\Users\\\\UCPH\\\\gabi\\\\thesis analysis\\\\test2\\\\1_POST_BB_26_H0,2_HET_F_T2.avi',\n",
       " 'C:\\\\Users\\\\UCPH\\\\gabi\\\\thesis analysis\\\\test2\\\\1_POST_BB_26_H0,2_HET_F_T3.avi',\n",
       " 'C:\\\\Users\\\\UCPH\\\\gabi\\\\thesis analysis\\\\test2\\\\1_POST_BB_26_H0,2_HET_F_T4.avi',\n",
       " 'C:\\\\Users\\\\UCPH\\\\gabi\\\\thesis analysis\\\\test2\\\\1_POST_BB_26_H0,4_HET_F_T1.avi',\n",
       " 'C:\\\\Users\\\\UCPH\\\\gabi\\\\thesis analysis\\\\test2\\\\1_POST_BB_26_H0,4_HET_F_T2.avi',\n",
       " 'C:\\\\Users\\\\UCPH\\\\gabi\\\\thesis analysis\\\\test2\\\\1_POST_BB_26_H0,4_HET_F_T3.avi',\n",
       " 'C:\\\\Users\\\\UCPH\\\\gabi\\\\thesis analysis\\\\test2\\\\1_POST_BB_26_H0,4_HET_F_T4.avi',\n",
       " 'C:\\\\Users\\\\UCPH\\\\gabi\\\\thesis analysis\\\\test2\\\\1_POST_BB_26_H0,8_HET_F_T1.avi',\n",
       " 'C:\\\\Users\\\\UCPH\\\\gabi\\\\thesis analysis\\\\test2\\\\1_POST_BB_26_H0,8_HET_F_T2.avi',\n",
       " 'C:\\\\Users\\\\UCPH\\\\gabi\\\\thesis analysis\\\\test2\\\\1_POST_BB_26_H0,8_HET_F_T3.avi',\n",
       " 'C:\\\\Users\\\\UCPH\\\\gabi\\\\thesis analysis\\\\test2\\\\1_POST_BB_26_H0,8_HET_F_T4.avi',\n",
       " 'C:\\\\Users\\\\UCPH\\\\gabi\\\\thesis analysis\\\\test2\\\\1_POST_BB_29_H0,2_HET_M_T1.avi',\n",
       " 'C:\\\\Users\\\\UCPH\\\\gabi\\\\thesis analysis\\\\test2\\\\1_POST_BB_29_H0,2_HET_M_T2.avi',\n",
       " 'C:\\\\Users\\\\UCPH\\\\gabi\\\\thesis analysis\\\\test2\\\\1_POST_BB_29_H0,2_HET_M_T3.avi',\n",
       " 'C:\\\\Users\\\\UCPH\\\\gabi\\\\thesis analysis\\\\test2\\\\1_POST_BB_29_H0,2_HET_M_T4.avi',\n",
       " 'C:\\\\Users\\\\UCPH\\\\gabi\\\\thesis analysis\\\\test2\\\\1_POST_BB_29_H0,4_HET_M_T1.avi',\n",
       " 'C:\\\\Users\\\\UCPH\\\\gabi\\\\thesis analysis\\\\test2\\\\1_POST_BB_29_H0,4_HET_M_T2.avi',\n",
       " 'C:\\\\Users\\\\UCPH\\\\gabi\\\\thesis analysis\\\\test2\\\\1_POST_BB_29_H0,4_HET_M_T3.avi',\n",
       " 'C:\\\\Users\\\\UCPH\\\\gabi\\\\thesis analysis\\\\test2\\\\1_POST_BB_29_H0,4_HET_M_T4.avi',\n",
       " 'C:\\\\Users\\\\UCPH\\\\gabi\\\\thesis analysis\\\\test2\\\\1_POST_BB_29_H0,8_HET_M_T1.avi',\n",
       " 'C:\\\\Users\\\\UCPH\\\\gabi\\\\thesis analysis\\\\test2\\\\1_POST_BB_29_H0,8_HET_M_T2.avi',\n",
       " 'C:\\\\Users\\\\UCPH\\\\gabi\\\\thesis analysis\\\\test2\\\\1_POST_BB_29_H0,8_HET_M_T3.avi',\n",
       " 'C:\\\\Users\\\\UCPH\\\\gabi\\\\thesis analysis\\\\test2\\\\1_POST_BB_29_H0,8_HET_M_T4.avi',\n",
       " 'C:\\\\Users\\\\UCPH\\\\gabi\\\\thesis analysis\\\\test2\\\\1_POST_BB_33_H0,2_WT_M_T1.avi',\n",
       " 'C:\\\\Users\\\\UCPH\\\\gabi\\\\thesis analysis\\\\test2\\\\1_POST_BB_33_H0,2_WT_M_T2.avi',\n",
       " 'C:\\\\Users\\\\UCPH\\\\gabi\\\\thesis analysis\\\\test2\\\\1_POST_BB_33_H0,2_WT_M_T3.avi',\n",
       " 'C:\\\\Users\\\\UCPH\\\\gabi\\\\thesis analysis\\\\test2\\\\1_POST_BB_33_H0,2_WT_M_T4.avi',\n",
       " 'C:\\\\Users\\\\UCPH\\\\gabi\\\\thesis analysis\\\\test2\\\\1_POST_BB_33_H0,4_WT_M_T1.avi',\n",
       " 'C:\\\\Users\\\\UCPH\\\\gabi\\\\thesis analysis\\\\test2\\\\1_POST_BB_33_H0,4_WT_M_T2.avi',\n",
       " 'C:\\\\Users\\\\UCPH\\\\gabi\\\\thesis analysis\\\\test2\\\\1_POST_BB_33_H0,4_WT_M_T3.avi',\n",
       " 'C:\\\\Users\\\\UCPH\\\\gabi\\\\thesis analysis\\\\test2\\\\1_POST_BB_33_H0,4_WT_M_T4.avi',\n",
       " 'C:\\\\Users\\\\UCPH\\\\gabi\\\\thesis analysis\\\\test2\\\\1_POST_BB_33_H0,8_WT_M_T1.avi',\n",
       " 'C:\\\\Users\\\\UCPH\\\\gabi\\\\thesis analysis\\\\test2\\\\1_POST_BB_33_H0,8_WT_M_T2.avi',\n",
       " 'C:\\\\Users\\\\UCPH\\\\gabi\\\\thesis analysis\\\\test2\\\\1_POST_BB_33_H0,8_WT_M_T3.avi',\n",
       " 'C:\\\\Users\\\\UCPH\\\\gabi\\\\thesis analysis\\\\test2\\\\1_POST_BB_33_H0,8_WT_M_T4.avi',\n",
       " 'C:\\\\Users\\\\UCPH\\\\gabi\\\\thesis analysis\\\\test2\\\\1_POST_BB_35_H0,2_WT_M_T1.avi',\n",
       " 'C:\\\\Users\\\\UCPH\\\\gabi\\\\thesis analysis\\\\test2\\\\1_POST_BB_35_H0,2_WT_M_T2.avi',\n",
       " 'C:\\\\Users\\\\UCPH\\\\gabi\\\\thesis analysis\\\\test2\\\\1_POST_BB_35_H0,2_WT_M_T3.avi',\n",
       " 'C:\\\\Users\\\\UCPH\\\\gabi\\\\thesis analysis\\\\test2\\\\1_POST_BB_35_H0,2_WT_M_T4.avi',\n",
       " 'C:\\\\Users\\\\UCPH\\\\gabi\\\\thesis analysis\\\\test2\\\\1_POST_BB_35_H0,4_WT_M_T1.avi',\n",
       " 'C:\\\\Users\\\\UCPH\\\\gabi\\\\thesis analysis\\\\test2\\\\1_POST_BB_35_H0,4_WT_M_T2.avi',\n",
       " 'C:\\\\Users\\\\UCPH\\\\gabi\\\\thesis analysis\\\\test2\\\\1_POST_BB_35_H0,4_WT_M_T3.avi',\n",
       " 'C:\\\\Users\\\\UCPH\\\\gabi\\\\thesis analysis\\\\test2\\\\1_POST_BB_35_H0,4_WT_M_T4.avi',\n",
       " 'C:\\\\Users\\\\UCPH\\\\gabi\\\\thesis analysis\\\\test2\\\\1_POST_BB_35_H0,8_WT_M_T1.avi',\n",
       " 'C:\\\\Users\\\\UCPH\\\\gabi\\\\thesis analysis\\\\test2\\\\1_POST_BB_35_H0,8_WT_M_T2.avi',\n",
       " 'C:\\\\Users\\\\UCPH\\\\gabi\\\\thesis analysis\\\\test2\\\\1_POST_BB_35_H0,8_WT_M_T3.avi',\n",
       " 'C:\\\\Users\\\\UCPH\\\\gabi\\\\thesis analysis\\\\test2\\\\1_POST_BB_35_H0,8_WT_M_T4.avi',\n",
       " 'C:\\\\Users\\\\UCPH\\\\gabi\\\\thesis analysis\\\\test2\\\\1_POST_BB_37_H0,2_WT_M_T1.avi',\n",
       " 'C:\\\\Users\\\\UCPH\\\\gabi\\\\thesis analysis\\\\test2\\\\1_POST_BB_37_H0,2_WT_M_T2.avi',\n",
       " 'C:\\\\Users\\\\UCPH\\\\gabi\\\\thesis analysis\\\\test2\\\\1_POST_BB_37_H0,2_WT_M_T3.avi',\n",
       " 'C:\\\\Users\\\\UCPH\\\\gabi\\\\thesis analysis\\\\test2\\\\1_POST_BB_37_H0,2_WT_M_T4.avi',\n",
       " 'C:\\\\Users\\\\UCPH\\\\gabi\\\\thesis analysis\\\\test2\\\\1_POST_BB_37_H0,4_WT_M_T1.avi',\n",
       " 'C:\\\\Users\\\\UCPH\\\\gabi\\\\thesis analysis\\\\test2\\\\1_POST_BB_37_H0,4_WT_M_T2.avi',\n",
       " 'C:\\\\Users\\\\UCPH\\\\gabi\\\\thesis analysis\\\\test2\\\\1_POST_BB_37_H0,4_WT_M_T3.avi',\n",
       " 'C:\\\\Users\\\\UCPH\\\\gabi\\\\thesis analysis\\\\test2\\\\1_POST_BB_37_H0,4_WT_M_T4.avi',\n",
       " 'C:\\\\Users\\\\UCPH\\\\gabi\\\\thesis analysis\\\\test2\\\\1_POST_BB_37_H0,8_WT_M_T1.avi',\n",
       " 'C:\\\\Users\\\\UCPH\\\\gabi\\\\thesis analysis\\\\test2\\\\1_POST_BB_37_H0,8_WT_M_T2.avi',\n",
       " 'C:\\\\Users\\\\UCPH\\\\gabi\\\\thesis analysis\\\\test2\\\\1_POST_BB_37_H0,8_WT_M_T3.avi',\n",
       " 'C:\\\\Users\\\\UCPH\\\\gabi\\\\thesis analysis\\\\test2\\\\1_POST_BB_37_H0,8_WT_M_T4.avi',\n",
       " 'C:\\\\Users\\\\UCPH\\\\gabi\\\\thesis analysis\\\\test2\\\\1_PRE_BB_15_H0,2_KI_M_T1.avi',\n",
       " 'C:\\\\Users\\\\UCPH\\\\gabi\\\\thesis analysis\\\\test2\\\\1_PRE_BB_15_H0,2_KI_M_T2.avi',\n",
       " 'C:\\\\Users\\\\UCPH\\\\gabi\\\\thesis analysis\\\\test2\\\\1_PRE_BB_15_H0,2_KI_M_T3.avi',\n",
       " 'C:\\\\Users\\\\UCPH\\\\gabi\\\\thesis analysis\\\\test2\\\\1_PRE_BB_15_H0,2_KI_M_T4.avi',\n",
       " 'C:\\\\Users\\\\UCPH\\\\gabi\\\\thesis analysis\\\\test2\\\\1_PRE_BB_15_H0,4_KI_M_T1.avi',\n",
       " 'C:\\\\Users\\\\UCPH\\\\gabi\\\\thesis analysis\\\\test2\\\\1_PRE_BB_15_H0,4_KI_M_T2.avi',\n",
       " 'C:\\\\Users\\\\UCPH\\\\gabi\\\\thesis analysis\\\\test2\\\\1_PRE_BB_15_H0,4_KI_M_T3.avi',\n",
       " 'C:\\\\Users\\\\UCPH\\\\gabi\\\\thesis analysis\\\\test2\\\\1_PRE_BB_15_H0,4_KI_M_T4.avi',\n",
       " 'C:\\\\Users\\\\UCPH\\\\gabi\\\\thesis analysis\\\\test2\\\\1_PRE_BB_15_H0,8_KI_M_T1.avi',\n",
       " 'C:\\\\Users\\\\UCPH\\\\gabi\\\\thesis analysis\\\\test2\\\\1_PRE_BB_15_H0,8_KI_M_T2.avi',\n",
       " 'C:\\\\Users\\\\UCPH\\\\gabi\\\\thesis analysis\\\\test2\\\\1_PRE_BB_15_H0,8_KI_M_T3.avi',\n",
       " 'C:\\\\Users\\\\UCPH\\\\gabi\\\\thesis analysis\\\\test2\\\\1_PRE_BB_15_H0,8_KI_M_T4.avi',\n",
       " 'C:\\\\Users\\\\UCPH\\\\gabi\\\\thesis analysis\\\\test2\\\\1_PRE_BB_16_H0,2_WT_F_T1.avi',\n",
       " 'C:\\\\Users\\\\UCPH\\\\gabi\\\\thesis analysis\\\\test2\\\\1_PRE_BB_16_H0,2_WT_F_T2.avi',\n",
       " 'C:\\\\Users\\\\UCPH\\\\gabi\\\\thesis analysis\\\\test2\\\\1_PRE_BB_16_H0,2_WT_F_T3.avi',\n",
       " 'C:\\\\Users\\\\UCPH\\\\gabi\\\\thesis analysis\\\\test2\\\\1_PRE_BB_16_H0,2_WT_F_T4.avi',\n",
       " 'C:\\\\Users\\\\UCPH\\\\gabi\\\\thesis analysis\\\\test2\\\\1_PRE_BB_16_H0,4_WT_F_T1.avi',\n",
       " 'C:\\\\Users\\\\UCPH\\\\gabi\\\\thesis analysis\\\\test2\\\\1_PRE_BB_16_H0,4_WT_F_T2.avi',\n",
       " 'C:\\\\Users\\\\UCPH\\\\gabi\\\\thesis analysis\\\\test2\\\\1_PRE_BB_16_H0,4_WT_F_T3.avi',\n",
       " 'C:\\\\Users\\\\UCPH\\\\gabi\\\\thesis analysis\\\\test2\\\\1_PRE_BB_16_H0,4_WT_F_T4.avi',\n",
       " 'C:\\\\Users\\\\UCPH\\\\gabi\\\\thesis analysis\\\\test2\\\\1_PRE_BB_16_H0,8_WT_F_T1.avi',\n",
       " 'C:\\\\Users\\\\UCPH\\\\gabi\\\\thesis analysis\\\\test2\\\\1_PRE_BB_16_H0,8_WT_F_T2.avi',\n",
       " 'C:\\\\Users\\\\UCPH\\\\gabi\\\\thesis analysis\\\\test2\\\\1_PRE_BB_16_H0,8_WT_F_T3.avi',\n",
       " 'C:\\\\Users\\\\UCPH\\\\gabi\\\\thesis analysis\\\\test2\\\\1_PRE_BB_16_H0,8_WT_F_T4.avi',\n",
       " 'C:\\\\Users\\\\UCPH\\\\gabi\\\\thesis analysis\\\\test2\\\\1_PRE_BB_17_H0,2_KI_M_T1.avi',\n",
       " 'C:\\\\Users\\\\UCPH\\\\gabi\\\\thesis analysis\\\\test2\\\\1_PRE_BB_17_H0,2_KI_M_T2.avi',\n",
       " 'C:\\\\Users\\\\UCPH\\\\gabi\\\\thesis analysis\\\\test2\\\\1_PRE_BB_17_H0,2_KI_M_T3.avi',\n",
       " 'C:\\\\Users\\\\UCPH\\\\gabi\\\\thesis analysis\\\\test2\\\\1_PRE_BB_17_H0,2_KI_M_T4.avi',\n",
       " 'C:\\\\Users\\\\UCPH\\\\gabi\\\\thesis analysis\\\\test2\\\\1_PRE_BB_17_H0,4_KI_M_T1.avi',\n",
       " 'C:\\\\Users\\\\UCPH\\\\gabi\\\\thesis analysis\\\\test2\\\\1_PRE_BB_17_H0,4_KI_M_T2.avi',\n",
       " 'C:\\\\Users\\\\UCPH\\\\gabi\\\\thesis analysis\\\\test2\\\\1_PRE_BB_17_H0,4_KI_M_T3.avi',\n",
       " 'C:\\\\Users\\\\UCPH\\\\gabi\\\\thesis analysis\\\\test2\\\\1_PRE_BB_17_H0,4_KI_M_T4.avi',\n",
       " 'C:\\\\Users\\\\UCPH\\\\gabi\\\\thesis analysis\\\\test2\\\\1_PRE_BB_17_H0,8_KI_M_T1.avi',\n",
       " 'C:\\\\Users\\\\UCPH\\\\gabi\\\\thesis analysis\\\\test2\\\\1_PRE_BB_17_H0,8_KI_M_T2.avi',\n",
       " 'C:\\\\Users\\\\UCPH\\\\gabi\\\\thesis analysis\\\\test2\\\\1_PRE_BB_17_H0,8_KI_M_T3.avi',\n",
       " 'C:\\\\Users\\\\UCPH\\\\gabi\\\\thesis analysis\\\\test2\\\\1_PRE_BB_17_H0,8_KI_M_T4.avi',\n",
       " 'C:\\\\Users\\\\UCPH\\\\gabi\\\\thesis analysis\\\\test2\\\\1_PRE_BB_19_H0,2_HET_M_T1.avi',\n",
       " 'C:\\\\Users\\\\UCPH\\\\gabi\\\\thesis analysis\\\\test2\\\\1_PRE_BB_19_H0,2_HET_M_T2.avi',\n",
       " 'C:\\\\Users\\\\UCPH\\\\gabi\\\\thesis analysis\\\\test2\\\\1_PRE_BB_19_H0,2_HET_M_T3.avi',\n",
       " 'C:\\\\Users\\\\UCPH\\\\gabi\\\\thesis analysis\\\\test2\\\\1_PRE_BB_19_H0,2_HET_M_T4.avi',\n",
       " 'C:\\\\Users\\\\UCPH\\\\gabi\\\\thesis analysis\\\\test2\\\\1_PRE_BB_19_H0,4_HET_M_T1.avi',\n",
       " 'C:\\\\Users\\\\UCPH\\\\gabi\\\\thesis analysis\\\\test2\\\\1_PRE_BB_19_H0,4_HET_M_T2.avi',\n",
       " 'C:\\\\Users\\\\UCPH\\\\gabi\\\\thesis analysis\\\\test2\\\\1_PRE_BB_19_H0,4_HET_M_T3.avi',\n",
       " 'C:\\\\Users\\\\UCPH\\\\gabi\\\\thesis analysis\\\\test2\\\\1_PRE_BB_19_H0,4_HET_M_T4.avi',\n",
       " 'C:\\\\Users\\\\UCPH\\\\gabi\\\\thesis analysis\\\\test2\\\\1_PRE_BB_19_H0,8_HET_M_T1.avi',\n",
       " 'C:\\\\Users\\\\UCPH\\\\gabi\\\\thesis analysis\\\\test2\\\\1_PRE_BB_19_H0,8_HET_M_T2.avi',\n",
       " 'C:\\\\Users\\\\UCPH\\\\gabi\\\\thesis analysis\\\\test2\\\\1_PRE_BB_19_H0,8_HET_M_T3.avi',\n",
       " 'C:\\\\Users\\\\UCPH\\\\gabi\\\\thesis analysis\\\\test2\\\\1_PRE_BB_19_H0,8_HET_M_T4.avi',\n",
       " 'C:\\\\Users\\\\UCPH\\\\gabi\\\\thesis analysis\\\\test2\\\\1_PRE_BB_20_H0,2_KI_F_T1.avi',\n",
       " 'C:\\\\Users\\\\UCPH\\\\gabi\\\\thesis analysis\\\\test2\\\\1_PRE_BB_20_H0,2_KI_F_T2.avi',\n",
       " 'C:\\\\Users\\\\UCPH\\\\gabi\\\\thesis analysis\\\\test2\\\\1_PRE_BB_20_H0,2_KI_F_T3.avi',\n",
       " 'C:\\\\Users\\\\UCPH\\\\gabi\\\\thesis analysis\\\\test2\\\\1_PRE_BB_20_H0,2_KI_F_T4.avi',\n",
       " 'C:\\\\Users\\\\UCPH\\\\gabi\\\\thesis analysis\\\\test2\\\\1_PRE_BB_20_H0,4_KI_F_T1.avi',\n",
       " 'C:\\\\Users\\\\UCPH\\\\gabi\\\\thesis analysis\\\\test2\\\\1_PRE_BB_20_H0,4_KI_F_T2.avi',\n",
       " 'C:\\\\Users\\\\UCPH\\\\gabi\\\\thesis analysis\\\\test2\\\\1_PRE_BB_20_H0,4_KI_F_T3.avi',\n",
       " 'C:\\\\Users\\\\UCPH\\\\gabi\\\\thesis analysis\\\\test2\\\\1_PRE_BB_20_H0,4_KI_F_T4.avi',\n",
       " 'C:\\\\Users\\\\UCPH\\\\gabi\\\\thesis analysis\\\\test2\\\\1_PRE_BB_20_H0,8_KI_F_T1.avi',\n",
       " 'C:\\\\Users\\\\UCPH\\\\gabi\\\\thesis analysis\\\\test2\\\\1_PRE_BB_20_H0,8_KI_F_T2.avi',\n",
       " 'C:\\\\Users\\\\UCPH\\\\gabi\\\\thesis analysis\\\\test2\\\\1_PRE_BB_20_H0,8_KI_F_T3.avi',\n",
       " 'C:\\\\Users\\\\UCPH\\\\gabi\\\\thesis analysis\\\\test2\\\\1_PRE_BB_20_H0,8_KI_F_T4.avi',\n",
       " 'C:\\\\Users\\\\UCPH\\\\gabi\\\\thesis analysis\\\\test2\\\\1_PRE_BB_24_H0,2_KI_F_T1.avi',\n",
       " 'C:\\\\Users\\\\UCPH\\\\gabi\\\\thesis analysis\\\\test2\\\\1_PRE_BB_24_H0,2_KI_F_T2.avi',\n",
       " 'C:\\\\Users\\\\UCPH\\\\gabi\\\\thesis analysis\\\\test2\\\\1_PRE_BB_24_H0,2_KI_F_T3.avi',\n",
       " 'C:\\\\Users\\\\UCPH\\\\gabi\\\\thesis analysis\\\\test2\\\\1_PRE_BB_24_H0,2_KI_F_T4.avi',\n",
       " 'C:\\\\Users\\\\UCPH\\\\gabi\\\\thesis analysis\\\\test2\\\\1_PRE_BB_24_H0,4_KI_F_T1.avi',\n",
       " 'C:\\\\Users\\\\UCPH\\\\gabi\\\\thesis analysis\\\\test2\\\\1_PRE_BB_24_H0,4_KI_F_T2.avi',\n",
       " 'C:\\\\Users\\\\UCPH\\\\gabi\\\\thesis analysis\\\\test2\\\\1_PRE_BB_24_H0,4_KI_F_T3.avi',\n",
       " 'C:\\\\Users\\\\UCPH\\\\gabi\\\\thesis analysis\\\\test2\\\\1_PRE_BB_24_H0,4_KI_F_T4.avi',\n",
       " 'C:\\\\Users\\\\UCPH\\\\gabi\\\\thesis analysis\\\\test2\\\\1_PRE_BB_24_H0,8_KI_F_T1.avi',\n",
       " 'C:\\\\Users\\\\UCPH\\\\gabi\\\\thesis analysis\\\\test2\\\\1_PRE_BB_24_H0,8_KI_F_T2.avi',\n",
       " 'C:\\\\Users\\\\UCPH\\\\gabi\\\\thesis analysis\\\\test2\\\\1_PRE_BB_24_H0,8_KI_F_T3.avi',\n",
       " 'C:\\\\Users\\\\UCPH\\\\gabi\\\\thesis analysis\\\\test2\\\\1_PRE_BB_24_H0,8_KI_F_T4.avi',\n",
       " 'C:\\\\Users\\\\UCPH\\\\gabi\\\\thesis analysis\\\\test2\\\\1_PRE_BB_25_H0,2_HET_M_T1.avi',\n",
       " 'C:\\\\Users\\\\UCPH\\\\gabi\\\\thesis analysis\\\\test2\\\\1_PRE_BB_25_H0,2_HET_M_T2.avi',\n",
       " 'C:\\\\Users\\\\UCPH\\\\gabi\\\\thesis analysis\\\\test2\\\\1_PRE_BB_25_H0,2_HET_M_T3.avi',\n",
       " 'C:\\\\Users\\\\UCPH\\\\gabi\\\\thesis analysis\\\\test2\\\\1_PRE_BB_25_H0,2_HET_M_T4.avi',\n",
       " 'C:\\\\Users\\\\UCPH\\\\gabi\\\\thesis analysis\\\\test2\\\\1_PRE_BB_26_H0,2_HET_F_T1.avi',\n",
       " 'C:\\\\Users\\\\UCPH\\\\gabi\\\\thesis analysis\\\\test2\\\\1_PRE_BB_26_H0,2_HET_F_T2.avi',\n",
       " 'C:\\\\Users\\\\UCPH\\\\gabi\\\\thesis analysis\\\\test2\\\\1_PRE_BB_26_H0,2_HET_F_T3.avi',\n",
       " 'C:\\\\Users\\\\UCPH\\\\gabi\\\\thesis analysis\\\\test2\\\\1_PRE_BB_26_H0,2_HET_F_T4.avi',\n",
       " 'C:\\\\Users\\\\UCPH\\\\gabi\\\\thesis analysis\\\\test2\\\\1_PRE_BB_26_H0,4_HET_F_T1.avi',\n",
       " 'C:\\\\Users\\\\UCPH\\\\gabi\\\\thesis analysis\\\\test2\\\\1_PRE_BB_26_H0,4_HET_F_T2.avi',\n",
       " 'C:\\\\Users\\\\UCPH\\\\gabi\\\\thesis analysis\\\\test2\\\\1_PRE_BB_26_H0,4_HET_F_T3.avi',\n",
       " 'C:\\\\Users\\\\UCPH\\\\gabi\\\\thesis analysis\\\\test2\\\\1_PRE_BB_26_H0,4_HET_F_T4.avi',\n",
       " 'C:\\\\Users\\\\UCPH\\\\gabi\\\\thesis analysis\\\\test2\\\\1_PRE_BB_26_H0,8_HET_F_T1.avi',\n",
       " 'C:\\\\Users\\\\UCPH\\\\gabi\\\\thesis analysis\\\\test2\\\\1_PRE_BB_26_H0,8_HET_F_T2.avi',\n",
       " 'C:\\\\Users\\\\UCPH\\\\gabi\\\\thesis analysis\\\\test2\\\\1_PRE_BB_26_H0,8_HET_F_T3.avi',\n",
       " 'C:\\\\Users\\\\UCPH\\\\gabi\\\\thesis analysis\\\\test2\\\\1_PRE_BB_26_H0,8_HET_F_T4.avi',\n",
       " 'C:\\\\Users\\\\UCPH\\\\gabi\\\\thesis analysis\\\\test2\\\\1_PRE_BB_29_H0,2_HET_M_T1.avi',\n",
       " 'C:\\\\Users\\\\UCPH\\\\gabi\\\\thesis analysis\\\\test2\\\\1_PRE_BB_29_H0,2_HET_M_T2.avi',\n",
       " 'C:\\\\Users\\\\UCPH\\\\gabi\\\\thesis analysis\\\\test2\\\\1_PRE_BB_29_H0,2_HET_M_T3.avi',\n",
       " 'C:\\\\Users\\\\UCPH\\\\gabi\\\\thesis analysis\\\\test2\\\\1_PRE_BB_29_H0,2_HET_M_T4.avi',\n",
       " 'C:\\\\Users\\\\UCPH\\\\gabi\\\\thesis analysis\\\\test2\\\\1_PRE_BB_29_H0,4_HET_M_T1.avi',\n",
       " 'C:\\\\Users\\\\UCPH\\\\gabi\\\\thesis analysis\\\\test2\\\\1_PRE_BB_29_H0,4_HET_M_T2.avi',\n",
       " 'C:\\\\Users\\\\UCPH\\\\gabi\\\\thesis analysis\\\\test2\\\\1_PRE_BB_29_H0,4_HET_M_T3.avi',\n",
       " 'C:\\\\Users\\\\UCPH\\\\gabi\\\\thesis analysis\\\\test2\\\\1_PRE_BB_29_H0,4_HET_M_T4.avi',\n",
       " 'C:\\\\Users\\\\UCPH\\\\gabi\\\\thesis analysis\\\\test2\\\\1_PRE_BB_29_H0,8_HET_M_T1.avi',\n",
       " 'C:\\\\Users\\\\UCPH\\\\gabi\\\\thesis analysis\\\\test2\\\\1_PRE_BB_29_H0,8_HET_M_T2.avi',\n",
       " 'C:\\\\Users\\\\UCPH\\\\gabi\\\\thesis analysis\\\\test2\\\\1_PRE_BB_29_H0,8_HET_M_T3.avi',\n",
       " 'C:\\\\Users\\\\UCPH\\\\gabi\\\\thesis analysis\\\\test2\\\\1_PRE_BB_29_H0,8_HET_M_T4.avi',\n",
       " 'C:\\\\Users\\\\UCPH\\\\gabi\\\\thesis analysis\\\\test2\\\\1_PRE_BB_33_H0,2_WT_M_T1.avi',\n",
       " 'C:\\\\Users\\\\UCPH\\\\gabi\\\\thesis analysis\\\\test2\\\\1_PRE_BB_33_H0,2_WT_M_T2.avi',\n",
       " 'C:\\\\Users\\\\UCPH\\\\gabi\\\\thesis analysis\\\\test2\\\\1_PRE_BB_33_H0,2_WT_M_T3.avi',\n",
       " 'C:\\\\Users\\\\UCPH\\\\gabi\\\\thesis analysis\\\\test2\\\\1_PRE_BB_33_H0,2_WT_M_T4.avi',\n",
       " 'C:\\\\Users\\\\UCPH\\\\gabi\\\\thesis analysis\\\\test2\\\\1_PRE_BB_33_H0,4_WT_M_T1.avi',\n",
       " 'C:\\\\Users\\\\UCPH\\\\gabi\\\\thesis analysis\\\\test2\\\\1_PRE_BB_33_H0,4_WT_M_T2.avi',\n",
       " 'C:\\\\Users\\\\UCPH\\\\gabi\\\\thesis analysis\\\\test2\\\\1_PRE_BB_33_H0,4_WT_M_T3.avi',\n",
       " 'C:\\\\Users\\\\UCPH\\\\gabi\\\\thesis analysis\\\\test2\\\\1_PRE_BB_33_H0,4_WT_M_T4.avi',\n",
       " 'C:\\\\Users\\\\UCPH\\\\gabi\\\\thesis analysis\\\\test2\\\\1_PRE_BB_33_H0,8_WT_M_T1.avi',\n",
       " 'C:\\\\Users\\\\UCPH\\\\gabi\\\\thesis analysis\\\\test2\\\\1_PRE_BB_33_H0,8_WT_M_T2.avi',\n",
       " 'C:\\\\Users\\\\UCPH\\\\gabi\\\\thesis analysis\\\\test2\\\\1_PRE_BB_33_H0,8_WT_M_T3.avi',\n",
       " 'C:\\\\Users\\\\UCPH\\\\gabi\\\\thesis analysis\\\\test2\\\\1_PRE_BB_33_H0,8_WT_M_T4.avi',\n",
       " 'C:\\\\Users\\\\UCPH\\\\gabi\\\\thesis analysis\\\\test2\\\\1_PRE_BB_35_H0,2_WT_M_T1.avi',\n",
       " 'C:\\\\Users\\\\UCPH\\\\gabi\\\\thesis analysis\\\\test2\\\\1_PRE_BB_35_H0,2_WT_M_T2.avi',\n",
       " 'C:\\\\Users\\\\UCPH\\\\gabi\\\\thesis analysis\\\\test2\\\\1_PRE_BB_35_H0,2_WT_M_T3.avi',\n",
       " 'C:\\\\Users\\\\UCPH\\\\gabi\\\\thesis analysis\\\\test2\\\\1_PRE_BB_35_H0,2_WT_M_T4.avi',\n",
       " 'C:\\\\Users\\\\UCPH\\\\gabi\\\\thesis analysis\\\\test2\\\\1_PRE_BB_35_H0,4_WT_M_T1.avi',\n",
       " 'C:\\\\Users\\\\UCPH\\\\gabi\\\\thesis analysis\\\\test2\\\\1_PRE_BB_35_H0,4_WT_M_T2.avi',\n",
       " 'C:\\\\Users\\\\UCPH\\\\gabi\\\\thesis analysis\\\\test2\\\\1_PRE_BB_35_H0,4_WT_M_T3.avi',\n",
       " 'C:\\\\Users\\\\UCPH\\\\gabi\\\\thesis analysis\\\\test2\\\\1_PRE_BB_35_H0,4_WT_M_T4.avi',\n",
       " 'C:\\\\Users\\\\UCPH\\\\gabi\\\\thesis analysis\\\\test2\\\\1_PRE_BB_35_H0,8_WT_M_T1.avi',\n",
       " 'C:\\\\Users\\\\UCPH\\\\gabi\\\\thesis analysis\\\\test2\\\\1_PRE_BB_35_H0,8_WT_M_T2.avi',\n",
       " 'C:\\\\Users\\\\UCPH\\\\gabi\\\\thesis analysis\\\\test2\\\\1_PRE_BB_35_H0,8_WT_M_T3.avi',\n",
       " 'C:\\\\Users\\\\UCPH\\\\gabi\\\\thesis analysis\\\\test2\\\\1_PRE_BB_35_H0,8_WT_M_T4.avi',\n",
       " 'C:\\\\Users\\\\UCPH\\\\gabi\\\\thesis analysis\\\\test2\\\\1_PRE_BB_37_H0,2_WT_M_T1.avi',\n",
       " 'C:\\\\Users\\\\UCPH\\\\gabi\\\\thesis analysis\\\\test2\\\\1_PRE_BB_37_H0,2_WT_M_T2.avi',\n",
       " 'C:\\\\Users\\\\UCPH\\\\gabi\\\\thesis analysis\\\\test2\\\\1_PRE_BB_37_H0,2_WT_M_T3.avi',\n",
       " 'C:\\\\Users\\\\UCPH\\\\gabi\\\\thesis analysis\\\\test2\\\\1_PRE_BB_37_H0,2_WT_M_T4.avi',\n",
       " 'C:\\\\Users\\\\UCPH\\\\gabi\\\\thesis analysis\\\\test2\\\\1_PRE_BB_37_H0,4_WT_M_T1.avi',\n",
       " 'C:\\\\Users\\\\UCPH\\\\gabi\\\\thesis analysis\\\\test2\\\\1_PRE_BB_37_H0,4_WT_M_T2.avi',\n",
       " 'C:\\\\Users\\\\UCPH\\\\gabi\\\\thesis analysis\\\\test2\\\\1_PRE_BB_37_H0,4_WT_M_T3.avi',\n",
       " 'C:\\\\Users\\\\UCPH\\\\gabi\\\\thesis analysis\\\\test2\\\\1_PRE_BB_37_H0,4_WT_M_T4.avi',\n",
       " 'C:\\\\Users\\\\UCPH\\\\gabi\\\\thesis analysis\\\\test2\\\\1_PRE_BB_37_H0,8_WT_M_T1.avi',\n",
       " 'C:\\\\Users\\\\UCPH\\\\gabi\\\\thesis analysis\\\\test2\\\\1_PRE_BB_37_H0,8_WT_M_T2.avi',\n",
       " 'C:\\\\Users\\\\UCPH\\\\gabi\\\\thesis analysis\\\\test2\\\\1_PRE_BB_37_H0,8_WT_M_T3.avi',\n",
       " 'C:\\\\Users\\\\UCPH\\\\gabi\\\\thesis analysis\\\\test2\\\\1_PRE_BB_37_H0,8_WT_M_T4.avi']"
      ]
     },
     "execution_count": 19,
     "metadata": {},
     "output_type": "execute_result"
    }
   ],
   "source": [
    "folder_path = r'C:\\Users\\UCPH\\gabi\\thesis analysis\\'\n",
    "\n",
    "# Initialize an empty list to store the full paths of .avi files\n",
    "new_videolist = []\n",
    "\n",
    "# List all files in the folder\n",
    "files_in_folder = os.listdir(folder_path)\n",
    "\n",
    "# Iterate through the files and check if they have a .avi extension\n",
    "for file in files_in_folder:\n",
    "    if file.endswith('.avi'):\n",
    "        # Create the full path by joining the folder path and file name\n",
    "        full_path = os.path.join(folder_path, file)\n",
    "        # Append the full path to the list\n",
    "        new_videolist.append(full_path)\n",
    "        \n",
    "new_videolist"
   ]
  },
  {
   "cell_type": "code",
   "execution_count": 3,
   "id": "0cf1ea3e",
   "metadata": {},
   "outputs": [
    {
     "name": "stdout",
     "output_type": "stream",
     "text": [
      "Created \"C:\\Users\\UCPH\\gabi\\thesis analysis\\HW-SSJ-2023-09-11\\videos\"\n",
      "Created \"C:\\Users\\UCPH\\gabi\\thesis analysis\\HW-SSJ-2023-09-11\\labeled-data\"\n",
      "Created \"C:\\Users\\UCPH\\gabi\\thesis analysis\\HW-SSJ-2023-09-11\\training-datasets\"\n",
      "Created \"C:\\Users\\UCPH\\gabi\\thesis analysis\\HW-SSJ-2023-09-11\\dlc-models\"\n",
      "Attempting to create a symbolic link of the video ...\n",
      "Created the symlink of C:\\Users\\UCPH\\gabi\\thesis analysis\\hw_train\\180822PreHW19HAL1,6.avi to C:\\Users\\UCPH\\gabi\\thesis analysis\\HW-SSJ-2023-09-11\\videos\\180822PreHW19HAL1,6.avi\n",
      "Created the symlink of C:\\Users\\UCPH\\gabi\\thesis analysis\\hw_train\\191022PreHW28VEH.avi to C:\\Users\\UCPH\\gabi\\thesis analysis\\HW-SSJ-2023-09-11\\videos\\191022PreHW28VEH.avi\n",
      "Created the symlink of C:\\Users\\UCPH\\gabi\\thesis analysis\\hw_train\\230822PreHW17HAL1,6.avi to C:\\Users\\UCPH\\gabi\\thesis analysis\\HW-SSJ-2023-09-11\\videos\\230822PreHW17HAL1,6.avi\n",
      "Created the symlink of C:\\Users\\UCPH\\gabi\\thesis analysis\\hw_train\\240822PostHW16HAL1,6a.avi to C:\\Users\\UCPH\\gabi\\thesis analysis\\HW-SSJ-2023-09-11\\videos\\240822PostHW16HAL1,6a.avi\n",
      "Created the symlink of C:\\Users\\UCPH\\gabi\\thesis analysis\\hw_train\\28112022PreHW51HAL1,6.avi to C:\\Users\\UCPH\\gabi\\thesis analysis\\HW-SSJ-2023-09-11\\videos\\28112022PreHW51HAL1,6.avi\n",
      "Created the symlink of C:\\Users\\UCPH\\gabi\\thesis analysis\\hw_train\\28112022PreHW55HAL1,6.avi to C:\\Users\\UCPH\\gabi\\thesis analysis\\HW-SSJ-2023-09-11\\videos\\28112022PreHW55HAL1,6.avi\n",
      "Created the symlink of C:\\Users\\UCPH\\gabi\\thesis analysis\\hw_train\\29112022PreHW59HAL1,6.avi to C:\\Users\\UCPH\\gabi\\thesis analysis\\HW-SSJ-2023-09-11\\videos\\29112022PreHW59HAL1,6.avi\n",
      "Created the symlink of C:\\Users\\UCPH\\gabi\\thesis analysis\\hw_train\\GT280722PostHW25HAL0,2.avi to C:\\Users\\UCPH\\gabi\\thesis analysis\\HW-SSJ-2023-09-11\\videos\\GT280722PostHW25HAL0,2.avi\n",
      "C:\\Users\\UCPH\\gabi\\thesis analysis\\HW-SSJ-2023-09-11\\videos\\180822PreHW19HAL1,6.avi\n",
      "C:\\Users\\UCPH\\gabi\\thesis analysis\\HW-SSJ-2023-09-11\\videos\\191022PreHW28VEH.avi\n",
      "C:\\Users\\UCPH\\gabi\\thesis analysis\\HW-SSJ-2023-09-11\\videos\\230822PreHW17HAL1,6.avi\n",
      "C:\\Users\\UCPH\\gabi\\thesis analysis\\HW-SSJ-2023-09-11\\videos\\240822PostHW16HAL1,6a.avi\n",
      "C:\\Users\\UCPH\\gabi\\thesis analysis\\HW-SSJ-2023-09-11\\videos\\28112022PreHW51HAL1,6.avi\n",
      "C:\\Users\\UCPH\\gabi\\thesis analysis\\HW-SSJ-2023-09-11\\videos\\28112022PreHW55HAL1,6.avi\n",
      "C:\\Users\\UCPH\\gabi\\thesis analysis\\HW-SSJ-2023-09-11\\videos\\29112022PreHW59HAL1,6.avi\n",
      "C:\\Users\\UCPH\\gabi\\thesis analysis\\HW-SSJ-2023-09-11\\videos\\GT280722PostHW25HAL0,2.avi\n",
      "Generated \"C:\\Users\\UCPH\\gabi\\thesis analysis\\HW-SSJ-2023-09-11\\config.yaml\"\n",
      "\n",
      "A new project with name HW-SSJ-2023-09-11 is created at C:\\Users\\UCPH\\gabi\\thesis analysis and a configurable file (config.yaml) is stored there. Change the parameters in this file to adapt to your project's needs.\n",
      " Once you have changed the configuration file, use the function 'extract_frames' to select frames for labeling.\n",
      ". [OPTIONAL] Use the function 'add_new_videos' to add new videos to your project (at any stage).\n"
     ]
    }
   ],
   "source": [
    "config_path = deeplabcut.create_new_project('HW', 'SSJ', videolist, copy_videos=False, multianimal=False)"
   ]
  },
  {
   "cell_type": "code",
   "execution_count": 3,
   "id": "de9efc52",
   "metadata": {},
   "outputs": [],
   "source": [
    "config_path = r'C:\\Users\\UCPH\\gabi\\thesis analysis\\HW-SSJ-2023-09-11\\config.yaml'"
   ]
  },
  {
   "cell_type": "code",
   "execution_count": 4,
   "id": "987c53de",
   "metadata": {},
   "outputs": [
    {
     "data": {
      "text/plain": [
       "'C:\\\\Users\\\\UCPH\\\\gabi\\\\thesis analysis\\\\HW-SSJ-2023-09-11\\\\config.yaml'"
      ]
     },
     "execution_count": 4,
     "metadata": {},
     "output_type": "execute_result"
    }
   ],
   "source": [
    "config_path"
   ]
  },
  {
   "cell_type": "code",
   "execution_count": 5,
   "id": "20a34fb4",
   "metadata": {},
   "outputs": [
    {
     "name": "stdout",
     "output_type": "stream",
     "text": [
      "Config file read successfully.\n",
      "Extracting frames based on kmeans ...\n",
      "Kmeans-quantization based extracting of frames from 0.0  seconds to 72.67  seconds.\n",
      "Extracting and downsampling... 1090  frames from the video.\n"
     ]
    },
    {
     "name": "stderr",
     "output_type": "stream",
     "text": [
      "1090it [00:03, 274.09it/s]\n",
      "C:\\ProgramData\\miniconda3\\envs\\DLC\\lib\\site-packages\\sklearn\\cluster\\_kmeans.py:870: FutureWarning: The default value of `n_init` will change from 3 to 'auto' in 1.4. Set the value of `n_init` explicitly to suppress the warning\n",
      "  warnings.warn(\n"
     ]
    },
    {
     "name": "stdout",
     "output_type": "stream",
     "text": [
      "Kmeans clustering ... (this might take a while)\n",
      "Extracting frames based on kmeans ...\n",
      "Kmeans-quantization based extracting of frames from 0.0  seconds to 29.93  seconds.\n",
      "Extracting and downsampling... 449  frames from the video.\n"
     ]
    },
    {
     "name": "stderr",
     "output_type": "stream",
     "text": [
      "449it [00:01, 271.02it/s]\n",
      "C:\\ProgramData\\miniconda3\\envs\\DLC\\lib\\site-packages\\sklearn\\cluster\\_kmeans.py:870: FutureWarning: The default value of `n_init` will change from 3 to 'auto' in 1.4. Set the value of `n_init` explicitly to suppress the warning\n",
      "  warnings.warn(\n"
     ]
    },
    {
     "name": "stdout",
     "output_type": "stream",
     "text": [
      "Kmeans clustering ... (this might take a while)\n",
      "Extracting frames based on kmeans ...\n",
      "Kmeans-quantization based extracting of frames from 0.0  seconds to 115.07  seconds.\n",
      "Extracting and downsampling... 1726  frames from the video.\n"
     ]
    },
    {
     "name": "stderr",
     "output_type": "stream",
     "text": [
      "1726it [00:06, 277.59it/s]\n",
      "C:\\ProgramData\\miniconda3\\envs\\DLC\\lib\\site-packages\\sklearn\\cluster\\_kmeans.py:870: FutureWarning: The default value of `n_init` will change from 3 to 'auto' in 1.4. Set the value of `n_init` explicitly to suppress the warning\n",
      "  warnings.warn(\n"
     ]
    },
    {
     "name": "stdout",
     "output_type": "stream",
     "text": [
      "Kmeans clustering ... (this might take a while)\n",
      "Extracting frames based on kmeans ...\n",
      "Kmeans-quantization based extracting of frames from 0.0  seconds to 199.07  seconds.\n",
      "Extracting and downsampling... 2986  frames from the video.\n"
     ]
    },
    {
     "name": "stderr",
     "output_type": "stream",
     "text": [
      "2986it [00:11, 270.99it/s]\n",
      "C:\\ProgramData\\miniconda3\\envs\\DLC\\lib\\site-packages\\sklearn\\cluster\\_kmeans.py:870: FutureWarning: The default value of `n_init` will change from 3 to 'auto' in 1.4. Set the value of `n_init` explicitly to suppress the warning\n",
      "  warnings.warn(\n"
     ]
    },
    {
     "name": "stdout",
     "output_type": "stream",
     "text": [
      "Kmeans clustering ... (this might take a while)\n",
      "Extracting frames based on kmeans ...\n",
      "Kmeans-quantization based extracting of frames from 0.0  seconds to 28.67  seconds.\n",
      "Extracting and downsampling... 430  frames from the video.\n"
     ]
    },
    {
     "name": "stderr",
     "output_type": "stream",
     "text": [
      "430it [00:01, 265.64it/s]\n",
      "C:\\ProgramData\\miniconda3\\envs\\DLC\\lib\\site-packages\\sklearn\\cluster\\_kmeans.py:870: FutureWarning: The default value of `n_init` will change from 3 to 'auto' in 1.4. Set the value of `n_init` explicitly to suppress the warning\n",
      "  warnings.warn(\n"
     ]
    },
    {
     "name": "stdout",
     "output_type": "stream",
     "text": [
      "Kmeans clustering ... (this might take a while)\n",
      "Extracting frames based on kmeans ...\n",
      "Kmeans-quantization based extracting of frames from 0.0  seconds to 20.87  seconds.\n",
      "Extracting and downsampling... 313  frames from the video.\n"
     ]
    },
    {
     "name": "stderr",
     "output_type": "stream",
     "text": [
      "313it [00:01, 268.54it/s]\n",
      "C:\\ProgramData\\miniconda3\\envs\\DLC\\lib\\site-packages\\sklearn\\cluster\\_kmeans.py:870: FutureWarning: The default value of `n_init` will change from 3 to 'auto' in 1.4. Set the value of `n_init` explicitly to suppress the warning\n",
      "  warnings.warn(\n"
     ]
    },
    {
     "name": "stdout",
     "output_type": "stream",
     "text": [
      "Kmeans clustering ... (this might take a while)\n",
      "Frame 312  not found!\n",
      "Extracting frames based on kmeans ...\n",
      "Kmeans-quantization based extracting of frames from 0.0  seconds to 33.47  seconds.\n",
      "Extracting and downsampling... 502  frames from the video.\n"
     ]
    },
    {
     "name": "stderr",
     "output_type": "stream",
     "text": [
      "502it [00:01, 274.96it/s]\n",
      "C:\\ProgramData\\miniconda3\\envs\\DLC\\lib\\site-packages\\sklearn\\cluster\\_kmeans.py:870: FutureWarning: The default value of `n_init` will change from 3 to 'auto' in 1.4. Set the value of `n_init` explicitly to suppress the warning\n",
      "  warnings.warn(\n"
     ]
    },
    {
     "name": "stdout",
     "output_type": "stream",
     "text": [
      "Kmeans clustering ... (this might take a while)\n",
      "Frame 501  not found!\n",
      "Extracting frames based on kmeans ...\n",
      "Kmeans-quantization based extracting of frames from 0.0  seconds to 52.87  seconds.\n",
      "Extracting and downsampling... 793  frames from the video.\n"
     ]
    },
    {
     "name": "stderr",
     "output_type": "stream",
     "text": [
      "793it [00:02, 274.09it/s]\n",
      "C:\\ProgramData\\miniconda3\\envs\\DLC\\lib\\site-packages\\sklearn\\cluster\\_kmeans.py:870: FutureWarning: The default value of `n_init` will change from 3 to 'auto' in 1.4. Set the value of `n_init` explicitly to suppress the warning\n",
      "  warnings.warn(\n"
     ]
    },
    {
     "name": "stdout",
     "output_type": "stream",
     "text": [
      "Kmeans clustering ... (this might take a while)\n",
      "Frames were successfully extracted, for the videos listed in the config.yaml file.\n",
      "\n",
      "You can now label the frames using the function 'label_frames' (Note, you should label frames extracted from diverse videos (and many videos; we do not recommend training on single videos!)).\n"
     ]
    }
   ],
   "source": [
    "deeplabcut.extract_frames(config_path, mode='automatic', algo='kmeans', userfeedback=False, crop=False)"
   ]
  },
  {
   "cell_type": "code",
   "execution_count": 7,
   "id": "3068f07a",
   "metadata": {},
   "outputs": [
    {
     "name": "stdout",
     "output_type": "stream",
     "text": [
      "Creating images with labels by SSJ.\n"
     ]
    },
    {
     "name": "stderr",
     "output_type": "stream",
     "text": [
      "100%|██████████████████████████████████████████████████████████████████████████████████| 50/50 [00:10<00:00,  4.85it/s]\n",
      "100%|██████████████████████████████████████████████████████████████████████████████████| 50/50 [00:10<00:00,  4.60it/s]\n",
      "100%|██████████████████████████████████████████████████████████████████████████████████| 50/50 [00:10<00:00,  4.89it/s]\n",
      "100%|██████████████████████████████████████████████████████████████████████████████████| 50/50 [00:09<00:00,  5.25it/s]\n",
      "100%|██████████████████████████████████████████████████████████████████████████████████| 50/50 [00:10<00:00,  4.91it/s]\n",
      "100%|██████████████████████████████████████████████████████████████████████████████████| 49/49 [00:09<00:00,  4.92it/s]\n",
      "100%|██████████████████████████████████████████████████████████████████████████████████| 49/49 [00:09<00:00,  4.91it/s]\n",
      "100%|██████████████████████████████████████████████████████████████████████████████████| 50/50 [00:10<00:00,  4.89it/s]"
     ]
    },
    {
     "name": "stdout",
     "output_type": "stream",
     "text": [
      "If all the labels are ok, then use the function 'create_training_dataset' to create the training dataset!\n"
     ]
    },
    {
     "name": "stderr",
     "output_type": "stream",
     "text": [
      "\n"
     ]
    }
   ],
   "source": [
    "deeplabcut.check_labels(config_path, visualizeindividuals=True)"
   ]
  },
  {
   "cell_type": "code",
   "execution_count": 9,
   "id": "cfdcdc64",
   "metadata": {},
   "outputs": [],
   "source": [
    "deeplabcut.create_training_dataset??"
   ]
  },
  {
   "cell_type": "code",
   "execution_count": 11,
   "id": "f17cc5b2",
   "metadata": {},
   "outputs": [
    {
     "name": "stdout",
     "output_type": "stream",
     "text": [
      "The training dataset is successfully created. Use the function 'train_network' to start training. Happy training!\n"
     ]
    },
    {
     "data": {
      "text/plain": [
       "[(0.95,\n",
       "  1,\n",
       "  (array([ 16, 296, 361, 329, 214, 395, 299, 119, 364,  71, 213, 196, 151,\n",
       "          340, 208,  75, 181, 349, 176, 210, 341,  84, 186, 121,  94, 345,\n",
       "          275, 362,  61, 369, 141, 335, 352, 257, 191, 309,  58, 371, 350,\n",
       "          122, 185, 170, 376,  51, 315, 114, 242, 101, 113, 336, 386, 201,\n",
       "          354, 278, 285, 124, 251, 219, 385, 138,  41, 380, 377, 246,  14,\n",
       "          193, 365, 175,  63, 269, 356, 321, 195, 250, 342,  78, 310, 227,\n",
       "           89,  22, 158, 266, 397, 154, 280, 359, 322,  74, 379, 393, 247,\n",
       "          164,  70, 173, 306, 267, 289, 305, 216, 200, 237, 199, 258,   3,\n",
       "          134, 130,  85, 294, 182, 255, 394, 108, 328, 192, 106, 262,  24,\n",
       "          290, 234, 145, 307, 167, 189,  88, 107, 202, 256,  45, 162, 147,\n",
       "           31,  48,  91, 139, 166, 153, 265, 372, 277, 344, 172,  25,  50,\n",
       "          274, 110, 319, 178,  40, 282,  59, 159,  38, 140, 358, 137,  26,\n",
       "          102, 133,  97,  28,  54,   7,   8, 131, 104,  66, 298, 357,  15,\n",
       "          279, 313,  19, 323, 339, 169, 263,  47, 168,  23, 338, 378, 220,\n",
       "           80, 260, 300, 177, 243, 284, 347, 292, 179,  17, 281, 293,  99,\n",
       "          368, 233, 302,  72, 163,  37,  83, 384, 222, 391,  55, 337, 383,\n",
       "           86, 217, 206, 180, 129, 327,  62, 245,  29, 326, 128,  18, 389,\n",
       "          268, 272, 155, 236, 308, 346, 366, 283, 381, 232, 136, 211, 276,\n",
       "          239, 174, 188, 116, 215, 375, 224, 320, 254,  12, 165, 112, 149,\n",
       "          115, 103,  56, 218,  33, 111, 360, 223, 212, 146,  53, 125,  30,\n",
       "          148,  39, 161, 303, 332, 194, 351, 229,  93, 273,  95, 324, 353,\n",
       "          221,  67,  11, 370, 343, 109,  42,  65, 157, 225,  35,   2,  43,\n",
       "          287,  79,  49,  20, 388, 230, 374, 228,  82, 317,  44,   6, 367,\n",
       "           57, 105, 238, 311, 382,  36, 259, 127, 100, 241, 120, 187,  96,\n",
       "           87, 249,  98,   9,  73,   1, 316, 248, 373, 160, 205, 392, 330,\n",
       "          291,  92, 198, 235, 390,  13, 240, 152, 150, 286, 387,   4, 123,\n",
       "          271, 184, 253, 207,  69, 301, 363, 144,  34, 142,  46, 156,  81,\n",
       "          333, 209, 231,  21, 261, 204, 312, 334, 270, 132,  64, 226,   0,\n",
       "           68, 297, 126, 135,  90, 325, 252, 203,  52, 183,  77, 314,   5,\n",
       "          348]),\n",
       "   array([118, 396, 244, 331, 355, 295, 264, 288,  10, 190, 318, 143, 117,\n",
       "           76, 197,  27,  60,  32, 304, 171])))]"
      ]
     },
     "execution_count": 11,
     "metadata": {},
     "output_type": "execute_result"
    }
   ],
   "source": [
    "deeplabcut.create_training_dataset(config_path, augmenter_type= 'imgaug')"
   ]
  },
  {
   "cell_type": "code",
   "execution_count": 12,
   "id": "08e65e2e",
   "metadata": {
    "scrolled": false
   },
   "outputs": [
    {
     "name": "stderr",
     "output_type": "stream",
     "text": [
      "Config:\n",
      "{'all_joints': [[0], [1], [2], [3], [4], [5], [6], [7], [8]],\n",
      " 'all_joints_names': ['Nose',\n",
      "                      'TailBase',\n",
      "                      'FL',\n",
      "                      'FR',\n",
      "                      'HL',\n",
      "                      'HR',\n",
      "                      'Escape_R',\n",
      "                      'Escape_L',\n",
      "                      'Bottom_L'],\n",
      " 'alpha_r': 0.02,\n",
      " 'apply_prob': 0.5,\n",
      " 'batch_size': 1,\n",
      " 'contrast': {'clahe': True,\n",
      "              'claheratio': 0.1,\n",
      "              'histeq': True,\n",
      "              'histeqratio': 0.1},\n",
      " 'convolution': {'edge': False,\n",
      "                 'emboss': {'alpha': [0.0, 1.0], 'strength': [0.5, 1.5]},\n",
      "                 'embossratio': 0.1,\n",
      "                 'sharpen': False,\n",
      "                 'sharpenratio': 0.3},\n",
      " 'crop_pad': 0,\n",
      " 'cropratio': 0.4,\n",
      " 'dataset': 'training-datasets\\\\iteration-0\\\\UnaugmentedDataSet_HWSep11\\\\HW_SSJ95shuffle1.mat',\n",
      " 'dataset_type': 'imgaug',\n",
      " 'decay_steps': 30000,\n",
      " 'deterministic': False,\n",
      " 'display_iters': 1000,\n",
      " 'fg_fraction': 0.25,\n",
      " 'global_scale': 0.8,\n",
      " 'init_weights': 'C:\\\\ProgramData\\\\miniconda3\\\\envs\\\\DLC\\\\lib\\\\site-packages\\\\deeplabcut\\\\pose_estimation_tensorflow\\\\models\\\\pretrained\\\\resnet_v1_50.ckpt',\n",
      " 'intermediate_supervision': False,\n",
      " 'intermediate_supervision_layer': 12,\n",
      " 'location_refinement': True,\n",
      " 'locref_huber_loss': True,\n",
      " 'locref_loss_weight': 0.05,\n",
      " 'locref_stdev': 7.2801,\n",
      " 'log_dir': 'log',\n",
      " 'lr_init': 0.0005,\n",
      " 'max_input_size': 1500,\n",
      " 'mean_pixel': [123.68, 116.779, 103.939],\n",
      " 'metadataset': 'training-datasets\\\\iteration-0\\\\UnaugmentedDataSet_HWSep11\\\\Documentation_data-HW_95shuffle1.pickle',\n",
      " 'min_input_size': 64,\n",
      " 'mirror': False,\n",
      " 'multi_stage': False,\n",
      " 'multi_step': [[0.005, 10000],\n",
      "                [0.02, 430000],\n",
      "                [0.002, 730000],\n",
      "                [0.001, 1030000]],\n",
      " 'net_type': 'resnet_50',\n",
      " 'num_joints': 9,\n",
      " 'optimizer': 'sgd',\n",
      " 'pairwise_huber_loss': False,\n",
      " 'pairwise_predict': False,\n",
      " 'partaffinityfield_predict': False,\n",
      " 'pos_dist_thresh': 17,\n",
      " 'project_path': 'C:\\\\Users\\\\UCPH\\\\gabi\\\\thesis analysis\\\\HW-SSJ-2023-09-11',\n",
      " 'regularize': False,\n",
      " 'rotation': 25,\n",
      " 'rotratio': 0.4,\n",
      " 'save_iters': 50000,\n",
      " 'scale_jitter_lo': 0.5,\n",
      " 'scale_jitter_up': 1.25,\n",
      " 'scoremap_dir': 'test',\n",
      " 'shuffle': True,\n",
      " 'snapshot_prefix': 'C:\\\\Users\\\\UCPH\\\\gabi\\\\thesis '\n",
      "                    'analysis\\\\HW-SSJ-2023-09-11\\\\dlc-models\\\\iteration-0\\\\HWSep11-trainset95shuffle1\\\\train\\\\snapshot',\n",
      " 'stride': 8.0,\n",
      " 'weigh_negatives': False,\n",
      " 'weigh_only_present_joints': False,\n",
      " 'weigh_part_predictions': False,\n",
      " 'weight_decay': 0.0001}\n"
     ]
    },
    {
     "name": "stdout",
     "output_type": "stream",
     "text": [
      "Selecting single-animal trainer\n",
      "Batch Size is 1\n"
     ]
    },
    {
     "name": "stderr",
     "output_type": "stream",
     "text": [
      "C:\\ProgramData\\miniconda3\\envs\\DLC\\lib\\site-packages\\tensorflow\\python\\keras\\engine\\base_layer_v1.py:1694: UserWarning: `layer.apply` is deprecated and will be removed in a future version. Please use `layer.__call__` method instead.\n",
      "  warnings.warn('`layer.apply` is deprecated and '\n"
     ]
    },
    {
     "name": "stdout",
     "output_type": "stream",
     "text": [
      "Loading ImageNet-pretrained resnet_50\n",
      "Max_iters overwritten as 500000\n",
      "Display_iters overwritten as 1000\n",
      "Save_iters overwritten as 10000\n",
      "Training parameter:\n",
      "{'stride': 8.0, 'weigh_part_predictions': False, 'weigh_negatives': False, 'fg_fraction': 0.25, 'mean_pixel': [123.68, 116.779, 103.939], 'shuffle': True, 'snapshot_prefix': 'C:\\\\Users\\\\UCPH\\\\gabi\\\\thesis analysis\\\\HW-SSJ-2023-09-11\\\\dlc-models\\\\iteration-0\\\\HWSep11-trainset95shuffle1\\\\train\\\\snapshot', 'log_dir': 'log', 'global_scale': 0.8, 'location_refinement': True, 'locref_stdev': 7.2801, 'locref_loss_weight': 0.05, 'locref_huber_loss': True, 'optimizer': 'sgd', 'intermediate_supervision': False, 'intermediate_supervision_layer': 12, 'regularize': False, 'weight_decay': 0.0001, 'crop_pad': 0, 'scoremap_dir': 'test', 'batch_size': 1, 'dataset_type': 'imgaug', 'deterministic': False, 'mirror': False, 'pairwise_huber_loss': False, 'weigh_only_present_joints': False, 'partaffinityfield_predict': False, 'pairwise_predict': False, 'all_joints': [[0], [1], [2], [3], [4], [5], [6], [7], [8]], 'all_joints_names': ['Nose', 'TailBase', 'FL', 'FR', 'HL', 'HR', 'Escape_R', 'Escape_L', 'Bottom_L'], 'alpha_r': 0.02, 'apply_prob': 0.5, 'contrast': {'clahe': True, 'claheratio': 0.1, 'histeq': True, 'histeqratio': 0.1, 'gamma': False, 'sigmoid': False, 'log': False, 'linear': False}, 'convolution': {'edge': False, 'emboss': {'alpha': [0.0, 1.0], 'strength': [0.5, 1.5]}, 'embossratio': 0.1, 'sharpen': False, 'sharpenratio': 0.3}, 'cropratio': 0.4, 'dataset': 'training-datasets\\\\iteration-0\\\\UnaugmentedDataSet_HWSep11\\\\HW_SSJ95shuffle1.mat', 'decay_steps': 30000, 'display_iters': 1000, 'init_weights': 'C:\\\\ProgramData\\\\miniconda3\\\\envs\\\\DLC\\\\lib\\\\site-packages\\\\deeplabcut\\\\pose_estimation_tensorflow\\\\models\\\\pretrained\\\\resnet_v1_50.ckpt', 'lr_init': 0.0005, 'max_input_size': 1500, 'metadataset': 'training-datasets\\\\iteration-0\\\\UnaugmentedDataSet_HWSep11\\\\Documentation_data-HW_95shuffle1.pickle', 'min_input_size': 64, 'multi_stage': False, 'multi_step': [[0.005, 10000], [0.02, 430000], [0.002, 730000], [0.001, 1030000]], 'net_type': 'resnet_50', 'num_joints': 9, 'pos_dist_thresh': 17, 'project_path': 'C:\\\\Users\\\\UCPH\\\\gabi\\\\thesis analysis\\\\HW-SSJ-2023-09-11', 'rotation': 25, 'rotratio': 0.4, 'save_iters': 50000, 'scale_jitter_lo': 0.5, 'scale_jitter_up': 1.25, 'covering': True, 'elastic_transform': True, 'motion_blur': True, 'motion_blur_params': {'k': 7, 'angle': (-90, 90)}}\n",
      "Starting training....\n"
     ]
    },
    {
     "name": "stderr",
     "output_type": "stream",
     "text": [
      "iteration: 1000 loss: 0.0207 lr: 0.005\n",
      "iteration: 2000 loss: 0.0118 lr: 0.005\n",
      "iteration: 3000 loss: 0.0101 lr: 0.005\n",
      "iteration: 4000 loss: 0.0089 lr: 0.005\n",
      "iteration: 5000 loss: 0.0084 lr: 0.005\n",
      "iteration: 6000 loss: 0.0078 lr: 0.005\n",
      "iteration: 7000 loss: 0.0074 lr: 0.005\n",
      "iteration: 8000 loss: 0.0074 lr: 0.005\n",
      "iteration: 9000 loss: 0.0071 lr: 0.005\n",
      "iteration: 10000 loss: 0.0067 lr: 0.005\n",
      "iteration: 11000 loss: 0.0080 lr: 0.02\n",
      "iteration: 12000 loss: 0.0073 lr: 0.02\n",
      "iteration: 13000 loss: 0.0068 lr: 0.02\n",
      "iteration: 14000 loss: 0.0063 lr: 0.02\n",
      "iteration: 15000 loss: 0.0061 lr: 0.02\n",
      "iteration: 16000 loss: 0.0056 lr: 0.02\n",
      "iteration: 17000 loss: 0.0056 lr: 0.02\n",
      "iteration: 18000 loss: 0.0053 lr: 0.02\n",
      "iteration: 19000 loss: 0.0053 lr: 0.02\n",
      "iteration: 20000 loss: 0.0052 lr: 0.02\n",
      "iteration: 21000 loss: 0.0048 lr: 0.02\n",
      "iteration: 22000 loss: 0.0047 lr: 0.02\n",
      "iteration: 23000 loss: 0.0047 lr: 0.02\n",
      "iteration: 24000 loss: 0.0046 lr: 0.02\n",
      "iteration: 25000 loss: 0.0045 lr: 0.02\n",
      "iteration: 26000 loss: 0.0045 lr: 0.02\n",
      "iteration: 27000 loss: 0.0044 lr: 0.02\n",
      "iteration: 28000 loss: 0.0042 lr: 0.02\n",
      "iteration: 29000 loss: 0.0042 lr: 0.02\n",
      "iteration: 30000 loss: 0.0041 lr: 0.02\n",
      "iteration: 31000 loss: 0.0040 lr: 0.02\n",
      "iteration: 32000 loss: 0.0038 lr: 0.02\n",
      "iteration: 33000 loss: 0.0039 lr: 0.02\n",
      "iteration: 34000 loss: 0.0038 lr: 0.02\n",
      "iteration: 35000 loss: 0.0037 lr: 0.02\n",
      "iteration: 36000 loss: 0.0037 lr: 0.02\n",
      "iteration: 37000 loss: 0.0036 lr: 0.02\n",
      "iteration: 38000 loss: 0.0036 lr: 0.02\n",
      "iteration: 39000 loss: 0.0036 lr: 0.02\n",
      "iteration: 40000 loss: 0.0036 lr: 0.02\n",
      "iteration: 41000 loss: 0.0033 lr: 0.02\n",
      "iteration: 42000 loss: 0.0036 lr: 0.02\n",
      "iteration: 43000 loss: 0.0035 lr: 0.02\n",
      "iteration: 44000 loss: 0.0033 lr: 0.02\n",
      "iteration: 45000 loss: 0.0033 lr: 0.02\n",
      "iteration: 46000 loss: 0.0033 lr: 0.02\n",
      "iteration: 47000 loss: 0.0032 lr: 0.02\n",
      "iteration: 48000 loss: 0.0033 lr: 0.02\n",
      "iteration: 49000 loss: 0.0032 lr: 0.02\n",
      "iteration: 50000 loss: 0.0031 lr: 0.02\n",
      "iteration: 51000 loss: 0.0031 lr: 0.02\n",
      "iteration: 52000 loss: 0.0031 lr: 0.02\n",
      "iteration: 53000 loss: 0.0031 lr: 0.02\n",
      "iteration: 54000 loss: 0.0031 lr: 0.02\n",
      "iteration: 55000 loss: 0.0029 lr: 0.02\n",
      "iteration: 56000 loss: 0.0030 lr: 0.02\n",
      "iteration: 57000 loss: 0.0029 lr: 0.02\n",
      "iteration: 58000 loss: 0.0029 lr: 0.02\n",
      "iteration: 59000 loss: 0.0029 lr: 0.02\n",
      "iteration: 60000 loss: 0.0029 lr: 0.02\n",
      "iteration: 61000 loss: 0.0029 lr: 0.02\n",
      "iteration: 62000 loss: 0.0028 lr: 0.02\n",
      "iteration: 63000 loss: 0.0028 lr: 0.02\n",
      "iteration: 64000 loss: 0.0028 lr: 0.02\n",
      "iteration: 65000 loss: 0.0027 lr: 0.02\n",
      "iteration: 66000 loss: 0.0028 lr: 0.02\n",
      "iteration: 67000 loss: 0.0027 lr: 0.02\n",
      "iteration: 68000 loss: 0.0027 lr: 0.02\n",
      "iteration: 69000 loss: 0.0027 lr: 0.02\n",
      "iteration: 70000 loss: 0.0026 lr: 0.02\n",
      "iteration: 71000 loss: 0.0025 lr: 0.02\n",
      "iteration: 72000 loss: 0.0026 lr: 0.02\n",
      "iteration: 73000 loss: 0.0027 lr: 0.02\n",
      "iteration: 74000 loss: 0.0026 lr: 0.02\n",
      "iteration: 75000 loss: 0.0026 lr: 0.02\n",
      "iteration: 76000 loss: 0.0026 lr: 0.02\n",
      "iteration: 77000 loss: 0.0025 lr: 0.02\n",
      "iteration: 78000 loss: 0.0025 lr: 0.02\n",
      "iteration: 79000 loss: 0.0026 lr: 0.02\n",
      "iteration: 80000 loss: 0.0025 lr: 0.02\n",
      "iteration: 81000 loss: 0.0024 lr: 0.02\n",
      "iteration: 82000 loss: 0.0025 lr: 0.02\n",
      "iteration: 83000 loss: 0.0024 lr: 0.02\n",
      "iteration: 84000 loss: 0.0025 lr: 0.02\n",
      "iteration: 85000 loss: 0.0024 lr: 0.02\n",
      "iteration: 86000 loss: 0.0024 lr: 0.02\n",
      "iteration: 87000 loss: 0.0025 lr: 0.02\n",
      "iteration: 88000 loss: 0.0024 lr: 0.02\n",
      "iteration: 89000 loss: 0.0023 lr: 0.02\n",
      "iteration: 90000 loss: 0.0023 lr: 0.02\n",
      "iteration: 91000 loss: 0.0024 lr: 0.02\n",
      "iteration: 92000 loss: 0.0023 lr: 0.02\n",
      "iteration: 93000 loss: 0.0023 lr: 0.02\n",
      "iteration: 94000 loss: 0.0023 lr: 0.02\n",
      "iteration: 95000 loss: 0.0022 lr: 0.02\n",
      "iteration: 96000 loss: 0.0023 lr: 0.02\n",
      "iteration: 97000 loss: 0.0023 lr: 0.02\n",
      "iteration: 98000 loss: 0.0023 lr: 0.02\n",
      "iteration: 99000 loss: 0.0022 lr: 0.02\n",
      "iteration: 100000 loss: 0.0023 lr: 0.02\n",
      "iteration: 101000 loss: 0.0023 lr: 0.02\n",
      "iteration: 102000 loss: 0.0022 lr: 0.02\n",
      "iteration: 103000 loss: 0.0023 lr: 0.02\n",
      "iteration: 104000 loss: 0.0022 lr: 0.02\n",
      "iteration: 105000 loss: 0.0022 lr: 0.02\n",
      "iteration: 106000 loss: 0.0022 lr: 0.02\n",
      "iteration: 107000 loss: 0.0022 lr: 0.02\n",
      "iteration: 108000 loss: 0.0022 lr: 0.02\n",
      "iteration: 109000 loss: 0.0022 lr: 0.02\n",
      "iteration: 110000 loss: 0.0022 lr: 0.02\n",
      "iteration: 111000 loss: 0.0022 lr: 0.02\n",
      "iteration: 112000 loss: 0.0022 lr: 0.02\n",
      "iteration: 113000 loss: 0.0021 lr: 0.02\n",
      "iteration: 114000 loss: 0.0021 lr: 0.02\n",
      "iteration: 115000 loss: 0.0021 lr: 0.02\n",
      "iteration: 116000 loss: 0.0021 lr: 0.02\n",
      "iteration: 117000 loss: 0.0021 lr: 0.02\n",
      "iteration: 118000 loss: 0.0021 lr: 0.02\n",
      "iteration: 119000 loss: 0.0021 lr: 0.02\n",
      "iteration: 120000 loss: 0.0021 lr: 0.02\n",
      "iteration: 121000 loss: 0.0020 lr: 0.02\n",
      "iteration: 122000 loss: 0.0021 lr: 0.02\n",
      "iteration: 123000 loss: 0.0020 lr: 0.02\n",
      "iteration: 124000 loss: 0.0021 lr: 0.02\n",
      "iteration: 125000 loss: 0.0021 lr: 0.02\n",
      "iteration: 126000 loss: 0.0021 lr: 0.02\n",
      "iteration: 127000 loss: 0.0021 lr: 0.02\n",
      "iteration: 128000 loss: 0.0021 lr: 0.02\n",
      "iteration: 129000 loss: 0.0020 lr: 0.02\n",
      "iteration: 130000 loss: 0.0020 lr: 0.02\n",
      "iteration: 131000 loss: 0.0020 lr: 0.02\n",
      "iteration: 132000 loss: 0.0020 lr: 0.02\n",
      "iteration: 133000 loss: 0.0021 lr: 0.02\n",
      "iteration: 134000 loss: 0.0020 lr: 0.02\n",
      "iteration: 135000 loss: 0.0020 lr: 0.02\n",
      "iteration: 136000 loss: 0.0020 lr: 0.02\n",
      "iteration: 137000 loss: 0.0020 lr: 0.02\n",
      "iteration: 138000 loss: 0.0020 lr: 0.02\n",
      "iteration: 139000 loss: 0.0019 lr: 0.02\n",
      "iteration: 140000 loss: 0.0020 lr: 0.02\n",
      "iteration: 141000 loss: 0.0020 lr: 0.02\n",
      "iteration: 142000 loss: 0.0019 lr: 0.02\n",
      "iteration: 143000 loss: 0.0019 lr: 0.02\n",
      "iteration: 144000 loss: 0.0020 lr: 0.02\n",
      "iteration: 145000 loss: 0.0020 lr: 0.02\n",
      "iteration: 146000 loss: 0.0019 lr: 0.02\n",
      "iteration: 147000 loss: 0.0019 lr: 0.02\n",
      "iteration: 148000 loss: 0.0019 lr: 0.02\n",
      "iteration: 149000 loss: 0.0020 lr: 0.02\n",
      "iteration: 150000 loss: 0.0019 lr: 0.02\n",
      "iteration: 151000 loss: 0.0019 lr: 0.02\n",
      "iteration: 152000 loss: 0.0019 lr: 0.02\n",
      "iteration: 153000 loss: 0.0019 lr: 0.02\n",
      "iteration: 154000 loss: 0.0019 lr: 0.02\n",
      "iteration: 155000 loss: 0.0019 lr: 0.02\n",
      "iteration: 156000 loss: 0.0019 lr: 0.02\n",
      "iteration: 157000 loss: 0.0019 lr: 0.02\n",
      "iteration: 158000 loss: 0.0019 lr: 0.02\n",
      "iteration: 159000 loss: 0.0019 lr: 0.02\n",
      "iteration: 160000 loss: 0.0019 lr: 0.02\n",
      "iteration: 161000 loss: 0.0018 lr: 0.02\n",
      "iteration: 162000 loss: 0.0019 lr: 0.02\n",
      "iteration: 163000 loss: 0.0019 lr: 0.02\n",
      "iteration: 164000 loss: 0.0019 lr: 0.02\n",
      "iteration: 165000 loss: 0.0018 lr: 0.02\n",
      "iteration: 166000 loss: 0.0018 lr: 0.02\n",
      "iteration: 167000 loss: 0.0019 lr: 0.02\n",
      "iteration: 168000 loss: 0.0019 lr: 0.02\n",
      "iteration: 169000 loss: 0.0018 lr: 0.02\n",
      "iteration: 170000 loss: 0.0018 lr: 0.02\n",
      "iteration: 171000 loss: 0.0018 lr: 0.02\n",
      "iteration: 172000 loss: 0.0018 lr: 0.02\n",
      "iteration: 173000 loss: 0.0018 lr: 0.02\n",
      "iteration: 174000 loss: 0.0018 lr: 0.02\n",
      "iteration: 175000 loss: 0.0019 lr: 0.02\n",
      "iteration: 176000 loss: 0.0018 lr: 0.02\n",
      "iteration: 177000 loss: 0.0018 lr: 0.02\n",
      "iteration: 178000 loss: 0.0018 lr: 0.02\n",
      "iteration: 179000 loss: 0.0017 lr: 0.02\n",
      "iteration: 180000 loss: 0.0017 lr: 0.02\n",
      "iteration: 181000 loss: 0.0018 lr: 0.02\n",
      "iteration: 182000 loss: 0.0017 lr: 0.02\n",
      "iteration: 183000 loss: 0.0017 lr: 0.02\n",
      "iteration: 184000 loss: 0.0017 lr: 0.02\n",
      "iteration: 185000 loss: 0.0018 lr: 0.02\n",
      "iteration: 186000 loss: 0.0018 lr: 0.02\n",
      "iteration: 187000 loss: 0.0017 lr: 0.02\n",
      "iteration: 188000 loss: 0.0017 lr: 0.02\n",
      "iteration: 189000 loss: 0.0017 lr: 0.02\n",
      "iteration: 190000 loss: 0.0018 lr: 0.02\n",
      "iteration: 191000 loss: 0.0018 lr: 0.02\n",
      "iteration: 192000 loss: 0.0017 lr: 0.02\n",
      "iteration: 193000 loss: 0.0018 lr: 0.02\n",
      "iteration: 194000 loss: 0.0018 lr: 0.02\n",
      "iteration: 195000 loss: 0.0017 lr: 0.02\n",
      "iteration: 196000 loss: 0.0017 lr: 0.02\n",
      "iteration: 197000 loss: 0.0017 lr: 0.02\n",
      "iteration: 198000 loss: 0.0018 lr: 0.02\n",
      "iteration: 199000 loss: 0.0017 lr: 0.02\n",
      "iteration: 200000 loss: 0.0018 lr: 0.02\n",
      "iteration: 201000 loss: 0.0017 lr: 0.02\n",
      "iteration: 202000 loss: 0.0017 lr: 0.02\n",
      "iteration: 203000 loss: 0.0017 lr: 0.02\n",
      "iteration: 204000 loss: 0.0017 lr: 0.02\n",
      "iteration: 205000 loss: 0.0017 lr: 0.02\n",
      "iteration: 206000 loss: 0.0017 lr: 0.02\n",
      "iteration: 207000 loss: 0.0017 lr: 0.02\n",
      "iteration: 208000 loss: 0.0017 lr: 0.02\n"
     ]
    },
    {
     "name": "stderr",
     "output_type": "stream",
     "text": [
      "iteration: 209000 loss: 0.0017 lr: 0.02\n",
      "iteration: 210000 loss: 0.0017 lr: 0.02\n",
      "iteration: 211000 loss: 0.0017 lr: 0.02\n",
      "iteration: 212000 loss: 0.0017 lr: 0.02\n",
      "iteration: 213000 loss: 0.0017 lr: 0.02\n",
      "iteration: 214000 loss: 0.0017 lr: 0.02\n",
      "iteration: 215000 loss: 0.0017 lr: 0.02\n",
      "iteration: 216000 loss: 0.0017 lr: 0.02\n",
      "iteration: 217000 loss: 0.0016 lr: 0.02\n",
      "iteration: 218000 loss: 0.0016 lr: 0.02\n",
      "iteration: 219000 loss: 0.0016 lr: 0.02\n",
      "iteration: 220000 loss: 0.0016 lr: 0.02\n",
      "iteration: 221000 loss: 0.0017 lr: 0.02\n",
      "iteration: 222000 loss: 0.0016 lr: 0.02\n",
      "iteration: 223000 loss: 0.0017 lr: 0.02\n",
      "iteration: 224000 loss: 0.0017 lr: 0.02\n",
      "iteration: 225000 loss: 0.0017 lr: 0.02\n",
      "iteration: 226000 loss: 0.0016 lr: 0.02\n",
      "iteration: 227000 loss: 0.0016 lr: 0.02\n",
      "iteration: 228000 loss: 0.0016 lr: 0.02\n",
      "iteration: 229000 loss: 0.0016 lr: 0.02\n",
      "iteration: 230000 loss: 0.0016 lr: 0.02\n",
      "iteration: 231000 loss: 0.0016 lr: 0.02\n",
      "iteration: 232000 loss: 0.0016 lr: 0.02\n",
      "iteration: 233000 loss: 0.0016 lr: 0.02\n",
      "iteration: 234000 loss: 0.0016 lr: 0.02\n",
      "iteration: 235000 loss: 0.0016 lr: 0.02\n",
      "iteration: 236000 loss: 0.0017 lr: 0.02\n",
      "iteration: 237000 loss: 0.0016 lr: 0.02\n",
      "iteration: 238000 loss: 0.0016 lr: 0.02\n",
      "iteration: 239000 loss: 0.0015 lr: 0.02\n",
      "iteration: 240000 loss: 0.0016 lr: 0.02\n",
      "iteration: 241000 loss: 0.0016 lr: 0.02\n",
      "iteration: 242000 loss: 0.0015 lr: 0.02\n",
      "iteration: 243000 loss: 0.0016 lr: 0.02\n",
      "iteration: 244000 loss: 0.0016 lr: 0.02\n",
      "iteration: 245000 loss: 0.0016 lr: 0.02\n",
      "iteration: 246000 loss: 0.0016 lr: 0.02\n",
      "iteration: 247000 loss: 0.0016 lr: 0.02\n",
      "iteration: 248000 loss: 0.0016 lr: 0.02\n",
      "iteration: 249000 loss: 0.0016 lr: 0.02\n",
      "iteration: 250000 loss: 0.0016 lr: 0.02\n",
      "iteration: 251000 loss: 0.0016 lr: 0.02\n",
      "iteration: 252000 loss: 0.0015 lr: 0.02\n",
      "iteration: 253000 loss: 0.0016 lr: 0.02\n",
      "iteration: 254000 loss: 0.0016 lr: 0.02\n",
      "iteration: 255000 loss: 0.0015 lr: 0.02\n",
      "iteration: 256000 loss: 0.0015 lr: 0.02\n",
      "iteration: 257000 loss: 0.0015 lr: 0.02\n",
      "iteration: 258000 loss: 0.0015 lr: 0.02\n",
      "iteration: 259000 loss: 0.0016 lr: 0.02\n",
      "iteration: 260000 loss: 0.0016 lr: 0.02\n",
      "iteration: 261000 loss: 0.0015 lr: 0.02\n",
      "iteration: 262000 loss: 0.0016 lr: 0.02\n",
      "iteration: 263000 loss: 0.0016 lr: 0.02\n",
      "iteration: 264000 loss: 0.0015 lr: 0.02\n",
      "iteration: 265000 loss: 0.0015 lr: 0.02\n",
      "iteration: 266000 loss: 0.0015 lr: 0.02\n",
      "iteration: 267000 loss: 0.0015 lr: 0.02\n",
      "iteration: 268000 loss: 0.0016 lr: 0.02\n",
      "iteration: 269000 loss: 0.0015 lr: 0.02\n",
      "iteration: 270000 loss: 0.0015 lr: 0.02\n",
      "iteration: 271000 loss: 0.0015 lr: 0.02\n",
      "iteration: 272000 loss: 0.0015 lr: 0.02\n",
      "iteration: 273000 loss: 0.0015 lr: 0.02\n",
      "iteration: 274000 loss: 0.0015 lr: 0.02\n",
      "iteration: 275000 loss: 0.0015 lr: 0.02\n",
      "iteration: 276000 loss: 0.0015 lr: 0.02\n",
      "iteration: 277000 loss: 0.0015 lr: 0.02\n",
      "iteration: 278000 loss: 0.0016 lr: 0.02\n",
      "iteration: 279000 loss: 0.0015 lr: 0.02\n",
      "iteration: 280000 loss: 0.0015 lr: 0.02\n",
      "iteration: 281000 loss: 0.0015 lr: 0.02\n",
      "iteration: 282000 loss: 0.0015 lr: 0.02\n",
      "iteration: 283000 loss: 0.0015 lr: 0.02\n",
      "iteration: 284000 loss: 0.0016 lr: 0.02\n",
      "iteration: 285000 loss: 0.0015 lr: 0.02\n",
      "iteration: 286000 loss: 0.0015 lr: 0.02\n",
      "iteration: 287000 loss: 0.0015 lr: 0.02\n",
      "iteration: 288000 loss: 0.0015 lr: 0.02\n",
      "iteration: 289000 loss: 0.0015 lr: 0.02\n",
      "iteration: 290000 loss: 0.0015 lr: 0.02\n",
      "iteration: 291000 loss: 0.0015 lr: 0.02\n",
      "iteration: 292000 loss: 0.0015 lr: 0.02\n",
      "iteration: 293000 loss: 0.0015 lr: 0.02\n",
      "iteration: 294000 loss: 0.0015 lr: 0.02\n",
      "iteration: 295000 loss: 0.0015 lr: 0.02\n",
      "iteration: 296000 loss: 0.0015 lr: 0.02\n",
      "iteration: 297000 loss: 0.0015 lr: 0.02\n",
      "iteration: 298000 loss: 0.0015 lr: 0.02\n",
      "iteration: 299000 loss: 0.0015 lr: 0.02\n",
      "iteration: 300000 loss: 0.0015 lr: 0.02\n",
      "iteration: 301000 loss: 0.0015 lr: 0.02\n",
      "iteration: 302000 loss: 0.0015 lr: 0.02\n",
      "iteration: 303000 loss: 0.0015 lr: 0.02\n",
      "iteration: 304000 loss: 0.0015 lr: 0.02\n",
      "iteration: 305000 loss: 0.0015 lr: 0.02\n",
      "iteration: 306000 loss: 0.0015 lr: 0.02\n",
      "iteration: 307000 loss: 0.0015 lr: 0.02\n",
      "iteration: 308000 loss: 0.0015 lr: 0.02\n",
      "iteration: 309000 loss: 0.0015 lr: 0.02\n",
      "iteration: 310000 loss: 0.0015 lr: 0.02\n",
      "iteration: 311000 loss: 0.0015 lr: 0.02\n",
      "iteration: 312000 loss: 0.0015 lr: 0.02\n",
      "iteration: 313000 loss: 0.0015 lr: 0.02\n",
      "iteration: 314000 loss: 0.0015 lr: 0.02\n",
      "iteration: 315000 loss: 0.0015 lr: 0.02\n",
      "iteration: 316000 loss: 0.0014 lr: 0.02\n",
      "iteration: 317000 loss: 0.0014 lr: 0.02\n",
      "iteration: 318000 loss: 0.0015 lr: 0.02\n",
      "iteration: 319000 loss: 0.0015 lr: 0.02\n",
      "iteration: 320000 loss: 0.0015 lr: 0.02\n",
      "iteration: 321000 loss: 0.0014 lr: 0.02\n",
      "iteration: 322000 loss: 0.0015 lr: 0.02\n",
      "iteration: 323000 loss: 0.0015 lr: 0.02\n",
      "iteration: 324000 loss: 0.0015 lr: 0.02\n",
      "iteration: 325000 loss: 0.0014 lr: 0.02\n",
      "iteration: 326000 loss: 0.0014 lr: 0.02\n",
      "iteration: 327000 loss: 0.0014 lr: 0.02\n",
      "iteration: 328000 loss: 0.0014 lr: 0.02\n",
      "iteration: 329000 loss: 0.0014 lr: 0.02\n",
      "iteration: 330000 loss: 0.0014 lr: 0.02\n",
      "iteration: 331000 loss: 0.0015 lr: 0.02\n",
      "iteration: 332000 loss: 0.0014 lr: 0.02\n",
      "iteration: 333000 loss: 0.0014 lr: 0.02\n",
      "iteration: 334000 loss: 0.0014 lr: 0.02\n",
      "iteration: 335000 loss: 0.0015 lr: 0.02\n",
      "iteration: 336000 loss: 0.0014 lr: 0.02\n",
      "iteration: 337000 loss: 0.0014 lr: 0.02\n",
      "iteration: 338000 loss: 0.0014 lr: 0.02\n",
      "iteration: 339000 loss: 0.0014 lr: 0.02\n",
      "iteration: 340000 loss: 0.0014 lr: 0.02\n",
      "iteration: 341000 loss: 0.0014 lr: 0.02\n",
      "iteration: 342000 loss: 0.0014 lr: 0.02\n",
      "iteration: 343000 loss: 0.0014 lr: 0.02\n",
      "iteration: 344000 loss: 0.0015 lr: 0.02\n",
      "iteration: 345000 loss: 0.0014 lr: 0.02\n",
      "iteration: 346000 loss: 0.0014 lr: 0.02\n",
      "iteration: 347000 loss: 0.0014 lr: 0.02\n",
      "iteration: 348000 loss: 0.0014 lr: 0.02\n",
      "iteration: 349000 loss: 0.0014 lr: 0.02\n",
      "iteration: 350000 loss: 0.0014 lr: 0.02\n",
      "iteration: 351000 loss: 0.0014 lr: 0.02\n",
      "iteration: 352000 loss: 0.0014 lr: 0.02\n",
      "iteration: 353000 loss: 0.0014 lr: 0.02\n",
      "iteration: 354000 loss: 0.0014 lr: 0.02\n",
      "iteration: 355000 loss: 0.0014 lr: 0.02\n",
      "iteration: 356000 loss: 0.0014 lr: 0.02\n",
      "iteration: 357000 loss: 0.0014 lr: 0.02\n",
      "iteration: 358000 loss: 0.0014 lr: 0.02\n",
      "iteration: 359000 loss: 0.0014 lr: 0.02\n",
      "iteration: 360000 loss: 0.0014 lr: 0.02\n",
      "iteration: 361000 loss: 0.0015 lr: 0.02\n",
      "iteration: 362000 loss: 0.0014 lr: 0.02\n",
      "iteration: 363000 loss: 0.0014 lr: 0.02\n",
      "iteration: 364000 loss: 0.0014 lr: 0.02\n",
      "iteration: 365000 loss: 0.0014 lr: 0.02\n",
      "iteration: 366000 loss: 0.0014 lr: 0.02\n",
      "iteration: 367000 loss: 0.0014 lr: 0.02\n",
      "iteration: 368000 loss: 0.0013 lr: 0.02\n",
      "iteration: 369000 loss: 0.0014 lr: 0.02\n",
      "iteration: 370000 loss: 0.0014 lr: 0.02\n",
      "iteration: 371000 loss: 0.0014 lr: 0.02\n",
      "iteration: 372000 loss: 0.0014 lr: 0.02\n",
      "iteration: 373000 loss: 0.0014 lr: 0.02\n",
      "iteration: 374000 loss: 0.0014 lr: 0.02\n",
      "iteration: 375000 loss: 0.0014 lr: 0.02\n",
      "iteration: 376000 loss: 0.0014 lr: 0.02\n",
      "iteration: 377000 loss: 0.0014 lr: 0.02\n",
      "iteration: 378000 loss: 0.0013 lr: 0.02\n",
      "iteration: 379000 loss: 0.0013 lr: 0.02\n",
      "iteration: 380000 loss: 0.0014 lr: 0.02\n",
      "iteration: 381000 loss: 0.0014 lr: 0.02\n",
      "iteration: 382000 loss: 0.0014 lr: 0.02\n",
      "iteration: 383000 loss: 0.0014 lr: 0.02\n",
      "iteration: 384000 loss: 0.0014 lr: 0.02\n",
      "iteration: 385000 loss: 0.0013 lr: 0.02\n",
      "iteration: 386000 loss: 0.0014 lr: 0.02\n",
      "iteration: 387000 loss: 0.0014 lr: 0.02\n",
      "iteration: 388000 loss: 0.0013 lr: 0.02\n",
      "iteration: 389000 loss: 0.0013 lr: 0.02\n",
      "iteration: 390000 loss: 0.0014 lr: 0.02\n",
      "iteration: 391000 loss: 0.0014 lr: 0.02\n",
      "iteration: 392000 loss: 0.0014 lr: 0.02\n",
      "iteration: 393000 loss: 0.0014 lr: 0.02\n",
      "iteration: 394000 loss: 0.0013 lr: 0.02\n",
      "iteration: 395000 loss: 0.0014 lr: 0.02\n",
      "iteration: 396000 loss: 0.0014 lr: 0.02\n",
      "iteration: 397000 loss: 0.0013 lr: 0.02\n",
      "iteration: 398000 loss: 0.0014 lr: 0.02\n",
      "iteration: 399000 loss: 0.0014 lr: 0.02\n",
      "iteration: 400000 loss: 0.0013 lr: 0.02\n",
      "iteration: 401000 loss: 0.0013 lr: 0.02\n",
      "iteration: 402000 loss: 0.0014 lr: 0.02\n",
      "iteration: 403000 loss: 0.0013 lr: 0.02\n",
      "iteration: 404000 loss: 0.0013 lr: 0.02\n",
      "iteration: 405000 loss: 0.0014 lr: 0.02\n",
      "iteration: 406000 loss: 0.0014 lr: 0.02\n",
      "iteration: 407000 loss: 0.0014 lr: 0.02\n",
      "iteration: 408000 loss: 0.0014 lr: 0.02\n",
      "iteration: 409000 loss: 0.0013 lr: 0.02\n",
      "iteration: 410000 loss: 0.0014 lr: 0.02\n",
      "iteration: 411000 loss: 0.0014 lr: 0.02\n",
      "iteration: 412000 loss: 0.0013 lr: 0.02\n",
      "iteration: 413000 loss: 0.0013 lr: 0.02\n"
     ]
    },
    {
     "name": "stderr",
     "output_type": "stream",
     "text": [
      "iteration: 414000 loss: 0.0014 lr: 0.02\n",
      "iteration: 415000 loss: 0.0014 lr: 0.02\n",
      "iteration: 416000 loss: 0.0013 lr: 0.02\n",
      "iteration: 417000 loss: 0.0013 lr: 0.02\n",
      "iteration: 418000 loss: 0.0013 lr: 0.02\n",
      "iteration: 419000 loss: 0.0013 lr: 0.02\n",
      "iteration: 420000 loss: 0.0013 lr: 0.02\n",
      "iteration: 421000 loss: 0.0013 lr: 0.02\n",
      "iteration: 422000 loss: 0.0013 lr: 0.02\n",
      "iteration: 423000 loss: 0.0013 lr: 0.02\n",
      "iteration: 424000 loss: 0.0013 lr: 0.02\n",
      "iteration: 425000 loss: 0.0013 lr: 0.02\n",
      "iteration: 426000 loss: 0.0013 lr: 0.02\n",
      "iteration: 427000 loss: 0.0013 lr: 0.02\n",
      "iteration: 428000 loss: 0.0013 lr: 0.02\n",
      "iteration: 429000 loss: 0.0013 lr: 0.02\n",
      "iteration: 430000 loss: 0.0013 lr: 0.02\n",
      "iteration: 431000 loss: 0.0012 lr: 0.002\n",
      "iteration: 432000 loss: 0.0012 lr: 0.002\n",
      "iteration: 433000 loss: 0.0012 lr: 0.002\n",
      "iteration: 434000 loss: 0.0012 lr: 0.002\n",
      "iteration: 435000 loss: 0.0012 lr: 0.002\n",
      "iteration: 436000 loss: 0.0012 lr: 0.002\n",
      "iteration: 437000 loss: 0.0011 lr: 0.002\n",
      "iteration: 438000 loss: 0.0012 lr: 0.002\n",
      "iteration: 439000 loss: 0.0011 lr: 0.002\n",
      "iteration: 440000 loss: 0.0012 lr: 0.002\n",
      "iteration: 441000 loss: 0.0012 lr: 0.002\n",
      "iteration: 442000 loss: 0.0012 lr: 0.002\n",
      "iteration: 443000 loss: 0.0012 lr: 0.002\n",
      "iteration: 444000 loss: 0.0011 lr: 0.002\n",
      "iteration: 445000 loss: 0.0012 lr: 0.002\n",
      "iteration: 446000 loss: 0.0011 lr: 0.002\n",
      "iteration: 447000 loss: 0.0012 lr: 0.002\n",
      "iteration: 448000 loss: 0.0011 lr: 0.002\n",
      "iteration: 449000 loss: 0.0012 lr: 0.002\n",
      "iteration: 450000 loss: 0.0012 lr: 0.002\n",
      "iteration: 451000 loss: 0.0011 lr: 0.002\n",
      "iteration: 452000 loss: 0.0011 lr: 0.002\n",
      "iteration: 453000 loss: 0.0011 lr: 0.002\n",
      "iteration: 454000 loss: 0.0011 lr: 0.002\n",
      "iteration: 455000 loss: 0.0011 lr: 0.002\n",
      "iteration: 456000 loss: 0.0011 lr: 0.002\n",
      "iteration: 457000 loss: 0.0011 lr: 0.002\n",
      "iteration: 458000 loss: 0.0012 lr: 0.002\n",
      "iteration: 459000 loss: 0.0011 lr: 0.002\n",
      "iteration: 460000 loss: 0.0011 lr: 0.002\n",
      "iteration: 461000 loss: 0.0011 lr: 0.002\n",
      "iteration: 462000 loss: 0.0011 lr: 0.002\n",
      "iteration: 463000 loss: 0.0011 lr: 0.002\n",
      "iteration: 464000 loss: 0.0011 lr: 0.002\n",
      "iteration: 465000 loss: 0.0012 lr: 0.002\n",
      "iteration: 466000 loss: 0.0011 lr: 0.002\n",
      "iteration: 467000 loss: 0.0012 lr: 0.002\n",
      "iteration: 468000 loss: 0.0011 lr: 0.002\n",
      "iteration: 469000 loss: 0.0011 lr: 0.002\n",
      "iteration: 470000 loss: 0.0011 lr: 0.002\n",
      "iteration: 471000 loss: 0.0011 lr: 0.002\n",
      "iteration: 472000 loss: 0.0011 lr: 0.002\n",
      "iteration: 473000 loss: 0.0012 lr: 0.002\n",
      "iteration: 474000 loss: 0.0012 lr: 0.002\n",
      "iteration: 475000 loss: 0.0011 lr: 0.002\n",
      "iteration: 476000 loss: 0.0011 lr: 0.002\n",
      "iteration: 477000 loss: 0.0011 lr: 0.002\n",
      "iteration: 478000 loss: 0.0012 lr: 0.002\n",
      "iteration: 479000 loss: 0.0011 lr: 0.002\n",
      "iteration: 480000 loss: 0.0012 lr: 0.002\n",
      "iteration: 481000 loss: 0.0012 lr: 0.002\n",
      "iteration: 482000 loss: 0.0011 lr: 0.002\n",
      "iteration: 483000 loss: 0.0012 lr: 0.002\n",
      "iteration: 484000 loss: 0.0011 lr: 0.002\n",
      "iteration: 485000 loss: 0.0011 lr: 0.002\n",
      "iteration: 486000 loss: 0.0011 lr: 0.002\n",
      "iteration: 487000 loss: 0.0011 lr: 0.002\n",
      "iteration: 488000 loss: 0.0011 lr: 0.002\n",
      "iteration: 489000 loss: 0.0011 lr: 0.002\n",
      "iteration: 490000 loss: 0.0011 lr: 0.002\n",
      "iteration: 491000 loss: 0.0011 lr: 0.002\n",
      "iteration: 492000 loss: 0.0011 lr: 0.002\n",
      "iteration: 493000 loss: 0.0011 lr: 0.002\n",
      "iteration: 494000 loss: 0.0011 lr: 0.002\n",
      "iteration: 495000 loss: 0.0011 lr: 0.002\n",
      "iteration: 496000 loss: 0.0011 lr: 0.002\n",
      "iteration: 497000 loss: 0.0011 lr: 0.002\n",
      "iteration: 498000 loss: 0.0011 lr: 0.002\n",
      "iteration: 499000 loss: 0.0011 lr: 0.002\n",
      "iteration: 500000 loss: 0.0011 lr: 0.002\n",
      "Exception in thread Thread-6:\n",
      "Traceback (most recent call last):\n",
      "  File \"C:\\ProgramData\\miniconda3\\envs\\DLC\\lib\\site-packages\\tensorflow\\python\\client\\session.py\", line 1378, in _do_call\n",
      "    return fn(*args)\n",
      "  File \"C:\\ProgramData\\miniconda3\\envs\\DLC\\lib\\site-packages\\tensorflow\\python\\client\\session.py\", line 1361, in _run_fn\n",
      "    return self._call_tf_sessionrun(options, feed_dict, fetch_list,\n",
      "  File \"C:\\ProgramData\\miniconda3\\envs\\DLC\\lib\\site-packages\\tensorflow\\python\\client\\session.py\", line 1454, in _call_tf_sessionrun\n",
      "    return tf_session.TF_SessionRun_wrapper(self._session, options, feed_dict,\n",
      "tensorflow.python.framework.errors_impl.CancelledError: Enqueue operation was cancelled\n",
      "\t [[{{node fifo_queue_enqueue}}]]\n",
      "\n",
      "During handling of the above exception, another exception occurred:\n",
      "\n",
      "Traceback (most recent call last):\n",
      "  File \"C:\\ProgramData\\miniconda3\\envs\\DLC\\lib\\threading.py\", line 932, in _bootstrap_inner\n",
      "    self.run()\n",
      "  File \"C:\\ProgramData\\miniconda3\\envs\\DLC\\lib\\threading.py\", line 870, in run\n",
      "    self._target(*self._args, **self._kwargs)\n",
      "  File \"C:\\ProgramData\\miniconda3\\envs\\DLC\\lib\\site-packages\\deeplabcut\\pose_estimation_tensorflow\\core\\train.py\", line 83, in load_and_enqueue\n",
      "    sess.run(enqueue_op, feed_dict=food)\n",
      "  File \"C:\\ProgramData\\miniconda3\\envs\\DLC\\lib\\site-packages\\tensorflow\\python\\client\\session.py\", line 968, in run\n",
      "    result = self._run(None, fetches, feed_dict, options_ptr,\n",
      "  File \"C:\\ProgramData\\miniconda3\\envs\\DLC\\lib\\site-packages\\tensorflow\\python\\client\\session.py\", line 1191, in _run\n",
      "    results = self._do_run(handle, final_targets, final_fetches,\n",
      "  File \"C:\\ProgramData\\miniconda3\\envs\\DLC\\lib\\site-packages\\tensorflow\\python\\client\\session.py\", line 1371, in _do_run\n",
      "    return self._do_call(_run_fn, feeds, fetches, targets, options,\n",
      "  File \"C:\\ProgramData\\miniconda3\\envs\\DLC\\lib\\site-packages\\tensorflow\\python\\client\\session.py\", line 1397, in _do_call\n",
      "    raise type(e)(node_def, op, message)  # pylint: disable=no-value-for-parameter\n",
      "tensorflow.python.framework.errors_impl.CancelledError: Graph execution error:\n",
      "\n",
      "Detected at node 'fifo_queue_enqueue' defined at (most recent call last):\n",
      "    File \"C:\\ProgramData\\miniconda3\\envs\\DLC\\lib\\runpy.py\", line 194, in _run_module_as_main\n",
      "      return _run_code(code, main_globals, None,\n",
      "    File \"C:\\ProgramData\\miniconda3\\envs\\DLC\\lib\\runpy.py\", line 87, in _run_code\n",
      "      exec(code, run_globals)\n",
      "    File \"C:\\ProgramData\\miniconda3\\envs\\DLC\\lib\\site-packages\\ipykernel_launcher.py\", line 17, in <module>\n",
      "      app.launch_new_instance()\n",
      "    File \"C:\\ProgramData\\miniconda3\\envs\\DLC\\lib\\site-packages\\traitlets\\config\\application.py\", line 1043, in launch_instance\n",
      "      app.start()\n",
      "    File \"C:\\ProgramData\\miniconda3\\envs\\DLC\\lib\\site-packages\\ipykernel\\kernelapp.py\", line 736, in start\n",
      "      self.io_loop.start()\n",
      "    File \"C:\\ProgramData\\miniconda3\\envs\\DLC\\lib\\site-packages\\tornado\\platform\\asyncio.py\", line 215, in start\n",
      "      self.asyncio_loop.run_forever()\n",
      "    File \"C:\\ProgramData\\miniconda3\\envs\\DLC\\lib\\asyncio\\base_events.py\", line 570, in run_forever\n",
      "      self._run_once()\n",
      "    File \"C:\\ProgramData\\miniconda3\\envs\\DLC\\lib\\asyncio\\base_events.py\", line 1859, in _run_once\n",
      "      handle._run()\n",
      "    File \"C:\\ProgramData\\miniconda3\\envs\\DLC\\lib\\asyncio\\events.py\", line 81, in _run\n",
      "      self._context.run(self._callback, *self._args)\n",
      "    File \"C:\\ProgramData\\miniconda3\\envs\\DLC\\lib\\site-packages\\ipykernel\\kernelbase.py\", line 516, in dispatch_queue\n",
      "      await self.process_one()\n",
      "    File \"C:\\ProgramData\\miniconda3\\envs\\DLC\\lib\\site-packages\\ipykernel\\kernelbase.py\", line 505, in process_one\n",
      "      await dispatch(*args)\n",
      "    File \"C:\\ProgramData\\miniconda3\\envs\\DLC\\lib\\site-packages\\ipykernel\\kernelbase.py\", line 412, in dispatch_shell\n",
      "      await result\n",
      "    File \"C:\\ProgramData\\miniconda3\\envs\\DLC\\lib\\site-packages\\ipykernel\\kernelbase.py\", line 740, in execute_request\n",
      "      reply_content = await reply_content\n",
      "    File \"C:\\ProgramData\\miniconda3\\envs\\DLC\\lib\\site-packages\\ipykernel\\ipkernel.py\", line 422, in do_execute\n",
      "      res = shell.run_cell(\n",
      "    File \"C:\\ProgramData\\miniconda3\\envs\\DLC\\lib\\site-packages\\ipykernel\\zmqshell.py\", line 546, in run_cell\n",
      "      return super().run_cell(*args, **kwargs)\n",
      "    File \"C:\\ProgramData\\miniconda3\\envs\\DLC\\lib\\site-packages\\IPython\\core\\interactiveshell.py\", line 3006, in run_cell\n",
      "      result = self._run_cell(\n",
      "    File \"C:\\ProgramData\\miniconda3\\envs\\DLC\\lib\\site-packages\\IPython\\core\\interactiveshell.py\", line 3061, in _run_cell\n",
      "      result = runner(coro)\n",
      "    File \"C:\\ProgramData\\miniconda3\\envs\\DLC\\lib\\site-packages\\IPython\\core\\async_helpers.py\", line 129, in _pseudo_sync_runner\n",
      "      coro.send(None)\n",
      "    File \"C:\\ProgramData\\miniconda3\\envs\\DLC\\lib\\site-packages\\IPython\\core\\interactiveshell.py\", line 3266, in run_cell_async\n",
      "      has_raised = await self.run_ast_nodes(code_ast.body, cell_name,\n",
      "    File \"C:\\ProgramData\\miniconda3\\envs\\DLC\\lib\\site-packages\\IPython\\core\\interactiveshell.py\", line 3445, in run_ast_nodes\n",
      "      if await self.run_code(code, result, async_=asy):\n",
      "    File \"C:\\ProgramData\\miniconda3\\envs\\DLC\\lib\\site-packages\\IPython\\core\\interactiveshell.py\", line 3505, in run_code\n",
      "      exec(code_obj, self.user_global_ns, self.user_ns)\n",
      "    File \"C:\\Users\\UCPH\\AppData\\Local\\Temp\\ipykernel_28400\\4280704764.py\", line 1, in <module>\n",
      "      deeplabcut.train_network(config_path, displayiters=1000, saveiters=10000, maxiters=500000)\n",
      "    File \"C:\\ProgramData\\miniconda3\\envs\\DLC\\lib\\site-packages\\deeplabcut\\pose_estimation_tensorflow\\training.py\", line 210, in train_network\n",
      "      train(\n",
      "    File \"C:\\ProgramData\\miniconda3\\envs\\DLC\\lib\\site-packages\\deeplabcut\\pose_estimation_tensorflow\\core\\train.py\", line 168, in train\n",
      "      batch, enqueue_op, placeholders = setup_preloading(batch_spec)\n",
      "    File \"C:\\ProgramData\\miniconda3\\envs\\DLC\\lib\\site-packages\\deeplabcut\\pose_estimation_tensorflow\\core\\train.py\", line 69, in setup_preloading\n",
      "      enqueue_op = q.enqueue(placeholders_list)\n",
      "Node: 'fifo_queue_enqueue'\n",
      "Enqueue operation was cancelled\n",
      "\t [[{{node fifo_queue_enqueue}}]]\n",
      "\n",
      "Original stack trace for 'fifo_queue_enqueue':\n",
      "  File \"C:\\ProgramData\\miniconda3\\envs\\DLC\\lib\\runpy.py\", line 194, in _run_module_as_main\n",
      "    return _run_code(code, main_globals, None,\n",
      "  File \"C:\\ProgramData\\miniconda3\\envs\\DLC\\lib\\runpy.py\", line 87, in _run_code\n",
      "    exec(code, run_globals)\n",
      "  File \"C:\\ProgramData\\miniconda3\\envs\\DLC\\lib\\site-packages\\ipykernel_launcher.py\", line 17, in <module>\n",
      "    app.launch_new_instance()\n",
      "  File \"C:\\ProgramData\\miniconda3\\envs\\DLC\\lib\\site-packages\\traitlets\\config\\application.py\", line 1043, in launch_instance\n",
      "    app.start()\n",
      "  File \"C:\\ProgramData\\miniconda3\\envs\\DLC\\lib\\site-packages\\ipykernel\\kernelapp.py\", line 736, in start\n",
      "    self.io_loop.start()\n",
      "  File \"C:\\ProgramData\\miniconda3\\envs\\DLC\\lib\\site-packages\\tornado\\platform\\asyncio.py\", line 215, in start\n",
      "    self.asyncio_loop.run_forever()\n",
      "  File \"C:\\ProgramData\\miniconda3\\envs\\DLC\\lib\\asyncio\\base_events.py\", line 570, in run_forever\n",
      "    self._run_once()\n",
      "  File \"C:\\ProgramData\\miniconda3\\envs\\DLC\\lib\\asyncio\\base_events.py\", line 1859, in _run_once\n",
      "    handle._run()\n",
      "  File \"C:\\ProgramData\\miniconda3\\envs\\DLC\\lib\\asyncio\\events.py\", line 81, in _run\n",
      "    self._context.run(self._callback, *self._args)\n",
      "  File \"C:\\ProgramData\\miniconda3\\envs\\DLC\\lib\\site-packages\\ipykernel\\kernelbase.py\", line 516, in dispatch_queue\n",
      "    await self.process_one()\n",
      "  File \"C:\\ProgramData\\miniconda3\\envs\\DLC\\lib\\site-packages\\ipykernel\\kernelbase.py\", line 505, in process_one\n",
      "    await dispatch(*args)\n",
      "  File \"C:\\ProgramData\\miniconda3\\envs\\DLC\\lib\\site-packages\\ipykernel\\kernelbase.py\", line 412, in dispatch_shell\n",
      "    await result\n",
      "  File \"C:\\ProgramData\\miniconda3\\envs\\DLC\\lib\\site-packages\\ipykernel\\kernelbase.py\", line 740, in execute_request\n",
      "    reply_content = await reply_content\n",
      "  File \"C:\\ProgramData\\miniconda3\\envs\\DLC\\lib\\site-packages\\ipykernel\\ipkernel.py\", line 422, in do_execute\n",
      "    res = shell.run_cell(\n",
      "  File \"C:\\ProgramData\\miniconda3\\envs\\DLC\\lib\\site-packages\\ipykernel\\zmqshell.py\", line 546, in run_cell\n",
      "    return super().run_cell(*args, **kwargs)\n",
      "  File \"C:\\ProgramData\\miniconda3\\envs\\DLC\\lib\\site-packages\\IPython\\core\\interactiveshell.py\", line 3006, in run_cell\n",
      "    result = self._run_cell(\n",
      "  File \"C:\\ProgramData\\miniconda3\\envs\\DLC\\lib\\site-packages\\IPython\\core\\interactiveshell.py\", line 3061, in _run_cell\n",
      "    result = runner(coro)\n",
      "  File \"C:\\ProgramData\\miniconda3\\envs\\DLC\\lib\\site-packages\\IPython\\core\\async_helpers.py\", line 129, in _pseudo_sync_runner\n",
      "    coro.send(None)\n",
      "  File \"C:\\ProgramData\\miniconda3\\envs\\DLC\\lib\\site-packages\\IPython\\core\\interactiveshell.py\", line 3266, in run_cell_async\n",
      "    has_raised = await self.run_ast_nodes(code_ast.body, cell_name,\n",
      "  File \"C:\\ProgramData\\miniconda3\\envs\\DLC\\lib\\site-packages\\IPython\\core\\interactiveshell.py\", line 3445, in run_ast_nodes\n",
      "    if await self.run_code(code, result, async_=asy):\n",
      "  File \"C:\\ProgramData\\miniconda3\\envs\\DLC\\lib\\site-packages\\IPython\\core\\interactiveshell.py\", line 3505, in run_code\n",
      "    exec(code_obj, self.user_global_ns, self.user_ns)\n",
      "  File \"C:\\Users\\UCPH\\AppData\\Local\\Temp\\ipykernel_28400\\4280704764.py\", line 1, in <module>\n",
      "    deeplabcut.train_network(config_path, displayiters=1000, saveiters=10000, maxiters=500000)\n",
      "  File \"C:\\ProgramData\\miniconda3\\envs\\DLC\\lib\\site-packages\\deeplabcut\\pose_estimation_tensorflow\\training.py\", line 210, in train_network\n",
      "    train(\n",
      "  File \"C:\\ProgramData\\miniconda3\\envs\\DLC\\lib\\site-packages\\deeplabcut\\pose_estimation_tensorflow\\core\\train.py\", line 168, in train\n",
      "    batch, enqueue_op, placeholders = setup_preloading(batch_spec)\n",
      "  File \"C:\\ProgramData\\miniconda3\\envs\\DLC\\lib\\site-packages\\deeplabcut\\pose_estimation_tensorflow\\core\\train.py\", line 69, in setup_preloading\n",
      "    enqueue_op = q.enqueue(placeholders_list)\n",
      "  File \"C:\\ProgramData\\miniconda3\\envs\\DLC\\lib\\site-packages\\tensorflow\\python\\ops\\data_flow_ops.py\", line 346, in enqueue\n",
      "    return gen_data_flow_ops.queue_enqueue_v2(\n",
      "  File \"C:\\ProgramData\\miniconda3\\envs\\DLC\\lib\\site-packages\\tensorflow\\python\\ops\\gen_data_flow_ops.py\", line 4062, in queue_enqueue_v2\n",
      "    _, _, _op, _outputs = _op_def_library._apply_op_helper(\n",
      "  File \"C:\\ProgramData\\miniconda3\\envs\\DLC\\lib\\site-packages\\tensorflow\\python\\framework\\op_def_library.py\", line 797, in _apply_op_helper\n",
      "    op = g._create_op_internal(op_type_name, inputs, dtypes=None,\n",
      "  File \"C:\\ProgramData\\miniconda3\\envs\\DLC\\lib\\site-packages\\tensorflow\\python\\framework\\ops.py\", line 3800, in _create_op_internal\n",
      "    ret = Operation(\n",
      "\n"
     ]
    },
    {
     "name": "stdout",
     "output_type": "stream",
     "text": [
      "The network is now trained and ready to evaluate. Use the function 'evaluate_network' to evaluate the network.\n"
     ]
    }
   ],
   "source": [
    "deeplabcut.train_network(config_path, displayiters=1000, saveiters=10000, maxiters=500000)"
   ]
  },
  {
   "cell_type": "code",
   "execution_count": 5,
   "id": "f2afc0e6",
   "metadata": {},
   "outputs": [
    {
     "name": "stdout",
     "output_type": "stream",
     "text": [
      "Running  DLC_resnet50_HWSep11shuffle1_500000  with # of training iterations: 500000\n"
     ]
    },
    {
     "name": "stderr",
     "output_type": "stream",
     "text": [
      "C:\\ProgramData\\miniconda3\\envs\\DLC\\lib\\site-packages\\tensorflow\\python\\keras\\engine\\base_layer_v1.py:1694: UserWarning: `layer.apply` is deprecated and will be removed in a future version. Please use `layer.__call__` method instead.\n",
      "  warnings.warn('`layer.apply` is deprecated and '\n"
     ]
    },
    {
     "name": "stdout",
     "output_type": "stream",
     "text": [
      "Running evaluation ...\n"
     ]
    },
    {
     "name": "stderr",
     "output_type": "stream",
     "text": [
      "398it [00:20, 19.33it/s]\n"
     ]
    },
    {
     "name": "stdout",
     "output_type": "stream",
     "text": [
      "Analysis is done and the results are stored (see evaluation-results) for snapshot:  snapshot-500000\n",
      "Results for 500000  training iterations: 95 1 train error: 3.03 pixels. Test error: 14.52  pixels.\n",
      "With pcutoff of 0.6  train error: 2.64 pixels. Test error: 8.16 pixels\n",
      "Thereby, the errors are given by the average distances between the labels by DLC and the scorer.\n",
      "The network is evaluated and the results are stored in the subdirectory 'evaluation_results'.\n",
      "Please check the results, then choose the best model (snapshot) for prediction. You can update the config.yaml file with the appropriate index for the 'snapshotindex'.\n",
      "Use the function 'analyze_video' to make predictions on new videos.\n",
      "Otherwise, consider adding more labeled-data and retraining the network (see DeepLabCut workflow Fig 2, Nath 2019)\n"
     ]
    }
   ],
   "source": [
    "deeplabcut.evaluate_network(config_path, plotting=False)"
   ]
  },
  {
   "cell_type": "code",
   "execution_count": 20,
   "id": "6fa714e9",
   "metadata": {},
   "outputs": [
    {
     "name": "stderr",
     "output_type": "stream",
     "text": [
      "Config:\n",
      "{'all_joints': [[0], [1], [2], [3], [4], [5]],\n",
      " 'all_joints_names': ['Nose',\n",
      "                      'Frontlimb',\n",
      "                      'HindLimb',\n",
      "                      'TailBase',\n",
      "                      'Start',\n",
      "                      'End'],\n",
      " 'batch_size': 1,\n",
      " 'crop_pad': 0,\n",
      " 'dataset': 'training-datasets\\\\iteration-0\\\\UnaugmentedDataSet_BBSep4\\\\BB_SSJ95shuffle1.mat',\n",
      " 'dataset_type': 'imgaug',\n",
      " 'deterministic': False,\n",
      " 'fg_fraction': 0.25,\n",
      " 'global_scale': 0.8,\n",
      " 'init_weights': 'C:\\\\ProgramData\\\\miniconda3\\\\envs\\\\DLC\\\\lib\\\\site-packages\\\\deeplabcut\\\\pose_estimation_tensorflow\\\\models\\\\pretrained\\\\resnet_v1_50.ckpt',\n",
      " 'intermediate_supervision': False,\n",
      " 'intermediate_supervision_layer': 12,\n",
      " 'location_refinement': True,\n",
      " 'locref_huber_loss': True,\n",
      " 'locref_loss_weight': 1.0,\n",
      " 'locref_stdev': 7.2801,\n",
      " 'log_dir': 'log',\n",
      " 'mean_pixel': [123.68, 116.779, 103.939],\n",
      " 'mirror': False,\n",
      " 'net_type': 'resnet_50',\n",
      " 'num_joints': 6,\n",
      " 'optimizer': 'sgd',\n",
      " 'pairwise_huber_loss': True,\n",
      " 'pairwise_predict': False,\n",
      " 'partaffinityfield_predict': False,\n",
      " 'regularize': False,\n",
      " 'scoremap_dir': 'test',\n",
      " 'shuffle': True,\n",
      " 'snapshot_prefix': 'C:\\\\Users\\\\UCPH\\\\gabi\\\\thesis '\n",
      "                    'analysis\\\\BB-SSJ-2023-09-04\\\\dlc-models\\\\iteration-0\\\\BBSep4-trainset95shuffle1\\\\test\\\\snapshot',\n",
      " 'stride': 8.0,\n",
      " 'weigh_negatives': False,\n",
      " 'weigh_only_present_joints': False,\n",
      " 'weigh_part_predictions': False,\n",
      " 'weight_decay': 0.0001}\n",
      "C:\\ProgramData\\miniconda3\\envs\\DLC\\lib\\site-packages\\tensorflow\\python\\keras\\engine\\base_layer_v1.py:1694: UserWarning: `layer.apply` is deprecated and will be removed in a future version. Please use `layer.__call__` method instead.\n",
      "  warnings.warn('`layer.apply` is deprecated and '\n"
     ]
    },
    {
     "name": "stdout",
     "output_type": "stream",
     "text": [
      "Using snapshot-500000 for model C:\\Users\\UCPH\\gabi\\thesis analysis\\BB-SSJ-2023-09-04\\dlc-models\\iteration-0\\BBSep4-trainset95shuffle1\n",
      "Starting to analyze %  C:\\Users\\UCPH\\gabi\\thesis analysis\\test2\\1_POST_BB_15_H0,2_KI_M_T1.avi\n",
      "Loading  C:\\Users\\UCPH\\gabi\\thesis analysis\\test2\\1_POST_BB_15_H0,2_KI_M_T1.avi\n",
      "Duration of video [s]:  4.07 , recorded with  15.0 fps!\n",
      "Overall # of frames:  61  found with (before cropping) frame dimensions:  1280 720\n",
      "Starting to extract posture\n"
     ]
    },
    {
     "name": "stderr",
     "output_type": "stream",
     "text": [
      " 98%|████████████████████████████████████████████████████████████████████████████████▋ | 60/61 [00:01<00:00, 30.19it/s]\n"
     ]
    },
    {
     "name": "stdout",
     "output_type": "stream",
     "text": [
      "Saving results in C:\\Users\\UCPH\\gabi\\thesis analysis\\test2...\n",
      "Saving csv poses!\n",
      "Starting to analyze %  C:\\Users\\UCPH\\gabi\\thesis analysis\\test2\\1_POST_BB_15_H0,2_KI_M_T2.avi\n",
      "Loading  C:\\Users\\UCPH\\gabi\\thesis analysis\\test2\\1_POST_BB_15_H0,2_KI_M_T2.avi\n",
      "Duration of video [s]:  4.87 , recorded with  15.0 fps!\n",
      "Overall # of frames:  73  found with (before cropping) frame dimensions:  1280 720\n",
      "Starting to extract posture\n"
     ]
    },
    {
     "name": "stderr",
     "output_type": "stream",
     "text": [
      " 96%|██████████████████████████████████████████████████████████████████████████████▋   | 70/73 [00:01<00:00, 39.06it/s]\n"
     ]
    },
    {
     "name": "stdout",
     "output_type": "stream",
     "text": [
      "Saving results in C:\\Users\\UCPH\\gabi\\thesis analysis\\test2...\n",
      "Saving csv poses!\n",
      "Starting to analyze %  C:\\Users\\UCPH\\gabi\\thesis analysis\\test2\\1_POST_BB_15_H0,2_KI_M_T3.avi\n",
      "Loading  C:\\Users\\UCPH\\gabi\\thesis analysis\\test2\\1_POST_BB_15_H0,2_KI_M_T3.avi\n",
      "Duration of video [s]:  5.47 , recorded with  15.0 fps!\n",
      "Overall # of frames:  82  found with (before cropping) frame dimensions:  1280 720\n",
      "Starting to extract posture\n"
     ]
    },
    {
     "name": "stderr",
     "output_type": "stream",
     "text": [
      " 98%|████████████████████████████████████████████████████████████████████████████████  | 80/82 [00:02<00:00, 36.84it/s]\n"
     ]
    },
    {
     "name": "stdout",
     "output_type": "stream",
     "text": [
      "Saving results in C:\\Users\\UCPH\\gabi\\thesis analysis\\test2...\n",
      "Saving csv poses!\n",
      "Starting to analyze %  C:\\Users\\UCPH\\gabi\\thesis analysis\\test2\\1_POST_BB_15_H0,2_KI_M_T4.avi\n",
      "Loading  C:\\Users\\UCPH\\gabi\\thesis analysis\\test2\\1_POST_BB_15_H0,2_KI_M_T4.avi\n",
      "Duration of video [s]:  6.67 , recorded with  15.0 fps!\n",
      "Overall # of frames:  100  found with (before cropping) frame dimensions:  1280 720\n",
      "Starting to extract posture\n"
     ]
    },
    {
     "name": "stderr",
     "output_type": "stream",
     "text": [
      "100%|████████████████████████████████████████████████████████████████████████████████| 100/100 [00:02<00:00, 38.82it/s]\n"
     ]
    },
    {
     "name": "stdout",
     "output_type": "stream",
     "text": [
      "Saving results in C:\\Users\\UCPH\\gabi\\thesis analysis\\test2...\n",
      "Saving csv poses!\n",
      "Starting to analyze %  C:\\Users\\UCPH\\gabi\\thesis analysis\\test2\\1_POST_BB_15_H0,4_KI_M_T1.avi\n",
      "Loading  C:\\Users\\UCPH\\gabi\\thesis analysis\\test2\\1_POST_BB_15_H0,4_KI_M_T1.avi\n",
      "Duration of video [s]:  8.33 , recorded with  15.0 fps!\n",
      "Overall # of frames:  125  found with (before cropping) frame dimensions:  1280 720\n",
      "Starting to extract posture\n"
     ]
    },
    {
     "name": "stderr",
     "output_type": "stream",
     "text": [
      " 96%|████████████████████████████████████████████████████████████████████████████▊   | 120/125 [00:03<00:00, 38.34it/s]\n"
     ]
    },
    {
     "name": "stdout",
     "output_type": "stream",
     "text": [
      "Saving results in C:\\Users\\UCPH\\gabi\\thesis analysis\\test2...\n",
      "Saving csv poses!\n",
      "Starting to analyze %  C:\\Users\\UCPH\\gabi\\thesis analysis\\test2\\1_POST_BB_15_H0,4_KI_M_T2.avi\n",
      "Loading  C:\\Users\\UCPH\\gabi\\thesis analysis\\test2\\1_POST_BB_15_H0,4_KI_M_T2.avi\n",
      "Duration of video [s]:  9.27 , recorded with  15.0 fps!\n",
      "Overall # of frames:  139  found with (before cropping) frame dimensions:  1280 720\n",
      "Starting to extract posture\n"
     ]
    },
    {
     "name": "stderr",
     "output_type": "stream",
     "text": [
      " 94%|██████████████████████████████████████████████████████████████████████████▊     | 130/139 [00:03<00:00, 37.02it/s]\n"
     ]
    },
    {
     "name": "stdout",
     "output_type": "stream",
     "text": [
      "Saving results in C:\\Users\\UCPH\\gabi\\thesis analysis\\test2...\n",
      "Saving csv poses!\n",
      "Starting to analyze %  C:\\Users\\UCPH\\gabi\\thesis analysis\\test2\\1_POST_BB_15_H0,4_KI_M_T3.avi\n",
      "Loading  C:\\Users\\UCPH\\gabi\\thesis analysis\\test2\\1_POST_BB_15_H0,4_KI_M_T3.avi\n",
      "Duration of video [s]:  8.67 , recorded with  15.0 fps!\n",
      "Overall # of frames:  130  found with (before cropping) frame dimensions:  1280 720\n",
      "Starting to extract posture\n"
     ]
    },
    {
     "name": "stderr",
     "output_type": "stream",
     "text": [
      "100%|████████████████████████████████████████████████████████████████████████████████| 130/130 [00:03<00:00, 39.27it/s]\n"
     ]
    },
    {
     "name": "stdout",
     "output_type": "stream",
     "text": [
      "Saving results in C:\\Users\\UCPH\\gabi\\thesis analysis\\test2...\n",
      "Saving csv poses!\n",
      "Starting to analyze %  C:\\Users\\UCPH\\gabi\\thesis analysis\\test2\\1_POST_BB_15_H0,4_KI_M_T4.avi\n",
      "Loading  C:\\Users\\UCPH\\gabi\\thesis analysis\\test2\\1_POST_BB_15_H0,4_KI_M_T4.avi\n",
      "Duration of video [s]:  36.47 , recorded with  15.0 fps!\n",
      "Overall # of frames:  547  found with (before cropping) frame dimensions:  1280 720\n",
      "Starting to extract posture\n"
     ]
    },
    {
     "name": "stderr",
     "output_type": "stream",
     "text": [
      " 99%|██████████████████████████████████████████████████████████████████████████████▉ | 540/547 [00:13<00:00, 40.36it/s]\n"
     ]
    },
    {
     "name": "stdout",
     "output_type": "stream",
     "text": [
      "Saving results in C:\\Users\\UCPH\\gabi\\thesis analysis\\test2...\n",
      "Saving csv poses!\n",
      "Starting to analyze %  C:\\Users\\UCPH\\gabi\\thesis analysis\\test2\\1_POST_BB_15_H0,8_KI_M_T1.avi\n",
      "Loading  C:\\Users\\UCPH\\gabi\\thesis analysis\\test2\\1_POST_BB_15_H0,8_KI_M_T1.avi\n",
      "Duration of video [s]:  9.67 , recorded with  15.0 fps!\n",
      "Overall # of frames:  145  found with (before cropping) frame dimensions:  1280 720\n",
      "Starting to extract posture\n"
     ]
    },
    {
     "name": "stderr",
     "output_type": "stream",
     "text": [
      " 97%|█████████████████████████████████████████████████████████████████████████████▏  | 140/145 [00:03<00:00, 40.03it/s]\n"
     ]
    },
    {
     "name": "stdout",
     "output_type": "stream",
     "text": [
      "Saving results in C:\\Users\\UCPH\\gabi\\thesis analysis\\test2...\n",
      "Saving csv poses!\n",
      "Starting to analyze %  C:\\Users\\UCPH\\gabi\\thesis analysis\\test2\\1_POST_BB_15_H0,8_KI_M_T2.avi\n",
      "Loading  C:\\Users\\UCPH\\gabi\\thesis analysis\\test2\\1_POST_BB_15_H0,8_KI_M_T2.avi\n",
      "Duration of video [s]:  11.87 , recorded with  15.0 fps!\n",
      "Overall # of frames:  178  found with (before cropping) frame dimensions:  1280 720\n",
      "Starting to extract posture\n"
     ]
    },
    {
     "name": "stderr",
     "output_type": "stream",
     "text": [
      " 96%|████████████████████████████████████████████████████████████████████████████▍   | 170/178 [00:04<00:00, 38.25it/s]\n"
     ]
    },
    {
     "name": "stdout",
     "output_type": "stream",
     "text": [
      "Saving results in C:\\Users\\UCPH\\gabi\\thesis analysis\\test2...\n",
      "Saving csv poses!\n",
      "Starting to analyze %  C:\\Users\\UCPH\\gabi\\thesis analysis\\test2\\1_POST_BB_15_H0,8_KI_M_T3.avi\n",
      "Loading  C:\\Users\\UCPH\\gabi\\thesis analysis\\test2\\1_POST_BB_15_H0,8_KI_M_T3.avi\n",
      "Duration of video [s]:  40.27 , recorded with  15.0 fps!\n",
      "Overall # of frames:  604  found with (before cropping) frame dimensions:  1280 720\n",
      "Starting to extract posture\n"
     ]
    },
    {
     "name": "stderr",
     "output_type": "stream",
     "text": [
      " 99%|███████████████████████████████████████████████████████████████████████████████▍| 600/604 [00:14<00:00, 40.98it/s]\n"
     ]
    },
    {
     "name": "stdout",
     "output_type": "stream",
     "text": [
      "Saving results in C:\\Users\\UCPH\\gabi\\thesis analysis\\test2...\n",
      "Saving csv poses!\n",
      "Starting to analyze %  C:\\Users\\UCPH\\gabi\\thesis analysis\\test2\\1_POST_BB_15_H0,8_KI_M_T4.avi\n",
      "Loading  C:\\Users\\UCPH\\gabi\\thesis analysis\\test2\\1_POST_BB_15_H0,8_KI_M_T4.avi\n",
      "Duration of video [s]:  123.87 , recorded with  15.0 fps!\n",
      "Overall # of frames:  1858  found with (before cropping) frame dimensions:  1280 720\n",
      "Starting to extract posture\n"
     ]
    },
    {
     "name": "stderr",
     "output_type": "stream",
     "text": [
      "100%|█████████████████████████████████████████████████████████████████████████████▊| 1854/1858 [00:45<00:00, 41.15it/s]\n"
     ]
    },
    {
     "name": "stdout",
     "output_type": "stream",
     "text": [
      "Saving results in C:\\Users\\UCPH\\gabi\\thesis analysis\\test2...\n",
      "Saving csv poses!\n",
      "Starting to analyze %  C:\\Users\\UCPH\\gabi\\thesis analysis\\test2\\1_POST_BB_16_H0,2_WT_F_T1.avi\n",
      "Loading  C:\\Users\\UCPH\\gabi\\thesis analysis\\test2\\1_POST_BB_16_H0,2_WT_F_T1.avi\n",
      "Duration of video [s]:  2.6 , recorded with  15.0 fps!\n",
      "Overall # of frames:  39  found with (before cropping) frame dimensions:  1280 720\n",
      "Starting to extract posture\n"
     ]
    },
    {
     "name": "stderr",
     "output_type": "stream",
     "text": [
      " 77%|███████████████████████████████████████████████████████████████                   | 30/39 [00:00<00:00, 30.47it/s]\n"
     ]
    },
    {
     "name": "stdout",
     "output_type": "stream",
     "text": [
      "Saving results in C:\\Users\\UCPH\\gabi\\thesis analysis\\test2...\n",
      "Saving csv poses!\n",
      "Starting to analyze %  C:\\Users\\UCPH\\gabi\\thesis analysis\\test2\\1_POST_BB_16_H0,2_WT_F_T2.avi\n",
      "Loading  C:\\Users\\UCPH\\gabi\\thesis analysis\\test2\\1_POST_BB_16_H0,2_WT_F_T2.avi\n",
      "Duration of video [s]:  4.87 , recorded with  15.0 fps!\n",
      "Overall # of frames:  73  found with (before cropping) frame dimensions:  1280 720\n",
      "Starting to extract posture\n"
     ]
    },
    {
     "name": "stderr",
     "output_type": "stream",
     "text": [
      " 96%|██████████████████████████████████████████████████████████████████████████████▋   | 70/73 [00:01<00:00, 39.53it/s]\n"
     ]
    },
    {
     "name": "stdout",
     "output_type": "stream",
     "text": [
      "Saving results in C:\\Users\\UCPH\\gabi\\thesis analysis\\test2...\n",
      "Saving csv poses!\n",
      "Starting to analyze %  C:\\Users\\UCPH\\gabi\\thesis analysis\\test2\\1_POST_BB_16_H0,2_WT_F_T3.avi\n",
      "Loading  C:\\Users\\UCPH\\gabi\\thesis analysis\\test2\\1_POST_BB_16_H0,2_WT_F_T3.avi\n",
      "Duration of video [s]:  5.27 , recorded with  15.0 fps!\n",
      "Overall # of frames:  79  found with (before cropping) frame dimensions:  1280 720\n",
      "Starting to extract posture\n"
     ]
    },
    {
     "name": "stderr",
     "output_type": "stream",
     "text": [
      " 89%|████████████████████████████████████████████████████████████████████████▋         | 70/79 [00:01<00:00, 35.66it/s]\n"
     ]
    },
    {
     "name": "stdout",
     "output_type": "stream",
     "text": [
      "Saving results in C:\\Users\\UCPH\\gabi\\thesis analysis\\test2...\n",
      "Saving csv poses!\n",
      "Starting to analyze %  C:\\Users\\UCPH\\gabi\\thesis analysis\\test2\\1_POST_BB_16_H0,2_WT_F_T4.avi\n",
      "Loading  C:\\Users\\UCPH\\gabi\\thesis analysis\\test2\\1_POST_BB_16_H0,2_WT_F_T4.avi\n",
      "Duration of video [s]:  10.87 , recorded with  15.0 fps!\n",
      "Overall # of frames:  163  found with (before cropping) frame dimensions:  1280 720\n",
      "Starting to extract posture\n"
     ]
    },
    {
     "name": "stderr",
     "output_type": "stream",
     "text": [
      " 98%|██████████████████████████████████████████████████████████████████████████████▌ | 160/163 [00:04<00:00, 39.14it/s]\n"
     ]
    },
    {
     "name": "stdout",
     "output_type": "stream",
     "text": [
      "Saving results in C:\\Users\\UCPH\\gabi\\thesis analysis\\test2...\n",
      "Saving csv poses!\n",
      "Starting to analyze %  C:\\Users\\UCPH\\gabi\\thesis analysis\\test2\\1_POST_BB_16_H0,4_WT_F_T1.avi\n",
      "Loading  C:\\Users\\UCPH\\gabi\\thesis analysis\\test2\\1_POST_BB_16_H0,4_WT_F_T1.avi\n",
      "Duration of video [s]:  3.73 , recorded with  15.0 fps!\n",
      "Overall # of frames:  56  found with (before cropping) frame dimensions:  1280 720\n",
      "Starting to extract posture\n"
     ]
    },
    {
     "name": "stderr",
     "output_type": "stream",
     "text": [
      " 89%|█████████████████████████████████████████████████████████████████████████▏        | 50/56 [00:01<00:00, 36.11it/s]\n"
     ]
    },
    {
     "name": "stdout",
     "output_type": "stream",
     "text": [
      "Saving results in C:\\Users\\UCPH\\gabi\\thesis analysis\\test2...\n",
      "Saving csv poses!\n",
      "Starting to analyze %  C:\\Users\\UCPH\\gabi\\thesis analysis\\test2\\1_POST_BB_16_H0,4_WT_F_T2.avi\n",
      "Loading  C:\\Users\\UCPH\\gabi\\thesis analysis\\test2\\1_POST_BB_16_H0,4_WT_F_T2.avi\n",
      "Duration of video [s]:  3.87 , recorded with  15.0 fps!\n",
      "Overall # of frames:  58  found with (before cropping) frame dimensions:  1280 720\n",
      "Starting to extract posture\n"
     ]
    },
    {
     "name": "stderr",
     "output_type": "stream",
     "text": [
      " 86%|██████████████████████████████████████████████████████████████████████▋           | 50/58 [00:01<00:00, 31.98it/s]\n"
     ]
    },
    {
     "name": "stdout",
     "output_type": "stream",
     "text": [
      "Saving results in C:\\Users\\UCPH\\gabi\\thesis analysis\\test2...\n",
      "Saving csv poses!\n",
      "Starting to analyze %  C:\\Users\\UCPH\\gabi\\thesis analysis\\test2\\1_POST_BB_16_H0,4_WT_F_T3.avi\n",
      "Loading  C:\\Users\\UCPH\\gabi\\thesis analysis\\test2\\1_POST_BB_16_H0,4_WT_F_T3.avi\n",
      "Duration of video [s]:  8.87 , recorded with  15.0 fps!\n",
      "Overall # of frames:  133  found with (before cropping) frame dimensions:  1280 720\n",
      "Starting to extract posture\n"
     ]
    },
    {
     "name": "stderr",
     "output_type": "stream",
     "text": [
      " 98%|██████████████████████████████████████████████████████████████████████████████▏ | 130/133 [00:03<00:00, 39.38it/s]\n"
     ]
    },
    {
     "name": "stdout",
     "output_type": "stream",
     "text": [
      "Saving results in C:\\Users\\UCPH\\gabi\\thesis analysis\\test2...\n",
      "Saving csv poses!\n",
      "Starting to analyze %  C:\\Users\\UCPH\\gabi\\thesis analysis\\test2\\1_POST_BB_16_H0,4_WT_F_T4.avi\n",
      "Loading  C:\\Users\\UCPH\\gabi\\thesis analysis\\test2\\1_POST_BB_16_H0,4_WT_F_T4.avi\n",
      "Duration of video [s]:  13.67 , recorded with  15.0 fps!\n",
      "Overall # of frames:  205  found with (before cropping) frame dimensions:  1280 720\n",
      "Starting to extract posture\n"
     ]
    },
    {
     "name": "stderr",
     "output_type": "stream",
     "text": [
      " 98%|██████████████████████████████████████████████████████████████████████████████  | 200/205 [00:05<00:00, 39.46it/s]\n"
     ]
    },
    {
     "name": "stdout",
     "output_type": "stream",
     "text": [
      "Saving results in C:\\Users\\UCPH\\gabi\\thesis analysis\\test2...\n",
      "Saving csv poses!\n",
      "Starting to analyze %  C:\\Users\\UCPH\\gabi\\thesis analysis\\test2\\1_POST_BB_16_H0,8_WT_F_T1.avi\n",
      "Loading  C:\\Users\\UCPH\\gabi\\thesis analysis\\test2\\1_POST_BB_16_H0,8_WT_F_T1.avi\n",
      "Duration of video [s]:  5.27 , recorded with  15.0 fps!\n",
      "Overall # of frames:  79  found with (before cropping) frame dimensions:  1280 720\n",
      "Starting to extract posture\n"
     ]
    },
    {
     "name": "stderr",
     "output_type": "stream",
     "text": [
      " 89%|████████████████████████████████████████████████████████████████████████▋         | 70/79 [00:01<00:00, 35.60it/s]\n"
     ]
    },
    {
     "name": "stdout",
     "output_type": "stream",
     "text": [
      "Saving results in C:\\Users\\UCPH\\gabi\\thesis analysis\\test2...\n",
      "Saving csv poses!\n",
      "Starting to analyze %  C:\\Users\\UCPH\\gabi\\thesis analysis\\test2\\1_POST_BB_16_H0,8_WT_F_T2.avi\n",
      "Loading  C:\\Users\\UCPH\\gabi\\thesis analysis\\test2\\1_POST_BB_16_H0,8_WT_F_T2.avi\n",
      "Duration of video [s]:  5.27 , recorded with  15.0 fps!\n",
      "Overall # of frames:  79  found with (before cropping) frame dimensions:  1280 720\n",
      "Starting to extract posture\n"
     ]
    },
    {
     "name": "stderr",
     "output_type": "stream",
     "text": [
      " 89%|████████████████████████████████████████████████████████████████████████▋         | 70/79 [00:01<00:00, 35.77it/s]\n"
     ]
    },
    {
     "name": "stdout",
     "output_type": "stream",
     "text": [
      "Saving results in C:\\Users\\UCPH\\gabi\\thesis analysis\\test2...\n",
      "Saving csv poses!\n",
      "Starting to analyze %  C:\\Users\\UCPH\\gabi\\thesis analysis\\test2\\1_POST_BB_16_H0,8_WT_F_T3.avi\n",
      "Loading  C:\\Users\\UCPH\\gabi\\thesis analysis\\test2\\1_POST_BB_16_H0,8_WT_F_T3.avi\n",
      "Duration of video [s]:  5.67 , recorded with  15.0 fps!\n",
      "Overall # of frames:  85  found with (before cropping) frame dimensions:  1280 720\n",
      "Starting to extract posture\n"
     ]
    },
    {
     "name": "stderr",
     "output_type": "stream",
     "text": [
      " 94%|█████████████████████████████████████████████████████████████████████████████▏    | 80/85 [00:02<00:00, 37.16it/s]\n"
     ]
    },
    {
     "name": "stdout",
     "output_type": "stream",
     "text": [
      "Saving results in C:\\Users\\UCPH\\gabi\\thesis analysis\\test2...\n",
      "Saving csv poses!\n",
      "Starting to analyze %  C:\\Users\\UCPH\\gabi\\thesis analysis\\test2\\1_POST_BB_16_H0,8_WT_F_T4.avi\n",
      "Loading  C:\\Users\\UCPH\\gabi\\thesis analysis\\test2\\1_POST_BB_16_H0,8_WT_F_T4.avi\n",
      "Duration of video [s]:  11.27 , recorded with  15.0 fps!\n",
      "Overall # of frames:  169  found with (before cropping) frame dimensions:  1280 720\n",
      "Starting to extract posture\n"
     ]
    },
    {
     "name": "stderr",
     "output_type": "stream",
     "text": [
      " 95%|███████████████████████████████████████████████████████████████████████████▋    | 160/169 [00:04<00:00, 37.49it/s]\n"
     ]
    },
    {
     "name": "stdout",
     "output_type": "stream",
     "text": [
      "Saving results in C:\\Users\\UCPH\\gabi\\thesis analysis\\test2...\n",
      "Saving csv poses!\n",
      "Starting to analyze %  C:\\Users\\UCPH\\gabi\\thesis analysis\\test2\\1_POST_BB_17_H0,2_KI_M_T1.avi\n",
      "Loading  C:\\Users\\UCPH\\gabi\\thesis analysis\\test2\\1_POST_BB_17_H0,2_KI_M_T1.avi\n",
      "Duration of video [s]:  5.4 , recorded with  15.0 fps!\n",
      "Overall # of frames:  81  found with (before cropping) frame dimensions:  1280 720\n",
      "Starting to extract posture\n"
     ]
    },
    {
     "name": "stderr",
     "output_type": "stream",
     "text": [
      " 99%|████████████████████████████████████████████████████████████████████████████████▉ | 80/81 [00:01<00:00, 41.07it/s]\n"
     ]
    },
    {
     "name": "stdout",
     "output_type": "stream",
     "text": [
      "Saving results in C:\\Users\\UCPH\\gabi\\thesis analysis\\test2...\n",
      "Saving csv poses!\n",
      "Starting to analyze %  C:\\Users\\UCPH\\gabi\\thesis analysis\\test2\\1_POST_BB_17_H0,2_KI_M_T2.avi\n",
      "Loading  C:\\Users\\UCPH\\gabi\\thesis analysis\\test2\\1_POST_BB_17_H0,2_KI_M_T2.avi\n",
      "Duration of video [s]:  5.67 , recorded with  15.0 fps!\n",
      "Overall # of frames:  85  found with (before cropping) frame dimensions:  1280 720\n",
      "Starting to extract posture\n"
     ]
    },
    {
     "name": "stderr",
     "output_type": "stream",
     "text": [
      " 94%|█████████████████████████████████████████████████████████████████████████████▏    | 80/85 [00:02<00:00, 37.27it/s]\n"
     ]
    },
    {
     "name": "stdout",
     "output_type": "stream",
     "text": [
      "Saving results in C:\\Users\\UCPH\\gabi\\thesis analysis\\test2...\n",
      "Saving csv poses!\n",
      "Starting to analyze %  C:\\Users\\UCPH\\gabi\\thesis analysis\\test2\\1_POST_BB_17_H0,2_KI_M_T3.avi\n",
      "Loading  C:\\Users\\UCPH\\gabi\\thesis analysis\\test2\\1_POST_BB_17_H0,2_KI_M_T3.avi\n",
      "Duration of video [s]:  13.27 , recorded with  15.0 fps!\n",
      "Overall # of frames:  199  found with (before cropping) frame dimensions:  1280 720\n",
      "Starting to extract posture\n"
     ]
    },
    {
     "name": "stderr",
     "output_type": "stream",
     "text": [
      " 95%|████████████████████████████████████████████████████████████████████████████▍   | 190/199 [00:04<00:00, 39.19it/s]\n"
     ]
    },
    {
     "name": "stdout",
     "output_type": "stream",
     "text": [
      "Saving results in C:\\Users\\UCPH\\gabi\\thesis analysis\\test2...\n",
      "Saving csv poses!\n",
      "Starting to analyze %  C:\\Users\\UCPH\\gabi\\thesis analysis\\test2\\1_POST_BB_17_H0,2_KI_M_T4.avi\n",
      "Loading  C:\\Users\\UCPH\\gabi\\thesis analysis\\test2\\1_POST_BB_17_H0,2_KI_M_T4.avi\n",
      "Duration of video [s]:  12.27 , recorded with  15.0 fps!\n",
      "Overall # of frames:  184  found with (before cropping) frame dimensions:  1280 720\n",
      "Starting to extract posture\n"
     ]
    },
    {
     "name": "stderr",
     "output_type": "stream",
     "text": [
      " 98%|██████████████████████████████████████████████████████████████████████████████▎ | 180/184 [00:04<00:00, 40.00it/s]\n"
     ]
    },
    {
     "name": "stdout",
     "output_type": "stream",
     "text": [
      "Saving results in C:\\Users\\UCPH\\gabi\\thesis analysis\\test2...\n",
      "Saving csv poses!\n",
      "Starting to analyze %  C:\\Users\\UCPH\\gabi\\thesis analysis\\test2\\1_POST_BB_17_H0,4_KI_M_T1.avi\n",
      "Loading  C:\\Users\\UCPH\\gabi\\thesis analysis\\test2\\1_POST_BB_17_H0,4_KI_M_T1.avi\n",
      "Duration of video [s]:  6.67 , recorded with  15.0 fps!\n",
      "Overall # of frames:  100  found with (before cropping) frame dimensions:  1280 720\n",
      "Starting to extract posture\n"
     ]
    },
    {
     "name": "stderr",
     "output_type": "stream",
     "text": [
      "100%|████████████████████████████████████████████████████████████████████████████████| 100/100 [00:02<00:00, 39.41it/s]\n"
     ]
    },
    {
     "name": "stdout",
     "output_type": "stream",
     "text": [
      "Saving results in C:\\Users\\UCPH\\gabi\\thesis analysis\\test2...\n",
      "Saving csv poses!\n",
      "Starting to analyze %  C:\\Users\\UCPH\\gabi\\thesis analysis\\test2\\1_POST_BB_17_H0,4_KI_M_T2.avi\n",
      "Loading  C:\\Users\\UCPH\\gabi\\thesis analysis\\test2\\1_POST_BB_17_H0,4_KI_M_T2.avi\n",
      "Duration of video [s]:  9.27 , recorded with  15.0 fps!\n",
      "Overall # of frames:  139  found with (before cropping) frame dimensions:  1280 720\n",
      "Starting to extract posture\n"
     ]
    },
    {
     "name": "stderr",
     "output_type": "stream",
     "text": [
      " 94%|██████████████████████████████████████████████████████████████████████████▊     | 130/139 [00:03<00:00, 37.06it/s]\n"
     ]
    },
    {
     "name": "stdout",
     "output_type": "stream",
     "text": [
      "Saving results in C:\\Users\\UCPH\\gabi\\thesis analysis\\test2...\n",
      "Saving csv poses!\n",
      "Starting to analyze %  C:\\Users\\UCPH\\gabi\\thesis analysis\\test2\\1_POST_BB_17_H0,4_KI_M_T3.avi\n",
      "Loading  C:\\Users\\UCPH\\gabi\\thesis analysis\\test2\\1_POST_BB_17_H0,4_KI_M_T3.avi\n",
      "Duration of video [s]:  10.47 , recorded with  15.0 fps!\n",
      "Overall # of frames:  157  found with (before cropping) frame dimensions:  1280 720\n",
      "Starting to extract posture\n"
     ]
    },
    {
     "name": "stderr",
     "output_type": "stream",
     "text": [
      " 96%|████████████████████████████████████████████████████████████████████████████▍   | 150/157 [00:03<00:00, 38.55it/s]\n"
     ]
    },
    {
     "name": "stdout",
     "output_type": "stream",
     "text": [
      "Saving results in C:\\Users\\UCPH\\gabi\\thesis analysis\\test2...\n",
      "Saving csv poses!\n",
      "Starting to analyze %  C:\\Users\\UCPH\\gabi\\thesis analysis\\test2\\1_POST_BB_17_H0,4_KI_M_T4.avi\n",
      "Loading  C:\\Users\\UCPH\\gabi\\thesis analysis\\test2\\1_POST_BB_17_H0,4_KI_M_T4.avi\n",
      "Duration of video [s]:  12.47 , recorded with  15.0 fps!\n",
      "Overall # of frames:  187  found with (before cropping) frame dimensions:  1280 720\n",
      "Starting to extract posture\n"
     ]
    },
    {
     "name": "stderr",
     "output_type": "stream",
     "text": [
      " 96%|█████████████████████████████████████████████████████████████████████████████   | 180/187 [00:04<00:00, 38.62it/s]\n"
     ]
    },
    {
     "name": "stdout",
     "output_type": "stream",
     "text": [
      "Saving results in C:\\Users\\UCPH\\gabi\\thesis analysis\\test2...\n",
      "Saving csv poses!\n",
      "Starting to analyze %  C:\\Users\\UCPH\\gabi\\thesis analysis\\test2\\1_POST_BB_17_H0,8_KI_M_T1.avi\n",
      "Loading  C:\\Users\\UCPH\\gabi\\thesis analysis\\test2\\1_POST_BB_17_H0,8_KI_M_T1.avi\n",
      "Duration of video [s]:  8.87 , recorded with  15.0 fps!\n",
      "Overall # of frames:  133  found with (before cropping) frame dimensions:  1280 720\n",
      "Starting to extract posture\n"
     ]
    },
    {
     "name": "stderr",
     "output_type": "stream",
     "text": [
      " 98%|██████████████████████████████████████████████████████████████████████████████▏ | 130/133 [00:03<00:00, 39.30it/s]\n"
     ]
    },
    {
     "name": "stdout",
     "output_type": "stream",
     "text": [
      "Saving results in C:\\Users\\UCPH\\gabi\\thesis analysis\\test2...\n",
      "Saving csv poses!\n",
      "Starting to analyze %  C:\\Users\\UCPH\\gabi\\thesis analysis\\test2\\1_POST_BB_17_H0,8_KI_M_T2.avi\n",
      "Loading  C:\\Users\\UCPH\\gabi\\thesis analysis\\test2\\1_POST_BB_17_H0,8_KI_M_T2.avi\n",
      "Duration of video [s]:  10.67 , recorded with  15.0 fps!\n",
      "Overall # of frames:  160  found with (before cropping) frame dimensions:  1280 720\n",
      "Starting to extract posture\n"
     ]
    },
    {
     "name": "stderr",
     "output_type": "stream",
     "text": [
      "100%|████████████████████████████████████████████████████████████████████████████████| 160/160 [00:03<00:00, 41.01it/s]\n"
     ]
    },
    {
     "name": "stdout",
     "output_type": "stream",
     "text": [
      "Saving results in C:\\Users\\UCPH\\gabi\\thesis analysis\\test2...\n",
      "Saving csv poses!\n",
      "Starting to analyze %  C:\\Users\\UCPH\\gabi\\thesis analysis\\test2\\1_POST_BB_17_H0,8_KI_M_T3.avi\n",
      "Loading  C:\\Users\\UCPH\\gabi\\thesis analysis\\test2\\1_POST_BB_17_H0,8_KI_M_T3.avi\n",
      "Duration of video [s]:  13.07 , recorded with  15.0 fps!\n",
      "Overall # of frames:  196  found with (before cropping) frame dimensions:  1280 720\n",
      "Starting to extract posture\n"
     ]
    },
    {
     "name": "stderr",
     "output_type": "stream",
     "text": [
      " 97%|█████████████████████████████████████████████████████████████████████████████▌  | 190/196 [00:04<00:00, 39.06it/s]\n"
     ]
    },
    {
     "name": "stdout",
     "output_type": "stream",
     "text": [
      "Saving results in C:\\Users\\UCPH\\gabi\\thesis analysis\\test2...\n",
      "Saving csv poses!\n",
      "Starting to analyze %  C:\\Users\\UCPH\\gabi\\thesis analysis\\test2\\1_POST_BB_17_H0,8_KI_M_T4.avi\n",
      "Loading  C:\\Users\\UCPH\\gabi\\thesis analysis\\test2\\1_POST_BB_17_H0,8_KI_M_T4.avi\n",
      "Duration of video [s]:  180.07 , recorded with  15.0 fps!\n",
      "Overall # of frames:  2701  found with (before cropping) frame dimensions:  1280 720\n",
      "Starting to extract posture\n"
     ]
    },
    {
     "name": "stderr",
     "output_type": "stream",
     "text": [
      "100%|█████████████████████████████████████████████████████████████████████████████▉| 2700/2701 [01:05<00:00, 41.29it/s]\n"
     ]
    },
    {
     "name": "stdout",
     "output_type": "stream",
     "text": [
      "Saving results in C:\\Users\\UCPH\\gabi\\thesis analysis\\test2...\n",
      "Saving csv poses!\n",
      "Starting to analyze %  C:\\Users\\UCPH\\gabi\\thesis analysis\\test2\\1_POST_BB_19_H0,2_HET_M_T1.avi\n",
      "Loading  C:\\Users\\UCPH\\gabi\\thesis analysis\\test2\\1_POST_BB_19_H0,2_HET_M_T1.avi\n",
      "Duration of video [s]:  4.27 , recorded with  15.0 fps!\n",
      "Overall # of frames:  64  found with (before cropping) frame dimensions:  1280 720\n",
      "Starting to extract posture\n"
     ]
    },
    {
     "name": "stderr",
     "output_type": "stream",
     "text": [
      " 94%|████████████████████████████████████████████████████████████████████████████▉     | 60/64 [00:01<00:00, 37.82it/s]\n"
     ]
    },
    {
     "name": "stdout",
     "output_type": "stream",
     "text": [
      "Saving results in C:\\Users\\UCPH\\gabi\\thesis analysis\\test2...\n",
      "Saving csv poses!\n",
      "Starting to analyze %  C:\\Users\\UCPH\\gabi\\thesis analysis\\test2\\1_POST_BB_19_H0,2_HET_M_T2.avi\n",
      "Loading  C:\\Users\\UCPH\\gabi\\thesis analysis\\test2\\1_POST_BB_19_H0,2_HET_M_T2.avi\n",
      "Duration of video [s]:  4.53 , recorded with  15.0 fps!\n",
      "Overall # of frames:  68  found with (before cropping) frame dimensions:  1280 720\n",
      "Starting to extract posture\n"
     ]
    },
    {
     "name": "stderr",
     "output_type": "stream",
     "text": [
      " 88%|████████████████████████████████████████████████████████████████████████▎         | 60/68 [00:01<00:00, 34.02it/s]\n"
     ]
    },
    {
     "name": "stdout",
     "output_type": "stream",
     "text": [
      "Saving results in C:\\Users\\UCPH\\gabi\\thesis analysis\\test2...\n",
      "Saving csv poses!\n",
      "Starting to analyze %  C:\\Users\\UCPH\\gabi\\thesis analysis\\test2\\1_POST_BB_19_H0,2_HET_M_T3.avi\n",
      "Loading  C:\\Users\\UCPH\\gabi\\thesis analysis\\test2\\1_POST_BB_19_H0,2_HET_M_T3.avi\n",
      "Duration of video [s]:  4.93 , recorded with  15.0 fps!\n",
      "Overall # of frames:  74  found with (before cropping) frame dimensions:  1280 720\n",
      "Starting to extract posture\n"
     ]
    },
    {
     "name": "stderr",
     "output_type": "stream",
     "text": [
      " 95%|█████████████████████████████████████████████████████████████████████████████▌    | 70/74 [00:01<00:00, 35.94it/s]\n"
     ]
    },
    {
     "name": "stdout",
     "output_type": "stream",
     "text": [
      "Saving results in C:\\Users\\UCPH\\gabi\\thesis analysis\\test2...\n",
      "Saving csv poses!\n",
      "Starting to analyze %  C:\\Users\\UCPH\\gabi\\thesis analysis\\test2\\1_POST_BB_19_H0,2_HET_M_T4.avi\n",
      "Loading  C:\\Users\\UCPH\\gabi\\thesis analysis\\test2\\1_POST_BB_19_H0,2_HET_M_T4.avi\n",
      "Duration of video [s]:  7.07 , recorded with  15.0 fps!\n",
      "Overall # of frames:  106  found with (before cropping) frame dimensions:  1280 720\n",
      "Starting to extract posture\n"
     ]
    },
    {
     "name": "stderr",
     "output_type": "stream",
     "text": [
      " 94%|███████████████████████████████████████████████████████████████████████████▍    | 100/106 [00:02<00:00, 36.79it/s]\n"
     ]
    },
    {
     "name": "stdout",
     "output_type": "stream",
     "text": [
      "Saving results in C:\\Users\\UCPH\\gabi\\thesis analysis\\test2...\n",
      "Saving csv poses!\n",
      "Starting to analyze %  C:\\Users\\UCPH\\gabi\\thesis analysis\\test2\\1_POST_BB_19_H0,4_HET_M_T1.avi\n",
      "Loading  C:\\Users\\UCPH\\gabi\\thesis analysis\\test2\\1_POST_BB_19_H0,4_HET_M_T1.avi\n",
      "Duration of video [s]:  5.47 , recorded with  15.0 fps!\n",
      "Overall # of frames:  82  found with (before cropping) frame dimensions:  1280 720\n",
      "Starting to extract posture\n"
     ]
    },
    {
     "name": "stderr",
     "output_type": "stream",
     "text": [
      " 98%|████████████████████████████████████████████████████████████████████████████████  | 80/82 [00:02<00:00, 37.28it/s]\n"
     ]
    },
    {
     "name": "stdout",
     "output_type": "stream",
     "text": [
      "Saving results in C:\\Users\\UCPH\\gabi\\thesis analysis\\test2...\n",
      "Saving csv poses!\n",
      "Starting to analyze %  C:\\Users\\UCPH\\gabi\\thesis analysis\\test2\\1_POST_BB_19_H0,4_HET_M_T2.avi\n",
      "Loading  C:\\Users\\UCPH\\gabi\\thesis analysis\\test2\\1_POST_BB_19_H0,4_HET_M_T2.avi\n",
      "Duration of video [s]:  7.87 , recorded with  15.0 fps!\n",
      "Overall # of frames:  118  found with (before cropping) frame dimensions:  1280 720\n",
      "Starting to extract posture\n"
     ]
    },
    {
     "name": "stderr",
     "output_type": "stream",
     "text": [
      " 93%|██████████████████████████████████████████████████████████████████████████▌     | 110/118 [00:02<00:00, 37.37it/s]\n"
     ]
    },
    {
     "name": "stdout",
     "output_type": "stream",
     "text": [
      "Saving results in C:\\Users\\UCPH\\gabi\\thesis analysis\\test2...\n",
      "Saving csv poses!\n",
      "Starting to analyze %  C:\\Users\\UCPH\\gabi\\thesis analysis\\test2\\1_POST_BB_19_H0,4_HET_M_T3.avi\n",
      "Loading  C:\\Users\\UCPH\\gabi\\thesis analysis\\test2\\1_POST_BB_19_H0,4_HET_M_T3.avi\n",
      "Duration of video [s]:  11.27 , recorded with  15.0 fps!\n",
      "Overall # of frames:  169  found with (before cropping) frame dimensions:  1280 720\n",
      "Starting to extract posture\n"
     ]
    },
    {
     "name": "stderr",
     "output_type": "stream",
     "text": [
      " 95%|███████████████████████████████████████████████████████████████████████████▋    | 160/169 [00:04<00:00, 39.10it/s]\n"
     ]
    },
    {
     "name": "stdout",
     "output_type": "stream",
     "text": [
      "Saving results in C:\\Users\\UCPH\\gabi\\thesis analysis\\test2...\n",
      "Saving csv poses!\n",
      "Starting to analyze %  C:\\Users\\UCPH\\gabi\\thesis analysis\\test2\\1_POST_BB_19_H0,4_HET_M_T4.avi\n",
      "Loading  C:\\Users\\UCPH\\gabi\\thesis analysis\\test2\\1_POST_BB_19_H0,4_HET_M_T4.avi\n",
      "Duration of video [s]:  16.27 , recorded with  15.0 fps!\n",
      "Overall # of frames:  244  found with (before cropping) frame dimensions:  1280 720\n",
      "Starting to extract posture\n"
     ]
    },
    {
     "name": "stderr",
     "output_type": "stream",
     "text": [
      " 98%|██████████████████████████████████████████████████████████████████████████████▋ | 240/244 [00:06<00:00, 39.76it/s]\n"
     ]
    },
    {
     "name": "stdout",
     "output_type": "stream",
     "text": [
      "Saving results in C:\\Users\\UCPH\\gabi\\thesis analysis\\test2...\n",
      "Saving csv poses!\n",
      "Starting to analyze %  C:\\Users\\UCPH\\gabi\\thesis analysis\\test2\\1_POST_BB_19_H0,8_HET_M_T1.avi\n",
      "Loading  C:\\Users\\UCPH\\gabi\\thesis analysis\\test2\\1_POST_BB_19_H0,8_HET_M_T1.avi\n",
      "Duration of video [s]:  8.2 , recorded with  15.0 fps!\n",
      "Overall # of frames:  123  found with (before cropping) frame dimensions:  1280 720\n",
      "Starting to extract posture\n"
     ]
    },
    {
     "name": "stderr",
     "output_type": "stream",
     "text": [
      " 98%|██████████████████████████████████████████████████████████████████████████████  | 120/123 [00:03<00:00, 38.75it/s]\n"
     ]
    },
    {
     "name": "stdout",
     "output_type": "stream",
     "text": [
      "Saving results in C:\\Users\\UCPH\\gabi\\thesis analysis\\test2...\n",
      "Saving csv poses!\n",
      "Starting to analyze %  C:\\Users\\UCPH\\gabi\\thesis analysis\\test2\\1_POST_BB_19_H0,8_HET_M_T2.avi\n",
      "Loading  C:\\Users\\UCPH\\gabi\\thesis analysis\\test2\\1_POST_BB_19_H0,8_HET_M_T2.avi\n",
      "Duration of video [s]:  180.07 , recorded with  15.0 fps!\n",
      "Overall # of frames:  2701  found with (before cropping) frame dimensions:  1280 720\n",
      "Starting to extract posture\n"
     ]
    },
    {
     "name": "stderr",
     "output_type": "stream",
     "text": [
      "100%|█████████████████████████████████████████████████████████████████████████████▉| 2700/2701 [01:05<00:00, 41.35it/s]\n"
     ]
    },
    {
     "name": "stdout",
     "output_type": "stream",
     "text": [
      "Saving results in C:\\Users\\UCPH\\gabi\\thesis analysis\\test2...\n",
      "Saving csv poses!\n",
      "Starting to analyze %  C:\\Users\\UCPH\\gabi\\thesis analysis\\test2\\1_POST_BB_19_H0,8_HET_M_T3.avi\n",
      "Loading  C:\\Users\\UCPH\\gabi\\thesis analysis\\test2\\1_POST_BB_19_H0,8_HET_M_T3.avi\n",
      "Duration of video [s]:  13.47 , recorded with  15.0 fps!\n",
      "Overall # of frames:  202  found with (before cropping) frame dimensions:  1280 720\n",
      "Starting to extract posture\n"
     ]
    },
    {
     "name": "stderr",
     "output_type": "stream",
     "text": [
      " 99%|███████████████████████████████████████████████████████████████████████████████▏| 200/202 [00:05<00:00, 39.42it/s]\n"
     ]
    },
    {
     "name": "stdout",
     "output_type": "stream",
     "text": [
      "Saving results in C:\\Users\\UCPH\\gabi\\thesis analysis\\test2...\n",
      "Saving csv poses!\n",
      "Starting to analyze %  C:\\Users\\UCPH\\gabi\\thesis analysis\\test2\\1_POST_BB_19_H0,8_HET_M_T4.avi\n",
      "Loading  C:\\Users\\UCPH\\gabi\\thesis analysis\\test2\\1_POST_BB_19_H0,8_HET_M_T4.avi\n",
      "Duration of video [s]:  180.07 , recorded with  15.0 fps!\n",
      "Overall # of frames:  2701  found with (before cropping) frame dimensions:  1280 720\n",
      "Starting to extract posture\n"
     ]
    },
    {
     "name": "stderr",
     "output_type": "stream",
     "text": [
      "100%|█████████████████████████████████████████████████████████████████████████████▉| 2700/2701 [01:05<00:00, 41.21it/s]\n"
     ]
    },
    {
     "name": "stdout",
     "output_type": "stream",
     "text": [
      "Saving results in C:\\Users\\UCPH\\gabi\\thesis analysis\\test2...\n",
      "Saving csv poses!\n",
      "Starting to analyze %  C:\\Users\\UCPH\\gabi\\thesis analysis\\test2\\1_POST_BB_20_H0,2_KI_F_T1.avi\n",
      "Loading  C:\\Users\\UCPH\\gabi\\thesis analysis\\test2\\1_POST_BB_20_H0,2_KI_F_T1.avi\n",
      "Duration of video [s]:  3.87 , recorded with  15.0 fps!\n",
      "Overall # of frames:  58  found with (before cropping) frame dimensions:  1280 720\n",
      "Starting to extract posture\n"
     ]
    },
    {
     "name": "stderr",
     "output_type": "stream",
     "text": [
      " 86%|██████████████████████████████████████████████████████████████████████▋           | 50/58 [00:01<00:00, 32.00it/s]\n"
     ]
    },
    {
     "name": "stdout",
     "output_type": "stream",
     "text": [
      "Saving results in C:\\Users\\UCPH\\gabi\\thesis analysis\\test2...\n",
      "Saving csv poses!\n",
      "Starting to analyze %  C:\\Users\\UCPH\\gabi\\thesis analysis\\test2\\1_POST_BB_20_H0,2_KI_F_T2.avi\n",
      "Loading  C:\\Users\\UCPH\\gabi\\thesis analysis\\test2\\1_POST_BB_20_H0,2_KI_F_T2.avi\n",
      "Duration of video [s]:  3.07 , recorded with  15.0 fps!\n",
      "Overall # of frames:  46  found with (before cropping) frame dimensions:  1280 720\n",
      "Starting to extract posture\n"
     ]
    },
    {
     "name": "stderr",
     "output_type": "stream",
     "text": [
      " 87%|███████████████████████████████████████████████████████████████████████▎          | 40/46 [00:01<00:00, 33.89it/s]\n"
     ]
    },
    {
     "name": "stdout",
     "output_type": "stream",
     "text": [
      "Saving results in C:\\Users\\UCPH\\gabi\\thesis analysis\\test2...\n",
      "Saving csv poses!\n",
      "Starting to analyze %  C:\\Users\\UCPH\\gabi\\thesis analysis\\test2\\1_POST_BB_20_H0,2_KI_F_T3.avi\n",
      "Loading  C:\\Users\\UCPH\\gabi\\thesis analysis\\test2\\1_POST_BB_20_H0,2_KI_F_T3.avi\n",
      "Duration of video [s]:  6.07 , recorded with  15.0 fps!\n",
      "Overall # of frames:  91  found with (before cropping) frame dimensions:  1280 720\n",
      "Starting to extract posture\n"
     ]
    },
    {
     "name": "stderr",
     "output_type": "stream",
     "text": [
      " 99%|█████████████████████████████████████████████████████████████████████████████████ | 90/91 [00:02<00:00, 38.43it/s]\n"
     ]
    },
    {
     "name": "stdout",
     "output_type": "stream",
     "text": [
      "Saving results in C:\\Users\\UCPH\\gabi\\thesis analysis\\test2...\n",
      "Saving csv poses!\n",
      "Starting to analyze %  C:\\Users\\UCPH\\gabi\\thesis analysis\\test2\\1_POST_BB_20_H0,2_KI_F_T4.avi\n",
      "Loading  C:\\Users\\UCPH\\gabi\\thesis analysis\\test2\\1_POST_BB_20_H0,2_KI_F_T4.avi\n",
      "Duration of video [s]:  4.27 , recorded with  15.0 fps!\n",
      "Overall # of frames:  64  found with (before cropping) frame dimensions:  1280 720\n",
      "Starting to extract posture\n"
     ]
    },
    {
     "name": "stderr",
     "output_type": "stream",
     "text": [
      " 94%|████████████████████████████████████████████████████████████████████████████▉     | 60/64 [00:01<00:00, 37.83it/s]\n"
     ]
    },
    {
     "name": "stdout",
     "output_type": "stream",
     "text": [
      "Saving results in C:\\Users\\UCPH\\gabi\\thesis analysis\\test2...\n",
      "Saving csv poses!\n",
      "Starting to analyze %  C:\\Users\\UCPH\\gabi\\thesis analysis\\test2\\1_POST_BB_20_H0,4_KI_F_T1.avi\n",
      "Loading  C:\\Users\\UCPH\\gabi\\thesis analysis\\test2\\1_POST_BB_20_H0,4_KI_F_T1.avi\n",
      "Duration of video [s]:  5.07 , recorded with  15.0 fps!\n",
      "Overall # of frames:  76  found with (before cropping) frame dimensions:  1280 720\n",
      "Starting to extract posture\n"
     ]
    },
    {
     "name": "stderr",
     "output_type": "stream",
     "text": [
      " 92%|███████████████████████████████████████████████████████████████████████████▌      | 70/76 [00:01<00:00, 35.73it/s]\n"
     ]
    },
    {
     "name": "stdout",
     "output_type": "stream",
     "text": [
      "Saving results in C:\\Users\\UCPH\\gabi\\thesis analysis\\test2...\n",
      "Saving csv poses!\n",
      "Starting to analyze %  C:\\Users\\UCPH\\gabi\\thesis analysis\\test2\\1_POST_BB_20_H0,4_KI_F_T2.avi\n",
      "Loading  C:\\Users\\UCPH\\gabi\\thesis analysis\\test2\\1_POST_BB_20_H0,4_KI_F_T2.avi\n",
      "Duration of video [s]:  4.67 , recorded with  15.0 fps!\n",
      "Overall # of frames:  70  found with (before cropping) frame dimensions:  1280 720\n",
      "Starting to extract posture\n"
     ]
    },
    {
     "name": "stderr",
     "output_type": "stream",
     "text": [
      "100%|██████████████████████████████████████████████████████████████████████████████████| 70/70 [00:01<00:00, 39.71it/s]\n"
     ]
    },
    {
     "name": "stdout",
     "output_type": "stream",
     "text": [
      "Saving results in C:\\Users\\UCPH\\gabi\\thesis analysis\\test2...\n",
      "Saving csv poses!\n",
      "Starting to analyze %  C:\\Users\\UCPH\\gabi\\thesis analysis\\test2\\1_POST_BB_20_H0,4_KI_F_T3.avi\n",
      "Loading  C:\\Users\\UCPH\\gabi\\thesis analysis\\test2\\1_POST_BB_20_H0,4_KI_F_T3.avi\n",
      "Duration of video [s]:  5.67 , recorded with  15.0 fps!\n",
      "Overall # of frames:  85  found with (before cropping) frame dimensions:  1280 720\n",
      "Starting to extract posture\n"
     ]
    },
    {
     "name": "stderr",
     "output_type": "stream",
     "text": [
      " 94%|█████████████████████████████████████████████████████████████████████████████▏    | 80/85 [00:02<00:00, 37.21it/s]\n"
     ]
    },
    {
     "name": "stdout",
     "output_type": "stream",
     "text": [
      "Saving results in C:\\Users\\UCPH\\gabi\\thesis analysis\\test2...\n",
      "Saving csv poses!\n",
      "Starting to analyze %  C:\\Users\\UCPH\\gabi\\thesis analysis\\test2\\1_POST_BB_20_H0,4_KI_F_T4.avi\n",
      "Loading  C:\\Users\\UCPH\\gabi\\thesis analysis\\test2\\1_POST_BB_20_H0,4_KI_F_T4.avi\n",
      "Duration of video [s]:  11.27 , recorded with  15.0 fps!\n",
      "Overall # of frames:  169  found with (before cropping) frame dimensions:  1280 720\n",
      "Starting to extract posture\n"
     ]
    },
    {
     "name": "stderr",
     "output_type": "stream",
     "text": [
      " 95%|███████████████████████████████████████████████████████████████████████████▋    | 160/169 [00:04<00:00, 37.37it/s]\n"
     ]
    },
    {
     "name": "stdout",
     "output_type": "stream",
     "text": [
      "Saving results in C:\\Users\\UCPH\\gabi\\thesis analysis\\test2...\n",
      "Saving csv poses!\n",
      "Starting to analyze %  C:\\Users\\UCPH\\gabi\\thesis analysis\\test2\\1_POST_BB_20_H0,8_KI_F_T1.avi\n",
      "Loading  C:\\Users\\UCPH\\gabi\\thesis analysis\\test2\\1_POST_BB_20_H0,8_KI_F_T1.avi\n",
      "Duration of video [s]:  6.8 , recorded with  15.0 fps!\n",
      "Overall # of frames:  102  found with (before cropping) frame dimensions:  1280 720\n",
      "Starting to extract posture\n"
     ]
    },
    {
     "name": "stderr",
     "output_type": "stream",
     "text": [
      " 98%|██████████████████████████████████████████████████████████████████████████████▍ | 100/102 [00:02<00:00, 39.31it/s]\n"
     ]
    },
    {
     "name": "stdout",
     "output_type": "stream",
     "text": [
      "Saving results in C:\\Users\\UCPH\\gabi\\thesis analysis\\test2...\n",
      "Saving csv poses!\n",
      "Starting to analyze %  C:\\Users\\UCPH\\gabi\\thesis analysis\\test2\\1_POST_BB_20_H0,8_KI_F_T2.avi\n",
      "Loading  C:\\Users\\UCPH\\gabi\\thesis analysis\\test2\\1_POST_BB_20_H0,8_KI_F_T2.avi\n",
      "Duration of video [s]:  8.87 , recorded with  15.0 fps!\n",
      "Overall # of frames:  133  found with (before cropping) frame dimensions:  1280 720\n",
      "Starting to extract posture\n"
     ]
    },
    {
     "name": "stderr",
     "output_type": "stream",
     "text": [
      " 98%|██████████████████████████████████████████████████████████████████████████████▏ | 130/133 [00:03<00:00, 38.99it/s]\n"
     ]
    },
    {
     "name": "stdout",
     "output_type": "stream",
     "text": [
      "Saving results in C:\\Users\\UCPH\\gabi\\thesis analysis\\test2...\n",
      "Saving csv poses!\n",
      "Starting to analyze %  C:\\Users\\UCPH\\gabi\\thesis analysis\\test2\\1_POST_BB_20_H0,8_KI_F_T3.avi\n",
      "Loading  C:\\Users\\UCPH\\gabi\\thesis analysis\\test2\\1_POST_BB_20_H0,8_KI_F_T3.avi\n",
      "Duration of video [s]:  15.27 , recorded with  15.0 fps!\n",
      "Overall # of frames:  229  found with (before cropping) frame dimensions:  1280 720\n",
      "Starting to extract posture\n"
     ]
    },
    {
     "name": "stderr",
     "output_type": "stream",
     "text": [
      " 96%|████████████████████████████████████████████████████████████████████████████▊   | 220/229 [00:05<00:00, 38.84it/s]\n"
     ]
    },
    {
     "name": "stdout",
     "output_type": "stream",
     "text": [
      "Saving results in C:\\Users\\UCPH\\gabi\\thesis analysis\\test2...\n",
      "Saving csv poses!\n",
      "Starting to analyze %  C:\\Users\\UCPH\\gabi\\thesis analysis\\test2\\1_POST_BB_20_H0,8_KI_F_T4.avi\n",
      "Loading  C:\\Users\\UCPH\\gabi\\thesis analysis\\test2\\1_POST_BB_20_H0,8_KI_F_T4.avi\n",
      "Duration of video [s]:  15.07 , recorded with  15.0 fps!\n",
      "Overall # of frames:  226  found with (before cropping) frame dimensions:  1280 720\n",
      "Starting to extract posture\n"
     ]
    },
    {
     "name": "stderr",
     "output_type": "stream",
     "text": [
      " 97%|█████████████████████████████████████████████████████████████████████████████▉  | 220/226 [00:05<00:00, 38.95it/s]\n"
     ]
    },
    {
     "name": "stdout",
     "output_type": "stream",
     "text": [
      "Saving results in C:\\Users\\UCPH\\gabi\\thesis analysis\\test2...\n",
      "Saving csv poses!\n",
      "Starting to analyze %  C:\\Users\\UCPH\\gabi\\thesis analysis\\test2\\1_POST_BB_24_H0,2_KI_F_T1.avi\n",
      "Loading  C:\\Users\\UCPH\\gabi\\thesis analysis\\test2\\1_POST_BB_24_H0,2_KI_F_T1.avi\n",
      "Duration of video [s]:  5.47 , recorded with  15.0 fps!\n",
      "Overall # of frames:  82  found with (before cropping) frame dimensions:  1280 720\n",
      "Starting to extract posture\n"
     ]
    },
    {
     "name": "stderr",
     "output_type": "stream",
     "text": [
      " 98%|████████████████████████████████████████████████████████████████████████████████  | 80/82 [00:02<00:00, 37.46it/s]\n"
     ]
    },
    {
     "name": "stdout",
     "output_type": "stream",
     "text": [
      "Saving results in C:\\Users\\UCPH\\gabi\\thesis analysis\\test2...\n",
      "Saving csv poses!\n",
      "Starting to analyze %  C:\\Users\\UCPH\\gabi\\thesis analysis\\test2\\1_POST_BB_24_H0,2_KI_F_T2.avi\n",
      "Loading  C:\\Users\\UCPH\\gabi\\thesis analysis\\test2\\1_POST_BB_24_H0,2_KI_F_T2.avi\n",
      "Duration of video [s]:  3.47 , recorded with  15.0 fps!\n",
      "Overall # of frames:  52  found with (before cropping) frame dimensions:  1280 720\n",
      "Starting to extract posture\n"
     ]
    },
    {
     "name": "stderr",
     "output_type": "stream",
     "text": [
      " 96%|██████████████████████████████████████████████████████████████████████████████▊   | 50/52 [00:01<00:00, 36.44it/s]\n"
     ]
    },
    {
     "name": "stdout",
     "output_type": "stream",
     "text": [
      "Saving results in C:\\Users\\UCPH\\gabi\\thesis analysis\\test2...\n",
      "Saving csv poses!\n",
      "Starting to analyze %  C:\\Users\\UCPH\\gabi\\thesis analysis\\test2\\1_POST_BB_24_H0,2_KI_F_T3.avi\n",
      "Loading  C:\\Users\\UCPH\\gabi\\thesis analysis\\test2\\1_POST_BB_24_H0,2_KI_F_T3.avi\n",
      "Duration of video [s]:  3.67 , recorded with  15.0 fps!\n",
      "Overall # of frames:  55  found with (before cropping) frame dimensions:  1280 720\n",
      "Starting to extract posture\n"
     ]
    },
    {
     "name": "stderr",
     "output_type": "stream",
     "text": [
      " 91%|██████████████████████████████████████████████████████████████████████████▌       | 50/55 [00:01<00:00, 36.28it/s]\n"
     ]
    },
    {
     "name": "stdout",
     "output_type": "stream",
     "text": [
      "Saving results in C:\\Users\\UCPH\\gabi\\thesis analysis\\test2...\n",
      "Saving csv poses!\n",
      "Starting to analyze %  C:\\Users\\UCPH\\gabi\\thesis analysis\\test2\\1_POST_BB_24_H0,2_KI_F_T4.avi\n",
      "Loading  C:\\Users\\UCPH\\gabi\\thesis analysis\\test2\\1_POST_BB_24_H0,2_KI_F_T4.avi\n",
      "Duration of video [s]:  3.67 , recorded with  15.0 fps!\n",
      "Overall # of frames:  55  found with (before cropping) frame dimensions:  1280 720\n",
      "Starting to extract posture\n"
     ]
    },
    {
     "name": "stderr",
     "output_type": "stream",
     "text": [
      " 91%|██████████████████████████████████████████████████████████████████████████▌       | 50/55 [00:01<00:00, 36.19it/s]\n"
     ]
    },
    {
     "name": "stdout",
     "output_type": "stream",
     "text": [
      "Saving results in C:\\Users\\UCPH\\gabi\\thesis analysis\\test2...\n",
      "Saving csv poses!\n",
      "Starting to analyze %  C:\\Users\\UCPH\\gabi\\thesis analysis\\test2\\1_POST_BB_24_H0,4_KI_F_T1.avi\n",
      "Loading  C:\\Users\\UCPH\\gabi\\thesis analysis\\test2\\1_POST_BB_24_H0,4_KI_F_T1.avi\n",
      "Duration of video [s]:  5.6 , recorded with  15.0 fps!\n",
      "Overall # of frames:  84  found with (before cropping) frame dimensions:  1280 720\n",
      "Starting to extract posture\n"
     ]
    },
    {
     "name": "stderr",
     "output_type": "stream",
     "text": [
      " 95%|██████████████████████████████████████████████████████████████████████████████    | 80/84 [00:02<00:00, 37.28it/s]\n"
     ]
    },
    {
     "name": "stdout",
     "output_type": "stream",
     "text": [
      "Saving results in C:\\Users\\UCPH\\gabi\\thesis analysis\\test2...\n",
      "Saving csv poses!\n",
      "Starting to analyze %  C:\\Users\\UCPH\\gabi\\thesis analysis\\test2\\1_POST_BB_24_H0,4_KI_F_T2.avi\n",
      "Loading  C:\\Users\\UCPH\\gabi\\thesis analysis\\test2\\1_POST_BB_24_H0,4_KI_F_T2.avi\n",
      "Duration of video [s]:  3.27 , recorded with  15.0 fps!\n",
      "Overall # of frames:  49  found with (before cropping) frame dimensions:  1280 720\n",
      "Starting to extract posture\n"
     ]
    },
    {
     "name": "stderr",
     "output_type": "stream",
     "text": [
      " 82%|██████████████████████████████████████████████████████████████████▉               | 40/49 [00:01<00:00, 29.23it/s]\n"
     ]
    },
    {
     "name": "stdout",
     "output_type": "stream",
     "text": [
      "Saving results in C:\\Users\\UCPH\\gabi\\thesis analysis\\test2...\n",
      "Saving csv poses!\n",
      "Starting to analyze %  C:\\Users\\UCPH\\gabi\\thesis analysis\\test2\\1_POST_BB_24_H0,4_KI_F_T3.avi\n",
      "Loading  C:\\Users\\UCPH\\gabi\\thesis analysis\\test2\\1_POST_BB_24_H0,4_KI_F_T3.avi\n",
      "Duration of video [s]:  15.47 , recorded with  15.0 fps!\n",
      "Overall # of frames:  232  found with (before cropping) frame dimensions:  1280 720\n",
      "Starting to extract posture\n"
     ]
    },
    {
     "name": "stderr",
     "output_type": "stream",
     "text": [
      " 99%|███████████████████████████████████████████████████████████████████████████████▎| 230/232 [00:05<00:00, 40.72it/s]\n"
     ]
    },
    {
     "name": "stdout",
     "output_type": "stream",
     "text": [
      "Saving results in C:\\Users\\UCPH\\gabi\\thesis analysis\\test2...\n",
      "Saving csv poses!\n",
      "Starting to analyze %  C:\\Users\\UCPH\\gabi\\thesis analysis\\test2\\1_POST_BB_24_H0,4_KI_F_T4.avi\n",
      "Loading  C:\\Users\\UCPH\\gabi\\thesis analysis\\test2\\1_POST_BB_24_H0,4_KI_F_T4.avi\n",
      "Duration of video [s]:  9.87 , recorded with  15.0 fps!\n",
      "Overall # of frames:  148  found with (before cropping) frame dimensions:  1280 720\n",
      "Starting to extract posture\n"
     ]
    },
    {
     "name": "stderr",
     "output_type": "stream",
     "text": [
      " 95%|███████████████████████████████████████████████████████████████████████████▋    | 140/148 [00:03<00:00, 37.61it/s]\n"
     ]
    },
    {
     "name": "stdout",
     "output_type": "stream",
     "text": [
      "Saving results in C:\\Users\\UCPH\\gabi\\thesis analysis\\test2...\n",
      "Saving csv poses!\n",
      "Starting to analyze %  C:\\Users\\UCPH\\gabi\\thesis analysis\\test2\\1_POST_BB_24_H0,8_KI_F_T1.avi\n",
      "Loading  C:\\Users\\UCPH\\gabi\\thesis analysis\\test2\\1_POST_BB_24_H0,8_KI_F_T1.avi\n",
      "Duration of video [s]:  7.93 , recorded with  15.0 fps!\n",
      "Overall # of frames:  119  found with (before cropping) frame dimensions:  1280 720\n",
      "Starting to extract posture\n"
     ]
    },
    {
     "name": "stderr",
     "output_type": "stream",
     "text": [
      " 92%|█████████████████████████████████████████████████████████████████████████▉      | 110/119 [00:02<00:00, 37.50it/s]\n"
     ]
    },
    {
     "name": "stdout",
     "output_type": "stream",
     "text": [
      "Saving results in C:\\Users\\UCPH\\gabi\\thesis analysis\\test2...\n",
      "Saving csv poses!\n",
      "Starting to analyze %  C:\\Users\\UCPH\\gabi\\thesis analysis\\test2\\1_POST_BB_24_H0,8_KI_F_T2.avi\n",
      "Loading  C:\\Users\\UCPH\\gabi\\thesis analysis\\test2\\1_POST_BB_24_H0,8_KI_F_T2.avi\n",
      "Duration of video [s]:  4.67 , recorded with  15.0 fps!\n",
      "Overall # of frames:  70  found with (before cropping) frame dimensions:  1280 720\n",
      "Starting to extract posture\n"
     ]
    },
    {
     "name": "stderr",
     "output_type": "stream",
     "text": [
      "100%|██████████████████████████████████████████████████████████████████████████████████| 70/70 [00:01<00:00, 39.71it/s]\n"
     ]
    },
    {
     "name": "stdout",
     "output_type": "stream",
     "text": [
      "Saving results in C:\\Users\\UCPH\\gabi\\thesis analysis\\test2...\n",
      "Saving csv poses!\n",
      "Starting to analyze %  C:\\Users\\UCPH\\gabi\\thesis analysis\\test2\\1_POST_BB_24_H0,8_KI_F_T3.avi\n",
      "Loading  C:\\Users\\UCPH\\gabi\\thesis analysis\\test2\\1_POST_BB_24_H0,8_KI_F_T3.avi\n",
      "Duration of video [s]:  51.27 , recorded with  15.0 fps!\n",
      "Overall # of frames:  769  found with (before cropping) frame dimensions:  1280 720\n",
      "Starting to extract posture\n"
     ]
    },
    {
     "name": "stderr",
     "output_type": "stream",
     "text": [
      " 99%|███████████████████████████████████████████████████████████████████████████████ | 760/769 [00:18<00:00, 40.23it/s]\n"
     ]
    },
    {
     "name": "stdout",
     "output_type": "stream",
     "text": [
      "Saving results in C:\\Users\\UCPH\\gabi\\thesis analysis\\test2...\n",
      "Saving csv poses!\n",
      "Starting to analyze %  C:\\Users\\UCPH\\gabi\\thesis analysis\\test2\\1_POST_BB_24_H0,8_KI_F_T4.avi\n",
      "Loading  C:\\Users\\UCPH\\gabi\\thesis analysis\\test2\\1_POST_BB_24_H0,8_KI_F_T4.avi\n",
      "Duration of video [s]:  41.47 , recorded with  15.0 fps!\n",
      "Overall # of frames:  622  found with (before cropping) frame dimensions:  1280 720\n",
      "Starting to extract posture\n"
     ]
    },
    {
     "name": "stderr",
     "output_type": "stream",
     "text": [
      "100%|███████████████████████████████████████████████████████████████████████████████▋| 620/622 [00:15<00:00, 40.80it/s]\n"
     ]
    },
    {
     "name": "stdout",
     "output_type": "stream",
     "text": [
      "Saving results in C:\\Users\\UCPH\\gabi\\thesis analysis\\test2...\n",
      "Saving csv poses!\n",
      "Starting to analyze %  C:\\Users\\UCPH\\gabi\\thesis analysis\\test2\\1_POST_BB_25_H0,2_HET_M_T1.avi\n",
      "Loading  C:\\Users\\UCPH\\gabi\\thesis analysis\\test2\\1_POST_BB_25_H0,2_HET_M_T1.avi\n",
      "Duration of video [s]:  11.07 , recorded with  15.0 fps!\n",
      "Overall # of frames:  166  found with (before cropping) frame dimensions:  1280 720\n",
      "Starting to extract posture\n"
     ]
    },
    {
     "name": "stderr",
     "output_type": "stream",
     "text": [
      " 96%|█████████████████████████████████████████████████████████████████████████████   | 160/166 [00:04<00:00, 38.89it/s]\n"
     ]
    },
    {
     "name": "stdout",
     "output_type": "stream",
     "text": [
      "Saving results in C:\\Users\\UCPH\\gabi\\thesis analysis\\test2...\n",
      "Saving csv poses!\n",
      "Starting to analyze %  C:\\Users\\UCPH\\gabi\\thesis analysis\\test2\\1_POST_BB_25_H0,2_HET_M_T2.avi\n",
      "Loading  C:\\Users\\UCPH\\gabi\\thesis analysis\\test2\\1_POST_BB_25_H0,2_HET_M_T2.avi\n",
      "Duration of video [s]:  13.47 , recorded with  15.0 fps!\n",
      "Overall # of frames:  202  found with (before cropping) frame dimensions:  1280 720\n",
      "Starting to extract posture\n"
     ]
    },
    {
     "name": "stderr",
     "output_type": "stream",
     "text": [
      " 99%|███████████████████████████████████████████████████████████████████████████████▏| 200/202 [00:05<00:00, 39.48it/s]\n"
     ]
    },
    {
     "name": "stdout",
     "output_type": "stream",
     "text": [
      "Saving results in C:\\Users\\UCPH\\gabi\\thesis analysis\\test2...\n",
      "Saving csv poses!\n",
      "Starting to analyze %  C:\\Users\\UCPH\\gabi\\thesis analysis\\test2\\1_POST_BB_25_H0,2_HET_M_T3.avi\n",
      "Loading  C:\\Users\\UCPH\\gabi\\thesis analysis\\test2\\1_POST_BB_25_H0,2_HET_M_T3.avi\n",
      "Duration of video [s]:  12.87 , recorded with  15.0 fps!\n",
      "Overall # of frames:  193  found with (before cropping) frame dimensions:  1280 720\n",
      "Starting to extract posture\n"
     ]
    },
    {
     "name": "stderr",
     "output_type": "stream",
     "text": [
      " 98%|██████████████████████████████████████████████████████████████████████████████▊ | 190/193 [00:04<00:00, 39.01it/s]\n"
     ]
    },
    {
     "name": "stdout",
     "output_type": "stream",
     "text": [
      "Saving results in C:\\Users\\UCPH\\gabi\\thesis analysis\\test2...\n",
      "Saving csv poses!\n",
      "Starting to analyze %  C:\\Users\\UCPH\\gabi\\thesis analysis\\test2\\1_POST_BB_25_H0,2_HET_M_T4.avi\n",
      "Loading  C:\\Users\\UCPH\\gabi\\thesis analysis\\test2\\1_POST_BB_25_H0,2_HET_M_T4.avi\n",
      "Duration of video [s]:  19.07 , recorded with  15.0 fps!\n",
      "Overall # of frames:  286  found with (before cropping) frame dimensions:  1280 720\n",
      "Starting to extract posture\n"
     ]
    },
    {
     "name": "stderr",
     "output_type": "stream",
     "text": [
      " 98%|██████████████████████████████████████████████████████████████████████████████▎ | 280/286 [00:07<00:00, 39.88it/s]\n"
     ]
    },
    {
     "name": "stdout",
     "output_type": "stream",
     "text": [
      "Saving results in C:\\Users\\UCPH\\gabi\\thesis analysis\\test2...\n",
      "Saving csv poses!\n",
      "Starting to analyze %  C:\\Users\\UCPH\\gabi\\thesis analysis\\test2\\1_POST_BB_26_H0,2_HET_F_T1.avi\n",
      "Loading  C:\\Users\\UCPH\\gabi\\thesis analysis\\test2\\1_POST_BB_26_H0,2_HET_F_T1.avi\n",
      "Duration of video [s]:  3.6 , recorded with  15.0 fps!\n",
      "Overall # of frames:  54  found with (before cropping) frame dimensions:  1280 720\n",
      "Starting to extract posture\n"
     ]
    },
    {
     "name": "stderr",
     "output_type": "stream",
     "text": [
      " 93%|███████████████████████████████████████████████████████████████████████████▉      | 50/54 [00:01<00:00, 36.18it/s]\n"
     ]
    },
    {
     "name": "stdout",
     "output_type": "stream",
     "text": [
      "Saving results in C:\\Users\\UCPH\\gabi\\thesis analysis\\test2...\n",
      "Saving csv poses!\n",
      "Starting to analyze %  C:\\Users\\UCPH\\gabi\\thesis analysis\\test2\\1_POST_BB_26_H0,2_HET_F_T2.avi\n",
      "Loading  C:\\Users\\UCPH\\gabi\\thesis analysis\\test2\\1_POST_BB_26_H0,2_HET_F_T2.avi\n",
      "Duration of video [s]:  4.27 , recorded with  15.0 fps!\n",
      "Overall # of frames:  64  found with (before cropping) frame dimensions:  1280 720\n",
      "Starting to extract posture\n"
     ]
    },
    {
     "name": "stderr",
     "output_type": "stream",
     "text": [
      " 94%|████████████████████████████████████████████████████████████████████████████▉     | 60/64 [00:01<00:00, 38.13it/s]\n"
     ]
    },
    {
     "name": "stdout",
     "output_type": "stream",
     "text": [
      "Saving results in C:\\Users\\UCPH\\gabi\\thesis analysis\\test2...\n",
      "Saving csv poses!\n",
      "Starting to analyze %  C:\\Users\\UCPH\\gabi\\thesis analysis\\test2\\1_POST_BB_26_H0,2_HET_F_T3.avi\n",
      "Loading  C:\\Users\\UCPH\\gabi\\thesis analysis\\test2\\1_POST_BB_26_H0,2_HET_F_T3.avi\n",
      "Duration of video [s]:  4.07 , recorded with  15.0 fps!\n",
      "Overall # of frames:  61  found with (before cropping) frame dimensions:  1280 720\n",
      "Starting to extract posture\n"
     ]
    },
    {
     "name": "stderr",
     "output_type": "stream",
     "text": [
      " 98%|████████████████████████████████████████████████████████████████████████████████▋ | 60/61 [00:01<00:00, 38.04it/s]\n"
     ]
    },
    {
     "name": "stdout",
     "output_type": "stream",
     "text": [
      "Saving results in C:\\Users\\UCPH\\gabi\\thesis analysis\\test2...\n",
      "Saving csv poses!\n",
      "Starting to analyze %  C:\\Users\\UCPH\\gabi\\thesis analysis\\test2\\1_POST_BB_26_H0,2_HET_F_T4.avi\n",
      "Loading  C:\\Users\\UCPH\\gabi\\thesis analysis\\test2\\1_POST_BB_26_H0,2_HET_F_T4.avi\n",
      "Duration of video [s]:  4.87 , recorded with  15.0 fps!\n",
      "Overall # of frames:  73  found with (before cropping) frame dimensions:  1280 720\n",
      "Starting to extract posture\n"
     ]
    },
    {
     "name": "stderr",
     "output_type": "stream",
     "text": [
      " 96%|██████████████████████████████████████████████████████████████████████████████▋   | 70/73 [00:01<00:00, 35.83it/s]\n"
     ]
    },
    {
     "name": "stdout",
     "output_type": "stream",
     "text": [
      "Saving results in C:\\Users\\UCPH\\gabi\\thesis analysis\\test2...\n",
      "Saving csv poses!\n",
      "Starting to analyze %  C:\\Users\\UCPH\\gabi\\thesis analysis\\test2\\1_POST_BB_26_H0,4_HET_F_T1.avi\n",
      "Loading  C:\\Users\\UCPH\\gabi\\thesis analysis\\test2\\1_POST_BB_26_H0,4_HET_F_T1.avi\n",
      "Duration of video [s]:  3.6 , recorded with  15.0 fps!\n",
      "Overall # of frames:  54  found with (before cropping) frame dimensions:  1280 720\n",
      "Starting to extract posture\n"
     ]
    },
    {
     "name": "stderr",
     "output_type": "stream",
     "text": [
      " 93%|███████████████████████████████████████████████████████████████████████████▉      | 50/54 [00:01<00:00, 36.06it/s]\n"
     ]
    },
    {
     "name": "stdout",
     "output_type": "stream",
     "text": [
      "Saving results in C:\\Users\\UCPH\\gabi\\thesis analysis\\test2...\n",
      "Saving csv poses!\n",
      "Starting to analyze %  C:\\Users\\UCPH\\gabi\\thesis analysis\\test2\\1_POST_BB_26_H0,4_HET_F_T2.avi\n",
      "Loading  C:\\Users\\UCPH\\gabi\\thesis analysis\\test2\\1_POST_BB_26_H0,4_HET_F_T2.avi\n",
      "Duration of video [s]:  3.47 , recorded with  15.0 fps!\n",
      "Overall # of frames:  52  found with (before cropping) frame dimensions:  1280 720\n",
      "Starting to extract posture\n"
     ]
    },
    {
     "name": "stderr",
     "output_type": "stream",
     "text": [
      " 96%|██████████████████████████████████████████████████████████████████████████████▊   | 50/52 [00:01<00:00, 36.24it/s]\n"
     ]
    },
    {
     "name": "stdout",
     "output_type": "stream",
     "text": [
      "Saving results in C:\\Users\\UCPH\\gabi\\thesis analysis\\test2...\n",
      "Saving csv poses!\n",
      "Starting to analyze %  C:\\Users\\UCPH\\gabi\\thesis analysis\\test2\\1_POST_BB_26_H0,4_HET_F_T3.avi\n",
      "Loading  C:\\Users\\UCPH\\gabi\\thesis analysis\\test2\\1_POST_BB_26_H0,4_HET_F_T3.avi\n",
      "Duration of video [s]:  5.07 , recorded with  15.0 fps!\n",
      "Overall # of frames:  76  found with (before cropping) frame dimensions:  1280 720\n",
      "Starting to extract posture\n"
     ]
    },
    {
     "name": "stderr",
     "output_type": "stream",
     "text": [
      " 92%|███████████████████████████████████████████████████████████████████████████▌      | 70/76 [00:01<00:00, 35.81it/s]\n"
     ]
    },
    {
     "name": "stdout",
     "output_type": "stream",
     "text": [
      "Saving results in C:\\Users\\UCPH\\gabi\\thesis analysis\\test2...\n",
      "Saving csv poses!\n",
      "Starting to analyze %  C:\\Users\\UCPH\\gabi\\thesis analysis\\test2\\1_POST_BB_26_H0,4_HET_F_T4.avi\n",
      "Loading  C:\\Users\\UCPH\\gabi\\thesis analysis\\test2\\1_POST_BB_26_H0,4_HET_F_T4.avi\n",
      "Duration of video [s]:  4.47 , recorded with  15.0 fps!\n",
      "Overall # of frames:  67  found with (before cropping) frame dimensions:  1280 720\n",
      "Starting to extract posture\n"
     ]
    },
    {
     "name": "stderr",
     "output_type": "stream",
     "text": [
      " 90%|█████████████████████████████████████████████████████████████████████████▍        | 60/67 [00:01<00:00, 33.52it/s]\n"
     ]
    },
    {
     "name": "stdout",
     "output_type": "stream",
     "text": [
      "Saving results in C:\\Users\\UCPH\\gabi\\thesis analysis\\test2...\n",
      "Saving csv poses!\n",
      "Starting to analyze %  C:\\Users\\UCPH\\gabi\\thesis analysis\\test2\\1_POST_BB_26_H0,8_HET_F_T1.avi\n",
      "Loading  C:\\Users\\UCPH\\gabi\\thesis analysis\\test2\\1_POST_BB_26_H0,8_HET_F_T1.avi\n",
      "Duration of video [s]:  5.6 , recorded with  15.0 fps!\n",
      "Overall # of frames:  84  found with (before cropping) frame dimensions:  1280 720\n",
      "Starting to extract posture\n"
     ]
    },
    {
     "name": "stderr",
     "output_type": "stream",
     "text": [
      " 95%|██████████████████████████████████████████████████████████████████████████████    | 80/84 [00:02<00:00, 36.70it/s]\n"
     ]
    },
    {
     "name": "stdout",
     "output_type": "stream",
     "text": [
      "Saving results in C:\\Users\\UCPH\\gabi\\thesis analysis\\test2...\n",
      "Saving csv poses!\n",
      "Starting to analyze %  C:\\Users\\UCPH\\gabi\\thesis analysis\\test2\\1_POST_BB_26_H0,8_HET_F_T2.avi\n",
      "Loading  C:\\Users\\UCPH\\gabi\\thesis analysis\\test2\\1_POST_BB_26_H0,8_HET_F_T2.avi\n",
      "Duration of video [s]:  6.33 , recorded with  15.0 fps!\n",
      "Overall # of frames:  95  found with (before cropping) frame dimensions:  1280 720\n",
      "Starting to extract posture\n"
     ]
    },
    {
     "name": "stderr",
     "output_type": "stream",
     "text": [
      " 95%|█████████████████████████████████████████████████████████████████████████████▋    | 90/95 [00:02<00:00, 37.07it/s]\n"
     ]
    },
    {
     "name": "stdout",
     "output_type": "stream",
     "text": [
      "Saving results in C:\\Users\\UCPH\\gabi\\thesis analysis\\test2...\n",
      "Saving csv poses!\n",
      "Starting to analyze %  C:\\Users\\UCPH\\gabi\\thesis analysis\\test2\\1_POST_BB_26_H0,8_HET_F_T3.avi\n",
      "Loading  C:\\Users\\UCPH\\gabi\\thesis analysis\\test2\\1_POST_BB_26_H0,8_HET_F_T3.avi\n",
      "Duration of video [s]:  6.67 , recorded with  15.0 fps!\n",
      "Overall # of frames:  100  found with (before cropping) frame dimensions:  1280 720\n",
      "Starting to extract posture\n"
     ]
    },
    {
     "name": "stderr",
     "output_type": "stream",
     "text": [
      "100%|████████████████████████████████████████████████████████████████████████████████| 100/100 [00:02<00:00, 38.16it/s]\n"
     ]
    },
    {
     "name": "stdout",
     "output_type": "stream",
     "text": [
      "Saving results in C:\\Users\\UCPH\\gabi\\thesis analysis\\test2...\n",
      "Saving csv poses!\n",
      "Starting to analyze %  C:\\Users\\UCPH\\gabi\\thesis analysis\\test2\\1_POST_BB_26_H0,8_HET_F_T4.avi\n",
      "Loading  C:\\Users\\UCPH\\gabi\\thesis analysis\\test2\\1_POST_BB_26_H0,8_HET_F_T4.avi\n",
      "Duration of video [s]:  8.07 , recorded with  15.0 fps!\n",
      "Overall # of frames:  121  found with (before cropping) frame dimensions:  1280 720\n",
      "Starting to extract posture\n"
     ]
    },
    {
     "name": "stderr",
     "output_type": "stream",
     "text": [
      " 99%|███████████████████████████████████████████████████████████████████████████████▎| 120/121 [00:03<00:00, 37.76it/s]\n"
     ]
    },
    {
     "name": "stdout",
     "output_type": "stream",
     "text": [
      "Saving results in C:\\Users\\UCPH\\gabi\\thesis analysis\\test2...\n",
      "Saving csv poses!\n",
      "Starting to analyze %  C:\\Users\\UCPH\\gabi\\thesis analysis\\test2\\1_POST_BB_29_H0,2_HET_M_T1.avi\n",
      "Loading  C:\\Users\\UCPH\\gabi\\thesis analysis\\test2\\1_POST_BB_29_H0,2_HET_M_T1.avi\n",
      "Duration of video [s]:  5.33 , recorded with  15.0 fps!\n",
      "Overall # of frames:  80  found with (before cropping) frame dimensions:  1280 720\n",
      "Starting to extract posture\n"
     ]
    },
    {
     "name": "stderr",
     "output_type": "stream",
     "text": [
      "100%|██████████████████████████████████████████████████████████████████████████████████| 80/80 [00:01<00:00, 40.07it/s]\n"
     ]
    },
    {
     "name": "stdout",
     "output_type": "stream",
     "text": [
      "Saving results in C:\\Users\\UCPH\\gabi\\thesis analysis\\test2...\n",
      "Saving csv poses!\n",
      "Starting to analyze %  C:\\Users\\UCPH\\gabi\\thesis analysis\\test2\\1_POST_BB_29_H0,2_HET_M_T2.avi\n",
      "Loading  C:\\Users\\UCPH\\gabi\\thesis analysis\\test2\\1_POST_BB_29_H0,2_HET_M_T2.avi\n",
      "Duration of video [s]:  6.27 , recorded with  15.0 fps!\n",
      "Overall # of frames:  94  found with (before cropping) frame dimensions:  1280 720\n",
      "Starting to extract posture\n"
     ]
    },
    {
     "name": "stderr",
     "output_type": "stream",
     "text": [
      " 96%|██████████████████████████████████████████████████████████████████████████████▌   | 90/94 [00:02<00:00, 38.21it/s]\n"
     ]
    },
    {
     "name": "stdout",
     "output_type": "stream",
     "text": [
      "Saving results in C:\\Users\\UCPH\\gabi\\thesis analysis\\test2...\n",
      "Saving csv poses!\n",
      "Starting to analyze %  C:\\Users\\UCPH\\gabi\\thesis analysis\\test2\\1_POST_BB_29_H0,2_HET_M_T3.avi\n",
      "Loading  C:\\Users\\UCPH\\gabi\\thesis analysis\\test2\\1_POST_BB_29_H0,2_HET_M_T3.avi\n",
      "Duration of video [s]:  7.67 , recorded with  15.0 fps!\n",
      "Overall # of frames:  115  found with (before cropping) frame dimensions:  1280 720\n",
      "Starting to extract posture\n"
     ]
    },
    {
     "name": "stderr",
     "output_type": "stream",
     "text": [
      " 96%|████████████████████████████████████████████████████████████████████████████▌   | 110/115 [00:02<00:00, 37.66it/s]\n"
     ]
    },
    {
     "name": "stdout",
     "output_type": "stream",
     "text": [
      "Saving results in C:\\Users\\UCPH\\gabi\\thesis analysis\\test2...\n",
      "Saving csv poses!\n",
      "Starting to analyze %  C:\\Users\\UCPH\\gabi\\thesis analysis\\test2\\1_POST_BB_29_H0,2_HET_M_T4.avi\n",
      "Loading  C:\\Users\\UCPH\\gabi\\thesis analysis\\test2\\1_POST_BB_29_H0,2_HET_M_T4.avi\n",
      "Duration of video [s]:  8.47 , recorded with  15.0 fps!\n",
      "Overall # of frames:  127  found with (before cropping) frame dimensions:  1280 720\n",
      "Starting to extract posture\n"
     ]
    },
    {
     "name": "stderr",
     "output_type": "stream",
     "text": [
      " 94%|███████████████████████████████████████████████████████████████████████████▌    | 120/127 [00:03<00:00, 37.84it/s]\n"
     ]
    },
    {
     "name": "stdout",
     "output_type": "stream",
     "text": [
      "Saving results in C:\\Users\\UCPH\\gabi\\thesis analysis\\test2...\n",
      "Saving csv poses!\n",
      "Starting to analyze %  C:\\Users\\UCPH\\gabi\\thesis analysis\\test2\\1_POST_BB_29_H0,4_HET_M_T1.avi\n",
      "Loading  C:\\Users\\UCPH\\gabi\\thesis analysis\\test2\\1_POST_BB_29_H0,4_HET_M_T1.avi\n",
      "Duration of video [s]:  8.87 , recorded with  15.0 fps!\n",
      "Overall # of frames:  133  found with (before cropping) frame dimensions:  1280 720\n",
      "Starting to extract posture\n"
     ]
    },
    {
     "name": "stderr",
     "output_type": "stream",
     "text": [
      " 98%|██████████████████████████████████████████████████████████████████████████████▏ | 130/133 [00:03<00:00, 38.65it/s]\n"
     ]
    },
    {
     "name": "stdout",
     "output_type": "stream",
     "text": [
      "Saving results in C:\\Users\\UCPH\\gabi\\thesis analysis\\test2...\n",
      "Saving csv poses!\n",
      "Starting to analyze %  C:\\Users\\UCPH\\gabi\\thesis analysis\\test2\\1_POST_BB_29_H0,4_HET_M_T2.avi\n",
      "Loading  C:\\Users\\UCPH\\gabi\\thesis analysis\\test2\\1_POST_BB_29_H0,4_HET_M_T2.avi\n",
      "Duration of video [s]:  53.87 , recorded with  15.0 fps!\n",
      "Overall # of frames:  808  found with (before cropping) frame dimensions:  1280 720\n",
      "Starting to extract posture\n"
     ]
    },
    {
     "name": "stderr",
     "output_type": "stream",
     "text": [
      " 99%|███████████████████████████████████████████████████████████████████████████████▏| 800/808 [00:19<00:00, 40.99it/s]\n"
     ]
    },
    {
     "name": "stdout",
     "output_type": "stream",
     "text": [
      "Saving results in C:\\Users\\UCPH\\gabi\\thesis analysis\\test2...\n",
      "Saving csv poses!\n",
      "Starting to analyze %  C:\\Users\\UCPH\\gabi\\thesis analysis\\test2\\1_POST_BB_29_H0,4_HET_M_T3.avi\n",
      "Loading  C:\\Users\\UCPH\\gabi\\thesis analysis\\test2\\1_POST_BB_29_H0,4_HET_M_T3.avi\n",
      "Duration of video [s]:  180.07 , recorded with  15.0 fps!\n",
      "Overall # of frames:  2701  found with (before cropping) frame dimensions:  1280 720\n",
      "Starting to extract posture\n"
     ]
    },
    {
     "name": "stderr",
     "output_type": "stream",
     "text": [
      "100%|█████████████████████████████████████████████████████████████████████████████▉| 2700/2701 [01:04<00:00, 41.57it/s]\n"
     ]
    },
    {
     "name": "stdout",
     "output_type": "stream",
     "text": [
      "Saving results in C:\\Users\\UCPH\\gabi\\thesis analysis\\test2...\n",
      "Saving csv poses!\n",
      "Starting to analyze %  C:\\Users\\UCPH\\gabi\\thesis analysis\\test2\\1_POST_BB_29_H0,4_HET_M_T4.avi\n",
      "Loading  C:\\Users\\UCPH\\gabi\\thesis analysis\\test2\\1_POST_BB_29_H0,4_HET_M_T4.avi\n",
      "Duration of video [s]:  153.87 , recorded with  15.0 fps!\n",
      "Overall # of frames:  2308  found with (before cropping) frame dimensions:  1280 720\n",
      "Starting to extract posture\n"
     ]
    },
    {
     "name": "stderr",
     "output_type": "stream",
     "text": [
      "100%|█████████████████████████████████████████████████████████████████████████████▋| 2300/2308 [00:55<00:00, 41.35it/s]\n"
     ]
    },
    {
     "name": "stdout",
     "output_type": "stream",
     "text": [
      "Saving results in C:\\Users\\UCPH\\gabi\\thesis analysis\\test2...\n",
      "Saving csv poses!\n",
      "Starting to analyze %  C:\\Users\\UCPH\\gabi\\thesis analysis\\test2\\1_POST_BB_29_H0,8_HET_M_T1.avi\n",
      "Loading  C:\\Users\\UCPH\\gabi\\thesis analysis\\test2\\1_POST_BB_29_H0,8_HET_M_T1.avi\n",
      "Duration of video [s]:  5.0 , recorded with  15.0 fps!\n",
      "Overall # of frames:  75  found with (before cropping) frame dimensions:  1280 720\n",
      "Starting to extract posture\n"
     ]
    },
    {
     "name": "stderr",
     "output_type": "stream",
     "text": [
      " 93%|████████████████████████████████████████████████████████████████████████████▌     | 70/75 [00:01<00:00, 36.17it/s]\n"
     ]
    },
    {
     "name": "stdout",
     "output_type": "stream",
     "text": [
      "Saving results in C:\\Users\\UCPH\\gabi\\thesis analysis\\test2...\n",
      "Saving csv poses!\n",
      "Starting to analyze %  C:\\Users\\UCPH\\gabi\\thesis analysis\\test2\\1_POST_BB_29_H0,8_HET_M_T2.avi\n",
      "Loading  C:\\Users\\UCPH\\gabi\\thesis analysis\\test2\\1_POST_BB_29_H0,8_HET_M_T2.avi\n",
      "Duration of video [s]:  9.07 , recorded with  15.0 fps!\n",
      "Overall # of frames:  136  found with (before cropping) frame dimensions:  1280 720\n",
      "Starting to extract posture\n"
     ]
    },
    {
     "name": "stderr",
     "output_type": "stream",
     "text": [
      " 96%|████████████████████████████████████████████████████████████████████████████▍   | 130/136 [00:03<00:00, 39.30it/s]\n"
     ]
    },
    {
     "name": "stdout",
     "output_type": "stream",
     "text": [
      "Saving results in C:\\Users\\UCPH\\gabi\\thesis analysis\\test2...\n",
      "Saving csv poses!\n",
      "Starting to analyze %  C:\\Users\\UCPH\\gabi\\thesis analysis\\test2\\1_POST_BB_29_H0,8_HET_M_T3.avi\n",
      "Loading  C:\\Users\\UCPH\\gabi\\thesis analysis\\test2\\1_POST_BB_29_H0,8_HET_M_T3.avi\n",
      "Duration of video [s]:  10.87 , recorded with  15.0 fps!\n",
      "Overall # of frames:  163  found with (before cropping) frame dimensions:  1280 720\n",
      "Starting to extract posture\n"
     ]
    },
    {
     "name": "stderr",
     "output_type": "stream",
     "text": [
      " 98%|██████████████████████████████████████████████████████████████████████████████▌ | 160/163 [00:04<00:00, 39.40it/s]\n"
     ]
    },
    {
     "name": "stdout",
     "output_type": "stream",
     "text": [
      "Saving results in C:\\Users\\UCPH\\gabi\\thesis analysis\\test2...\n",
      "Saving csv poses!\n",
      "Starting to analyze %  C:\\Users\\UCPH\\gabi\\thesis analysis\\test2\\1_POST_BB_29_H0,8_HET_M_T4.avi\n",
      "Loading  C:\\Users\\UCPH\\gabi\\thesis analysis\\test2\\1_POST_BB_29_H0,8_HET_M_T4.avi\n",
      "Duration of video [s]:  104.67 , recorded with  15.0 fps!\n",
      "Overall # of frames:  1570  found with (before cropping) frame dimensions:  1280 720\n",
      "Starting to extract posture\n"
     ]
    },
    {
     "name": "stderr",
     "output_type": "stream",
     "text": [
      " 99%|█████████████████████████████████████████████████████████████████████████████▌| 1560/1570 [00:37<00:00, 41.07it/s]\n"
     ]
    },
    {
     "name": "stdout",
     "output_type": "stream",
     "text": [
      "Saving results in C:\\Users\\UCPH\\gabi\\thesis analysis\\test2...\n",
      "Saving csv poses!\n",
      "Starting to analyze %  C:\\Users\\UCPH\\gabi\\thesis analysis\\test2\\1_POST_BB_33_H0,2_WT_M_T1.avi\n",
      "Loading  C:\\Users\\UCPH\\gabi\\thesis analysis\\test2\\1_POST_BB_33_H0,2_WT_M_T1.avi\n",
      "Duration of video [s]:  6.0 , recorded with  15.0 fps!\n",
      "Overall # of frames:  90  found with (before cropping) frame dimensions:  1280 720\n",
      "Starting to extract posture\n"
     ]
    },
    {
     "name": "stderr",
     "output_type": "stream",
     "text": [
      "100%|██████████████████████████████████████████████████████████████████████████████████| 90/90 [00:02<00:00, 38.79it/s]\n"
     ]
    },
    {
     "name": "stdout",
     "output_type": "stream",
     "text": [
      "Saving results in C:\\Users\\UCPH\\gabi\\thesis analysis\\test2...\n",
      "Saving csv poses!\n",
      "Starting to analyze %  C:\\Users\\UCPH\\gabi\\thesis analysis\\test2\\1_POST_BB_33_H0,2_WT_M_T2.avi\n",
      "Loading  C:\\Users\\UCPH\\gabi\\thesis analysis\\test2\\1_POST_BB_33_H0,2_WT_M_T2.avi\n",
      "Duration of video [s]:  6.47 , recorded with  15.0 fps!\n",
      "Overall # of frames:  97  found with (before cropping) frame dimensions:  1280 720\n",
      "Starting to extract posture\n"
     ]
    },
    {
     "name": "stderr",
     "output_type": "stream",
     "text": [
      " 93%|████████████████████████████████████████████████████████████████████████████      | 90/97 [00:02<00:00, 35.86it/s]\n"
     ]
    },
    {
     "name": "stdout",
     "output_type": "stream",
     "text": [
      "Saving results in C:\\Users\\UCPH\\gabi\\thesis analysis\\test2...\n",
      "Saving csv poses!\n",
      "Starting to analyze %  C:\\Users\\UCPH\\gabi\\thesis analysis\\test2\\1_POST_BB_33_H0,2_WT_M_T3.avi\n",
      "Loading  C:\\Users\\UCPH\\gabi\\thesis analysis\\test2\\1_POST_BB_33_H0,2_WT_M_T3.avi\n",
      "Duration of video [s]:  11.27 , recorded with  15.0 fps!\n",
      "Overall # of frames:  169  found with (before cropping) frame dimensions:  1280 720\n",
      "Starting to extract posture\n"
     ]
    },
    {
     "name": "stderr",
     "output_type": "stream",
     "text": [
      " 95%|███████████████████████████████████████████████████████████████████████████▋    | 160/169 [00:04<00:00, 39.18it/s]\n"
     ]
    },
    {
     "name": "stdout",
     "output_type": "stream",
     "text": [
      "Saving results in C:\\Users\\UCPH\\gabi\\thesis analysis\\test2...\n",
      "Saving csv poses!\n",
      "Starting to analyze %  C:\\Users\\UCPH\\gabi\\thesis analysis\\test2\\1_POST_BB_33_H0,2_WT_M_T4.avi\n",
      "Loading  C:\\Users\\UCPH\\gabi\\thesis analysis\\test2\\1_POST_BB_33_H0,2_WT_M_T4.avi\n",
      "Duration of video [s]:  44.47 , recorded with  15.0 fps!\n",
      "Overall # of frames:  667  found with (before cropping) frame dimensions:  1280 720\n",
      "Starting to extract posture\n"
     ]
    },
    {
     "name": "stderr",
     "output_type": "stream",
     "text": [
      " 99%|███████████████████████████████████████████████████████████████████████████████▏| 660/667 [00:16<00:00, 40.68it/s]\n"
     ]
    },
    {
     "name": "stdout",
     "output_type": "stream",
     "text": [
      "Saving results in C:\\Users\\UCPH\\gabi\\thesis analysis\\test2...\n",
      "Saving csv poses!\n",
      "Starting to analyze %  C:\\Users\\UCPH\\gabi\\thesis analysis\\test2\\1_POST_BB_33_H0,4_WT_M_T1.avi\n",
      "Loading  C:\\Users\\UCPH\\gabi\\thesis analysis\\test2\\1_POST_BB_33_H0,4_WT_M_T1.avi\n",
      "Duration of video [s]:  5.07 , recorded with  15.0 fps!\n",
      "Overall # of frames:  76  found with (before cropping) frame dimensions:  1280 720\n",
      "Starting to extract posture\n"
     ]
    },
    {
     "name": "stderr",
     "output_type": "stream",
     "text": [
      " 92%|███████████████████████████████████████████████████████████████████████████▌      | 70/76 [00:01<00:00, 36.05it/s]\n"
     ]
    },
    {
     "name": "stdout",
     "output_type": "stream",
     "text": [
      "Saving results in C:\\Users\\UCPH\\gabi\\thesis analysis\\test2...\n",
      "Saving csv poses!\n",
      "Starting to analyze %  C:\\Users\\UCPH\\gabi\\thesis analysis\\test2\\1_POST_BB_33_H0,4_WT_M_T2.avi\n",
      "Loading  C:\\Users\\UCPH\\gabi\\thesis analysis\\test2\\1_POST_BB_33_H0,4_WT_M_T2.avi\n",
      "Duration of video [s]:  20.47 , recorded with  15.0 fps!\n",
      "Overall # of frames:  307  found with (before cropping) frame dimensions:  1280 720\n",
      "Starting to extract posture\n"
     ]
    },
    {
     "name": "stderr",
     "output_type": "stream",
     "text": [
      " 98%|██████████████████████████████████████████████████████████████████████████████▏ | 300/307 [00:07<00:00, 39.87it/s]\n"
     ]
    },
    {
     "name": "stdout",
     "output_type": "stream",
     "text": [
      "Saving results in C:\\Users\\UCPH\\gabi\\thesis analysis\\test2...\n",
      "Saving csv poses!\n",
      "Starting to analyze %  C:\\Users\\UCPH\\gabi\\thesis analysis\\test2\\1_POST_BB_33_H0,4_WT_M_T3.avi\n",
      "Loading  C:\\Users\\UCPH\\gabi\\thesis analysis\\test2\\1_POST_BB_33_H0,4_WT_M_T3.avi\n",
      "Duration of video [s]:  137.67 , recorded with  15.0 fps!\n",
      "Overall # of frames:  2065  found with (before cropping) frame dimensions:  1280 720\n",
      "Starting to extract posture\n"
     ]
    },
    {
     "name": "stderr",
     "output_type": "stream",
     "text": [
      "100%|█████████████████████████████████████████████████████████████████████████████▊| 2060/2065 [00:49<00:00, 41.28it/s]\n"
     ]
    },
    {
     "name": "stdout",
     "output_type": "stream",
     "text": [
      "Saving results in C:\\Users\\UCPH\\gabi\\thesis analysis\\test2...\n",
      "Saving csv poses!\n",
      "Starting to analyze %  C:\\Users\\UCPH\\gabi\\thesis analysis\\test2\\1_POST_BB_33_H0,4_WT_M_T4.avi\n",
      "Loading  C:\\Users\\UCPH\\gabi\\thesis analysis\\test2\\1_POST_BB_33_H0,4_WT_M_T4.avi\n",
      "Duration of video [s]:  21.07 , recorded with  15.0 fps!\n",
      "Overall # of frames:  316  found with (before cropping) frame dimensions:  1280 720\n",
      "Starting to extract posture\n"
     ]
    },
    {
     "name": "stderr",
     "output_type": "stream",
     "text": [
      " 98%|██████████████████████████████████████████████████████████████████████████████▍ | 310/316 [00:07<00:00, 40.07it/s]\n"
     ]
    },
    {
     "name": "stdout",
     "output_type": "stream",
     "text": [
      "Saving results in C:\\Users\\UCPH\\gabi\\thesis analysis\\test2...\n",
      "Saving csv poses!\n",
      "Starting to analyze %  C:\\Users\\UCPH\\gabi\\thesis analysis\\test2\\1_POST_BB_33_H0,8_WT_M_T1.avi\n",
      "Loading  C:\\Users\\UCPH\\gabi\\thesis analysis\\test2\\1_POST_BB_33_H0,8_WT_M_T1.avi\n",
      "Duration of video [s]:  8.0 , recorded with  15.0 fps!\n",
      "Overall # of frames:  120  found with (before cropping) frame dimensions:  1280 720\n",
      "Starting to extract posture\n"
     ]
    },
    {
     "name": "stderr",
     "output_type": "stream",
     "text": [
      "100%|████████████████████████████████████████████████████████████████████████████████| 120/120 [00:02<00:00, 41.29it/s]\n"
     ]
    },
    {
     "name": "stdout",
     "output_type": "stream",
     "text": [
      "Saving results in C:\\Users\\UCPH\\gabi\\thesis analysis\\test2...\n",
      "Saving csv poses!\n",
      "Starting to analyze %  C:\\Users\\UCPH\\gabi\\thesis analysis\\test2\\1_POST_BB_33_H0,8_WT_M_T2.avi\n",
      "Loading  C:\\Users\\UCPH\\gabi\\thesis analysis\\test2\\1_POST_BB_33_H0,8_WT_M_T2.avi\n",
      "Duration of video [s]:  111.07 , recorded with  15.0 fps!\n",
      "Overall # of frames:  1666  found with (before cropping) frame dimensions:  1280 720\n",
      "Starting to extract posture\n"
     ]
    },
    {
     "name": "stderr",
     "output_type": "stream",
     "text": [
      "100%|█████████████████████████████████████████████████████████████████████████████▉| 1664/1666 [00:40<00:00, 41.18it/s]\n"
     ]
    },
    {
     "name": "stdout",
     "output_type": "stream",
     "text": [
      "Saving results in C:\\Users\\UCPH\\gabi\\thesis analysis\\test2...\n",
      "Saving csv poses!\n",
      "Starting to analyze %  C:\\Users\\UCPH\\gabi\\thesis analysis\\test2\\1_POST_BB_33_H0,8_WT_M_T3.avi\n",
      "Loading  C:\\Users\\UCPH\\gabi\\thesis analysis\\test2\\1_POST_BB_33_H0,8_WT_M_T3.avi\n",
      "Duration of video [s]:  180.07 , recorded with  15.0 fps!\n",
      "Overall # of frames:  2701  found with (before cropping) frame dimensions:  1280 720\n",
      "Starting to extract posture\n"
     ]
    },
    {
     "name": "stderr",
     "output_type": "stream",
     "text": [
      "100%|█████████████████████████████████████████████████████████████████████████████▉| 2700/2701 [01:05<00:00, 41.54it/s]\n"
     ]
    },
    {
     "name": "stdout",
     "output_type": "stream",
     "text": [
      "Saving results in C:\\Users\\UCPH\\gabi\\thesis analysis\\test2...\n",
      "Saving csv poses!\n",
      "Starting to analyze %  C:\\Users\\UCPH\\gabi\\thesis analysis\\test2\\1_POST_BB_33_H0,8_WT_M_T4.avi\n",
      "Loading  C:\\Users\\UCPH\\gabi\\thesis analysis\\test2\\1_POST_BB_33_H0,8_WT_M_T4.avi\n",
      "Duration of video [s]:  31.87 , recorded with  15.0 fps!\n",
      "Overall # of frames:  478  found with (before cropping) frame dimensions:  1280 720\n",
      "Starting to extract posture\n"
     ]
    },
    {
     "name": "stderr",
     "output_type": "stream",
     "text": [
      " 98%|██████████████████████████████████████████████████████████████████████████████▋ | 470/478 [00:11<00:00, 40.51it/s]\n"
     ]
    },
    {
     "name": "stdout",
     "output_type": "stream",
     "text": [
      "Saving results in C:\\Users\\UCPH\\gabi\\thesis analysis\\test2...\n",
      "Saving csv poses!\n",
      "Starting to analyze %  C:\\Users\\UCPH\\gabi\\thesis analysis\\test2\\1_POST_BB_35_H0,2_WT_M_T1.avi\n",
      "Loading  C:\\Users\\UCPH\\gabi\\thesis analysis\\test2\\1_POST_BB_35_H0,2_WT_M_T1.avi\n",
      "Duration of video [s]:  4.87 , recorded with  15.0 fps!\n",
      "Overall # of frames:  73  found with (before cropping) frame dimensions:  1280 720\n",
      "Starting to extract posture\n"
     ]
    },
    {
     "name": "stderr",
     "output_type": "stream",
     "text": [
      " 96%|██████████████████████████████████████████████████████████████████████████████▋   | 70/73 [00:01<00:00, 36.18it/s]\n"
     ]
    },
    {
     "name": "stdout",
     "output_type": "stream",
     "text": [
      "Saving results in C:\\Users\\UCPH\\gabi\\thesis analysis\\test2...\n",
      "Saving csv poses!\n",
      "Starting to analyze %  C:\\Users\\UCPH\\gabi\\thesis analysis\\test2\\1_POST_BB_35_H0,2_WT_M_T2.avi\n",
      "Loading  C:\\Users\\UCPH\\gabi\\thesis analysis\\test2\\1_POST_BB_35_H0,2_WT_M_T2.avi\n",
      "Duration of video [s]:  7.13 , recorded with  15.0 fps!\n",
      "Overall # of frames:  107  found with (before cropping) frame dimensions:  1280 720\n",
      "Starting to extract posture\n"
     ]
    },
    {
     "name": "stderr",
     "output_type": "stream",
     "text": [
      " 93%|██████████████████████████████████████████████████████████████████████████▊     | 100/107 [00:02<00:00, 36.63it/s]\n"
     ]
    },
    {
     "name": "stdout",
     "output_type": "stream",
     "text": [
      "Saving results in C:\\Users\\UCPH\\gabi\\thesis analysis\\test2...\n",
      "Saving csv poses!\n",
      "Starting to analyze %  C:\\Users\\UCPH\\gabi\\thesis analysis\\test2\\1_POST_BB_35_H0,2_WT_M_T3.avi\n",
      "Loading  C:\\Users\\UCPH\\gabi\\thesis analysis\\test2\\1_POST_BB_35_H0,2_WT_M_T3.avi\n",
      "Duration of video [s]:  8.67 , recorded with  15.0 fps!\n",
      "Overall # of frames:  130  found with (before cropping) frame dimensions:  1280 720\n",
      "Starting to extract posture\n"
     ]
    },
    {
     "name": "stderr",
     "output_type": "stream",
     "text": [
      "100%|████████████████████████████████████████████████████████████████████████████████| 130/130 [00:03<00:00, 39.55it/s]\n"
     ]
    },
    {
     "name": "stdout",
     "output_type": "stream",
     "text": [
      "Saving results in C:\\Users\\UCPH\\gabi\\thesis analysis\\test2...\n",
      "Saving csv poses!\n",
      "Starting to analyze %  C:\\Users\\UCPH\\gabi\\thesis analysis\\test2\\1_POST_BB_35_H0,2_WT_M_T4.avi\n",
      "Loading  C:\\Users\\UCPH\\gabi\\thesis analysis\\test2\\1_POST_BB_35_H0,2_WT_M_T4.avi\n",
      "Duration of video [s]:  45.87 , recorded with  15.0 fps!\n",
      "Overall # of frames:  688  found with (before cropping) frame dimensions:  1280 720\n",
      "Starting to extract posture\n"
     ]
    },
    {
     "name": "stderr",
     "output_type": "stream",
     "text": [
      " 99%|███████████████████████████████████████████████████████████████████████████████ | 680/688 [00:16<00:00, 40.94it/s]\n"
     ]
    },
    {
     "name": "stdout",
     "output_type": "stream",
     "text": [
      "Saving results in C:\\Users\\UCPH\\gabi\\thesis analysis\\test2...\n",
      "Saving csv poses!\n",
      "Starting to analyze %  C:\\Users\\UCPH\\gabi\\thesis analysis\\test2\\1_POST_BB_35_H0,4_WT_M_T1.avi\n",
      "Loading  C:\\Users\\UCPH\\gabi\\thesis analysis\\test2\\1_POST_BB_35_H0,4_WT_M_T1.avi\n",
      "Duration of video [s]:  7.47 , recorded with  15.0 fps!\n",
      "Overall # of frames:  112  found with (before cropping) frame dimensions:  1280 720\n",
      "Starting to extract posture\n"
     ]
    },
    {
     "name": "stderr",
     "output_type": "stream",
     "text": [
      " 98%|██████████████████████████████████████████████████████████████████████████████▌ | 110/112 [00:02<00:00, 40.56it/s]\n"
     ]
    },
    {
     "name": "stdout",
     "output_type": "stream",
     "text": [
      "Saving results in C:\\Users\\UCPH\\gabi\\thesis analysis\\test2...\n",
      "Saving csv poses!\n",
      "Starting to analyze %  C:\\Users\\UCPH\\gabi\\thesis analysis\\test2\\1_POST_BB_35_H0,4_WT_M_T2.avi\n",
      "Loading  C:\\Users\\UCPH\\gabi\\thesis analysis\\test2\\1_POST_BB_35_H0,4_WT_M_T2.avi\n",
      "Duration of video [s]:  7.07 , recorded with  15.0 fps!\n",
      "Overall # of frames:  106  found with (before cropping) frame dimensions:  1280 720\n",
      "Starting to extract posture\n"
     ]
    },
    {
     "name": "stderr",
     "output_type": "stream",
     "text": [
      " 94%|███████████████████████████████████████████████████████████████████████████▍    | 100/106 [00:02<00:00, 37.00it/s]\n"
     ]
    },
    {
     "name": "stdout",
     "output_type": "stream",
     "text": [
      "Saving results in C:\\Users\\UCPH\\gabi\\thesis analysis\\test2...\n",
      "Saving csv poses!\n",
      "Starting to analyze %  C:\\Users\\UCPH\\gabi\\thesis analysis\\test2\\1_POST_BB_35_H0,4_WT_M_T3.avi\n",
      "Loading  C:\\Users\\UCPH\\gabi\\thesis analysis\\test2\\1_POST_BB_35_H0,4_WT_M_T3.avi\n",
      "Duration of video [s]:  20.07 , recorded with  15.0 fps!\n",
      "Overall # of frames:  301  found with (before cropping) frame dimensions:  1280 720\n",
      "Starting to extract posture\n"
     ]
    },
    {
     "name": "stderr",
     "output_type": "stream",
     "text": [
      "100%|███████████████████████████████████████████████████████████████████████████████▋| 300/301 [00:07<00:00, 40.93it/s]\n"
     ]
    },
    {
     "name": "stdout",
     "output_type": "stream",
     "text": [
      "Saving results in C:\\Users\\UCPH\\gabi\\thesis analysis\\test2...\n",
      "Saving csv poses!\n",
      "Starting to analyze %  C:\\Users\\UCPH\\gabi\\thesis analysis\\test2\\1_POST_BB_35_H0,4_WT_M_T4.avi\n",
      "Loading  C:\\Users\\UCPH\\gabi\\thesis analysis\\test2\\1_POST_BB_35_H0,4_WT_M_T4.avi\n",
      "Duration of video [s]:  12.67 , recorded with  15.0 fps!\n",
      "Overall # of frames:  190  found with (before cropping) frame dimensions:  1280 720\n",
      "Starting to extract posture\n"
     ]
    },
    {
     "name": "stderr",
     "output_type": "stream",
     "text": [
      "100%|████████████████████████████████████████████████████████████████████████████████| 190/190 [00:04<00:00, 40.99it/s]\n"
     ]
    },
    {
     "name": "stdout",
     "output_type": "stream",
     "text": [
      "Saving results in C:\\Users\\UCPH\\gabi\\thesis analysis\\test2...\n",
      "Saving csv poses!\n",
      "Starting to analyze %  C:\\Users\\UCPH\\gabi\\thesis analysis\\test2\\1_POST_BB_35_H0,8_WT_M_T1.avi\n",
      "Loading  C:\\Users\\UCPH\\gabi\\thesis analysis\\test2\\1_POST_BB_35_H0,8_WT_M_T1.avi\n",
      "Duration of video [s]:  94.6 , recorded with  15.0 fps!\n",
      "Overall # of frames:  1419  found with (before cropping) frame dimensions:  1280 720\n",
      "Starting to extract posture\n"
     ]
    },
    {
     "name": "stderr",
     "output_type": "stream",
     "text": [
      "100%|█████████████████████████████████████████████████████████████████████████████▋| 1414/1419 [00:34<00:00, 41.15it/s]\n"
     ]
    },
    {
     "name": "stdout",
     "output_type": "stream",
     "text": [
      "Saving results in C:\\Users\\UCPH\\gabi\\thesis analysis\\test2...\n",
      "Saving csv poses!\n",
      "Starting to analyze %  C:\\Users\\UCPH\\gabi\\thesis analysis\\test2\\1_POST_BB_35_H0,8_WT_M_T2.avi\n",
      "Loading  C:\\Users\\UCPH\\gabi\\thesis analysis\\test2\\1_POST_BB_35_H0,8_WT_M_T2.avi\n",
      "Duration of video [s]:  180.07 , recorded with  15.0 fps!\n",
      "Overall # of frames:  2701  found with (before cropping) frame dimensions:  1280 720\n",
      "Starting to extract posture\n"
     ]
    },
    {
     "name": "stderr",
     "output_type": "stream",
     "text": [
      "100%|█████████████████████████████████████████████████████████████████████████████▉| 2700/2701 [01:05<00:00, 41.51it/s]\n"
     ]
    },
    {
     "name": "stdout",
     "output_type": "stream",
     "text": [
      "Saving results in C:\\Users\\UCPH\\gabi\\thesis analysis\\test2...\n",
      "Saving csv poses!\n",
      "Starting to analyze %  C:\\Users\\UCPH\\gabi\\thesis analysis\\test2\\1_POST_BB_35_H0,8_WT_M_T3.avi\n",
      "Loading  C:\\Users\\UCPH\\gabi\\thesis analysis\\test2\\1_POST_BB_35_H0,8_WT_M_T3.avi\n",
      "Duration of video [s]:  65.47 , recorded with  15.0 fps!\n",
      "Overall # of frames:  982  found with (before cropping) frame dimensions:  1280 720\n",
      "Starting to extract posture\n"
     ]
    },
    {
     "name": "stderr",
     "output_type": "stream",
     "text": [
      "100%|███████████████████████████████████████████████████████████████████████████████▊| 980/982 [00:23<00:00, 41.23it/s]\n"
     ]
    },
    {
     "name": "stdout",
     "output_type": "stream",
     "text": [
      "Saving results in C:\\Users\\UCPH\\gabi\\thesis analysis\\test2...\n",
      "Saving csv poses!\n",
      "Starting to analyze %  C:\\Users\\UCPH\\gabi\\thesis analysis\\test2\\1_POST_BB_35_H0,8_WT_M_T4.avi\n",
      "Loading  C:\\Users\\UCPH\\gabi\\thesis analysis\\test2\\1_POST_BB_35_H0,8_WT_M_T4.avi\n",
      "Duration of video [s]:  46.07 , recorded with  15.0 fps!\n",
      "Overall # of frames:  691  found with (before cropping) frame dimensions:  1280 720\n",
      "Starting to extract posture\n"
     ]
    },
    {
     "name": "stderr",
     "output_type": "stream",
     "text": [
      "100%|███████████████████████████████████████████████████████████████████████████████▉| 690/691 [00:16<00:00, 41.03it/s]\n"
     ]
    },
    {
     "name": "stdout",
     "output_type": "stream",
     "text": [
      "Saving results in C:\\Users\\UCPH\\gabi\\thesis analysis\\test2...\n",
      "Saving csv poses!\n",
      "Starting to analyze %  C:\\Users\\UCPH\\gabi\\thesis analysis\\test2\\1_POST_BB_37_H0,2_WT_M_T1.avi\n",
      "Loading  C:\\Users\\UCPH\\gabi\\thesis analysis\\test2\\1_POST_BB_37_H0,2_WT_M_T1.avi\n",
      "Duration of video [s]:  7.47 , recorded with  15.0 fps!\n",
      "Overall # of frames:  112  found with (before cropping) frame dimensions:  1280 720\n",
      "Starting to extract posture\n"
     ]
    },
    {
     "name": "stderr",
     "output_type": "stream",
     "text": [
      " 98%|██████████████████████████████████████████████████████████████████████████████▌ | 110/112 [00:02<00:00, 40.31it/s]\n"
     ]
    },
    {
     "name": "stdout",
     "output_type": "stream",
     "text": [
      "Saving results in C:\\Users\\UCPH\\gabi\\thesis analysis\\test2...\n",
      "Saving csv poses!\n",
      "Starting to analyze %  C:\\Users\\UCPH\\gabi\\thesis analysis\\test2\\1_POST_BB_37_H0,2_WT_M_T2.avi\n",
      "Loading  C:\\Users\\UCPH\\gabi\\thesis analysis\\test2\\1_POST_BB_37_H0,2_WT_M_T2.avi\n",
      "Duration of video [s]:  9.07 , recorded with  15.0 fps!\n",
      "Overall # of frames:  136  found with (before cropping) frame dimensions:  1280 720\n",
      "Starting to extract posture\n"
     ]
    },
    {
     "name": "stderr",
     "output_type": "stream",
     "text": [
      " 96%|████████████████████████████████████████████████████████████████████████████▍   | 130/136 [00:03<00:00, 39.51it/s]\n"
     ]
    },
    {
     "name": "stdout",
     "output_type": "stream",
     "text": [
      "Saving results in C:\\Users\\UCPH\\gabi\\thesis analysis\\test2...\n",
      "Saving csv poses!\n",
      "Starting to analyze %  C:\\Users\\UCPH\\gabi\\thesis analysis\\test2\\1_POST_BB_37_H0,2_WT_M_T3.avi\n",
      "Loading  C:\\Users\\UCPH\\gabi\\thesis analysis\\test2\\1_POST_BB_37_H0,2_WT_M_T3.avi\n",
      "Duration of video [s]:  68.47 , recorded with  15.0 fps!\n",
      "Overall # of frames:  1027  found with (before cropping) frame dimensions:  1280 720\n",
      "Starting to extract posture\n"
     ]
    },
    {
     "name": "stderr",
     "output_type": "stream",
     "text": [
      " 99%|█████████████████████████████████████████████████████████████████████████████▍| 1020/1027 [00:24<00:00, 40.86it/s]\n"
     ]
    },
    {
     "name": "stdout",
     "output_type": "stream",
     "text": [
      "Saving results in C:\\Users\\UCPH\\gabi\\thesis analysis\\test2...\n",
      "Saving csv poses!\n",
      "Starting to analyze %  C:\\Users\\UCPH\\gabi\\thesis analysis\\test2\\1_POST_BB_37_H0,2_WT_M_T4.avi\n",
      "Loading  C:\\Users\\UCPH\\gabi\\thesis analysis\\test2\\1_POST_BB_37_H0,2_WT_M_T4.avi\n",
      "Duration of video [s]:  25.67 , recorded with  15.0 fps!\n",
      "Overall # of frames:  385  found with (before cropping) frame dimensions:  1280 720\n",
      "Starting to extract posture\n"
     ]
    },
    {
     "name": "stderr",
     "output_type": "stream",
     "text": [
      " 99%|██████████████████████████████████████████████████████████████████████████████▉ | 380/385 [00:09<00:00, 40.13it/s]\n"
     ]
    },
    {
     "name": "stdout",
     "output_type": "stream",
     "text": [
      "Saving results in C:\\Users\\UCPH\\gabi\\thesis analysis\\test2...\n",
      "Saving csv poses!\n",
      "Starting to analyze %  C:\\Users\\UCPH\\gabi\\thesis analysis\\test2\\1_POST_BB_37_H0,4_WT_M_T1.avi\n",
      "Loading  C:\\Users\\UCPH\\gabi\\thesis analysis\\test2\\1_POST_BB_37_H0,4_WT_M_T1.avi\n",
      "Duration of video [s]:  8.2 , recorded with  15.0 fps!\n",
      "Overall # of frames:  123  found with (before cropping) frame dimensions:  1280 720\n",
      "Starting to extract posture\n"
     ]
    },
    {
     "name": "stderr",
     "output_type": "stream",
     "text": [
      " 98%|██████████████████████████████████████████████████████████████████████████████  | 120/123 [00:03<00:00, 38.77it/s]\n"
     ]
    },
    {
     "name": "stdout",
     "output_type": "stream",
     "text": [
      "Saving results in C:\\Users\\UCPH\\gabi\\thesis analysis\\test2...\n",
      "Saving csv poses!\n",
      "Starting to analyze %  C:\\Users\\UCPH\\gabi\\thesis analysis\\test2\\1_POST_BB_37_H0,4_WT_M_T2.avi\n",
      "Loading  C:\\Users\\UCPH\\gabi\\thesis analysis\\test2\\1_POST_BB_37_H0,4_WT_M_T2.avi\n",
      "Duration of video [s]:  8.87 , recorded with  15.0 fps!\n",
      "Overall # of frames:  133  found with (before cropping) frame dimensions:  1280 720\n",
      "Starting to extract posture\n"
     ]
    },
    {
     "name": "stderr",
     "output_type": "stream",
     "text": [
      " 98%|██████████████████████████████████████████████████████████████████████████████▏ | 130/133 [00:03<00:00, 39.44it/s]\n"
     ]
    },
    {
     "name": "stdout",
     "output_type": "stream",
     "text": [
      "Saving results in C:\\Users\\UCPH\\gabi\\thesis analysis\\test2...\n",
      "Saving csv poses!\n",
      "Starting to analyze %  C:\\Users\\UCPH\\gabi\\thesis analysis\\test2\\1_POST_BB_37_H0,4_WT_M_T3.avi\n",
      "Loading  C:\\Users\\UCPH\\gabi\\thesis analysis\\test2\\1_POST_BB_37_H0,4_WT_M_T3.avi\n",
      "Duration of video [s]:  11.07 , recorded with  15.0 fps!\n",
      "Overall # of frames:  166  found with (before cropping) frame dimensions:  1280 720\n",
      "Starting to extract posture\n"
     ]
    },
    {
     "name": "stderr",
     "output_type": "stream",
     "text": [
      " 96%|█████████████████████████████████████████████████████████████████████████████   | 160/166 [00:04<00:00, 39.42it/s]\n"
     ]
    },
    {
     "name": "stdout",
     "output_type": "stream",
     "text": [
      "Saving results in C:\\Users\\UCPH\\gabi\\thesis analysis\\test2...\n",
      "Saving csv poses!\n",
      "Starting to analyze %  C:\\Users\\UCPH\\gabi\\thesis analysis\\test2\\1_POST_BB_37_H0,4_WT_M_T4.avi\n",
      "Loading  C:\\Users\\UCPH\\gabi\\thesis analysis\\test2\\1_POST_BB_37_H0,4_WT_M_T4.avi\n",
      "Duration of video [s]:  180.07 , recorded with  15.0 fps!\n",
      "Overall # of frames:  2701  found with (before cropping) frame dimensions:  1280 720\n",
      "Starting to extract posture\n"
     ]
    },
    {
     "name": "stderr",
     "output_type": "stream",
     "text": [
      "100%|█████████████████████████████████████████████████████████████████████████████▉| 2700/2701 [01:04<00:00, 41.56it/s]\n"
     ]
    },
    {
     "name": "stdout",
     "output_type": "stream",
     "text": [
      "Saving results in C:\\Users\\UCPH\\gabi\\thesis analysis\\test2...\n",
      "Saving csv poses!\n",
      "Starting to analyze %  C:\\Users\\UCPH\\gabi\\thesis analysis\\test2\\1_POST_BB_37_H0,8_WT_M_T1.avi\n",
      "Loading  C:\\Users\\UCPH\\gabi\\thesis analysis\\test2\\1_POST_BB_37_H0,8_WT_M_T1.avi\n",
      "Duration of video [s]:  7.73 , recorded with  15.0 fps!\n",
      "Overall # of frames:  116  found with (before cropping) frame dimensions:  1280 720\n",
      "Starting to extract posture\n"
     ]
    },
    {
     "name": "stderr",
     "output_type": "stream",
     "text": [
      " 95%|███████████████████████████████████████████████████████████████████████████▊    | 110/116 [00:02<00:00, 37.78it/s]\n"
     ]
    },
    {
     "name": "stdout",
     "output_type": "stream",
     "text": [
      "Saving results in C:\\Users\\UCPH\\gabi\\thesis analysis\\test2...\n",
      "Saving csv poses!\n",
      "Starting to analyze %  C:\\Users\\UCPH\\gabi\\thesis analysis\\test2\\1_POST_BB_37_H0,8_WT_M_T2.avi\n",
      "Loading  C:\\Users\\UCPH\\gabi\\thesis analysis\\test2\\1_POST_BB_37_H0,8_WT_M_T2.avi\n",
      "Duration of video [s]:  132.27 , recorded with  15.0 fps!\n",
      "Overall # of frames:  1984  found with (before cropping) frame dimensions:  1280 720\n",
      "Starting to extract posture\n"
     ]
    },
    {
     "name": "stderr",
     "output_type": "stream",
     "text": [
      "100%|█████████████████████████████████████████████████████████████████████████████▋| 1976/1984 [00:47<00:00, 41.35it/s]\n"
     ]
    },
    {
     "name": "stdout",
     "output_type": "stream",
     "text": [
      "Saving results in C:\\Users\\UCPH\\gabi\\thesis analysis\\test2...\n",
      "Saving csv poses!\n",
      "Starting to analyze %  C:\\Users\\UCPH\\gabi\\thesis analysis\\test2\\1_POST_BB_37_H0,8_WT_M_T3.avi\n",
      "Loading  C:\\Users\\UCPH\\gabi\\thesis analysis\\test2\\1_POST_BB_37_H0,8_WT_M_T3.avi\n",
      "Duration of video [s]:  102.27 , recorded with  15.0 fps!\n",
      "Overall # of frames:  1534  found with (before cropping) frame dimensions:  1280 720\n",
      "Starting to extract posture\n"
     ]
    },
    {
     "name": "stderr",
     "output_type": "stream",
     "text": [
      "100%|█████████████████████████████████████████████████████████████████████████████▊| 1530/1534 [00:37<00:00, 41.31it/s]\n"
     ]
    },
    {
     "name": "stdout",
     "output_type": "stream",
     "text": [
      "Saving results in C:\\Users\\UCPH\\gabi\\thesis analysis\\test2...\n",
      "Saving csv poses!\n",
      "Starting to analyze %  C:\\Users\\UCPH\\gabi\\thesis analysis\\test2\\1_POST_BB_37_H0,8_WT_M_T4.avi\n",
      "Loading  C:\\Users\\UCPH\\gabi\\thesis analysis\\test2\\1_POST_BB_37_H0,8_WT_M_T4.avi\n",
      "Duration of video [s]:  180.07 , recorded with  15.0 fps!\n",
      "Overall # of frames:  2701  found with (before cropping) frame dimensions:  1280 720\n",
      "Starting to extract posture\n"
     ]
    },
    {
     "name": "stderr",
     "output_type": "stream",
     "text": [
      "100%|█████████████████████████████████████████████████████████████████████████████▉| 2700/2701 [01:05<00:00, 41.51it/s]\n"
     ]
    },
    {
     "name": "stdout",
     "output_type": "stream",
     "text": [
      "Saving results in C:\\Users\\UCPH\\gabi\\thesis analysis\\test2...\n",
      "Saving csv poses!\n",
      "Starting to analyze %  C:\\Users\\UCPH\\gabi\\thesis analysis\\test2\\1_PRE_BB_15_H0,2_KI_M_T1.avi\n",
      "Loading  C:\\Users\\UCPH\\gabi\\thesis analysis\\test2\\1_PRE_BB_15_H0,2_KI_M_T1.avi\n",
      "Duration of video [s]:  4.47 , recorded with  15.0 fps!\n",
      "Overall # of frames:  67  found with (before cropping) frame dimensions:  1280 720\n",
      "Starting to extract posture\n"
     ]
    },
    {
     "name": "stderr",
     "output_type": "stream",
     "text": [
      " 90%|█████████████████████████████████████████████████████████████████████████▍        | 60/67 [00:01<00:00, 34.17it/s]\n"
     ]
    },
    {
     "name": "stdout",
     "output_type": "stream",
     "text": [
      "Saving results in C:\\Users\\UCPH\\gabi\\thesis analysis\\test2...\n",
      "Saving csv poses!\n",
      "Starting to analyze %  C:\\Users\\UCPH\\gabi\\thesis analysis\\test2\\1_PRE_BB_15_H0,2_KI_M_T2.avi\n",
      "Loading  C:\\Users\\UCPH\\gabi\\thesis analysis\\test2\\1_PRE_BB_15_H0,2_KI_M_T2.avi\n",
      "Duration of video [s]:  3.87 , recorded with  15.0 fps!\n",
      "Overall # of frames:  58  found with (before cropping) frame dimensions:  1280 720\n",
      "Starting to extract posture\n"
     ]
    },
    {
     "name": "stderr",
     "output_type": "stream",
     "text": [
      " 86%|██████████████████████████████████████████████████████████████████████▋           | 50/58 [00:01<00:00, 32.28it/s]\n"
     ]
    },
    {
     "name": "stdout",
     "output_type": "stream",
     "text": [
      "Saving results in C:\\Users\\UCPH\\gabi\\thesis analysis\\test2...\n",
      "Saving csv poses!\n",
      "Starting to analyze %  C:\\Users\\UCPH\\gabi\\thesis analysis\\test2\\1_PRE_BB_15_H0,2_KI_M_T3.avi\n",
      "Loading  C:\\Users\\UCPH\\gabi\\thesis analysis\\test2\\1_PRE_BB_15_H0,2_KI_M_T3.avi\n",
      "Duration of video [s]:  3.67 , recorded with  15.0 fps!\n",
      "Overall # of frames:  55  found with (before cropping) frame dimensions:  1280 720\n",
      "Starting to extract posture\n"
     ]
    },
    {
     "name": "stderr",
     "output_type": "stream",
     "text": [
      " 91%|██████████████████████████████████████████████████████████████████████████▌       | 50/55 [00:01<00:00, 36.39it/s]\n"
     ]
    },
    {
     "name": "stdout",
     "output_type": "stream",
     "text": [
      "Saving results in C:\\Users\\UCPH\\gabi\\thesis analysis\\test2...\n",
      "Saving csv poses!\n",
      "Starting to analyze %  C:\\Users\\UCPH\\gabi\\thesis analysis\\test2\\1_PRE_BB_15_H0,2_KI_M_T4.avi\n",
      "Loading  C:\\Users\\UCPH\\gabi\\thesis analysis\\test2\\1_PRE_BB_15_H0,2_KI_M_T4.avi\n",
      "Duration of video [s]:  3.47 , recorded with  15.0 fps!\n",
      "Overall # of frames:  52  found with (before cropping) frame dimensions:  1280 720\n",
      "Starting to extract posture\n"
     ]
    },
    {
     "name": "stderr",
     "output_type": "stream",
     "text": [
      " 96%|██████████████████████████████████████████████████████████████████████████████▊   | 50/52 [00:01<00:00, 36.65it/s]\n"
     ]
    },
    {
     "name": "stdout",
     "output_type": "stream",
     "text": [
      "Saving results in C:\\Users\\UCPH\\gabi\\thesis analysis\\test2...\n",
      "Saving csv poses!\n",
      "Starting to analyze %  C:\\Users\\UCPH\\gabi\\thesis analysis\\test2\\1_PRE_BB_15_H0,4_KI_M_T1.avi\n",
      "Loading  C:\\Users\\UCPH\\gabi\\thesis analysis\\test2\\1_PRE_BB_15_H0,4_KI_M_T1.avi\n",
      "Duration of video [s]:  3.27 , recorded with  15.0 fps!\n",
      "Overall # of frames:  49  found with (before cropping) frame dimensions:  1280 720\n",
      "Starting to extract posture\n"
     ]
    },
    {
     "name": "stderr",
     "output_type": "stream",
     "text": [
      " 82%|██████████████████████████████████████████████████████████████████▉               | 40/49 [00:01<00:00, 33.82it/s]\n"
     ]
    },
    {
     "name": "stdout",
     "output_type": "stream",
     "text": [
      "Saving results in C:\\Users\\UCPH\\gabi\\thesis analysis\\test2...\n",
      "Saving csv poses!\n",
      "Starting to analyze %  C:\\Users\\UCPH\\gabi\\thesis analysis\\test2\\1_PRE_BB_15_H0,4_KI_M_T2.avi\n",
      "Loading  C:\\Users\\UCPH\\gabi\\thesis analysis\\test2\\1_PRE_BB_15_H0,4_KI_M_T2.avi\n",
      "Duration of video [s]:  3.07 , recorded with  15.0 fps!\n",
      "Overall # of frames:  46  found with (before cropping) frame dimensions:  1280 720\n",
      "Starting to extract posture\n"
     ]
    },
    {
     "name": "stderr",
     "output_type": "stream",
     "text": [
      " 87%|███████████████████████████████████████████████████████████████████████▎          | 40/46 [00:01<00:00, 34.24it/s]\n"
     ]
    },
    {
     "name": "stdout",
     "output_type": "stream",
     "text": [
      "Saving results in C:\\Users\\UCPH\\gabi\\thesis analysis\\test2...\n",
      "Saving csv poses!\n",
      "Starting to analyze %  C:\\Users\\UCPH\\gabi\\thesis analysis\\test2\\1_PRE_BB_15_H0,4_KI_M_T3.avi\n",
      "Loading  C:\\Users\\UCPH\\gabi\\thesis analysis\\test2\\1_PRE_BB_15_H0,4_KI_M_T3.avi\n",
      "Duration of video [s]:  2.67 , recorded with  15.0 fps!\n",
      "Overall # of frames:  40  found with (before cropping) frame dimensions:  1280 720\n",
      "Starting to extract posture\n"
     ]
    },
    {
     "name": "stderr",
     "output_type": "stream",
     "text": [
      "100%|██████████████████████████████████████████████████████████████████████████████████| 40/40 [00:00<00:00, 40.78it/s]\n"
     ]
    },
    {
     "name": "stdout",
     "output_type": "stream",
     "text": [
      "Saving results in C:\\Users\\UCPH\\gabi\\thesis analysis\\test2...\n",
      "Saving csv poses!\n",
      "Starting to analyze %  C:\\Users\\UCPH\\gabi\\thesis analysis\\test2\\1_PRE_BB_15_H0,4_KI_M_T4.avi\n",
      "Loading  C:\\Users\\UCPH\\gabi\\thesis analysis\\test2\\1_PRE_BB_15_H0,4_KI_M_T4.avi\n",
      "Duration of video [s]:  3.27 , recorded with  15.0 fps!\n",
      "Overall # of frames:  49  found with (before cropping) frame dimensions:  1280 720\n",
      "Starting to extract posture\n"
     ]
    },
    {
     "name": "stderr",
     "output_type": "stream",
     "text": [
      " 82%|██████████████████████████████████████████████████████████████████▉               | 40/49 [00:01<00:00, 34.15it/s]\n"
     ]
    },
    {
     "name": "stdout",
     "output_type": "stream",
     "text": [
      "Saving results in C:\\Users\\UCPH\\gabi\\thesis analysis\\test2...\n",
      "Saving csv poses!\n",
      "Starting to analyze %  C:\\Users\\UCPH\\gabi\\thesis analysis\\test2\\1_PRE_BB_15_H0,8_KI_M_T1.avi\n",
      "Loading  C:\\Users\\UCPH\\gabi\\thesis analysis\\test2\\1_PRE_BB_15_H0,8_KI_M_T1.avi\n",
      "Duration of video [s]:  4.67 , recorded with  15.0 fps!\n",
      "Overall # of frames:  70  found with (before cropping) frame dimensions:  1280 720\n",
      "Starting to extract posture\n"
     ]
    },
    {
     "name": "stderr",
     "output_type": "stream",
     "text": [
      "100%|██████████████████████████████████████████████████████████████████████████████████| 70/70 [00:01<00:00, 39.60it/s]\n"
     ]
    },
    {
     "name": "stdout",
     "output_type": "stream",
     "text": [
      "Saving results in C:\\Users\\UCPH\\gabi\\thesis analysis\\test2...\n",
      "Saving csv poses!\n",
      "Starting to analyze %  C:\\Users\\UCPH\\gabi\\thesis analysis\\test2\\1_PRE_BB_15_H0,8_KI_M_T2.avi\n",
      "Loading  C:\\Users\\UCPH\\gabi\\thesis analysis\\test2\\1_PRE_BB_15_H0,8_KI_M_T2.avi\n",
      "Duration of video [s]:  4.27 , recorded with  15.0 fps!\n",
      "Overall # of frames:  64  found with (before cropping) frame dimensions:  1280 720\n",
      "Starting to extract posture\n"
     ]
    },
    {
     "name": "stderr",
     "output_type": "stream",
     "text": [
      " 94%|████████████████████████████████████████████████████████████████████████████▉     | 60/64 [00:01<00:00, 38.51it/s]\n"
     ]
    },
    {
     "name": "stdout",
     "output_type": "stream",
     "text": [
      "Saving results in C:\\Users\\UCPH\\gabi\\thesis analysis\\test2...\n",
      "Saving csv poses!\n",
      "Starting to analyze %  C:\\Users\\UCPH\\gabi\\thesis analysis\\test2\\1_PRE_BB_15_H0,8_KI_M_T3.avi\n",
      "Loading  C:\\Users\\UCPH\\gabi\\thesis analysis\\test2\\1_PRE_BB_15_H0,8_KI_M_T3.avi\n",
      "Duration of video [s]:  31.47 , recorded with  15.0 fps!\n",
      "Overall # of frames:  472  found with (before cropping) frame dimensions:  1280 720\n",
      "Starting to extract posture\n"
     ]
    },
    {
     "name": "stderr",
     "output_type": "stream",
     "text": [
      "100%|███████████████████████████████████████████████████████████████████████████████▋| 470/472 [00:11<00:00, 41.07it/s]\n"
     ]
    },
    {
     "name": "stdout",
     "output_type": "stream",
     "text": [
      "Saving results in C:\\Users\\UCPH\\gabi\\thesis analysis\\test2...\n",
      "Saving csv poses!\n",
      "Starting to analyze %  C:\\Users\\UCPH\\gabi\\thesis analysis\\test2\\1_PRE_BB_15_H0,8_KI_M_T4.avi\n",
      "Loading  C:\\Users\\UCPH\\gabi\\thesis analysis\\test2\\1_PRE_BB_15_H0,8_KI_M_T4.avi\n",
      "Duration of video [s]:  4.47 , recorded with  15.0 fps!\n",
      "Overall # of frames:  67  found with (before cropping) frame dimensions:  1280 720\n",
      "Starting to extract posture\n"
     ]
    },
    {
     "name": "stderr",
     "output_type": "stream",
     "text": [
      " 90%|█████████████████████████████████████████████████████████████████████████▍        | 60/67 [00:01<00:00, 34.26it/s]\n"
     ]
    },
    {
     "name": "stdout",
     "output_type": "stream",
     "text": [
      "Saving results in C:\\Users\\UCPH\\gabi\\thesis analysis\\test2...\n",
      "Saving csv poses!\n",
      "Starting to analyze %  C:\\Users\\UCPH\\gabi\\thesis analysis\\test2\\1_PRE_BB_16_H0,2_WT_F_T1.avi\n",
      "Loading  C:\\Users\\UCPH\\gabi\\thesis analysis\\test2\\1_PRE_BB_16_H0,2_WT_F_T1.avi\n",
      "Duration of video [s]:  3.13 , recorded with  15.0 fps!\n",
      "Overall # of frames:  47  found with (before cropping) frame dimensions:  1280 720\n",
      "Starting to extract posture\n"
     ]
    },
    {
     "name": "stderr",
     "output_type": "stream",
     "text": [
      " 85%|█████████████████████████████████████████████████████████████████████▊            | 40/47 [00:01<00:00, 33.89it/s]\n"
     ]
    },
    {
     "name": "stdout",
     "output_type": "stream",
     "text": [
      "Saving results in C:\\Users\\UCPH\\gabi\\thesis analysis\\test2...\n",
      "Saving csv poses!\n",
      "Starting to analyze %  C:\\Users\\UCPH\\gabi\\thesis analysis\\test2\\1_PRE_BB_16_H0,2_WT_F_T2.avi\n",
      "Loading  C:\\Users\\UCPH\\gabi\\thesis analysis\\test2\\1_PRE_BB_16_H0,2_WT_F_T2.avi\n",
      "Duration of video [s]:  3.07 , recorded with  15.0 fps!\n",
      "Overall # of frames:  46  found with (before cropping) frame dimensions:  1280 720\n",
      "Starting to extract posture\n"
     ]
    },
    {
     "name": "stderr",
     "output_type": "stream",
     "text": [
      " 87%|███████████████████████████████████████████████████████████████████████▎          | 40/46 [00:01<00:00, 34.30it/s]\n"
     ]
    },
    {
     "name": "stdout",
     "output_type": "stream",
     "text": [
      "Saving results in C:\\Users\\UCPH\\gabi\\thesis analysis\\test2...\n",
      "Saving csv poses!\n",
      "Starting to analyze %  C:\\Users\\UCPH\\gabi\\thesis analysis\\test2\\1_PRE_BB_16_H0,2_WT_F_T3.avi\n",
      "Loading  C:\\Users\\UCPH\\gabi\\thesis analysis\\test2\\1_PRE_BB_16_H0,2_WT_F_T3.avi\n",
      "Duration of video [s]:  4.47 , recorded with  15.0 fps!\n",
      "Overall # of frames:  67  found with (before cropping) frame dimensions:  1280 720\n",
      "Starting to extract posture\n"
     ]
    },
    {
     "name": "stderr",
     "output_type": "stream",
     "text": [
      " 90%|█████████████████████████████████████████████████████████████████████████▍        | 60/67 [00:01<00:00, 34.31it/s]\n"
     ]
    },
    {
     "name": "stdout",
     "output_type": "stream",
     "text": [
      "Saving results in C:\\Users\\UCPH\\gabi\\thesis analysis\\test2...\n",
      "Saving csv poses!\n",
      "Starting to analyze %  C:\\Users\\UCPH\\gabi\\thesis analysis\\test2\\1_PRE_BB_16_H0,2_WT_F_T4.avi\n",
      "Loading  C:\\Users\\UCPH\\gabi\\thesis analysis\\test2\\1_PRE_BB_16_H0,2_WT_F_T4.avi\n",
      "Duration of video [s]:  5.47 , recorded with  15.0 fps!\n",
      "Overall # of frames:  82  found with (before cropping) frame dimensions:  1280 720\n",
      "Starting to extract posture\n"
     ]
    },
    {
     "name": "stderr",
     "output_type": "stream",
     "text": [
      " 98%|████████████████████████████████████████████████████████████████████████████████  | 80/82 [00:02<00:00, 37.51it/s]\n"
     ]
    },
    {
     "name": "stdout",
     "output_type": "stream",
     "text": [
      "Saving results in C:\\Users\\UCPH\\gabi\\thesis analysis\\test2...\n",
      "Saving csv poses!\n",
      "Starting to analyze %  C:\\Users\\UCPH\\gabi\\thesis analysis\\test2\\1_PRE_BB_16_H0,4_WT_F_T1.avi\n",
      "Loading  C:\\Users\\UCPH\\gabi\\thesis analysis\\test2\\1_PRE_BB_16_H0,4_WT_F_T1.avi\n",
      "Duration of video [s]:  4.93 , recorded with  15.0 fps!\n",
      "Overall # of frames:  74  found with (before cropping) frame dimensions:  1280 720\n",
      "Starting to extract posture\n"
     ]
    },
    {
     "name": "stderr",
     "output_type": "stream",
     "text": [
      " 95%|█████████████████████████████████████████████████████████████████████████████▌    | 70/74 [00:01<00:00, 36.15it/s]\n"
     ]
    },
    {
     "name": "stdout",
     "output_type": "stream",
     "text": [
      "Saving results in C:\\Users\\UCPH\\gabi\\thesis analysis\\test2...\n",
      "Saving csv poses!\n",
      "Starting to analyze %  C:\\Users\\UCPH\\gabi\\thesis analysis\\test2\\1_PRE_BB_16_H0,4_WT_F_T2.avi\n",
      "Loading  C:\\Users\\UCPH\\gabi\\thesis analysis\\test2\\1_PRE_BB_16_H0,4_WT_F_T2.avi\n",
      "Duration of video [s]:  4.07 , recorded with  15.0 fps!\n",
      "Overall # of frames:  61  found with (before cropping) frame dimensions:  1280 720\n",
      "Starting to extract posture\n"
     ]
    },
    {
     "name": "stderr",
     "output_type": "stream",
     "text": [
      " 98%|████████████████████████████████████████████████████████████████████████████████▋ | 60/61 [00:01<00:00, 38.64it/s]\n"
     ]
    },
    {
     "name": "stdout",
     "output_type": "stream",
     "text": [
      "Saving results in C:\\Users\\UCPH\\gabi\\thesis analysis\\test2...\n",
      "Saving csv poses!\n",
      "Starting to analyze %  C:\\Users\\UCPH\\gabi\\thesis analysis\\test2\\1_PRE_BB_16_H0,4_WT_F_T3.avi\n",
      "Loading  C:\\Users\\UCPH\\gabi\\thesis analysis\\test2\\1_PRE_BB_16_H0,4_WT_F_T3.avi\n",
      "Duration of video [s]:  6.27 , recorded with  15.0 fps!\n",
      "Overall # of frames:  94  found with (before cropping) frame dimensions:  1280 720\n",
      "Starting to extract posture\n"
     ]
    },
    {
     "name": "stderr",
     "output_type": "stream",
     "text": [
      " 96%|██████████████████████████████████████████████████████████████████████████████▌   | 90/94 [00:02<00:00, 38.52it/s]\n"
     ]
    },
    {
     "name": "stdout",
     "output_type": "stream",
     "text": [
      "Saving results in C:\\Users\\UCPH\\gabi\\thesis analysis\\test2...\n",
      "Saving csv poses!\n",
      "Starting to analyze %  C:\\Users\\UCPH\\gabi\\thesis analysis\\test2\\1_PRE_BB_16_H0,4_WT_F_T4.avi\n",
      "Loading  C:\\Users\\UCPH\\gabi\\thesis analysis\\test2\\1_PRE_BB_16_H0,4_WT_F_T4.avi\n",
      "Duration of video [s]:  5.07 , recorded with  15.0 fps!\n",
      "Overall # of frames:  76  found with (before cropping) frame dimensions:  1280 720\n",
      "Starting to extract posture\n"
     ]
    },
    {
     "name": "stderr",
     "output_type": "stream",
     "text": [
      " 92%|███████████████████████████████████████████████████████████████████████████▌      | 70/76 [00:01<00:00, 36.15it/s]\n"
     ]
    },
    {
     "name": "stdout",
     "output_type": "stream",
     "text": [
      "Saving results in C:\\Users\\UCPH\\gabi\\thesis analysis\\test2...\n",
      "Saving csv poses!\n",
      "Starting to analyze %  C:\\Users\\UCPH\\gabi\\thesis analysis\\test2\\1_PRE_BB_16_H0,8_WT_F_T1.avi\n",
      "Loading  C:\\Users\\UCPH\\gabi\\thesis analysis\\test2\\1_PRE_BB_16_H0,8_WT_F_T1.avi\n",
      "Duration of video [s]:  6.2 , recorded with  15.0 fps!\n",
      "Overall # of frames:  93  found with (before cropping) frame dimensions:  1280 720\n",
      "Starting to extract posture\n"
     ]
    },
    {
     "name": "stderr",
     "output_type": "stream",
     "text": [
      " 97%|███████████████████████████████████████████████████████████████████████████████▎  | 90/93 [00:02<00:00, 38.62it/s]\n"
     ]
    },
    {
     "name": "stdout",
     "output_type": "stream",
     "text": [
      "Saving results in C:\\Users\\UCPH\\gabi\\thesis analysis\\test2...\n",
      "Saving csv poses!\n",
      "Starting to analyze %  C:\\Users\\UCPH\\gabi\\thesis analysis\\test2\\1_PRE_BB_16_H0,8_WT_F_T2.avi\n",
      "Loading  C:\\Users\\UCPH\\gabi\\thesis analysis\\test2\\1_PRE_BB_16_H0,8_WT_F_T2.avi\n",
      "Duration of video [s]:  6.53 , recorded with  15.0 fps!\n",
      "Overall # of frames:  98  found with (before cropping) frame dimensions:  1280 720\n",
      "Starting to extract posture\n"
     ]
    },
    {
     "name": "stderr",
     "output_type": "stream",
     "text": [
      " 92%|███████████████████████████████████████████████████████████████████████████▎      | 90/98 [00:02<00:00, 35.79it/s]\n"
     ]
    },
    {
     "name": "stdout",
     "output_type": "stream",
     "text": [
      "Saving results in C:\\Users\\UCPH\\gabi\\thesis analysis\\test2...\n",
      "Saving csv poses!\n",
      "Starting to analyze %  C:\\Users\\UCPH\\gabi\\thesis analysis\\test2\\1_PRE_BB_16_H0,8_WT_F_T3.avi\n",
      "Loading  C:\\Users\\UCPH\\gabi\\thesis analysis\\test2\\1_PRE_BB_16_H0,8_WT_F_T3.avi\n",
      "Duration of video [s]:  7.07 , recorded with  15.0 fps!\n",
      "Overall # of frames:  106  found with (before cropping) frame dimensions:  1280 720\n",
      "Starting to extract posture\n"
     ]
    },
    {
     "name": "stderr",
     "output_type": "stream",
     "text": [
      " 94%|███████████████████████████████████████████████████████████████████████████▍    | 100/106 [00:02<00:00, 36.93it/s]\n"
     ]
    },
    {
     "name": "stdout",
     "output_type": "stream",
     "text": [
      "Saving results in C:\\Users\\UCPH\\gabi\\thesis analysis\\test2...\n",
      "Saving csv poses!\n",
      "Starting to analyze %  C:\\Users\\UCPH\\gabi\\thesis analysis\\test2\\1_PRE_BB_16_H0,8_WT_F_T4.avi\n",
      "Loading  C:\\Users\\UCPH\\gabi\\thesis analysis\\test2\\1_PRE_BB_16_H0,8_WT_F_T4.avi\n",
      "Duration of video [s]:  13.47 , recorded with  15.0 fps!\n",
      "Overall # of frames:  202  found with (before cropping) frame dimensions:  1280 720\n",
      "Starting to extract posture\n"
     ]
    },
    {
     "name": "stderr",
     "output_type": "stream",
     "text": [
      " 99%|███████████████████████████████████████████████████████████████████████████████▏| 200/202 [00:05<00:00, 39.79it/s]\n"
     ]
    },
    {
     "name": "stdout",
     "output_type": "stream",
     "text": [
      "Saving results in C:\\Users\\UCPH\\gabi\\thesis analysis\\test2...\n",
      "Saving csv poses!\n",
      "Starting to analyze %  C:\\Users\\UCPH\\gabi\\thesis analysis\\test2\\1_PRE_BB_17_H0,2_KI_M_T1.avi\n",
      "Loading  C:\\Users\\UCPH\\gabi\\thesis analysis\\test2\\1_PRE_BB_17_H0,2_KI_M_T1.avi\n",
      "Duration of video [s]:  4.87 , recorded with  15.0 fps!\n",
      "Overall # of frames:  73  found with (before cropping) frame dimensions:  1280 720\n",
      "Starting to extract posture\n"
     ]
    },
    {
     "name": "stderr",
     "output_type": "stream",
     "text": [
      " 96%|██████████████████████████████████████████████████████████████████████████████▋   | 70/73 [00:01<00:00, 39.83it/s]\n"
     ]
    },
    {
     "name": "stdout",
     "output_type": "stream",
     "text": [
      "Saving results in C:\\Users\\UCPH\\gabi\\thesis analysis\\test2...\n",
      "Saving csv poses!\n",
      "Starting to analyze %  C:\\Users\\UCPH\\gabi\\thesis analysis\\test2\\1_PRE_BB_17_H0,2_KI_M_T2.avi\n",
      "Loading  C:\\Users\\UCPH\\gabi\\thesis analysis\\test2\\1_PRE_BB_17_H0,2_KI_M_T2.avi\n",
      "Duration of video [s]:  6.87 , recorded with  15.0 fps!\n",
      "Overall # of frames:  103  found with (before cropping) frame dimensions:  1280 720\n",
      "Starting to extract posture\n"
     ]
    },
    {
     "name": "stderr",
     "output_type": "stream",
     "text": [
      " 97%|█████████████████████████████████████████████████████████████████████████████▋  | 100/103 [00:02<00:00, 39.48it/s]\n"
     ]
    },
    {
     "name": "stdout",
     "output_type": "stream",
     "text": [
      "Saving results in C:\\Users\\UCPH\\gabi\\thesis analysis\\test2...\n",
      "Saving csv poses!\n",
      "Starting to analyze %  C:\\Users\\UCPH\\gabi\\thesis analysis\\test2\\1_PRE_BB_17_H0,2_KI_M_T3.avi\n",
      "Loading  C:\\Users\\UCPH\\gabi\\thesis analysis\\test2\\1_PRE_BB_17_H0,2_KI_M_T3.avi\n",
      "Duration of video [s]:  4.67 , recorded with  15.0 fps!\n",
      "Overall # of frames:  70  found with (before cropping) frame dimensions:  1280 720\n",
      "Starting to extract posture\n"
     ]
    },
    {
     "name": "stderr",
     "output_type": "stream",
     "text": [
      "100%|██████████████████████████████████████████████████████████████████████████████████| 70/70 [00:01<00:00, 39.95it/s]\n"
     ]
    },
    {
     "name": "stdout",
     "output_type": "stream",
     "text": [
      "Saving results in C:\\Users\\UCPH\\gabi\\thesis analysis\\test2...\n",
      "Saving csv poses!\n",
      "Starting to analyze %  C:\\Users\\UCPH\\gabi\\thesis analysis\\test2\\1_PRE_BB_17_H0,2_KI_M_T4.avi\n",
      "Loading  C:\\Users\\UCPH\\gabi\\thesis analysis\\test2\\1_PRE_BB_17_H0,2_KI_M_T4.avi\n",
      "Duration of video [s]:  6.47 , recorded with  15.0 fps!\n",
      "Overall # of frames:  97  found with (before cropping) frame dimensions:  1280 720\n",
      "Starting to extract posture\n"
     ]
    },
    {
     "name": "stderr",
     "output_type": "stream",
     "text": [
      " 93%|████████████████████████████████████████████████████████████████████████████      | 90/97 [00:02<00:00, 38.43it/s]\n"
     ]
    },
    {
     "name": "stdout",
     "output_type": "stream",
     "text": [
      "Saving results in C:\\Users\\UCPH\\gabi\\thesis analysis\\test2...\n",
      "Saving csv poses!\n",
      "Starting to analyze %  C:\\Users\\UCPH\\gabi\\thesis analysis\\test2\\1_PRE_BB_17_H0,4_KI_M_T1.avi\n",
      "Loading  C:\\Users\\UCPH\\gabi\\thesis analysis\\test2\\1_PRE_BB_17_H0,4_KI_M_T1.avi\n",
      "Duration of video [s]:  5.0 , recorded with  15.0 fps!\n",
      "Overall # of frames:  75  found with (before cropping) frame dimensions:  1280 720\n",
      "Starting to extract posture\n"
     ]
    },
    {
     "name": "stderr",
     "output_type": "stream",
     "text": [
      " 93%|████████████████████████████████████████████████████████████████████████████▌     | 70/75 [00:01<00:00, 36.16it/s]\n"
     ]
    },
    {
     "name": "stdout",
     "output_type": "stream",
     "text": [
      "Saving results in C:\\Users\\UCPH\\gabi\\thesis analysis\\test2...\n",
      "Saving csv poses!\n",
      "Starting to analyze %  C:\\Users\\UCPH\\gabi\\thesis analysis\\test2\\1_PRE_BB_17_H0,4_KI_M_T2.avi\n",
      "Loading  C:\\Users\\UCPH\\gabi\\thesis analysis\\test2\\1_PRE_BB_17_H0,4_KI_M_T2.avi\n",
      "Duration of video [s]:  4.07 , recorded with  15.0 fps!\n",
      "Overall # of frames:  61  found with (before cropping) frame dimensions:  1280 720\n",
      "Starting to extract posture\n"
     ]
    },
    {
     "name": "stderr",
     "output_type": "stream",
     "text": [
      " 98%|████████████████████████████████████████████████████████████████████████████████▋ | 60/61 [00:01<00:00, 38.63it/s]\n"
     ]
    },
    {
     "name": "stdout",
     "output_type": "stream",
     "text": [
      "Saving results in C:\\Users\\UCPH\\gabi\\thesis analysis\\test2...\n",
      "Saving csv poses!\n",
      "Starting to analyze %  C:\\Users\\UCPH\\gabi\\thesis analysis\\test2\\1_PRE_BB_17_H0,4_KI_M_T3.avi\n",
      "Loading  C:\\Users\\UCPH\\gabi\\thesis analysis\\test2\\1_PRE_BB_17_H0,4_KI_M_T3.avi\n",
      "Duration of video [s]:  3.47 , recorded with  15.0 fps!\n",
      "Overall # of frames:  52  found with (before cropping) frame dimensions:  1280 720\n",
      "Starting to extract posture\n"
     ]
    },
    {
     "name": "stderr",
     "output_type": "stream",
     "text": [
      " 96%|██████████████████████████████████████████████████████████████████████████████▊   | 50/52 [00:01<00:00, 36.47it/s]\n"
     ]
    },
    {
     "name": "stdout",
     "output_type": "stream",
     "text": [
      "Saving results in C:\\Users\\UCPH\\gabi\\thesis analysis\\test2...\n",
      "Saving csv poses!\n",
      "Starting to analyze %  C:\\Users\\UCPH\\gabi\\thesis analysis\\test2\\1_PRE_BB_17_H0,4_KI_M_T4.avi\n",
      "Loading  C:\\Users\\UCPH\\gabi\\thesis analysis\\test2\\1_PRE_BB_17_H0,4_KI_M_T4.avi\n",
      "Duration of video [s]:  3.87 , recorded with  15.0 fps!\n",
      "Overall # of frames:  58  found with (before cropping) frame dimensions:  1280 720\n",
      "Starting to extract posture\n"
     ]
    },
    {
     "name": "stderr",
     "output_type": "stream",
     "text": [
      " 86%|██████████████████████████████████████████████████████████████████████▋           | 50/58 [00:01<00:00, 32.36it/s]\n"
     ]
    },
    {
     "name": "stdout",
     "output_type": "stream",
     "text": [
      "Saving results in C:\\Users\\UCPH\\gabi\\thesis analysis\\test2...\n",
      "Saving csv poses!\n",
      "Starting to analyze %  C:\\Users\\UCPH\\gabi\\thesis analysis\\test2\\1_PRE_BB_17_H0,8_KI_M_T1.avi\n",
      "Loading  C:\\Users\\UCPH\\gabi\\thesis analysis\\test2\\1_PRE_BB_17_H0,8_KI_M_T1.avi\n",
      "Duration of video [s]:  4.47 , recorded with  15.0 fps!\n",
      "Overall # of frames:  67  found with (before cropping) frame dimensions:  1280 720\n",
      "Starting to extract posture\n"
     ]
    },
    {
     "name": "stderr",
     "output_type": "stream",
     "text": [
      " 90%|█████████████████████████████████████████████████████████████████████████▍        | 60/67 [00:01<00:00, 34.20it/s]\n"
     ]
    },
    {
     "name": "stdout",
     "output_type": "stream",
     "text": [
      "Saving results in C:\\Users\\UCPH\\gabi\\thesis analysis\\test2...\n",
      "Saving csv poses!\n",
      "Starting to analyze %  C:\\Users\\UCPH\\gabi\\thesis analysis\\test2\\1_PRE_BB_17_H0,8_KI_M_T2.avi\n",
      "Loading  C:\\Users\\UCPH\\gabi\\thesis analysis\\test2\\1_PRE_BB_17_H0,8_KI_M_T2.avi\n",
      "Duration of video [s]:  3.47 , recorded with  15.0 fps!\n",
      "Overall # of frames:  52  found with (before cropping) frame dimensions:  1280 720\n",
      "Starting to extract posture\n"
     ]
    },
    {
     "name": "stderr",
     "output_type": "stream",
     "text": [
      " 96%|██████████████████████████████████████████████████████████████████████████████▊   | 50/52 [00:01<00:00, 36.63it/s]\n"
     ]
    },
    {
     "name": "stdout",
     "output_type": "stream",
     "text": [
      "Saving results in C:\\Users\\UCPH\\gabi\\thesis analysis\\test2...\n",
      "Saving csv poses!\n",
      "Starting to analyze %  C:\\Users\\UCPH\\gabi\\thesis analysis\\test2\\1_PRE_BB_17_H0,8_KI_M_T3.avi\n",
      "Loading  C:\\Users\\UCPH\\gabi\\thesis analysis\\test2\\1_PRE_BB_17_H0,8_KI_M_T3.avi\n",
      "Duration of video [s]:  4.07 , recorded with  15.0 fps!\n",
      "Overall # of frames:  61  found with (before cropping) frame dimensions:  1280 720\n",
      "Starting to extract posture\n"
     ]
    },
    {
     "name": "stderr",
     "output_type": "stream",
     "text": [
      " 98%|████████████████████████████████████████████████████████████████████████████████▋ | 60/61 [00:01<00:00, 38.42it/s]\n"
     ]
    },
    {
     "name": "stdout",
     "output_type": "stream",
     "text": [
      "Saving results in C:\\Users\\UCPH\\gabi\\thesis analysis\\test2...\n",
      "Saving csv poses!\n",
      "Starting to analyze %  C:\\Users\\UCPH\\gabi\\thesis analysis\\test2\\1_PRE_BB_17_H0,8_KI_M_T4.avi\n",
      "Loading  C:\\Users\\UCPH\\gabi\\thesis analysis\\test2\\1_PRE_BB_17_H0,8_KI_M_T4.avi\n",
      "Duration of video [s]:  6.27 , recorded with  15.0 fps!\n",
      "Overall # of frames:  94  found with (before cropping) frame dimensions:  1280 720\n",
      "Starting to extract posture\n"
     ]
    },
    {
     "name": "stderr",
     "output_type": "stream",
     "text": [
      " 96%|██████████████████████████████████████████████████████████████████████████████▌   | 90/94 [00:02<00:00, 38.68it/s]\n"
     ]
    },
    {
     "name": "stdout",
     "output_type": "stream",
     "text": [
      "Saving results in C:\\Users\\UCPH\\gabi\\thesis analysis\\test2...\n",
      "Saving csv poses!\n",
      "Starting to analyze %  C:\\Users\\UCPH\\gabi\\thesis analysis\\test2\\1_PRE_BB_19_H0,2_HET_M_T1.avi\n",
      "Loading  C:\\Users\\UCPH\\gabi\\thesis analysis\\test2\\1_PRE_BB_19_H0,2_HET_M_T1.avi\n",
      "Duration of video [s]:  4.33 , recorded with  15.0 fps!\n",
      "Overall # of frames:  65  found with (before cropping) frame dimensions:  1280 720\n",
      "Starting to extract posture\n"
     ]
    },
    {
     "name": "stderr",
     "output_type": "stream",
     "text": [
      " 92%|███████████████████████████████████████████████████████████████████████████▋      | 60/65 [00:01<00:00, 34.41it/s]\n"
     ]
    },
    {
     "name": "stdout",
     "output_type": "stream",
     "text": [
      "Saving results in C:\\Users\\UCPH\\gabi\\thesis analysis\\test2...\n",
      "Saving csv poses!\n",
      "Starting to analyze %  C:\\Users\\UCPH\\gabi\\thesis analysis\\test2\\1_PRE_BB_19_H0,2_HET_M_T2.avi\n",
      "Loading  C:\\Users\\UCPH\\gabi\\thesis analysis\\test2\\1_PRE_BB_19_H0,2_HET_M_T2.avi\n",
      "Duration of video [s]:  4.27 , recorded with  15.0 fps!\n",
      "Overall # of frames:  64  found with (before cropping) frame dimensions:  1280 720\n",
      "Starting to extract posture\n"
     ]
    },
    {
     "name": "stderr",
     "output_type": "stream",
     "text": [
      " 94%|████████████████████████████████████████████████████████████████████████████▉     | 60/64 [00:01<00:00, 38.33it/s]\n"
     ]
    },
    {
     "name": "stdout",
     "output_type": "stream",
     "text": [
      "Saving results in C:\\Users\\UCPH\\gabi\\thesis analysis\\test2...\n",
      "Saving csv poses!\n",
      "Starting to analyze %  C:\\Users\\UCPH\\gabi\\thesis analysis\\test2\\1_PRE_BB_19_H0,2_HET_M_T3.avi\n",
      "Loading  C:\\Users\\UCPH\\gabi\\thesis analysis\\test2\\1_PRE_BB_19_H0,2_HET_M_T3.avi\n",
      "Duration of video [s]:  5.27 , recorded with  15.0 fps!\n",
      "Overall # of frames:  79  found with (before cropping) frame dimensions:  1280 720\n",
      "Starting to extract posture\n"
     ]
    },
    {
     "name": "stderr",
     "output_type": "stream",
     "text": [
      " 89%|████████████████████████████████████████████████████████████████████████▋         | 70/79 [00:01<00:00, 35.93it/s]\n"
     ]
    },
    {
     "name": "stdout",
     "output_type": "stream",
     "text": [
      "Saving results in C:\\Users\\UCPH\\gabi\\thesis analysis\\test2...\n",
      "Saving csv poses!\n",
      "Starting to analyze %  C:\\Users\\UCPH\\gabi\\thesis analysis\\test2\\1_PRE_BB_19_H0,2_HET_M_T4.avi\n",
      "Loading  C:\\Users\\UCPH\\gabi\\thesis analysis\\test2\\1_PRE_BB_19_H0,2_HET_M_T4.avi\n",
      "Duration of video [s]:  4.87 , recorded with  15.0 fps!\n",
      "Overall # of frames:  73  found with (before cropping) frame dimensions:  1280 720\n",
      "Starting to extract posture\n"
     ]
    },
    {
     "name": "stderr",
     "output_type": "stream",
     "text": [
      " 96%|██████████████████████████████████████████████████████████████████████████████▋   | 70/73 [00:01<00:00, 39.75it/s]\n"
     ]
    },
    {
     "name": "stdout",
     "output_type": "stream",
     "text": [
      "Saving results in C:\\Users\\UCPH\\gabi\\thesis analysis\\test2...\n",
      "Saving csv poses!\n",
      "Starting to analyze %  C:\\Users\\UCPH\\gabi\\thesis analysis\\test2\\1_PRE_BB_19_H0,4_HET_M_T1.avi\n",
      "Loading  C:\\Users\\UCPH\\gabi\\thesis analysis\\test2\\1_PRE_BB_19_H0,4_HET_M_T1.avi\n",
      "Duration of video [s]:  3.8 , recorded with  15.0 fps!\n",
      "Overall # of frames:  57  found with (before cropping) frame dimensions:  1280 720\n",
      "Starting to extract posture\n"
     ]
    },
    {
     "name": "stderr",
     "output_type": "stream",
     "text": [
      " 88%|███████████████████████████████████████████████████████████████████████▉          | 50/57 [00:01<00:00, 32.42it/s]\n"
     ]
    },
    {
     "name": "stdout",
     "output_type": "stream",
     "text": [
      "Saving results in C:\\Users\\UCPH\\gabi\\thesis analysis\\test2...\n",
      "Saving csv poses!\n",
      "Starting to analyze %  C:\\Users\\UCPH\\gabi\\thesis analysis\\test2\\1_PRE_BB_19_H0,4_HET_M_T2.avi\n",
      "Loading  C:\\Users\\UCPH\\gabi\\thesis analysis\\test2\\1_PRE_BB_19_H0,4_HET_M_T2.avi\n",
      "Duration of video [s]:  4.87 , recorded with  15.0 fps!\n",
      "Overall # of frames:  73  found with (before cropping) frame dimensions:  1280 720\n",
      "Starting to extract posture\n"
     ]
    },
    {
     "name": "stderr",
     "output_type": "stream",
     "text": [
      " 96%|██████████████████████████████████████████████████████████████████████████████▋   | 70/73 [00:01<00:00, 36.17it/s]\n"
     ]
    },
    {
     "name": "stdout",
     "output_type": "stream",
     "text": [
      "Saving results in C:\\Users\\UCPH\\gabi\\thesis analysis\\test2...\n",
      "Saving csv poses!\n",
      "Starting to analyze %  C:\\Users\\UCPH\\gabi\\thesis analysis\\test2\\1_PRE_BB_19_H0,4_HET_M_T3.avi\n",
      "Loading  C:\\Users\\UCPH\\gabi\\thesis analysis\\test2\\1_PRE_BB_19_H0,4_HET_M_T3.avi\n",
      "Duration of video [s]:  6.67 , recorded with  15.0 fps!\n",
      "Overall # of frames:  100  found with (before cropping) frame dimensions:  1280 720\n",
      "Starting to extract posture\n"
     ]
    },
    {
     "name": "stderr",
     "output_type": "stream",
     "text": [
      "100%|████████████████████████████████████████████████████████████████████████████████| 100/100 [00:02<00:00, 39.75it/s]\n"
     ]
    },
    {
     "name": "stdout",
     "output_type": "stream",
     "text": [
      "Saving results in C:\\Users\\UCPH\\gabi\\thesis analysis\\test2...\n",
      "Saving csv poses!\n",
      "Starting to analyze %  C:\\Users\\UCPH\\gabi\\thesis analysis\\test2\\1_PRE_BB_19_H0,4_HET_M_T4.avi\n",
      "Loading  C:\\Users\\UCPH\\gabi\\thesis analysis\\test2\\1_PRE_BB_19_H0,4_HET_M_T4.avi\n",
      "Duration of video [s]:  5.87 , recorded with  15.0 fps!\n",
      "Overall # of frames:  88  found with (before cropping) frame dimensions:  1280 720\n",
      "Starting to extract posture\n"
     ]
    },
    {
     "name": "stderr",
     "output_type": "stream",
     "text": [
      " 91%|██████████████████████████████████████████████████████████████████████████▌       | 80/88 [00:02<00:00, 37.25it/s]\n"
     ]
    },
    {
     "name": "stdout",
     "output_type": "stream",
     "text": [
      "Saving results in C:\\Users\\UCPH\\gabi\\thesis analysis\\test2...\n",
      "Saving csv poses!\n",
      "Starting to analyze %  C:\\Users\\UCPH\\gabi\\thesis analysis\\test2\\1_PRE_BB_19_H0,8_HET_M_T1.avi\n",
      "Loading  C:\\Users\\UCPH\\gabi\\thesis analysis\\test2\\1_PRE_BB_19_H0,8_HET_M_T1.avi\n",
      "Duration of video [s]:  5.13 , recorded with  15.0 fps!\n",
      "Overall # of frames:  77  found with (before cropping) frame dimensions:  1280 720\n",
      "Starting to extract posture\n"
     ]
    },
    {
     "name": "stderr",
     "output_type": "stream",
     "text": [
      " 91%|██████████████████████████████████████████████████████████████████████████▌       | 70/77 [00:01<00:00, 35.85it/s]\n"
     ]
    },
    {
     "name": "stdout",
     "output_type": "stream",
     "text": [
      "Saving results in C:\\Users\\UCPH\\gabi\\thesis analysis\\test2...\n",
      "Saving csv poses!\n",
      "Starting to analyze %  C:\\Users\\UCPH\\gabi\\thesis analysis\\test2\\1_PRE_BB_19_H0,8_HET_M_T2.avi\n",
      "Loading  C:\\Users\\UCPH\\gabi\\thesis analysis\\test2\\1_PRE_BB_19_H0,8_HET_M_T2.avi\n",
      "Duration of video [s]:  6.87 , recorded with  15.0 fps!\n",
      "Overall # of frames:  103  found with (before cropping) frame dimensions:  1280 720\n",
      "Starting to extract posture\n"
     ]
    },
    {
     "name": "stderr",
     "output_type": "stream",
     "text": [
      " 97%|█████████████████████████████████████████████████████████████████████████████▋  | 100/103 [00:02<00:00, 39.53it/s]\n"
     ]
    },
    {
     "name": "stdout",
     "output_type": "stream",
     "text": [
      "Saving results in C:\\Users\\UCPH\\gabi\\thesis analysis\\test2...\n",
      "Saving csv poses!\n",
      "Starting to analyze %  C:\\Users\\UCPH\\gabi\\thesis analysis\\test2\\1_PRE_BB_19_H0,8_HET_M_T3.avi\n",
      "Loading  C:\\Users\\UCPH\\gabi\\thesis analysis\\test2\\1_PRE_BB_19_H0,8_HET_M_T3.avi\n",
      "Duration of video [s]:  5.67 , recorded with  15.0 fps!\n",
      "Overall # of frames:  85  found with (before cropping) frame dimensions:  1280 720\n",
      "Starting to extract posture\n"
     ]
    },
    {
     "name": "stderr",
     "output_type": "stream",
     "text": [
      " 94%|█████████████████████████████████████████████████████████████████████████████▏    | 80/85 [00:02<00:00, 37.46it/s]\n"
     ]
    },
    {
     "name": "stdout",
     "output_type": "stream",
     "text": [
      "Saving results in C:\\Users\\UCPH\\gabi\\thesis analysis\\test2...\n",
      "Saving csv poses!\n",
      "Starting to analyze %  C:\\Users\\UCPH\\gabi\\thesis analysis\\test2\\1_PRE_BB_19_H0,8_HET_M_T4.avi\n",
      "Loading  C:\\Users\\UCPH\\gabi\\thesis analysis\\test2\\1_PRE_BB_19_H0,8_HET_M_T4.avi\n",
      "Duration of video [s]:  6.47 , recorded with  15.0 fps!\n",
      "Overall # of frames:  97  found with (before cropping) frame dimensions:  1280 720\n",
      "Starting to extract posture\n"
     ]
    },
    {
     "name": "stderr",
     "output_type": "stream",
     "text": [
      " 93%|████████████████████████████████████████████████████████████████████████████      | 90/97 [00:02<00:00, 35.79it/s]\n"
     ]
    },
    {
     "name": "stdout",
     "output_type": "stream",
     "text": [
      "Saving results in C:\\Users\\UCPH\\gabi\\thesis analysis\\test2...\n",
      "Saving csv poses!\n",
      "Starting to analyze %  C:\\Users\\UCPH\\gabi\\thesis analysis\\test2\\1_PRE_BB_20_H0,2_KI_F_T1.avi\n",
      "Loading  C:\\Users\\UCPH\\gabi\\thesis analysis\\test2\\1_PRE_BB_20_H0,2_KI_F_T1.avi\n",
      "Duration of video [s]:  3.4 , recorded with  15.0 fps!\n",
      "Overall # of frames:  51  found with (before cropping) frame dimensions:  1280 720\n",
      "Starting to extract posture\n"
     ]
    },
    {
     "name": "stderr",
     "output_type": "stream",
     "text": [
      " 98%|████████████████████████████████████████████████████████████████████████████████▍ | 50/51 [00:01<00:00, 36.76it/s]\n"
     ]
    },
    {
     "name": "stdout",
     "output_type": "stream",
     "text": [
      "Saving results in C:\\Users\\UCPH\\gabi\\thesis analysis\\test2...\n",
      "Saving csv poses!\n",
      "Starting to analyze %  C:\\Users\\UCPH\\gabi\\thesis analysis\\test2\\1_PRE_BB_20_H0,2_KI_F_T2.avi\n",
      "Loading  C:\\Users\\UCPH\\gabi\\thesis analysis\\test2\\1_PRE_BB_20_H0,2_KI_F_T2.avi\n",
      "Duration of video [s]:  3.07 , recorded with  15.0 fps!\n",
      "Overall # of frames:  46  found with (before cropping) frame dimensions:  1280 720\n",
      "Starting to extract posture\n"
     ]
    },
    {
     "name": "stderr",
     "output_type": "stream",
     "text": [
      " 87%|███████████████████████████████████████████████████████████████████████▎          | 40/46 [00:01<00:00, 34.15it/s]\n"
     ]
    },
    {
     "name": "stdout",
     "output_type": "stream",
     "text": [
      "Saving results in C:\\Users\\UCPH\\gabi\\thesis analysis\\test2...\n",
      "Saving csv poses!\n",
      "Starting to analyze %  C:\\Users\\UCPH\\gabi\\thesis analysis\\test2\\1_PRE_BB_20_H0,2_KI_F_T3.avi\n",
      "Loading  C:\\Users\\UCPH\\gabi\\thesis analysis\\test2\\1_PRE_BB_20_H0,2_KI_F_T3.avi\n",
      "Duration of video [s]:  2.47 , recorded with  15.0 fps!\n",
      "Overall # of frames:  37  found with (before cropping) frame dimensions:  1280 720\n",
      "Starting to extract posture\n"
     ]
    },
    {
     "name": "stderr",
     "output_type": "stream",
     "text": [
      " 81%|██████████████████████████████████████████████████████████████████▍               | 30/37 [00:00<00:00, 30.95it/s]\n"
     ]
    },
    {
     "name": "stdout",
     "output_type": "stream",
     "text": [
      "Saving results in C:\\Users\\UCPH\\gabi\\thesis analysis\\test2...\n",
      "Saving csv poses!\n",
      "Starting to analyze %  C:\\Users\\UCPH\\gabi\\thesis analysis\\test2\\1_PRE_BB_20_H0,2_KI_F_T4.avi\n",
      "Loading  C:\\Users\\UCPH\\gabi\\thesis analysis\\test2\\1_PRE_BB_20_H0,2_KI_F_T4.avi\n",
      "Duration of video [s]:  4.27 , recorded with  15.0 fps!\n",
      "Overall # of frames:  64  found with (before cropping) frame dimensions:  1280 720\n",
      "Starting to extract posture\n"
     ]
    },
    {
     "name": "stderr",
     "output_type": "stream",
     "text": [
      " 94%|████████████████████████████████████████████████████████████████████████████▉     | 60/64 [00:01<00:00, 38.48it/s]\n"
     ]
    },
    {
     "name": "stdout",
     "output_type": "stream",
     "text": [
      "Saving results in C:\\Users\\UCPH\\gabi\\thesis analysis\\test2...\n",
      "Saving csv poses!\n",
      "Starting to analyze %  C:\\Users\\UCPH\\gabi\\thesis analysis\\test2\\1_PRE_BB_20_H0,4_KI_F_T1.avi\n",
      "Loading  C:\\Users\\UCPH\\gabi\\thesis analysis\\test2\\1_PRE_BB_20_H0,4_KI_F_T1.avi\n",
      "Duration of video [s]:  3.0 , recorded with  15.0 fps!\n",
      "Overall # of frames:  45  found with (before cropping) frame dimensions:  1280 720\n",
      "Starting to extract posture\n"
     ]
    },
    {
     "name": "stderr",
     "output_type": "stream",
     "text": [
      " 89%|████████████████████████████████████████████████████████████████████████▉         | 40/45 [00:01<00:00, 34.20it/s]\n"
     ]
    },
    {
     "name": "stdout",
     "output_type": "stream",
     "text": [
      "Saving results in C:\\Users\\UCPH\\gabi\\thesis analysis\\test2...\n",
      "Saving csv poses!\n",
      "Starting to analyze %  C:\\Users\\UCPH\\gabi\\thesis analysis\\test2\\1_PRE_BB_20_H0,4_KI_F_T2.avi\n",
      "Loading  C:\\Users\\UCPH\\gabi\\thesis analysis\\test2\\1_PRE_BB_20_H0,4_KI_F_T2.avi\n",
      "Duration of video [s]:  2.27 , recorded with  15.0 fps!\n",
      "Overall # of frames:  34  found with (before cropping) frame dimensions:  1280 720\n",
      "Starting to extract posture\n"
     ]
    },
    {
     "name": "stderr",
     "output_type": "stream",
     "text": [
      " 88%|████████████████████████████████████████████████████████████████████████▎         | 30/34 [00:00<00:00, 30.77it/s]\n"
     ]
    },
    {
     "name": "stdout",
     "output_type": "stream",
     "text": [
      "Saving results in C:\\Users\\UCPH\\gabi\\thesis analysis\\test2...\n",
      "Saving csv poses!\n",
      "Starting to analyze %  C:\\Users\\UCPH\\gabi\\thesis analysis\\test2\\1_PRE_BB_20_H0,4_KI_F_T3.avi\n",
      "Loading  C:\\Users\\UCPH\\gabi\\thesis analysis\\test2\\1_PRE_BB_20_H0,4_KI_F_T3.avi\n",
      "Duration of video [s]:  2.47 , recorded with  15.0 fps!\n",
      "Overall # of frames:  37  found with (before cropping) frame dimensions:  1280 720\n",
      "Starting to extract posture\n"
     ]
    },
    {
     "name": "stderr",
     "output_type": "stream",
     "text": [
      " 81%|██████████████████████████████████████████████████████████████████▍               | 30/37 [00:00<00:00, 31.01it/s]\n"
     ]
    },
    {
     "name": "stdout",
     "output_type": "stream",
     "text": [
      "Saving results in C:\\Users\\UCPH\\gabi\\thesis analysis\\test2...\n",
      "Saving csv poses!\n",
      "Starting to analyze %  C:\\Users\\UCPH\\gabi\\thesis analysis\\test2\\1_PRE_BB_20_H0,4_KI_F_T4.avi\n",
      "Loading  C:\\Users\\UCPH\\gabi\\thesis analysis\\test2\\1_PRE_BB_20_H0,4_KI_F_T4.avi\n",
      "Duration of video [s]:  2.87 , recorded with  15.0 fps!\n",
      "Overall # of frames:  43  found with (before cropping) frame dimensions:  1280 720\n",
      "Starting to extract posture\n"
     ]
    },
    {
     "name": "stderr",
     "output_type": "stream",
     "text": [
      " 93%|████████████████████████████████████████████████████████████████████████████▎     | 40/43 [00:01<00:00, 34.38it/s]\n"
     ]
    },
    {
     "name": "stdout",
     "output_type": "stream",
     "text": [
      "Saving results in C:\\Users\\UCPH\\gabi\\thesis analysis\\test2...\n",
      "Saving csv poses!\n",
      "Starting to analyze %  C:\\Users\\UCPH\\gabi\\thesis analysis\\test2\\1_PRE_BB_20_H0,8_KI_F_T1.avi\n",
      "Loading  C:\\Users\\UCPH\\gabi\\thesis analysis\\test2\\1_PRE_BB_20_H0,8_KI_F_T1.avi\n",
      "Duration of video [s]:  3.73 , recorded with  15.0 fps!\n",
      "Overall # of frames:  56  found with (before cropping) frame dimensions:  1280 720\n",
      "Starting to extract posture\n"
     ]
    },
    {
     "name": "stderr",
     "output_type": "stream",
     "text": [
      " 89%|█████████████████████████████████████████████████████████████████████████▏        | 50/56 [00:01<00:00, 36.47it/s]\n"
     ]
    },
    {
     "name": "stdout",
     "output_type": "stream",
     "text": [
      "Saving results in C:\\Users\\UCPH\\gabi\\thesis analysis\\test2...\n",
      "Saving csv poses!\n",
      "Starting to analyze %  C:\\Users\\UCPH\\gabi\\thesis analysis\\test2\\1_PRE_BB_20_H0,8_KI_F_T2.avi\n",
      "Loading  C:\\Users\\UCPH\\gabi\\thesis analysis\\test2\\1_PRE_BB_20_H0,8_KI_F_T2.avi\n",
      "Duration of video [s]:  2.87 , recorded with  15.0 fps!\n",
      "Overall # of frames:  43  found with (before cropping) frame dimensions:  1280 720\n",
      "Starting to extract posture\n"
     ]
    },
    {
     "name": "stderr",
     "output_type": "stream",
     "text": [
      " 93%|████████████████████████████████████████████████████████████████████████████▎     | 40/43 [00:01<00:00, 34.23it/s]\n"
     ]
    },
    {
     "name": "stdout",
     "output_type": "stream",
     "text": [
      "Saving results in C:\\Users\\UCPH\\gabi\\thesis analysis\\test2...\n",
      "Saving csv poses!\n",
      "Starting to analyze %  C:\\Users\\UCPH\\gabi\\thesis analysis\\test2\\1_PRE_BB_20_H0,8_KI_F_T3.avi\n",
      "Loading  C:\\Users\\UCPH\\gabi\\thesis analysis\\test2\\1_PRE_BB_20_H0,8_KI_F_T3.avi\n",
      "Duration of video [s]:  4.13 , recorded with  15.0 fps!\n",
      "Overall # of frames:  62  found with (before cropping) frame dimensions:  1280 720\n",
      "Starting to extract posture\n"
     ]
    },
    {
     "name": "stderr",
     "output_type": "stream",
     "text": [
      " 97%|███████████████████████████████████████████████████████████████████████████████▎  | 60/62 [00:01<00:00, 38.57it/s]\n"
     ]
    },
    {
     "name": "stdout",
     "output_type": "stream",
     "text": [
      "Saving results in C:\\Users\\UCPH\\gabi\\thesis analysis\\test2...\n",
      "Saving csv poses!\n",
      "Starting to analyze %  C:\\Users\\UCPH\\gabi\\thesis analysis\\test2\\1_PRE_BB_20_H0,8_KI_F_T4.avi\n",
      "Loading  C:\\Users\\UCPH\\gabi\\thesis analysis\\test2\\1_PRE_BB_20_H0,8_KI_F_T4.avi\n",
      "Duration of video [s]:  3.47 , recorded with  15.0 fps!\n",
      "Overall # of frames:  52  found with (before cropping) frame dimensions:  1280 720\n",
      "Starting to extract posture\n"
     ]
    },
    {
     "name": "stderr",
     "output_type": "stream",
     "text": [
      " 96%|██████████████████████████████████████████████████████████████████████████████▊   | 50/52 [00:01<00:00, 37.00it/s]\n"
     ]
    },
    {
     "name": "stdout",
     "output_type": "stream",
     "text": [
      "Saving results in C:\\Users\\UCPH\\gabi\\thesis analysis\\test2...\n",
      "Saving csv poses!\n",
      "Starting to analyze %  C:\\Users\\UCPH\\gabi\\thesis analysis\\test2\\1_PRE_BB_24_H0,2_KI_F_T1.avi\n",
      "Loading  C:\\Users\\UCPH\\gabi\\thesis analysis\\test2\\1_PRE_BB_24_H0,2_KI_F_T1.avi\n",
      "Duration of video [s]:  3.67 , recorded with  15.0 fps!\n",
      "Overall # of frames:  55  found with (before cropping) frame dimensions:  1280 720\n",
      "Starting to extract posture\n"
     ]
    },
    {
     "name": "stderr",
     "output_type": "stream",
     "text": [
      " 91%|██████████████████████████████████████████████████████████████████████████▌       | 50/55 [00:01<00:00, 36.63it/s]\n"
     ]
    },
    {
     "name": "stdout",
     "output_type": "stream",
     "text": [
      "Saving results in C:\\Users\\UCPH\\gabi\\thesis analysis\\test2...\n",
      "Saving csv poses!\n",
      "Starting to analyze %  C:\\Users\\UCPH\\gabi\\thesis analysis\\test2\\1_PRE_BB_24_H0,2_KI_F_T2.avi\n",
      "Loading  C:\\Users\\UCPH\\gabi\\thesis analysis\\test2\\1_PRE_BB_24_H0,2_KI_F_T2.avi\n",
      "Duration of video [s]:  3.87 , recorded with  15.0 fps!\n",
      "Overall # of frames:  58  found with (before cropping) frame dimensions:  1280 720\n",
      "Starting to extract posture\n"
     ]
    },
    {
     "name": "stderr",
     "output_type": "stream",
     "text": [
      " 86%|██████████████████████████████████████████████████████████████████████▋           | 50/58 [00:01<00:00, 31.87it/s]\n"
     ]
    },
    {
     "name": "stdout",
     "output_type": "stream",
     "text": [
      "Saving results in C:\\Users\\UCPH\\gabi\\thesis analysis\\test2...\n",
      "Saving csv poses!\n",
      "Starting to analyze %  C:\\Users\\UCPH\\gabi\\thesis analysis\\test2\\1_PRE_BB_24_H0,2_KI_F_T3.avi\n",
      "Loading  C:\\Users\\UCPH\\gabi\\thesis analysis\\test2\\1_PRE_BB_24_H0,2_KI_F_T3.avi\n",
      "Duration of video [s]:  3.87 , recorded with  15.0 fps!\n",
      "Overall # of frames:  58  found with (before cropping) frame dimensions:  1280 720\n",
      "Starting to extract posture\n"
     ]
    },
    {
     "name": "stderr",
     "output_type": "stream",
     "text": [
      " 86%|██████████████████████████████████████████████████████████████████████▋           | 50/58 [00:01<00:00, 32.12it/s]\n"
     ]
    },
    {
     "name": "stdout",
     "output_type": "stream",
     "text": [
      "Saving results in C:\\Users\\UCPH\\gabi\\thesis analysis\\test2...\n",
      "Saving csv poses!\n",
      "Starting to analyze %  C:\\Users\\UCPH\\gabi\\thesis analysis\\test2\\1_PRE_BB_24_H0,2_KI_F_T4.avi\n",
      "Loading  C:\\Users\\UCPH\\gabi\\thesis analysis\\test2\\1_PRE_BB_24_H0,2_KI_F_T4.avi\n",
      "Duration of video [s]:  4.67 , recorded with  15.0 fps!\n",
      "Overall # of frames:  70  found with (before cropping) frame dimensions:  1280 720\n",
      "Starting to extract posture\n"
     ]
    },
    {
     "name": "stderr",
     "output_type": "stream",
     "text": [
      "100%|██████████████████████████████████████████████████████████████████████████████████| 70/70 [00:01<00:00, 39.66it/s]\n"
     ]
    },
    {
     "name": "stdout",
     "output_type": "stream",
     "text": [
      "Saving results in C:\\Users\\UCPH\\gabi\\thesis analysis\\test2...\n",
      "Saving csv poses!\n",
      "Starting to analyze %  C:\\Users\\UCPH\\gabi\\thesis analysis\\test2\\1_PRE_BB_24_H0,4_KI_F_T1.avi\n",
      "Loading  C:\\Users\\UCPH\\gabi\\thesis analysis\\test2\\1_PRE_BB_24_H0,4_KI_F_T1.avi\n",
      "Duration of video [s]:  3.47 , recorded with  15.0 fps!\n",
      "Overall # of frames:  52  found with (before cropping) frame dimensions:  1280 720\n",
      "Starting to extract posture\n"
     ]
    },
    {
     "name": "stderr",
     "output_type": "stream",
     "text": [
      " 96%|██████████████████████████████████████████████████████████████████████████████▊   | 50/52 [00:01<00:00, 36.17it/s]\n"
     ]
    },
    {
     "name": "stdout",
     "output_type": "stream",
     "text": [
      "Saving results in C:\\Users\\UCPH\\gabi\\thesis analysis\\test2...\n",
      "Saving csv poses!\n",
      "Starting to analyze %  C:\\Users\\UCPH\\gabi\\thesis analysis\\test2\\1_PRE_BB_24_H0,4_KI_F_T2.avi\n",
      "Loading  C:\\Users\\UCPH\\gabi\\thesis analysis\\test2\\1_PRE_BB_24_H0,4_KI_F_T2.avi\n",
      "Duration of video [s]:  2.47 , recorded with  15.0 fps!\n",
      "Overall # of frames:  37  found with (before cropping) frame dimensions:  1280 720\n",
      "Starting to extract posture\n"
     ]
    },
    {
     "name": "stderr",
     "output_type": "stream",
     "text": [
      " 81%|██████████████████████████████████████████████████████████████████▍               | 30/37 [00:00<00:00, 30.61it/s]\n"
     ]
    },
    {
     "name": "stdout",
     "output_type": "stream",
     "text": [
      "Saving results in C:\\Users\\UCPH\\gabi\\thesis analysis\\test2...\n",
      "Saving csv poses!\n",
      "Starting to analyze %  C:\\Users\\UCPH\\gabi\\thesis analysis\\test2\\1_PRE_BB_24_H0,4_KI_F_T3.avi\n",
      "Loading  C:\\Users\\UCPH\\gabi\\thesis analysis\\test2\\1_PRE_BB_24_H0,4_KI_F_T3.avi\n",
      "Duration of video [s]:  5.27 , recorded with  15.0 fps!\n",
      "Overall # of frames:  79  found with (before cropping) frame dimensions:  1280 720\n",
      "Starting to extract posture\n"
     ]
    },
    {
     "name": "stderr",
     "output_type": "stream",
     "text": [
      " 89%|████████████████████████████████████████████████████████████████████████▋         | 70/79 [00:01<00:00, 35.76it/s]\n"
     ]
    },
    {
     "name": "stdout",
     "output_type": "stream",
     "text": [
      "Saving results in C:\\Users\\UCPH\\gabi\\thesis analysis\\test2...\n",
      "Saving csv poses!\n",
      "Starting to analyze %  C:\\Users\\UCPH\\gabi\\thesis analysis\\test2\\1_PRE_BB_24_H0,4_KI_F_T4.avi\n",
      "Loading  C:\\Users\\UCPH\\gabi\\thesis analysis\\test2\\1_PRE_BB_24_H0,4_KI_F_T4.avi\n",
      "Duration of video [s]:  6.2 , recorded with  15.0 fps!\n",
      "Overall # of frames:  93  found with (before cropping) frame dimensions:  1280 720\n",
      "Starting to extract posture\n"
     ]
    },
    {
     "name": "stderr",
     "output_type": "stream",
     "text": [
      " 97%|███████████████████████████████████████████████████████████████████████████████▎  | 90/93 [00:02<00:00, 38.54it/s]\n"
     ]
    },
    {
     "name": "stdout",
     "output_type": "stream",
     "text": [
      "Saving results in C:\\Users\\UCPH\\gabi\\thesis analysis\\test2...\n",
      "Saving csv poses!\n",
      "Starting to analyze %  C:\\Users\\UCPH\\gabi\\thesis analysis\\test2\\1_PRE_BB_24_H0,8_KI_F_T1.avi\n",
      "Loading  C:\\Users\\UCPH\\gabi\\thesis analysis\\test2\\1_PRE_BB_24_H0,8_KI_F_T1.avi\n",
      "Duration of video [s]:  3.4 , recorded with  15.0 fps!\n",
      "Overall # of frames:  51  found with (before cropping) frame dimensions:  1280 720\n",
      "Starting to extract posture\n"
     ]
    },
    {
     "name": "stderr",
     "output_type": "stream",
     "text": [
      " 98%|████████████████████████████████████████████████████████████████████████████████▍ | 50/51 [00:01<00:00, 36.67it/s]\n"
     ]
    },
    {
     "name": "stdout",
     "output_type": "stream",
     "text": [
      "Saving results in C:\\Users\\UCPH\\gabi\\thesis analysis\\test2...\n",
      "Saving csv poses!\n",
      "Starting to analyze %  C:\\Users\\UCPH\\gabi\\thesis analysis\\test2\\1_PRE_BB_24_H0,8_KI_F_T2.avi\n",
      "Loading  C:\\Users\\UCPH\\gabi\\thesis analysis\\test2\\1_PRE_BB_24_H0,8_KI_F_T2.avi\n",
      "Duration of video [s]:  3.47 , recorded with  15.0 fps!\n",
      "Overall # of frames:  52  found with (before cropping) frame dimensions:  1280 720\n",
      "Starting to extract posture\n"
     ]
    },
    {
     "name": "stderr",
     "output_type": "stream",
     "text": [
      " 96%|██████████████████████████████████████████████████████████████████████████████▊   | 50/52 [00:01<00:00, 36.74it/s]\n"
     ]
    },
    {
     "name": "stdout",
     "output_type": "stream",
     "text": [
      "Saving results in C:\\Users\\UCPH\\gabi\\thesis analysis\\test2...\n",
      "Saving csv poses!\n",
      "Starting to analyze %  C:\\Users\\UCPH\\gabi\\thesis analysis\\test2\\1_PRE_BB_24_H0,8_KI_F_T3.avi\n",
      "Loading  C:\\Users\\UCPH\\gabi\\thesis analysis\\test2\\1_PRE_BB_24_H0,8_KI_F_T3.avi\n",
      "Duration of video [s]:  3.47 , recorded with  15.0 fps!\n",
      "Overall # of frames:  52  found with (before cropping) frame dimensions:  1280 720\n",
      "Starting to extract posture\n"
     ]
    },
    {
     "name": "stderr",
     "output_type": "stream",
     "text": [
      " 96%|██████████████████████████████████████████████████████████████████████████████▊   | 50/52 [00:01<00:00, 36.85it/s]\n"
     ]
    },
    {
     "name": "stdout",
     "output_type": "stream",
     "text": [
      "Saving results in C:\\Users\\UCPH\\gabi\\thesis analysis\\test2...\n",
      "Saving csv poses!\n",
      "Starting to analyze %  C:\\Users\\UCPH\\gabi\\thesis analysis\\test2\\1_PRE_BB_24_H0,8_KI_F_T4.avi\n",
      "Loading  C:\\Users\\UCPH\\gabi\\thesis analysis\\test2\\1_PRE_BB_24_H0,8_KI_F_T4.avi\n",
      "Duration of video [s]:  3.47 , recorded with  15.0 fps!\n",
      "Overall # of frames:  52  found with (before cropping) frame dimensions:  1280 720\n",
      "Starting to extract posture\n"
     ]
    },
    {
     "name": "stderr",
     "output_type": "stream",
     "text": [
      " 96%|██████████████████████████████████████████████████████████████████████████████▊   | 50/52 [00:01<00:00, 36.68it/s]\n"
     ]
    },
    {
     "name": "stdout",
     "output_type": "stream",
     "text": [
      "Saving results in C:\\Users\\UCPH\\gabi\\thesis analysis\\test2...\n",
      "Saving csv poses!\n",
      "Starting to analyze %  C:\\Users\\UCPH\\gabi\\thesis analysis\\test2\\1_PRE_BB_25_H0,2_HET_M_T1.avi\n",
      "Loading  C:\\Users\\UCPH\\gabi\\thesis analysis\\test2\\1_PRE_BB_25_H0,2_HET_M_T1.avi\n",
      "Duration of video [s]:  6.47 , recorded with  15.0 fps!\n",
      "Overall # of frames:  97  found with (before cropping) frame dimensions:  1280 720\n",
      "Starting to extract posture\n"
     ]
    },
    {
     "name": "stderr",
     "output_type": "stream",
     "text": [
      " 93%|████████████████████████████████████████████████████████████████████████████      | 90/97 [00:02<00:00, 35.84it/s]\n"
     ]
    },
    {
     "name": "stdout",
     "output_type": "stream",
     "text": [
      "Saving results in C:\\Users\\UCPH\\gabi\\thesis analysis\\test2...\n",
      "Saving csv poses!\n",
      "Starting to analyze %  C:\\Users\\UCPH\\gabi\\thesis analysis\\test2\\1_PRE_BB_25_H0,2_HET_M_T2.avi\n",
      "Loading  C:\\Users\\UCPH\\gabi\\thesis analysis\\test2\\1_PRE_BB_25_H0,2_HET_M_T2.avi\n",
      "Duration of video [s]:  6.27 , recorded with  15.0 fps!\n",
      "Overall # of frames:  94  found with (before cropping) frame dimensions:  1280 720\n",
      "Starting to extract posture\n"
     ]
    },
    {
     "name": "stderr",
     "output_type": "stream",
     "text": [
      " 96%|██████████████████████████████████████████████████████████████████████████████▌   | 90/94 [00:02<00:00, 38.64it/s]\n"
     ]
    },
    {
     "name": "stdout",
     "output_type": "stream",
     "text": [
      "Saving results in C:\\Users\\UCPH\\gabi\\thesis analysis\\test2...\n",
      "Saving csv poses!\n",
      "Starting to analyze %  C:\\Users\\UCPH\\gabi\\thesis analysis\\test2\\1_PRE_BB_25_H0,2_HET_M_T3.avi\n",
      "Loading  C:\\Users\\UCPH\\gabi\\thesis analysis\\test2\\1_PRE_BB_25_H0,2_HET_M_T3.avi\n",
      "Duration of video [s]:  8.27 , recorded with  15.0 fps!\n",
      "Overall # of frames:  124  found with (before cropping) frame dimensions:  1280 720\n",
      "Starting to extract posture\n"
     ]
    },
    {
     "name": "stderr",
     "output_type": "stream",
     "text": [
      " 97%|█████████████████████████████████████████████████████████████████████████████▍  | 120/124 [00:03<00:00, 38.57it/s]\n"
     ]
    },
    {
     "name": "stdout",
     "output_type": "stream",
     "text": [
      "Saving results in C:\\Users\\UCPH\\gabi\\thesis analysis\\test2...\n",
      "Saving csv poses!\n",
      "Starting to analyze %  C:\\Users\\UCPH\\gabi\\thesis analysis\\test2\\1_PRE_BB_25_H0,2_HET_M_T4.avi\n",
      "Loading  C:\\Users\\UCPH\\gabi\\thesis analysis\\test2\\1_PRE_BB_25_H0,2_HET_M_T4.avi\n",
      "Duration of video [s]:  7.07 , recorded with  15.0 fps!\n",
      "Overall # of frames:  106  found with (before cropping) frame dimensions:  1280 720\n",
      "Starting to extract posture\n"
     ]
    },
    {
     "name": "stderr",
     "output_type": "stream",
     "text": [
      " 94%|███████████████████████████████████████████████████████████████████████████▍    | 100/106 [00:02<00:00, 36.70it/s]\n"
     ]
    },
    {
     "name": "stdout",
     "output_type": "stream",
     "text": [
      "Saving results in C:\\Users\\UCPH\\gabi\\thesis analysis\\test2...\n",
      "Saving csv poses!\n",
      "Starting to analyze %  C:\\Users\\UCPH\\gabi\\thesis analysis\\test2\\1_PRE_BB_26_H0,2_HET_F_T1.avi\n",
      "Loading  C:\\Users\\UCPH\\gabi\\thesis analysis\\test2\\1_PRE_BB_26_H0,2_HET_F_T1.avi\n",
      "Duration of video [s]:  4.73 , recorded with  15.0 fps!\n",
      "Overall # of frames:  71  found with (before cropping) frame dimensions:  1280 720\n",
      "Starting to extract posture\n"
     ]
    },
    {
     "name": "stderr",
     "output_type": "stream",
     "text": [
      " 99%|████████████████████████████████████████████████████████████████████████████████▊ | 70/71 [00:01<00:00, 39.92it/s]\n"
     ]
    },
    {
     "name": "stdout",
     "output_type": "stream",
     "text": [
      "Saving results in C:\\Users\\UCPH\\gabi\\thesis analysis\\test2...\n",
      "Saving csv poses!\n",
      "Starting to analyze %  C:\\Users\\UCPH\\gabi\\thesis analysis\\test2\\1_PRE_BB_26_H0,2_HET_F_T2.avi\n",
      "Loading  C:\\Users\\UCPH\\gabi\\thesis analysis\\test2\\1_PRE_BB_26_H0,2_HET_F_T2.avi\n",
      "Duration of video [s]:  4.07 , recorded with  15.0 fps!\n",
      "Overall # of frames:  61  found with (before cropping) frame dimensions:  1280 720\n",
      "Starting to extract posture\n"
     ]
    },
    {
     "name": "stderr",
     "output_type": "stream",
     "text": [
      " 98%|████████████████████████████████████████████████████████████████████████████████▋ | 60/61 [00:01<00:00, 38.24it/s]\n"
     ]
    },
    {
     "name": "stdout",
     "output_type": "stream",
     "text": [
      "Saving results in C:\\Users\\UCPH\\gabi\\thesis analysis\\test2...\n",
      "Saving csv poses!\n",
      "Starting to analyze %  C:\\Users\\UCPH\\gabi\\thesis analysis\\test2\\1_PRE_BB_26_H0,2_HET_F_T3.avi\n",
      "Loading  C:\\Users\\UCPH\\gabi\\thesis analysis\\test2\\1_PRE_BB_26_H0,2_HET_F_T3.avi\n",
      "Duration of video [s]:  3.47 , recorded with  15.0 fps!\n",
      "Overall # of frames:  52  found with (before cropping) frame dimensions:  1280 720\n",
      "Starting to extract posture\n"
     ]
    },
    {
     "name": "stderr",
     "output_type": "stream",
     "text": [
      " 96%|██████████████████████████████████████████████████████████████████████████████▊   | 50/52 [00:01<00:00, 36.81it/s]\n"
     ]
    },
    {
     "name": "stdout",
     "output_type": "stream",
     "text": [
      "Saving results in C:\\Users\\UCPH\\gabi\\thesis analysis\\test2...\n",
      "Saving csv poses!\n",
      "Starting to analyze %  C:\\Users\\UCPH\\gabi\\thesis analysis\\test2\\1_PRE_BB_26_H0,2_HET_F_T4.avi\n",
      "Loading  C:\\Users\\UCPH\\gabi\\thesis analysis\\test2\\1_PRE_BB_26_H0,2_HET_F_T4.avi\n",
      "Duration of video [s]:  3.67 , recorded with  15.0 fps!\n",
      "Overall # of frames:  55  found with (before cropping) frame dimensions:  1280 720\n",
      "Starting to extract posture\n"
     ]
    },
    {
     "name": "stderr",
     "output_type": "stream",
     "text": [
      " 91%|██████████████████████████████████████████████████████████████████████████▌       | 50/55 [00:01<00:00, 36.75it/s]\n"
     ]
    },
    {
     "name": "stdout",
     "output_type": "stream",
     "text": [
      "Saving results in C:\\Users\\UCPH\\gabi\\thesis analysis\\test2...\n",
      "Saving csv poses!\n",
      "Starting to analyze %  C:\\Users\\UCPH\\gabi\\thesis analysis\\test2\\1_PRE_BB_26_H0,4_HET_F_T1.avi\n",
      "Loading  C:\\Users\\UCPH\\gabi\\thesis analysis\\test2\\1_PRE_BB_26_H0,4_HET_F_T1.avi\n",
      "Duration of video [s]:  4.27 , recorded with  15.0 fps!\n",
      "Overall # of frames:  64  found with (before cropping) frame dimensions:  1280 720\n",
      "Starting to extract posture\n"
     ]
    },
    {
     "name": "stderr",
     "output_type": "stream",
     "text": [
      " 94%|████████████████████████████████████████████████████████████████████████████▉     | 60/64 [00:01<00:00, 38.23it/s]\n"
     ]
    },
    {
     "name": "stdout",
     "output_type": "stream",
     "text": [
      "Saving results in C:\\Users\\UCPH\\gabi\\thesis analysis\\test2...\n",
      "Saving csv poses!\n",
      "Starting to analyze %  C:\\Users\\UCPH\\gabi\\thesis analysis\\test2\\1_PRE_BB_26_H0,4_HET_F_T2.avi\n",
      "Loading  C:\\Users\\UCPH\\gabi\\thesis analysis\\test2\\1_PRE_BB_26_H0,4_HET_F_T2.avi\n",
      "Duration of video [s]:  4.67 , recorded with  15.0 fps!\n",
      "Overall # of frames:  70  found with (before cropping) frame dimensions:  1280 720\n",
      "Starting to extract posture\n"
     ]
    },
    {
     "name": "stderr",
     "output_type": "stream",
     "text": [
      "100%|██████████████████████████████████████████████████████████████████████████████████| 70/70 [00:01<00:00, 39.91it/s]\n"
     ]
    },
    {
     "name": "stdout",
     "output_type": "stream",
     "text": [
      "Saving results in C:\\Users\\UCPH\\gabi\\thesis analysis\\test2...\n",
      "Saving csv poses!\n",
      "Starting to analyze %  C:\\Users\\UCPH\\gabi\\thesis analysis\\test2\\1_PRE_BB_26_H0,4_HET_F_T3.avi\n",
      "Loading  C:\\Users\\UCPH\\gabi\\thesis analysis\\test2\\1_PRE_BB_26_H0,4_HET_F_T3.avi\n",
      "Duration of video [s]:  4.07 , recorded with  15.0 fps!\n",
      "Overall # of frames:  61  found with (before cropping) frame dimensions:  1280 720\n",
      "Starting to extract posture\n"
     ]
    },
    {
     "name": "stderr",
     "output_type": "stream",
     "text": [
      " 98%|████████████████████████████████████████████████████████████████████████████████▋ | 60/61 [00:01<00:00, 38.58it/s]\n"
     ]
    },
    {
     "name": "stdout",
     "output_type": "stream",
     "text": [
      "Saving results in C:\\Users\\UCPH\\gabi\\thesis analysis\\test2...\n",
      "Saving csv poses!\n",
      "Starting to analyze %  C:\\Users\\UCPH\\gabi\\thesis analysis\\test2\\1_PRE_BB_26_H0,4_HET_F_T4.avi\n",
      "Loading  C:\\Users\\UCPH\\gabi\\thesis analysis\\test2\\1_PRE_BB_26_H0,4_HET_F_T4.avi\n",
      "Duration of video [s]:  4.07 , recorded with  15.0 fps!\n",
      "Overall # of frames:  61  found with (before cropping) frame dimensions:  1280 720\n",
      "Starting to extract posture\n"
     ]
    },
    {
     "name": "stderr",
     "output_type": "stream",
     "text": [
      " 98%|████████████████████████████████████████████████████████████████████████████████▋ | 60/61 [00:01<00:00, 38.54it/s]\n"
     ]
    },
    {
     "name": "stdout",
     "output_type": "stream",
     "text": [
      "Saving results in C:\\Users\\UCPH\\gabi\\thesis analysis\\test2...\n",
      "Saving csv poses!\n",
      "Starting to analyze %  C:\\Users\\UCPH\\gabi\\thesis analysis\\test2\\1_PRE_BB_26_H0,8_HET_F_T1.avi\n",
      "Loading  C:\\Users\\UCPH\\gabi\\thesis analysis\\test2\\1_PRE_BB_26_H0,8_HET_F_T1.avi\n",
      "Duration of video [s]:  4.4 , recorded with  15.0 fps!\n",
      "Overall # of frames:  66  found with (before cropping) frame dimensions:  1280 720\n",
      "Starting to extract posture\n"
     ]
    },
    {
     "name": "stderr",
     "output_type": "stream",
     "text": [
      " 91%|██████████████████████████████████████████████████████████████████████████▌       | 60/66 [00:01<00:00, 34.44it/s]\n"
     ]
    },
    {
     "name": "stdout",
     "output_type": "stream",
     "text": [
      "Saving results in C:\\Users\\UCPH\\gabi\\thesis analysis\\test2...\n",
      "Saving csv poses!\n",
      "Starting to analyze %  C:\\Users\\UCPH\\gabi\\thesis analysis\\test2\\1_PRE_BB_26_H0,8_HET_F_T2.avi\n",
      "Loading  C:\\Users\\UCPH\\gabi\\thesis analysis\\test2\\1_PRE_BB_26_H0,8_HET_F_T2.avi\n",
      "Duration of video [s]:  4.87 , recorded with  15.0 fps!\n",
      "Overall # of frames:  73  found with (before cropping) frame dimensions:  1280 720\n",
      "Starting to extract posture\n"
     ]
    },
    {
     "name": "stderr",
     "output_type": "stream",
     "text": [
      " 96%|██████████████████████████████████████████████████████████████████████████████▋   | 70/73 [00:01<00:00, 36.09it/s]\n"
     ]
    },
    {
     "name": "stdout",
     "output_type": "stream",
     "text": [
      "Saving results in C:\\Users\\UCPH\\gabi\\thesis analysis\\test2...\n",
      "Saving csv poses!\n",
      "Starting to analyze %  C:\\Users\\UCPH\\gabi\\thesis analysis\\test2\\1_PRE_BB_26_H0,8_HET_F_T3.avi\n",
      "Loading  C:\\Users\\UCPH\\gabi\\thesis analysis\\test2\\1_PRE_BB_26_H0,8_HET_F_T3.avi\n",
      "Duration of video [s]:  4.87 , recorded with  15.0 fps!\n",
      "Overall # of frames:  73  found with (before cropping) frame dimensions:  1280 720\n",
      "Starting to extract posture\n"
     ]
    },
    {
     "name": "stderr",
     "output_type": "stream",
     "text": [
      " 96%|██████████████████████████████████████████████████████████████████████████████▋   | 70/73 [00:01<00:00, 36.11it/s]\n"
     ]
    },
    {
     "name": "stdout",
     "output_type": "stream",
     "text": [
      "Saving results in C:\\Users\\UCPH\\gabi\\thesis analysis\\test2...\n",
      "Saving csv poses!\n",
      "Starting to analyze %  C:\\Users\\UCPH\\gabi\\thesis analysis\\test2\\1_PRE_BB_26_H0,8_HET_F_T4.avi\n",
      "Loading  C:\\Users\\UCPH\\gabi\\thesis analysis\\test2\\1_PRE_BB_26_H0,8_HET_F_T4.avi\n",
      "Duration of video [s]:  5.47 , recorded with  15.0 fps!\n",
      "Overall # of frames:  82  found with (before cropping) frame dimensions:  1280 720\n",
      "Starting to extract posture\n"
     ]
    },
    {
     "name": "stderr",
     "output_type": "stream",
     "text": [
      " 98%|████████████████████████████████████████████████████████████████████████████████  | 80/82 [00:02<00:00, 37.70it/s]\n"
     ]
    },
    {
     "name": "stdout",
     "output_type": "stream",
     "text": [
      "Saving results in C:\\Users\\UCPH\\gabi\\thesis analysis\\test2...\n",
      "Saving csv poses!\n",
      "Starting to analyze %  C:\\Users\\UCPH\\gabi\\thesis analysis\\test2\\1_PRE_BB_29_H0,2_HET_M_T1.avi\n",
      "Loading  C:\\Users\\UCPH\\gabi\\thesis analysis\\test2\\1_PRE_BB_29_H0,2_HET_M_T1.avi\n",
      "Duration of video [s]:  4.67 , recorded with  15.0 fps!\n",
      "Overall # of frames:  70  found with (before cropping) frame dimensions:  1280 720\n",
      "Starting to extract posture\n"
     ]
    },
    {
     "name": "stderr",
     "output_type": "stream",
     "text": [
      "100%|██████████████████████████████████████████████████████████████████████████████████| 70/70 [00:01<00:00, 39.86it/s]\n"
     ]
    },
    {
     "name": "stdout",
     "output_type": "stream",
     "text": [
      "Saving results in C:\\Users\\UCPH\\gabi\\thesis analysis\\test2...\n",
      "Saving csv poses!\n",
      "Starting to analyze %  C:\\Users\\UCPH\\gabi\\thesis analysis\\test2\\1_PRE_BB_29_H0,2_HET_M_T2.avi\n",
      "Loading  C:\\Users\\UCPH\\gabi\\thesis analysis\\test2\\1_PRE_BB_29_H0,2_HET_M_T2.avi\n",
      "Duration of video [s]:  3.67 , recorded with  15.0 fps!\n",
      "Overall # of frames:  55  found with (before cropping) frame dimensions:  1280 720\n",
      "Starting to extract posture\n"
     ]
    },
    {
     "name": "stderr",
     "output_type": "stream",
     "text": [
      " 91%|██████████████████████████████████████████████████████████████████████████▌       | 50/55 [00:01<00:00, 36.67it/s]\n"
     ]
    },
    {
     "name": "stdout",
     "output_type": "stream",
     "text": [
      "Saving results in C:\\Users\\UCPH\\gabi\\thesis analysis\\test2...\n",
      "Saving csv poses!\n",
      "Starting to analyze %  C:\\Users\\UCPH\\gabi\\thesis analysis\\test2\\1_PRE_BB_29_H0,2_HET_M_T3.avi\n",
      "Loading  C:\\Users\\UCPH\\gabi\\thesis analysis\\test2\\1_PRE_BB_29_H0,2_HET_M_T3.avi\n",
      "Duration of video [s]:  5.07 , recorded with  15.0 fps!\n",
      "Overall # of frames:  76  found with (before cropping) frame dimensions:  1280 720\n",
      "Starting to extract posture\n"
     ]
    },
    {
     "name": "stderr",
     "output_type": "stream",
     "text": [
      " 92%|███████████████████████████████████████████████████████████████████████████▌      | 70/76 [00:01<00:00, 36.22it/s]\n"
     ]
    },
    {
     "name": "stdout",
     "output_type": "stream",
     "text": [
      "Saving results in C:\\Users\\UCPH\\gabi\\thesis analysis\\test2...\n",
      "Saving csv poses!\n",
      "Starting to analyze %  C:\\Users\\UCPH\\gabi\\thesis analysis\\test2\\1_PRE_BB_29_H0,2_HET_M_T4.avi\n",
      "Loading  C:\\Users\\UCPH\\gabi\\thesis analysis\\test2\\1_PRE_BB_29_H0,2_HET_M_T4.avi\n",
      "Duration of video [s]:  7.47 , recorded with  15.0 fps!\n",
      "Overall # of frames:  112  found with (before cropping) frame dimensions:  1280 720\n",
      "Starting to extract posture\n"
     ]
    },
    {
     "name": "stderr",
     "output_type": "stream",
     "text": [
      " 98%|██████████████████████████████████████████████████████████████████████████████▌ | 110/112 [00:02<00:00, 40.15it/s]\n"
     ]
    },
    {
     "name": "stdout",
     "output_type": "stream",
     "text": [
      "Saving results in C:\\Users\\UCPH\\gabi\\thesis analysis\\test2...\n",
      "Saving csv poses!\n",
      "Starting to analyze %  C:\\Users\\UCPH\\gabi\\thesis analysis\\test2\\1_PRE_BB_29_H0,4_HET_M_T1.avi\n",
      "Loading  C:\\Users\\UCPH\\gabi\\thesis analysis\\test2\\1_PRE_BB_29_H0,4_HET_M_T1.avi\n",
      "Duration of video [s]:  6.47 , recorded with  15.0 fps!\n",
      "Overall # of frames:  97  found with (before cropping) frame dimensions:  1280 720\n",
      "Starting to extract posture\n"
     ]
    },
    {
     "name": "stderr",
     "output_type": "stream",
     "text": [
      " 93%|████████████████████████████████████████████████████████████████████████████      | 90/97 [00:02<00:00, 35.79it/s]\n"
     ]
    },
    {
     "name": "stdout",
     "output_type": "stream",
     "text": [
      "Saving results in C:\\Users\\UCPH\\gabi\\thesis analysis\\test2...\n",
      "Saving csv poses!\n",
      "Starting to analyze %  C:\\Users\\UCPH\\gabi\\thesis analysis\\test2\\1_PRE_BB_29_H0,4_HET_M_T2.avi\n",
      "Loading  C:\\Users\\UCPH\\gabi\\thesis analysis\\test2\\1_PRE_BB_29_H0,4_HET_M_T2.avi\n",
      "Duration of video [s]:  7.87 , recorded with  15.0 fps!\n",
      "Overall # of frames:  118  found with (before cropping) frame dimensions:  1280 720\n",
      "Starting to extract posture\n"
     ]
    },
    {
     "name": "stderr",
     "output_type": "stream",
     "text": [
      " 93%|██████████████████████████████████████████████████████████████████████████▌     | 110/118 [00:02<00:00, 37.75it/s]\n"
     ]
    },
    {
     "name": "stdout",
     "output_type": "stream",
     "text": [
      "Saving results in C:\\Users\\UCPH\\gabi\\thesis analysis\\test2...\n",
      "Saving csv poses!\n",
      "Starting to analyze %  C:\\Users\\UCPH\\gabi\\thesis analysis\\test2\\1_PRE_BB_29_H0,4_HET_M_T3.avi\n",
      "Loading  C:\\Users\\UCPH\\gabi\\thesis analysis\\test2\\1_PRE_BB_29_H0,4_HET_M_T3.avi\n",
      "Duration of video [s]:  10.27 , recorded with  15.0 fps!\n",
      "Overall # of frames:  154  found with (before cropping) frame dimensions:  1280 720\n",
      "Starting to extract posture\n"
     ]
    },
    {
     "name": "stderr",
     "output_type": "stream",
     "text": [
      " 97%|█████████████████████████████████████████████████████████████████████████████▉  | 150/154 [00:03<00:00, 38.75it/s]\n"
     ]
    },
    {
     "name": "stdout",
     "output_type": "stream",
     "text": [
      "Saving results in C:\\Users\\UCPH\\gabi\\thesis analysis\\test2...\n",
      "Saving csv poses!\n",
      "Starting to analyze %  C:\\Users\\UCPH\\gabi\\thesis analysis\\test2\\1_PRE_BB_29_H0,4_HET_M_T4.avi\n",
      "Loading  C:\\Users\\UCPH\\gabi\\thesis analysis\\test2\\1_PRE_BB_29_H0,4_HET_M_T4.avi\n",
      "Duration of video [s]:  8.07 , recorded with  15.0 fps!\n",
      "Overall # of frames:  121  found with (before cropping) frame dimensions:  1280 720\n",
      "Starting to extract posture\n"
     ]
    },
    {
     "name": "stderr",
     "output_type": "stream",
     "text": [
      " 99%|███████████████████████████████████████████████████████████████████████████████▎| 120/121 [00:02<00:00, 41.07it/s]\n"
     ]
    },
    {
     "name": "stdout",
     "output_type": "stream",
     "text": [
      "Saving results in C:\\Users\\UCPH\\gabi\\thesis analysis\\test2...\n",
      "Saving csv poses!\n",
      "Starting to analyze %  C:\\Users\\UCPH\\gabi\\thesis analysis\\test2\\1_PRE_BB_29_H0,8_HET_M_T1.avi\n",
      "Loading  C:\\Users\\UCPH\\gabi\\thesis analysis\\test2\\1_PRE_BB_29_H0,8_HET_M_T1.avi\n",
      "Duration of video [s]:  5.0 , recorded with  15.0 fps!\n",
      "Overall # of frames:  75  found with (before cropping) frame dimensions:  1280 720\n",
      "Starting to extract posture\n"
     ]
    },
    {
     "name": "stderr",
     "output_type": "stream",
     "text": [
      " 93%|████████████████████████████████████████████████████████████████████████████▌     | 70/75 [00:01<00:00, 36.06it/s]\n"
     ]
    },
    {
     "name": "stdout",
     "output_type": "stream",
     "text": [
      "Saving results in C:\\Users\\UCPH\\gabi\\thesis analysis\\test2...\n",
      "Saving csv poses!\n",
      "Starting to analyze %  C:\\Users\\UCPH\\gabi\\thesis analysis\\test2\\1_PRE_BB_29_H0,8_HET_M_T2.avi\n",
      "Loading  C:\\Users\\UCPH\\gabi\\thesis analysis\\test2\\1_PRE_BB_29_H0,8_HET_M_T2.avi\n",
      "Duration of video [s]:  4.87 , recorded with  15.0 fps!\n",
      "Overall # of frames:  73  found with (before cropping) frame dimensions:  1280 720\n",
      "Starting to extract posture\n"
     ]
    },
    {
     "name": "stderr",
     "output_type": "stream",
     "text": [
      " 96%|██████████████████████████████████████████████████████████████████████████████▋   | 70/73 [00:01<00:00, 36.18it/s]\n"
     ]
    },
    {
     "name": "stdout",
     "output_type": "stream",
     "text": [
      "Saving results in C:\\Users\\UCPH\\gabi\\thesis analysis\\test2...\n",
      "Saving csv poses!\n",
      "Starting to analyze %  C:\\Users\\UCPH\\gabi\\thesis analysis\\test2\\1_PRE_BB_29_H0,8_HET_M_T3.avi\n",
      "Loading  C:\\Users\\UCPH\\gabi\\thesis analysis\\test2\\1_PRE_BB_29_H0,8_HET_M_T3.avi\n",
      "Duration of video [s]:  5.87 , recorded with  15.0 fps!\n",
      "Overall # of frames:  88  found with (before cropping) frame dimensions:  1280 720\n",
      "Starting to extract posture\n"
     ]
    },
    {
     "name": "stderr",
     "output_type": "stream",
     "text": [
      " 91%|██████████████████████████████████████████████████████████████████████████▌       | 80/88 [00:02<00:00, 37.61it/s]\n"
     ]
    },
    {
     "name": "stdout",
     "output_type": "stream",
     "text": [
      "Saving results in C:\\Users\\UCPH\\gabi\\thesis analysis\\test2...\n",
      "Saving csv poses!\n",
      "Starting to analyze %  C:\\Users\\UCPH\\gabi\\thesis analysis\\test2\\1_PRE_BB_29_H0,8_HET_M_T4.avi\n",
      "Loading  C:\\Users\\UCPH\\gabi\\thesis analysis\\test2\\1_PRE_BB_29_H0,8_HET_M_T4.avi\n",
      "Duration of video [s]:  7.27 , recorded with  15.0 fps!\n",
      "Overall # of frames:  109  found with (before cropping) frame dimensions:  1280 720\n",
      "Starting to extract posture\n"
     ]
    },
    {
     "name": "stderr",
     "output_type": "stream",
     "text": [
      " 92%|█████████████████████████████████████████████████████████████████████████▍      | 100/109 [00:02<00:00, 36.80it/s]\n"
     ]
    },
    {
     "name": "stdout",
     "output_type": "stream",
     "text": [
      "Saving results in C:\\Users\\UCPH\\gabi\\thesis analysis\\test2...\n",
      "Saving csv poses!\n",
      "Starting to analyze %  C:\\Users\\UCPH\\gabi\\thesis analysis\\test2\\1_PRE_BB_33_H0,2_WT_M_T1.avi\n",
      "Loading  C:\\Users\\UCPH\\gabi\\thesis analysis\\test2\\1_PRE_BB_33_H0,2_WT_M_T1.avi\n",
      "Duration of video [s]:  5.4 , recorded with  15.0 fps!\n",
      "Overall # of frames:  81  found with (before cropping) frame dimensions:  1280 720\n",
      "Starting to extract posture\n"
     ]
    },
    {
     "name": "stderr",
     "output_type": "stream",
     "text": [
      " 99%|████████████████████████████████████████████████████████████████████████████████▉ | 80/81 [00:01<00:00, 40.79it/s]\n"
     ]
    },
    {
     "name": "stdout",
     "output_type": "stream",
     "text": [
      "Saving results in C:\\Users\\UCPH\\gabi\\thesis analysis\\test2...\n",
      "Saving csv poses!\n",
      "Starting to analyze %  C:\\Users\\UCPH\\gabi\\thesis analysis\\test2\\1_PRE_BB_33_H0,2_WT_M_T2.avi\n",
      "Loading  C:\\Users\\UCPH\\gabi\\thesis analysis\\test2\\1_PRE_BB_33_H0,2_WT_M_T2.avi\n",
      "Duration of video [s]:  6.87 , recorded with  15.0 fps!\n",
      "Overall # of frames:  103  found with (before cropping) frame dimensions:  1280 720\n",
      "Starting to extract posture\n"
     ]
    },
    {
     "name": "stderr",
     "output_type": "stream",
     "text": [
      " 97%|█████████████████████████████████████████████████████████████████████████████▋  | 100/103 [00:02<00:00, 39.31it/s]\n"
     ]
    },
    {
     "name": "stdout",
     "output_type": "stream",
     "text": [
      "Saving results in C:\\Users\\UCPH\\gabi\\thesis analysis\\test2...\n",
      "Saving csv poses!\n",
      "Starting to analyze %  C:\\Users\\UCPH\\gabi\\thesis analysis\\test2\\1_PRE_BB_33_H0,2_WT_M_T3.avi\n",
      "Loading  C:\\Users\\UCPH\\gabi\\thesis analysis\\test2\\1_PRE_BB_33_H0,2_WT_M_T3.avi\n",
      "Duration of video [s]:  7.07 , recorded with  15.0 fps!\n",
      "Overall # of frames:  106  found with (before cropping) frame dimensions:  1280 720\n",
      "Starting to extract posture\n"
     ]
    },
    {
     "name": "stderr",
     "output_type": "stream",
     "text": [
      " 94%|███████████████████████████████████████████████████████████████████████████▍    | 100/106 [00:02<00:00, 36.75it/s]\n"
     ]
    },
    {
     "name": "stdout",
     "output_type": "stream",
     "text": [
      "Saving results in C:\\Users\\UCPH\\gabi\\thesis analysis\\test2...\n",
      "Saving csv poses!\n",
      "Starting to analyze %  C:\\Users\\UCPH\\gabi\\thesis analysis\\test2\\1_PRE_BB_33_H0,2_WT_M_T4.avi\n",
      "Loading  C:\\Users\\UCPH\\gabi\\thesis analysis\\test2\\1_PRE_BB_33_H0,2_WT_M_T4.avi\n",
      "Duration of video [s]:  13.67 , recorded with  15.0 fps!\n",
      "Overall # of frames:  205  found with (before cropping) frame dimensions:  1280 720\n",
      "Starting to extract posture\n"
     ]
    },
    {
     "name": "stderr",
     "output_type": "stream",
     "text": [
      " 98%|██████████████████████████████████████████████████████████████████████████████  | 200/205 [00:05<00:00, 39.73it/s]\n"
     ]
    },
    {
     "name": "stdout",
     "output_type": "stream",
     "text": [
      "Saving results in C:\\Users\\UCPH\\gabi\\thesis analysis\\test2...\n",
      "Saving csv poses!\n",
      "Starting to analyze %  C:\\Users\\UCPH\\gabi\\thesis analysis\\test2\\1_PRE_BB_33_H0,4_WT_M_T1.avi\n",
      "Loading  C:\\Users\\UCPH\\gabi\\thesis analysis\\test2\\1_PRE_BB_33_H0,4_WT_M_T1.avi\n",
      "Duration of video [s]:  4.47 , recorded with  15.0 fps!\n",
      "Overall # of frames:  67  found with (before cropping) frame dimensions:  1280 720\n",
      "Starting to extract posture\n"
     ]
    },
    {
     "name": "stderr",
     "output_type": "stream",
     "text": [
      " 90%|█████████████████████████████████████████████████████████████████████████▍        | 60/67 [00:01<00:00, 34.30it/s]\n"
     ]
    },
    {
     "name": "stdout",
     "output_type": "stream",
     "text": [
      "Saving results in C:\\Users\\UCPH\\gabi\\thesis analysis\\test2...\n",
      "Saving csv poses!\n",
      "Starting to analyze %  C:\\Users\\UCPH\\gabi\\thesis analysis\\test2\\1_PRE_BB_33_H0,4_WT_M_T2.avi\n",
      "Loading  C:\\Users\\UCPH\\gabi\\thesis analysis\\test2\\1_PRE_BB_33_H0,4_WT_M_T2.avi\n",
      "Duration of video [s]:  6.07 , recorded with  15.0 fps!\n",
      "Overall # of frames:  91  found with (before cropping) frame dimensions:  1280 720\n",
      "Starting to extract posture\n"
     ]
    },
    {
     "name": "stderr",
     "output_type": "stream",
     "text": [
      " 99%|█████████████████████████████████████████████████████████████████████████████████ | 90/91 [00:02<00:00, 38.82it/s]\n"
     ]
    },
    {
     "name": "stdout",
     "output_type": "stream",
     "text": [
      "Saving results in C:\\Users\\UCPH\\gabi\\thesis analysis\\test2...\n",
      "Saving csv poses!\n",
      "Starting to analyze %  C:\\Users\\UCPH\\gabi\\thesis analysis\\test2\\1_PRE_BB_33_H0,4_WT_M_T3.avi\n",
      "Loading  C:\\Users\\UCPH\\gabi\\thesis analysis\\test2\\1_PRE_BB_33_H0,4_WT_M_T3.avi\n",
      "Duration of video [s]:  5.27 , recorded with  15.0 fps!\n",
      "Overall # of frames:  79  found with (before cropping) frame dimensions:  1280 720\n",
      "Starting to extract posture\n"
     ]
    },
    {
     "name": "stderr",
     "output_type": "stream",
     "text": [
      " 89%|████████████████████████████████████████████████████████████████████████▋         | 70/79 [00:01<00:00, 35.97it/s]\n"
     ]
    },
    {
     "name": "stdout",
     "output_type": "stream",
     "text": [
      "Saving results in C:\\Users\\UCPH\\gabi\\thesis analysis\\test2...\n",
      "Saving csv poses!\n",
      "Starting to analyze %  C:\\Users\\UCPH\\gabi\\thesis analysis\\test2\\1_PRE_BB_33_H0,4_WT_M_T4.avi\n",
      "Loading  C:\\Users\\UCPH\\gabi\\thesis analysis\\test2\\1_PRE_BB_33_H0,4_WT_M_T4.avi\n",
      "Duration of video [s]:  6.07 , recorded with  15.0 fps!\n",
      "Overall # of frames:  91  found with (before cropping) frame dimensions:  1280 720\n",
      "Starting to extract posture\n"
     ]
    },
    {
     "name": "stderr",
     "output_type": "stream",
     "text": [
      " 99%|█████████████████████████████████████████████████████████████████████████████████ | 90/91 [00:02<00:00, 38.62it/s]\n"
     ]
    },
    {
     "name": "stdout",
     "output_type": "stream",
     "text": [
      "Saving results in C:\\Users\\UCPH\\gabi\\thesis analysis\\test2...\n",
      "Saving csv poses!\n",
      "Starting to analyze %  C:\\Users\\UCPH\\gabi\\thesis analysis\\test2\\1_PRE_BB_33_H0,8_WT_M_T1.avi\n",
      "Loading  C:\\Users\\UCPH\\gabi\\thesis analysis\\test2\\1_PRE_BB_33_H0,8_WT_M_T1.avi\n",
      "Duration of video [s]:  5.6 , recorded with  15.0 fps!\n",
      "Overall # of frames:  84  found with (before cropping) frame dimensions:  1280 720\n",
      "Starting to extract posture\n"
     ]
    },
    {
     "name": "stderr",
     "output_type": "stream",
     "text": [
      " 95%|██████████████████████████████████████████████████████████████████████████████    | 80/84 [00:02<00:00, 37.36it/s]\n"
     ]
    },
    {
     "name": "stdout",
     "output_type": "stream",
     "text": [
      "Saving results in C:\\Users\\UCPH\\gabi\\thesis analysis\\test2...\n",
      "Saving csv poses!\n",
      "Starting to analyze %  C:\\Users\\UCPH\\gabi\\thesis analysis\\test2\\1_PRE_BB_33_H0,8_WT_M_T2.avi\n",
      "Loading  C:\\Users\\UCPH\\gabi\\thesis analysis\\test2\\1_PRE_BB_33_H0,8_WT_M_T2.avi\n",
      "Duration of video [s]:  9.07 , recorded with  15.0 fps!\n",
      "Overall # of frames:  136  found with (before cropping) frame dimensions:  1280 720\n",
      "Starting to extract posture\n"
     ]
    },
    {
     "name": "stderr",
     "output_type": "stream",
     "text": [
      " 96%|████████████████████████████████████████████████████████████████████████████▍   | 130/136 [00:03<00:00, 39.36it/s]\n"
     ]
    },
    {
     "name": "stdout",
     "output_type": "stream",
     "text": [
      "Saving results in C:\\Users\\UCPH\\gabi\\thesis analysis\\test2...\n",
      "Saving csv poses!\n",
      "Starting to analyze %  C:\\Users\\UCPH\\gabi\\thesis analysis\\test2\\1_PRE_BB_33_H0,8_WT_M_T3.avi\n",
      "Loading  C:\\Users\\UCPH\\gabi\\thesis analysis\\test2\\1_PRE_BB_33_H0,8_WT_M_T3.avi\n",
      "Duration of video [s]:  9.27 , recorded with  15.0 fps!\n",
      "Overall # of frames:  139  found with (before cropping) frame dimensions:  1280 720\n",
      "Starting to extract posture\n"
     ]
    },
    {
     "name": "stderr",
     "output_type": "stream",
     "text": [
      " 94%|██████████████████████████████████████████████████████████████████████████▊     | 130/139 [00:03<00:00, 37.28it/s]\n"
     ]
    },
    {
     "name": "stdout",
     "output_type": "stream",
     "text": [
      "Saving results in C:\\Users\\UCPH\\gabi\\thesis analysis\\test2...\n",
      "Saving csv poses!\n",
      "Starting to analyze %  C:\\Users\\UCPH\\gabi\\thesis analysis\\test2\\1_PRE_BB_33_H0,8_WT_M_T4.avi\n",
      "Loading  C:\\Users\\UCPH\\gabi\\thesis analysis\\test2\\1_PRE_BB_33_H0,8_WT_M_T4.avi\n",
      "Duration of video [s]:  8.67 , recorded with  15.0 fps!\n",
      "Overall # of frames:  130  found with (before cropping) frame dimensions:  1280 720\n",
      "Starting to extract posture\n"
     ]
    },
    {
     "name": "stderr",
     "output_type": "stream",
     "text": [
      "100%|████████████████████████████████████████████████████████████████████████████████| 130/130 [00:03<00:00, 39.57it/s]\n"
     ]
    },
    {
     "name": "stdout",
     "output_type": "stream",
     "text": [
      "Saving results in C:\\Users\\UCPH\\gabi\\thesis analysis\\test2...\n",
      "Saving csv poses!\n",
      "Starting to analyze %  C:\\Users\\UCPH\\gabi\\thesis analysis\\test2\\1_PRE_BB_35_H0,2_WT_M_T1.avi\n",
      "Loading  C:\\Users\\UCPH\\gabi\\thesis analysis\\test2\\1_PRE_BB_35_H0,2_WT_M_T1.avi\n",
      "Duration of video [s]:  3.87 , recorded with  15.0 fps!\n",
      "Overall # of frames:  58  found with (before cropping) frame dimensions:  1280 720\n",
      "Starting to extract posture\n"
     ]
    },
    {
     "name": "stderr",
     "output_type": "stream",
     "text": [
      " 86%|██████████████████████████████████████████████████████████████████████▋           | 50/58 [00:01<00:00, 32.26it/s]\n"
     ]
    },
    {
     "name": "stdout",
     "output_type": "stream",
     "text": [
      "Saving results in C:\\Users\\UCPH\\gabi\\thesis analysis\\test2...\n",
      "Saving csv poses!\n",
      "Starting to analyze %  C:\\Users\\UCPH\\gabi\\thesis analysis\\test2\\1_PRE_BB_35_H0,2_WT_M_T2.avi\n",
      "Loading  C:\\Users\\UCPH\\gabi\\thesis analysis\\test2\\1_PRE_BB_35_H0,2_WT_M_T2.avi\n",
      "Duration of video [s]:  6.87 , recorded with  15.0 fps!\n",
      "Overall # of frames:  103  found with (before cropping) frame dimensions:  1280 720\n",
      "Starting to extract posture\n"
     ]
    },
    {
     "name": "stderr",
     "output_type": "stream",
     "text": [
      " 97%|█████████████████████████████████████████████████████████████████████████████▋  | 100/103 [00:02<00:00, 39.29it/s]\n"
     ]
    },
    {
     "name": "stdout",
     "output_type": "stream",
     "text": [
      "Saving results in C:\\Users\\UCPH\\gabi\\thesis analysis\\test2...\n",
      "Saving csv poses!\n",
      "Starting to analyze %  C:\\Users\\UCPH\\gabi\\thesis analysis\\test2\\1_PRE_BB_35_H0,2_WT_M_T3.avi\n",
      "Loading  C:\\Users\\UCPH\\gabi\\thesis analysis\\test2\\1_PRE_BB_35_H0,2_WT_M_T3.avi\n",
      "Duration of video [s]:  6.07 , recorded with  15.0 fps!\n",
      "Overall # of frames:  91  found with (before cropping) frame dimensions:  1280 720\n",
      "Starting to extract posture\n"
     ]
    },
    {
     "name": "stderr",
     "output_type": "stream",
     "text": [
      " 99%|█████████████████████████████████████████████████████████████████████████████████ | 90/91 [00:02<00:00, 38.59it/s]\n"
     ]
    },
    {
     "name": "stdout",
     "output_type": "stream",
     "text": [
      "Saving results in C:\\Users\\UCPH\\gabi\\thesis analysis\\test2...\n",
      "Saving csv poses!\n",
      "Starting to analyze %  C:\\Users\\UCPH\\gabi\\thesis analysis\\test2\\1_PRE_BB_35_H0,2_WT_M_T4.avi\n",
      "Loading  C:\\Users\\UCPH\\gabi\\thesis analysis\\test2\\1_PRE_BB_35_H0,2_WT_M_T4.avi\n",
      "Duration of video [s]:  13.67 , recorded with  15.0 fps!\n",
      "Overall # of frames:  205  found with (before cropping) frame dimensions:  1280 720\n",
      "Starting to extract posture\n"
     ]
    },
    {
     "name": "stderr",
     "output_type": "stream",
     "text": [
      " 98%|██████████████████████████████████████████████████████████████████████████████  | 200/205 [00:05<00:00, 39.72it/s]\n"
     ]
    },
    {
     "name": "stdout",
     "output_type": "stream",
     "text": [
      "Saving results in C:\\Users\\UCPH\\gabi\\thesis analysis\\test2...\n",
      "Saving csv poses!\n",
      "Starting to analyze %  C:\\Users\\UCPH\\gabi\\thesis analysis\\test2\\1_PRE_BB_35_H0,4_WT_M_T1.avi\n",
      "Loading  C:\\Users\\UCPH\\gabi\\thesis analysis\\test2\\1_PRE_BB_35_H0,4_WT_M_T1.avi\n",
      "Duration of video [s]:  4.2 , recorded with  15.0 fps!\n",
      "Overall # of frames:  63  found with (before cropping) frame dimensions:  1280 720\n",
      "Starting to extract posture\n"
     ]
    },
    {
     "name": "stderr",
     "output_type": "stream",
     "text": [
      " 95%|██████████████████████████████████████████████████████████████████████████████    | 60/63 [00:01<00:00, 38.17it/s]\n"
     ]
    },
    {
     "name": "stdout",
     "output_type": "stream",
     "text": [
      "Saving results in C:\\Users\\UCPH\\gabi\\thesis analysis\\test2...\n",
      "Saving csv poses!\n",
      "Starting to analyze %  C:\\Users\\UCPH\\gabi\\thesis analysis\\test2\\1_PRE_BB_35_H0,4_WT_M_T2.avi\n",
      "Loading  C:\\Users\\UCPH\\gabi\\thesis analysis\\test2\\1_PRE_BB_35_H0,4_WT_M_T2.avi\n",
      "Duration of video [s]:  5.07 , recorded with  15.0 fps!\n",
      "Overall # of frames:  76  found with (before cropping) frame dimensions:  1280 720\n",
      "Starting to extract posture\n"
     ]
    },
    {
     "name": "stderr",
     "output_type": "stream",
     "text": [
      " 92%|███████████████████████████████████████████████████████████████████████████▌      | 70/76 [00:01<00:00, 35.79it/s]\n"
     ]
    },
    {
     "name": "stdout",
     "output_type": "stream",
     "text": [
      "Saving results in C:\\Users\\UCPH\\gabi\\thesis analysis\\test2...\n",
      "Saving csv poses!\n",
      "Starting to analyze %  C:\\Users\\UCPH\\gabi\\thesis analysis\\test2\\1_PRE_BB_35_H0,4_WT_M_T3.avi\n",
      "Loading  C:\\Users\\UCPH\\gabi\\thesis analysis\\test2\\1_PRE_BB_35_H0,4_WT_M_T3.avi\n",
      "Duration of video [s]:  5.47 , recorded with  15.0 fps!\n",
      "Overall # of frames:  82  found with (before cropping) frame dimensions:  1280 720\n",
      "Starting to extract posture\n"
     ]
    },
    {
     "name": "stderr",
     "output_type": "stream",
     "text": [
      " 98%|████████████████████████████████████████████████████████████████████████████████  | 80/82 [00:02<00:00, 37.59it/s]\n"
     ]
    },
    {
     "name": "stdout",
     "output_type": "stream",
     "text": [
      "Saving results in C:\\Users\\UCPH\\gabi\\thesis analysis\\test2...\n",
      "Saving csv poses!\n",
      "Starting to analyze %  C:\\Users\\UCPH\\gabi\\thesis analysis\\test2\\1_PRE_BB_35_H0,4_WT_M_T4.avi\n",
      "Loading  C:\\Users\\UCPH\\gabi\\thesis analysis\\test2\\1_PRE_BB_35_H0,4_WT_M_T4.avi\n",
      "Duration of video [s]:  4.87 , recorded with  15.0 fps!\n",
      "Overall # of frames:  73  found with (before cropping) frame dimensions:  1280 720\n",
      "Starting to extract posture\n"
     ]
    },
    {
     "name": "stderr",
     "output_type": "stream",
     "text": [
      " 96%|██████████████████████████████████████████████████████████████████████████████▋   | 70/73 [00:01<00:00, 36.24it/s]\n"
     ]
    },
    {
     "name": "stdout",
     "output_type": "stream",
     "text": [
      "Saving results in C:\\Users\\UCPH\\gabi\\thesis analysis\\test2...\n",
      "Saving csv poses!\n",
      "Starting to analyze %  C:\\Users\\UCPH\\gabi\\thesis analysis\\test2\\1_PRE_BB_35_H0,8_WT_M_T1.avi\n",
      "Loading  C:\\Users\\UCPH\\gabi\\thesis analysis\\test2\\1_PRE_BB_35_H0,8_WT_M_T1.avi\n",
      "Duration of video [s]:  5.33 , recorded with  15.0 fps!\n",
      "Overall # of frames:  80  found with (before cropping) frame dimensions:  1280 720\n",
      "Starting to extract posture\n"
     ]
    },
    {
     "name": "stderr",
     "output_type": "stream",
     "text": [
      "100%|██████████████████████████████████████████████████████████████████████████████████| 80/80 [00:01<00:00, 41.15it/s]\n"
     ]
    },
    {
     "name": "stdout",
     "output_type": "stream",
     "text": [
      "Saving results in C:\\Users\\UCPH\\gabi\\thesis analysis\\test2...\n",
      "Saving csv poses!\n",
      "Starting to analyze %  C:\\Users\\UCPH\\gabi\\thesis analysis\\test2\\1_PRE_BB_35_H0,8_WT_M_T2.avi\n",
      "Loading  C:\\Users\\UCPH\\gabi\\thesis analysis\\test2\\1_PRE_BB_35_H0,8_WT_M_T2.avi\n",
      "Duration of video [s]:  6.67 , recorded with  15.0 fps!\n",
      "Overall # of frames:  100  found with (before cropping) frame dimensions:  1280 720\n",
      "Starting to extract posture\n"
     ]
    },
    {
     "name": "stderr",
     "output_type": "stream",
     "text": [
      "100%|████████████████████████████████████████████████████████████████████████████████| 100/100 [00:02<00:00, 39.63it/s]\n"
     ]
    },
    {
     "name": "stdout",
     "output_type": "stream",
     "text": [
      "Saving results in C:\\Users\\UCPH\\gabi\\thesis analysis\\test2...\n",
      "Saving csv poses!\n",
      "Starting to analyze %  C:\\Users\\UCPH\\gabi\\thesis analysis\\test2\\1_PRE_BB_35_H0,8_WT_M_T3.avi\n",
      "Loading  C:\\Users\\UCPH\\gabi\\thesis analysis\\test2\\1_PRE_BB_35_H0,8_WT_M_T3.avi\n",
      "Duration of video [s]:  61.27 , recorded with  15.0 fps!\n",
      "Overall # of frames:  919  found with (before cropping) frame dimensions:  1280 720\n",
      "Starting to extract posture\n"
     ]
    },
    {
     "name": "stderr",
     "output_type": "stream",
     "text": [
      " 99%|███████████████████████████████████████████████████████████████████████████████▏| 910/919 [00:22<00:00, 40.88it/s]\n"
     ]
    },
    {
     "name": "stdout",
     "output_type": "stream",
     "text": [
      "Saving results in C:\\Users\\UCPH\\gabi\\thesis analysis\\test2...\n",
      "Saving csv poses!\n",
      "Starting to analyze %  C:\\Users\\UCPH\\gabi\\thesis analysis\\test2\\1_PRE_BB_35_H0,8_WT_M_T4.avi\n",
      "Loading  C:\\Users\\UCPH\\gabi\\thesis analysis\\test2\\1_PRE_BB_35_H0,8_WT_M_T4.avi\n",
      "Duration of video [s]:  6.87 , recorded with  15.0 fps!\n",
      "Overall # of frames:  103  found with (before cropping) frame dimensions:  1280 720\n",
      "Starting to extract posture\n"
     ]
    },
    {
     "name": "stderr",
     "output_type": "stream",
     "text": [
      " 97%|█████████████████████████████████████████████████████████████████████████████▋  | 100/103 [00:02<00:00, 39.56it/s]\n"
     ]
    },
    {
     "name": "stdout",
     "output_type": "stream",
     "text": [
      "Saving results in C:\\Users\\UCPH\\gabi\\thesis analysis\\test2...\n",
      "Saving csv poses!\n",
      "Starting to analyze %  C:\\Users\\UCPH\\gabi\\thesis analysis\\test2\\1_PRE_BB_37_H0,2_WT_M_T1.avi\n",
      "Loading  C:\\Users\\UCPH\\gabi\\thesis analysis\\test2\\1_PRE_BB_37_H0,2_WT_M_T1.avi\n",
      "Duration of video [s]:  11.07 , recorded with  15.0 fps!\n",
      "Overall # of frames:  166  found with (before cropping) frame dimensions:  1280 720\n",
      "Starting to extract posture\n"
     ]
    },
    {
     "name": "stderr",
     "output_type": "stream",
     "text": [
      " 96%|█████████████████████████████████████████████████████████████████████████████   | 160/166 [00:04<00:00, 39.24it/s]\n"
     ]
    },
    {
     "name": "stdout",
     "output_type": "stream",
     "text": [
      "Saving results in C:\\Users\\UCPH\\gabi\\thesis analysis\\test2...\n",
      "Saving csv poses!\n",
      "Starting to analyze %  C:\\Users\\UCPH\\gabi\\thesis analysis\\test2\\1_PRE_BB_37_H0,2_WT_M_T2.avi\n",
      "Loading  C:\\Users\\UCPH\\gabi\\thesis analysis\\test2\\1_PRE_BB_37_H0,2_WT_M_T2.avi\n",
      "Duration of video [s]:  6.8 , recorded with  15.0 fps!\n",
      "Overall # of frames:  102  found with (before cropping) frame dimensions:  1280 720\n",
      "Starting to extract posture\n"
     ]
    },
    {
     "name": "stderr",
     "output_type": "stream",
     "text": [
      " 98%|██████████████████████████████████████████████████████████████████████████████▍ | 100/102 [00:02<00:00, 39.51it/s]\n"
     ]
    },
    {
     "name": "stdout",
     "output_type": "stream",
     "text": [
      "Saving results in C:\\Users\\UCPH\\gabi\\thesis analysis\\test2...\n",
      "Saving csv poses!\n",
      "Starting to analyze %  C:\\Users\\UCPH\\gabi\\thesis analysis\\test2\\1_PRE_BB_37_H0,2_WT_M_T3.avi\n",
      "Loading  C:\\Users\\UCPH\\gabi\\thesis analysis\\test2\\1_PRE_BB_37_H0,2_WT_M_T3.avi\n",
      "Duration of video [s]:  5.87 , recorded with  15.0 fps!\n",
      "Overall # of frames:  88  found with (before cropping) frame dimensions:  1280 720\n",
      "Starting to extract posture\n"
     ]
    },
    {
     "name": "stderr",
     "output_type": "stream",
     "text": [
      " 91%|██████████████████████████████████████████████████████████████████████████▌       | 80/88 [00:02<00:00, 37.37it/s]\n"
     ]
    },
    {
     "name": "stdout",
     "output_type": "stream",
     "text": [
      "Saving results in C:\\Users\\UCPH\\gabi\\thesis analysis\\test2...\n",
      "Saving csv poses!\n",
      "Starting to analyze %  C:\\Users\\UCPH\\gabi\\thesis analysis\\test2\\1_PRE_BB_37_H0,2_WT_M_T4.avi\n",
      "Loading  C:\\Users\\UCPH\\gabi\\thesis analysis\\test2\\1_PRE_BB_37_H0,2_WT_M_T4.avi\n",
      "Duration of video [s]:  6.87 , recorded with  15.0 fps!\n",
      "Overall # of frames:  103  found with (before cropping) frame dimensions:  1280 720\n",
      "Starting to extract posture\n"
     ]
    },
    {
     "name": "stderr",
     "output_type": "stream",
     "text": [
      " 97%|█████████████████████████████████████████████████████████████████████████████▋  | 100/103 [00:02<00:00, 39.23it/s]\n"
     ]
    },
    {
     "name": "stdout",
     "output_type": "stream",
     "text": [
      "Saving results in C:\\Users\\UCPH\\gabi\\thesis analysis\\test2...\n",
      "Saving csv poses!\n",
      "Starting to analyze %  C:\\Users\\UCPH\\gabi\\thesis analysis\\test2\\1_PRE_BB_37_H0,4_WT_M_T1.avi\n",
      "Loading  C:\\Users\\UCPH\\gabi\\thesis analysis\\test2\\1_PRE_BB_37_H0,4_WT_M_T1.avi\n",
      "Duration of video [s]:  6.67 , recorded with  15.0 fps!\n",
      "Overall # of frames:  100  found with (before cropping) frame dimensions:  1280 720\n",
      "Starting to extract posture\n"
     ]
    },
    {
     "name": "stderr",
     "output_type": "stream",
     "text": [
      "100%|████████████████████████████████████████████████████████████████████████████████| 100/100 [00:02<00:00, 39.58it/s]\n"
     ]
    },
    {
     "name": "stdout",
     "output_type": "stream",
     "text": [
      "Saving results in C:\\Users\\UCPH\\gabi\\thesis analysis\\test2...\n",
      "Saving csv poses!\n",
      "Starting to analyze %  C:\\Users\\UCPH\\gabi\\thesis analysis\\test2\\1_PRE_BB_37_H0,4_WT_M_T2.avi\n",
      "Loading  C:\\Users\\UCPH\\gabi\\thesis analysis\\test2\\1_PRE_BB_37_H0,4_WT_M_T2.avi\n",
      "Duration of video [s]:  7.67 , recorded with  15.0 fps!\n",
      "Overall # of frames:  115  found with (before cropping) frame dimensions:  1280 720\n",
      "Starting to extract posture\n"
     ]
    },
    {
     "name": "stderr",
     "output_type": "stream",
     "text": [
      " 96%|████████████████████████████████████████████████████████████████████████████▌   | 110/115 [00:02<00:00, 37.68it/s]\n"
     ]
    },
    {
     "name": "stdout",
     "output_type": "stream",
     "text": [
      "Saving results in C:\\Users\\UCPH\\gabi\\thesis analysis\\test2...\n",
      "Saving csv poses!\n",
      "Starting to analyze %  C:\\Users\\UCPH\\gabi\\thesis analysis\\test2\\1_PRE_BB_37_H0,4_WT_M_T3.avi\n",
      "Loading  C:\\Users\\UCPH\\gabi\\thesis analysis\\test2\\1_PRE_BB_37_H0,4_WT_M_T3.avi\n",
      "Duration of video [s]:  8.87 , recorded with  15.0 fps!\n",
      "Overall # of frames:  133  found with (before cropping) frame dimensions:  1280 720\n",
      "Starting to extract posture\n"
     ]
    },
    {
     "name": "stderr",
     "output_type": "stream",
     "text": [
      " 98%|██████████████████████████████████████████████████████████████████████████████▏ | 130/133 [00:03<00:00, 39.42it/s]\n"
     ]
    },
    {
     "name": "stdout",
     "output_type": "stream",
     "text": [
      "Saving results in C:\\Users\\UCPH\\gabi\\thesis analysis\\test2...\n",
      "Saving csv poses!\n",
      "Starting to analyze %  C:\\Users\\UCPH\\gabi\\thesis analysis\\test2\\1_PRE_BB_37_H0,4_WT_M_T4.avi\n",
      "Loading  C:\\Users\\UCPH\\gabi\\thesis analysis\\test2\\1_PRE_BB_37_H0,4_WT_M_T4.avi\n",
      "Duration of video [s]:  12.67 , recorded with  15.0 fps!\n",
      "Overall # of frames:  190  found with (before cropping) frame dimensions:  1280 720\n",
      "Starting to extract posture\n"
     ]
    },
    {
     "name": "stderr",
     "output_type": "stream",
     "text": [
      "100%|████████████████████████████████████████████████████████████████████████████████| 190/190 [00:04<00:00, 40.97it/s]\n"
     ]
    },
    {
     "name": "stdout",
     "output_type": "stream",
     "text": [
      "Saving results in C:\\Users\\UCPH\\gabi\\thesis analysis\\test2...\n",
      "Saving csv poses!\n",
      "Starting to analyze %  C:\\Users\\UCPH\\gabi\\thesis analysis\\test2\\1_PRE_BB_37_H0,8_WT_M_T1.avi\n",
      "Loading  C:\\Users\\UCPH\\gabi\\thesis analysis\\test2\\1_PRE_BB_37_H0,8_WT_M_T1.avi\n",
      "Duration of video [s]:  4.87 , recorded with  15.0 fps!\n",
      "Overall # of frames:  73  found with (before cropping) frame dimensions:  1280 720\n",
      "Starting to extract posture\n"
     ]
    },
    {
     "name": "stderr",
     "output_type": "stream",
     "text": [
      " 96%|██████████████████████████████████████████████████████████████████████████████▋   | 70/73 [00:01<00:00, 35.98it/s]\n"
     ]
    },
    {
     "name": "stdout",
     "output_type": "stream",
     "text": [
      "Saving results in C:\\Users\\UCPH\\gabi\\thesis analysis\\test2...\n",
      "Saving csv poses!\n",
      "Starting to analyze %  C:\\Users\\UCPH\\gabi\\thesis analysis\\test2\\1_PRE_BB_37_H0,8_WT_M_T2.avi\n",
      "Loading  C:\\Users\\UCPH\\gabi\\thesis analysis\\test2\\1_PRE_BB_37_H0,8_WT_M_T2.avi\n",
      "Duration of video [s]:  5.07 , recorded with  15.0 fps!\n",
      "Overall # of frames:  76  found with (before cropping) frame dimensions:  1280 720\n",
      "Starting to extract posture\n"
     ]
    },
    {
     "name": "stderr",
     "output_type": "stream",
     "text": [
      " 92%|███████████████████████████████████████████████████████████████████████████▌      | 70/76 [00:01<00:00, 36.08it/s]\n"
     ]
    },
    {
     "name": "stdout",
     "output_type": "stream",
     "text": [
      "Saving results in C:\\Users\\UCPH\\gabi\\thesis analysis\\test2...\n",
      "Saving csv poses!\n",
      "Starting to analyze %  C:\\Users\\UCPH\\gabi\\thesis analysis\\test2\\1_PRE_BB_37_H0,8_WT_M_T3.avi\n",
      "Loading  C:\\Users\\UCPH\\gabi\\thesis analysis\\test2\\1_PRE_BB_37_H0,8_WT_M_T3.avi\n",
      "Duration of video [s]:  5.87 , recorded with  15.0 fps!\n",
      "Overall # of frames:  88  found with (before cropping) frame dimensions:  1280 720\n",
      "Starting to extract posture\n"
     ]
    },
    {
     "name": "stderr",
     "output_type": "stream",
     "text": [
      " 91%|██████████████████████████████████████████████████████████████████████████▌       | 80/88 [00:02<00:00, 37.34it/s]\n"
     ]
    },
    {
     "name": "stdout",
     "output_type": "stream",
     "text": [
      "Saving results in C:\\Users\\UCPH\\gabi\\thesis analysis\\test2...\n",
      "Saving csv poses!\n",
      "Starting to analyze %  C:\\Users\\UCPH\\gabi\\thesis analysis\\test2\\1_PRE_BB_37_H0,8_WT_M_T4.avi\n",
      "Loading  C:\\Users\\UCPH\\gabi\\thesis analysis\\test2\\1_PRE_BB_37_H0,8_WT_M_T4.avi\n",
      "Duration of video [s]:  5.87 , recorded with  15.0 fps!\n",
      "Overall # of frames:  88  found with (before cropping) frame dimensions:  1280 720\n",
      "Starting to extract posture\n"
     ]
    },
    {
     "name": "stderr",
     "output_type": "stream",
     "text": [
      " 91%|██████████████████████████████████████████████████████████████████████████▌       | 80/88 [00:02<00:00, 37.20it/s]"
     ]
    },
    {
     "name": "stdout",
     "output_type": "stream",
     "text": [
      "Saving results in C:\\Users\\UCPH\\gabi\\thesis analysis\\test2...\n",
      "Saving csv poses!\n",
      "The videos are analyzed. Now your research can truly start! \n",
      " You can create labeled videos with 'create_labeled_video'\n",
      "If the tracking is not satisfactory for some videos, consider expanding the training set. You can use the function 'extract_outlier_frames' to extract a few representative outlier frames.\n"
     ]
    },
    {
     "name": "stderr",
     "output_type": "stream",
     "text": [
      "\n"
     ]
    },
    {
     "data": {
      "text/plain": [
       "'DLC_resnet50_BBSep4shuffle1_500000'"
      ]
     },
     "execution_count": 20,
     "metadata": {},
     "output_type": "execute_result"
    }
   ],
   "source": [
    "deeplabcut.analyze_videos(config_path, new_videolist, save_as_csv=True)"
   ]
  },
  {
   "cell_type": "code",
   "execution_count": null,
   "id": "c9f7900c",
   "metadata": {},
   "outputs": [],
   "source": []
  }
 ],
 "metadata": {
  "kernelspec": {
   "display_name": "Python 3 (ipykernel)",
   "language": "python",
   "name": "python3"
  },
  "language_info": {
   "codemirror_mode": {
    "name": "ipython",
    "version": 3
   },
   "file_extension": ".py",
   "mimetype": "text/x-python",
   "name": "python",
   "nbconvert_exporter": "python",
   "pygments_lexer": "ipython3",
   "version": "3.8.16"
  }
 },
 "nbformat": 4,
 "nbformat_minor": 5
}
