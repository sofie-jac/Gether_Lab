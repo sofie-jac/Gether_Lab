{
 "cells": [
  {
   "cell_type": "code",
   "execution_count": 1,
   "id": "c812452f",
   "metadata": {},
   "outputs": [
    {
     "name": "stdout",
     "output_type": "stream",
     "text": [
      "Loading DLC 2.2.3...\n",
      "Successfully imported DeepLabCut version: 2.2.3\n"
     ]
    }
   ],
   "source": [
    "import deeplabcut\n",
    "\n",
    "# Note: To get some feedback for the successful import, you can add the print function:\n",
    "\n",
    "print(f'Successfully imported DeepLabCut version: {deeplabcut. __version__}')"
   ]
  },
  {
   "cell_type": "code",
   "execution_count": 4,
   "id": "3c9fbaba",
   "metadata": {},
   "outputs": [],
   "source": [
    "videolist = [r'C:\\Users\\UCPH\\gabi\\thesis analysis\\train\\1.avi', r'C:\\Users\\UCPH\\gabi\\thesis analysis\\train\\2.avi', r'C:\\Users\\UCPH\\gabi\\thesis analysis\\train\\3.avi', r'C:\\Users\\UCPH\\gabi\\thesis analysis\\train\\4.avi', r'C:\\Users\\UCPH\\gabi\\thesis analysis\\train\\5.avi', r'C:\\Users\\UCPH\\gabi\\thesis analysis\\train\\6.avi', r'C:\\Users\\UCPH\\gabi\\thesis analysis\\train\\7.avi', r'C:\\Users\\UCPH\\gabi\\thesis analysis\\train\\8.avi']\n",
    "\n",
    "# Note: In Windows, the file paths must be formated as r'C:\\Full\\path\\of\\video.MP4'"
   ]
  },
  {
   "cell_type": "code",
   "execution_count": 23,
   "id": "56a33a4c",
   "metadata": {},
   "outputs": [
    {
     "data": {
      "text/plain": [
       "['C:\\\\Users\\\\UCPH\\\\gabi\\\\thesis analysis\\\\test3\\\\1_POST_BB_15_H1,6_KI_T1.avi',\n",
       " 'C:\\\\Users\\\\UCPH\\\\gabi\\\\thesis analysis\\\\test3\\\\1_POST_BB_15_H1,6_KI_T2.avi',\n",
       " 'C:\\\\Users\\\\UCPH\\\\gabi\\\\thesis analysis\\\\test3\\\\1_POST_BB_15_H1,6_KI_T3.avi',\n",
       " 'C:\\\\Users\\\\UCPH\\\\gabi\\\\thesis analysis\\\\test3\\\\1_POST_BB_15_H1,6_KI_T4.avi',\n",
       " 'C:\\\\Users\\\\UCPH\\\\gabi\\\\thesis analysis\\\\test3\\\\1_POST_BB_15_VEHE_KI_T1.avi',\n",
       " 'C:\\\\Users\\\\UCPH\\\\gabi\\\\thesis analysis\\\\test3\\\\1_POST_BB_15_VEHE_KI_T2.avi',\n",
       " 'C:\\\\Users\\\\UCPH\\\\gabi\\\\thesis analysis\\\\test3\\\\1_POST_BB_15_VEHE_KI_T3.avi',\n",
       " 'C:\\\\Users\\\\UCPH\\\\gabi\\\\thesis analysis\\\\test3\\\\1_POST_BB_15_VEHE_KI_T4.avi',\n",
       " 'C:\\\\Users\\\\UCPH\\\\gabi\\\\thesis analysis\\\\test3\\\\1_POST_BB_16_H1,6_WT_T1.avi',\n",
       " 'C:\\\\Users\\\\UCPH\\\\gabi\\\\thesis analysis\\\\test3\\\\1_POST_BB_16_H1,6_WT_T2.avi',\n",
       " 'C:\\\\Users\\\\UCPH\\\\gabi\\\\thesis analysis\\\\test3\\\\1_POST_BB_16_H1,6_WT_T3.avi',\n",
       " 'C:\\\\Users\\\\UCPH\\\\gabi\\\\thesis analysis\\\\test3\\\\1_POST_BB_16_H1,6_WT_T4.avi',\n",
       " 'C:\\\\Users\\\\UCPH\\\\gabi\\\\thesis analysis\\\\test3\\\\1_POST_BB_16_VEHE_WT_T1.avi',\n",
       " 'C:\\\\Users\\\\UCPH\\\\gabi\\\\thesis analysis\\\\test3\\\\1_POST_BB_16_VEHE_WT_T2.avi',\n",
       " 'C:\\\\Users\\\\UCPH\\\\gabi\\\\thesis analysis\\\\test3\\\\1_POST_BB_16_VEHE_WT_T3.avi',\n",
       " 'C:\\\\Users\\\\UCPH\\\\gabi\\\\thesis analysis\\\\test3\\\\1_POST_BB_16_VEHE_WT_T4.avi',\n",
       " 'C:\\\\Users\\\\UCPH\\\\gabi\\\\thesis analysis\\\\test3\\\\1_POST_BB_17_H1,6_KI_T1.avi',\n",
       " 'C:\\\\Users\\\\UCPH\\\\gabi\\\\thesis analysis\\\\test3\\\\1_POST_BB_17_H1,6_KI_T2.avi',\n",
       " 'C:\\\\Users\\\\UCPH\\\\gabi\\\\thesis analysis\\\\test3\\\\1_POST_BB_17_H1,6_KI_T3.avi',\n",
       " 'C:\\\\Users\\\\UCPH\\\\gabi\\\\thesis analysis\\\\test3\\\\1_POST_BB_17_H1,6_KI_T4.avi',\n",
       " 'C:\\\\Users\\\\UCPH\\\\gabi\\\\thesis analysis\\\\test3\\\\1_POST_BB_17_VEHE_KI_T1.avi',\n",
       " 'C:\\\\Users\\\\UCPH\\\\gabi\\\\thesis analysis\\\\test3\\\\1_POST_BB_17_VEHE_KI_T2.avi',\n",
       " 'C:\\\\Users\\\\UCPH\\\\gabi\\\\thesis analysis\\\\test3\\\\1_POST_BB_17_VEHE_KI_T3.avi',\n",
       " 'C:\\\\Users\\\\UCPH\\\\gabi\\\\thesis analysis\\\\test3\\\\1_POST_BB_17_VEHE_KI_T4.avi',\n",
       " 'C:\\\\Users\\\\UCPH\\\\gabi\\\\thesis analysis\\\\test3\\\\1_POST_BB_19_H1,6_HET_T1.avi',\n",
       " 'C:\\\\Users\\\\UCPH\\\\gabi\\\\thesis analysis\\\\test3\\\\1_POST_BB_19_H1,6_HET_T2.avi',\n",
       " 'C:\\\\Users\\\\UCPH\\\\gabi\\\\thesis analysis\\\\test3\\\\1_POST_BB_19_H1,6_HET_T3.avi',\n",
       " 'C:\\\\Users\\\\UCPH\\\\gabi\\\\thesis analysis\\\\test3\\\\1_POST_BB_19_H1,6_HET_T4.avi',\n",
       " 'C:\\\\Users\\\\UCPH\\\\gabi\\\\thesis analysis\\\\test3\\\\1_POST_BB_19_VEHE_HET_T1.avi',\n",
       " 'C:\\\\Users\\\\UCPH\\\\gabi\\\\thesis analysis\\\\test3\\\\1_POST_BB_19_VEHE_HET_T2.avi',\n",
       " 'C:\\\\Users\\\\UCPH\\\\gabi\\\\thesis analysis\\\\test3\\\\1_POST_BB_19_VEHE_HET_T3.avi',\n",
       " 'C:\\\\Users\\\\UCPH\\\\gabi\\\\thesis analysis\\\\test3\\\\1_POST_BB_19_VEHE_HET_T4.avi',\n",
       " 'C:\\\\Users\\\\UCPH\\\\gabi\\\\thesis analysis\\\\test3\\\\1_POST_BB_20_H1,6_KI_T1.avi',\n",
       " 'C:\\\\Users\\\\UCPH\\\\gabi\\\\thesis analysis\\\\test3\\\\1_POST_BB_20_H1,6_KI_T2.avi',\n",
       " 'C:\\\\Users\\\\UCPH\\\\gabi\\\\thesis analysis\\\\test3\\\\1_POST_BB_20_H1,6_KI_T3.avi',\n",
       " 'C:\\\\Users\\\\UCPH\\\\gabi\\\\thesis analysis\\\\test3\\\\1_POST_BB_20_H1,6_KI_T4.avi',\n",
       " 'C:\\\\Users\\\\UCPH\\\\gabi\\\\thesis analysis\\\\test3\\\\1_POST_BB_20_VEHE_KI_T1.avi',\n",
       " 'C:\\\\Users\\\\UCPH\\\\gabi\\\\thesis analysis\\\\test3\\\\1_POST_BB_20_VEHE_KI_T2.avi',\n",
       " 'C:\\\\Users\\\\UCPH\\\\gabi\\\\thesis analysis\\\\test3\\\\1_POST_BB_20_VEHE_KI_T3.avi',\n",
       " 'C:\\\\Users\\\\UCPH\\\\gabi\\\\thesis analysis\\\\test3\\\\1_POST_BB_20_VEHE_KI_T4.avi',\n",
       " 'C:\\\\Users\\\\UCPH\\\\gabi\\\\thesis analysis\\\\test3\\\\1_POST_BB_24_H1,6_KI_T1.avi',\n",
       " 'C:\\\\Users\\\\UCPH\\\\gabi\\\\thesis analysis\\\\test3\\\\1_POST_BB_24_H1,6_KI_T2.avi',\n",
       " 'C:\\\\Users\\\\UCPH\\\\gabi\\\\thesis analysis\\\\test3\\\\1_POST_BB_24_H1,6_KI_T3.avi',\n",
       " 'C:\\\\Users\\\\UCPH\\\\gabi\\\\thesis analysis\\\\test3\\\\1_POST_BB_24_H1,6_KI_T4.avi',\n",
       " 'C:\\\\Users\\\\UCPH\\\\gabi\\\\thesis analysis\\\\test3\\\\1_POST_BB_24_VEHE_KI_T1.avi',\n",
       " 'C:\\\\Users\\\\UCPH\\\\gabi\\\\thesis analysis\\\\test3\\\\1_POST_BB_24_VEHE_KI_T2.avi',\n",
       " 'C:\\\\Users\\\\UCPH\\\\gabi\\\\thesis analysis\\\\test3\\\\1_POST_BB_24_VEHE_KI_T3.avi',\n",
       " 'C:\\\\Users\\\\UCPH\\\\gabi\\\\thesis analysis\\\\test3\\\\1_POST_BB_24_VEHE_KI_T4.avi',\n",
       " 'C:\\\\Users\\\\UCPH\\\\gabi\\\\thesis analysis\\\\test3\\\\1_POST_BB_26_H1,6_HET_T1.avi',\n",
       " 'C:\\\\Users\\\\UCPH\\\\gabi\\\\thesis analysis\\\\test3\\\\1_POST_BB_26_H1,6_HET_T2.avi',\n",
       " 'C:\\\\Users\\\\UCPH\\\\gabi\\\\thesis analysis\\\\test3\\\\1_POST_BB_26_H1,6_HET_T3.avi',\n",
       " 'C:\\\\Users\\\\UCPH\\\\gabi\\\\thesis analysis\\\\test3\\\\1_POST_BB_26_H1,6_HET_T4.avi',\n",
       " 'C:\\\\Users\\\\UCPH\\\\gabi\\\\thesis analysis\\\\test3\\\\1_POST_BB_26_VEHE_HET_T1.avi',\n",
       " 'C:\\\\Users\\\\UCPH\\\\gabi\\\\thesis analysis\\\\test3\\\\1_POST_BB_26_VEHE_HET_T2.avi',\n",
       " 'C:\\\\Users\\\\UCPH\\\\gabi\\\\thesis analysis\\\\test3\\\\1_POST_BB_26_VEHE_HET_T3.avi',\n",
       " 'C:\\\\Users\\\\UCPH\\\\gabi\\\\thesis analysis\\\\test3\\\\1_POST_BB_26_VEHE_HET_T4.avi',\n",
       " 'C:\\\\Users\\\\UCPH\\\\gabi\\\\thesis analysis\\\\test3\\\\1_POST_BB_29_H1,6_HET_T1.avi',\n",
       " 'C:\\\\Users\\\\UCPH\\\\gabi\\\\thesis analysis\\\\test3\\\\1_POST_BB_29_H1,6_HET_T2.avi',\n",
       " 'C:\\\\Users\\\\UCPH\\\\gabi\\\\thesis analysis\\\\test3\\\\1_POST_BB_29_H1,6_HET_T3.avi',\n",
       " 'C:\\\\Users\\\\UCPH\\\\gabi\\\\thesis analysis\\\\test3\\\\1_POST_BB_29_H1,6_HET_T4.avi',\n",
       " 'C:\\\\Users\\\\UCPH\\\\gabi\\\\thesis analysis\\\\test3\\\\1_POST_BB_29_VEHE_HET_T1.avi',\n",
       " 'C:\\\\Users\\\\UCPH\\\\gabi\\\\thesis analysis\\\\test3\\\\1_POST_BB_29_VEHE_HET_T2.avi',\n",
       " 'C:\\\\Users\\\\UCPH\\\\gabi\\\\thesis analysis\\\\test3\\\\1_POST_BB_29_VEHE_HET_T3.avi',\n",
       " 'C:\\\\Users\\\\UCPH\\\\gabi\\\\thesis analysis\\\\test3\\\\1_POST_BB_29_VEHE_HET_T4.avi',\n",
       " 'C:\\\\Users\\\\UCPH\\\\gabi\\\\thesis analysis\\\\test3\\\\1_POST_BB_33_H1,6_WT_T1.avi',\n",
       " 'C:\\\\Users\\\\UCPH\\\\gabi\\\\thesis analysis\\\\test3\\\\1_POST_BB_33_H1,6_WT_T2.avi',\n",
       " 'C:\\\\Users\\\\UCPH\\\\gabi\\\\thesis analysis\\\\test3\\\\1_POST_BB_33_H1,6_WT_T3.avi',\n",
       " 'C:\\\\Users\\\\UCPH\\\\gabi\\\\thesis analysis\\\\test3\\\\1_POST_BB_33_H1,6_WT_T4.avi',\n",
       " 'C:\\\\Users\\\\UCPH\\\\gabi\\\\thesis analysis\\\\test3\\\\1_POST_BB_33_VEHE_WT_T1.avi',\n",
       " 'C:\\\\Users\\\\UCPH\\\\gabi\\\\thesis analysis\\\\test3\\\\1_POST_BB_33_VEHE_WT_T2.avi',\n",
       " 'C:\\\\Users\\\\UCPH\\\\gabi\\\\thesis analysis\\\\test3\\\\1_POST_BB_33_VEHE_WT_T3.avi',\n",
       " 'C:\\\\Users\\\\UCPH\\\\gabi\\\\thesis analysis\\\\test3\\\\1_POST_BB_33_VEHE_WT_T4.avi',\n",
       " 'C:\\\\Users\\\\UCPH\\\\gabi\\\\thesis analysis\\\\test3\\\\1_POST_BB_35_H1,6_WT_T1.avi',\n",
       " 'C:\\\\Users\\\\UCPH\\\\gabi\\\\thesis analysis\\\\test3\\\\1_POST_BB_35_H1,6_WT_T2.avi',\n",
       " 'C:\\\\Users\\\\UCPH\\\\gabi\\\\thesis analysis\\\\test3\\\\1_POST_BB_35_H1,6_WT_T3.avi',\n",
       " 'C:\\\\Users\\\\UCPH\\\\gabi\\\\thesis analysis\\\\test3\\\\1_POST_BB_35_H1,6_WT_T4.avi',\n",
       " 'C:\\\\Users\\\\UCPH\\\\gabi\\\\thesis analysis\\\\test3\\\\1_POST_BB_35_VEHE_WT_T1.avi',\n",
       " 'C:\\\\Users\\\\UCPH\\\\gabi\\\\thesis analysis\\\\test3\\\\1_POST_BB_35_VEHE_WT_T2.avi',\n",
       " 'C:\\\\Users\\\\UCPH\\\\gabi\\\\thesis analysis\\\\test3\\\\1_POST_BB_35_VEHE_WT_T3.avi',\n",
       " 'C:\\\\Users\\\\UCPH\\\\gabi\\\\thesis analysis\\\\test3\\\\1_POST_BB_35_VEHE_WT_T4.avi',\n",
       " 'C:\\\\Users\\\\UCPH\\\\gabi\\\\thesis analysis\\\\test3\\\\1_POST_BB_37_H1,6_WT_T1.avi',\n",
       " 'C:\\\\Users\\\\UCPH\\\\gabi\\\\thesis analysis\\\\test3\\\\1_POST_BB_37_H1,6_WT_T2.avi',\n",
       " 'C:\\\\Users\\\\UCPH\\\\gabi\\\\thesis analysis\\\\test3\\\\1_POST_BB_37_H1,6_WT_T3.avi',\n",
       " 'C:\\\\Users\\\\UCPH\\\\gabi\\\\thesis analysis\\\\test3\\\\1_POST_BB_37_H1,6_WT_T4.avi',\n",
       " 'C:\\\\Users\\\\UCPH\\\\gabi\\\\thesis analysis\\\\test3\\\\1_POST_BB_37_VEHE_WT_T1.avi',\n",
       " 'C:\\\\Users\\\\UCPH\\\\gabi\\\\thesis analysis\\\\test3\\\\1_POST_BB_37_VEHE_WT_T2.avi',\n",
       " 'C:\\\\Users\\\\UCPH\\\\gabi\\\\thesis analysis\\\\test3\\\\1_POST_BB_37_VEHE_WT_T3.avi',\n",
       " 'C:\\\\Users\\\\UCPH\\\\gabi\\\\thesis analysis\\\\test3\\\\1_POST_BB_37_VEHE_WT_T4.avi',\n",
       " 'C:\\\\Users\\\\UCPH\\\\gabi\\\\thesis analysis\\\\test3\\\\1_PRE_BB_15_H1,6_KI_T1.avi',\n",
       " 'C:\\\\Users\\\\UCPH\\\\gabi\\\\thesis analysis\\\\test3\\\\1_PRE_BB_15_H1,6_KI_T2.avi',\n",
       " 'C:\\\\Users\\\\UCPH\\\\gabi\\\\thesis analysis\\\\test3\\\\1_PRE_BB_15_H1,6_KI_T3.avi',\n",
       " 'C:\\\\Users\\\\UCPH\\\\gabi\\\\thesis analysis\\\\test3\\\\1_PRE_BB_15_H1,6_KI_T4.avi',\n",
       " 'C:\\\\Users\\\\UCPH\\\\gabi\\\\thesis analysis\\\\test3\\\\1_PRE_BB_15_VEHE_KI_T1.avi',\n",
       " 'C:\\\\Users\\\\UCPH\\\\gabi\\\\thesis analysis\\\\test3\\\\1_PRE_BB_15_VEHE_KI_T2.avi',\n",
       " 'C:\\\\Users\\\\UCPH\\\\gabi\\\\thesis analysis\\\\test3\\\\1_PRE_BB_15_VEHE_KI_T3.avi',\n",
       " 'C:\\\\Users\\\\UCPH\\\\gabi\\\\thesis analysis\\\\test3\\\\1_PRE_BB_15_VEHE_KI_T4.avi',\n",
       " 'C:\\\\Users\\\\UCPH\\\\gabi\\\\thesis analysis\\\\test3\\\\1_PRE_BB_16_H1,6_WT_T1.avi',\n",
       " 'C:\\\\Users\\\\UCPH\\\\gabi\\\\thesis analysis\\\\test3\\\\1_PRE_BB_16_H1,6_WT_T2.avi',\n",
       " 'C:\\\\Users\\\\UCPH\\\\gabi\\\\thesis analysis\\\\test3\\\\1_PRE_BB_16_H1,6_WT_T3.avi',\n",
       " 'C:\\\\Users\\\\UCPH\\\\gabi\\\\thesis analysis\\\\test3\\\\1_PRE_BB_16_H1,6_WT_T4.avi',\n",
       " 'C:\\\\Users\\\\UCPH\\\\gabi\\\\thesis analysis\\\\test3\\\\1_PRE_BB_16_VEHE_WT_T1.avi',\n",
       " 'C:\\\\Users\\\\UCPH\\\\gabi\\\\thesis analysis\\\\test3\\\\1_PRE_BB_16_VEHE_WT_T2.avi',\n",
       " 'C:\\\\Users\\\\UCPH\\\\gabi\\\\thesis analysis\\\\test3\\\\1_PRE_BB_16_VEHE_WT_T3.avi',\n",
       " 'C:\\\\Users\\\\UCPH\\\\gabi\\\\thesis analysis\\\\test3\\\\1_PRE_BB_16_VEHE_WT_T4.avi',\n",
       " 'C:\\\\Users\\\\UCPH\\\\gabi\\\\thesis analysis\\\\test3\\\\1_PRE_BB_17_H1,6_KI_T1.avi',\n",
       " 'C:\\\\Users\\\\UCPH\\\\gabi\\\\thesis analysis\\\\test3\\\\1_PRE_BB_17_H1,6_KI_T2.avi',\n",
       " 'C:\\\\Users\\\\UCPH\\\\gabi\\\\thesis analysis\\\\test3\\\\1_PRE_BB_17_H1,6_KI_T3.avi',\n",
       " 'C:\\\\Users\\\\UCPH\\\\gabi\\\\thesis analysis\\\\test3\\\\1_PRE_BB_17_H1,6_KI_T4.avi',\n",
       " 'C:\\\\Users\\\\UCPH\\\\gabi\\\\thesis analysis\\\\test3\\\\1_PRE_BB_17_VEHE_KI_T1.avi',\n",
       " 'C:\\\\Users\\\\UCPH\\\\gabi\\\\thesis analysis\\\\test3\\\\1_PRE_BB_17_VEHE_KI_T2.avi',\n",
       " 'C:\\\\Users\\\\UCPH\\\\gabi\\\\thesis analysis\\\\test3\\\\1_PRE_BB_17_VEHE_KI_T3.avi',\n",
       " 'C:\\\\Users\\\\UCPH\\\\gabi\\\\thesis analysis\\\\test3\\\\1_PRE_BB_17_VEHE_KI_T4.avi',\n",
       " 'C:\\\\Users\\\\UCPH\\\\gabi\\\\thesis analysis\\\\test3\\\\1_PRE_BB_19_H1,6_HET_T1.avi',\n",
       " 'C:\\\\Users\\\\UCPH\\\\gabi\\\\thesis analysis\\\\test3\\\\1_PRE_BB_19_H1,6_HET_T2.avi',\n",
       " 'C:\\\\Users\\\\UCPH\\\\gabi\\\\thesis analysis\\\\test3\\\\1_PRE_BB_19_H1,6_HET_T3.avi',\n",
       " 'C:\\\\Users\\\\UCPH\\\\gabi\\\\thesis analysis\\\\test3\\\\1_PRE_BB_19_H1,6_HET_T4.avi',\n",
       " 'C:\\\\Users\\\\UCPH\\\\gabi\\\\thesis analysis\\\\test3\\\\1_PRE_BB_19_VEHE_HET_T1.avi',\n",
       " 'C:\\\\Users\\\\UCPH\\\\gabi\\\\thesis analysis\\\\test3\\\\1_PRE_BB_19_VEHE_HET_T2.avi',\n",
       " 'C:\\\\Users\\\\UCPH\\\\gabi\\\\thesis analysis\\\\test3\\\\1_PRE_BB_19_VEHE_HET_T3.avi',\n",
       " 'C:\\\\Users\\\\UCPH\\\\gabi\\\\thesis analysis\\\\test3\\\\1_PRE_BB_19_VEHE_HET_T4.avi',\n",
       " 'C:\\\\Users\\\\UCPH\\\\gabi\\\\thesis analysis\\\\test3\\\\1_PRE_BB_20_H1,6_KI_T1.avi',\n",
       " 'C:\\\\Users\\\\UCPH\\\\gabi\\\\thesis analysis\\\\test3\\\\1_PRE_BB_20_H1,6_KI_T2.avi',\n",
       " 'C:\\\\Users\\\\UCPH\\\\gabi\\\\thesis analysis\\\\test3\\\\1_PRE_BB_20_H1,6_KI_T3.avi',\n",
       " 'C:\\\\Users\\\\UCPH\\\\gabi\\\\thesis analysis\\\\test3\\\\1_PRE_BB_20_H1,6_KI_T4.avi',\n",
       " 'C:\\\\Users\\\\UCPH\\\\gabi\\\\thesis analysis\\\\test3\\\\1_PRE_BB_20_VEHE_KI_T1.avi',\n",
       " 'C:\\\\Users\\\\UCPH\\\\gabi\\\\thesis analysis\\\\test3\\\\1_PRE_BB_20_VEHE_KI_T2.avi',\n",
       " 'C:\\\\Users\\\\UCPH\\\\gabi\\\\thesis analysis\\\\test3\\\\1_PRE_BB_20_VEHE_KI_T3.avi',\n",
       " 'C:\\\\Users\\\\UCPH\\\\gabi\\\\thesis analysis\\\\test3\\\\1_PRE_BB_20_VEHE_KI_T4.avi',\n",
       " 'C:\\\\Users\\\\UCPH\\\\gabi\\\\thesis analysis\\\\test3\\\\1_PRE_BB_24_H1,6_KI_T1.avi',\n",
       " 'C:\\\\Users\\\\UCPH\\\\gabi\\\\thesis analysis\\\\test3\\\\1_PRE_BB_24_H1,6_KI_T2.avi',\n",
       " 'C:\\\\Users\\\\UCPH\\\\gabi\\\\thesis analysis\\\\test3\\\\1_PRE_BB_24_H1,6_KI_T3.avi',\n",
       " 'C:\\\\Users\\\\UCPH\\\\gabi\\\\thesis analysis\\\\test3\\\\1_PRE_BB_24_H1,6_KI_T4.avi',\n",
       " 'C:\\\\Users\\\\UCPH\\\\gabi\\\\thesis analysis\\\\test3\\\\1_PRE_BB_24_VEHE_KI_T1.avi',\n",
       " 'C:\\\\Users\\\\UCPH\\\\gabi\\\\thesis analysis\\\\test3\\\\1_PRE_BB_24_VEHE_KI_T2.avi',\n",
       " 'C:\\\\Users\\\\UCPH\\\\gabi\\\\thesis analysis\\\\test3\\\\1_PRE_BB_24_VEHE_KI_T3.avi',\n",
       " 'C:\\\\Users\\\\UCPH\\\\gabi\\\\thesis analysis\\\\test3\\\\1_PRE_BB_24_VEHE_KI_T4.avi',\n",
       " 'C:\\\\Users\\\\UCPH\\\\gabi\\\\thesis analysis\\\\test3\\\\1_PRE_BB_26_H1,6_HET_T1.avi',\n",
       " 'C:\\\\Users\\\\UCPH\\\\gabi\\\\thesis analysis\\\\test3\\\\1_PRE_BB_26_H1,6_HET_T2.avi',\n",
       " 'C:\\\\Users\\\\UCPH\\\\gabi\\\\thesis analysis\\\\test3\\\\1_PRE_BB_26_H1,6_HET_T3.avi',\n",
       " 'C:\\\\Users\\\\UCPH\\\\gabi\\\\thesis analysis\\\\test3\\\\1_PRE_BB_26_H1,6_HET_T4.avi',\n",
       " 'C:\\\\Users\\\\UCPH\\\\gabi\\\\thesis analysis\\\\test3\\\\1_PRE_BB_26_VEHE_HET_T1.avi',\n",
       " 'C:\\\\Users\\\\UCPH\\\\gabi\\\\thesis analysis\\\\test3\\\\1_PRE_BB_26_VEHE_HET_T2.avi',\n",
       " 'C:\\\\Users\\\\UCPH\\\\gabi\\\\thesis analysis\\\\test3\\\\1_PRE_BB_26_VEHE_HET_T3.avi',\n",
       " 'C:\\\\Users\\\\UCPH\\\\gabi\\\\thesis analysis\\\\test3\\\\1_PRE_BB_26_VEHE_HET_T4.avi',\n",
       " 'C:\\\\Users\\\\UCPH\\\\gabi\\\\thesis analysis\\\\test3\\\\1_PRE_BB_29_H1,6_HET_T1.avi',\n",
       " 'C:\\\\Users\\\\UCPH\\\\gabi\\\\thesis analysis\\\\test3\\\\1_PRE_BB_29_H1,6_HET_T2.avi',\n",
       " 'C:\\\\Users\\\\UCPH\\\\gabi\\\\thesis analysis\\\\test3\\\\1_PRE_BB_29_H1,6_HET_T3.avi',\n",
       " 'C:\\\\Users\\\\UCPH\\\\gabi\\\\thesis analysis\\\\test3\\\\1_PRE_BB_29_H1,6_HET_T4.avi',\n",
       " 'C:\\\\Users\\\\UCPH\\\\gabi\\\\thesis analysis\\\\test3\\\\1_PRE_BB_29_VEHE_HET_T1.avi',\n",
       " 'C:\\\\Users\\\\UCPH\\\\gabi\\\\thesis analysis\\\\test3\\\\1_PRE_BB_29_VEHE_HET_T2.avi',\n",
       " 'C:\\\\Users\\\\UCPH\\\\gabi\\\\thesis analysis\\\\test3\\\\1_PRE_BB_29_VEHE_HET_T3.avi',\n",
       " 'C:\\\\Users\\\\UCPH\\\\gabi\\\\thesis analysis\\\\test3\\\\1_PRE_BB_29_VEHE_HET_T4.avi',\n",
       " 'C:\\\\Users\\\\UCPH\\\\gabi\\\\thesis analysis\\\\test3\\\\1_PRE_BB_33_H1,6_WT_T1.avi',\n",
       " 'C:\\\\Users\\\\UCPH\\\\gabi\\\\thesis analysis\\\\test3\\\\1_PRE_BB_33_H1,6_WT_T2.avi',\n",
       " 'C:\\\\Users\\\\UCPH\\\\gabi\\\\thesis analysis\\\\test3\\\\1_PRE_BB_33_H1,6_WT_T3.avi',\n",
       " 'C:\\\\Users\\\\UCPH\\\\gabi\\\\thesis analysis\\\\test3\\\\1_PRE_BB_33_H1,6_WT_T4.avi',\n",
       " 'C:\\\\Users\\\\UCPH\\\\gabi\\\\thesis analysis\\\\test3\\\\1_PRE_BB_33_VEHE_WT_T1.avi',\n",
       " 'C:\\\\Users\\\\UCPH\\\\gabi\\\\thesis analysis\\\\test3\\\\1_PRE_BB_33_VEHE_WT_T2.avi',\n",
       " 'C:\\\\Users\\\\UCPH\\\\gabi\\\\thesis analysis\\\\test3\\\\1_PRE_BB_33_VEHE_WT_T3.avi',\n",
       " 'C:\\\\Users\\\\UCPH\\\\gabi\\\\thesis analysis\\\\test3\\\\1_PRE_BB_33_VEHE_WT_T4.avi',\n",
       " 'C:\\\\Users\\\\UCPH\\\\gabi\\\\thesis analysis\\\\test3\\\\1_PRE_BB_35_H1,6_WT_T1.avi',\n",
       " 'C:\\\\Users\\\\UCPH\\\\gabi\\\\thesis analysis\\\\test3\\\\1_PRE_BB_35_H1,6_WT_T2.avi',\n",
       " 'C:\\\\Users\\\\UCPH\\\\gabi\\\\thesis analysis\\\\test3\\\\1_PRE_BB_35_H1,6_WT_T3.avi',\n",
       " 'C:\\\\Users\\\\UCPH\\\\gabi\\\\thesis analysis\\\\test3\\\\1_PRE_BB_35_H1,6_WT_T4.avi',\n",
       " 'C:\\\\Users\\\\UCPH\\\\gabi\\\\thesis analysis\\\\test3\\\\1_PRE_BB_35_VEHE_WT_T1.avi',\n",
       " 'C:\\\\Users\\\\UCPH\\\\gabi\\\\thesis analysis\\\\test3\\\\1_PRE_BB_35_VEHE_WT_T2.avi',\n",
       " 'C:\\\\Users\\\\UCPH\\\\gabi\\\\thesis analysis\\\\test3\\\\1_PRE_BB_35_VEHE_WT_T3.avi',\n",
       " 'C:\\\\Users\\\\UCPH\\\\gabi\\\\thesis analysis\\\\test3\\\\1_PRE_BB_35_VEHE_WT_T4.avi',\n",
       " 'C:\\\\Users\\\\UCPH\\\\gabi\\\\thesis analysis\\\\test3\\\\1_PRE_BB_37_H1,6_WT_T1.avi',\n",
       " 'C:\\\\Users\\\\UCPH\\\\gabi\\\\thesis analysis\\\\test3\\\\1_PRE_BB_37_H1,6_WT_T2.avi',\n",
       " 'C:\\\\Users\\\\UCPH\\\\gabi\\\\thesis analysis\\\\test3\\\\1_PRE_BB_37_H1,6_WT_T3.avi',\n",
       " 'C:\\\\Users\\\\UCPH\\\\gabi\\\\thesis analysis\\\\test3\\\\1_PRE_BB_37_H1,6_WT_T4.avi',\n",
       " 'C:\\\\Users\\\\UCPH\\\\gabi\\\\thesis analysis\\\\test3\\\\1_PRE_BB_37_VEHE_WT_T1.avi',\n",
       " 'C:\\\\Users\\\\UCPH\\\\gabi\\\\thesis analysis\\\\test3\\\\1_PRE_BB_37_VEHE_WT_T2.avi',\n",
       " 'C:\\\\Users\\\\UCPH\\\\gabi\\\\thesis analysis\\\\test3\\\\1_PRE_BB_37_VEHE_WT_T3.avi',\n",
       " 'C:\\\\Users\\\\UCPH\\\\gabi\\\\thesis analysis\\\\test3\\\\1_PRE_BB_37_VEHE_WT_T4.avi']"
      ]
     },
     "execution_count": 23,
     "metadata": {},
     "output_type": "execute_result"
    }
   ],
   "source": [
    "import os\n",
    "\n",
    "folder_path = r'C:\\Users\\UCPH\\gabi\\thesis analysis\\test3'\n",
    "\n",
    "# Initialize an empty list to store the full paths of .avi files\n",
    "new_videolist = []\n",
    "\n",
    "# List all files in the folder\n",
    "files_in_folder = os.listdir(folder_path)\n",
    "\n",
    "# Iterate through the files and check if they have a .avi extension\n",
    "for file in files_in_folder:\n",
    "    if file.endswith('.avi'):\n",
    "        # Create the full path by joining the folder path and file name\n",
    "        full_path = os.path.join(folder_path, file)\n",
    "        # Append the full path to the list\n",
    "        new_videolist.append(full_path)\n",
    "        \n",
    "new_videolist"
   ]
  },
  {
   "cell_type": "code",
   "execution_count": 8,
   "id": "0cf1ea3e",
   "metadata": {},
   "outputs": [
    {
     "name": "stdout",
     "output_type": "stream",
     "text": [
      "Created \"C:\\Users\\UCPH\\gabi\\thesis analysis\\BB-SSJ-2023-09-04\\videos\"\n",
      "Created \"C:\\Users\\UCPH\\gabi\\thesis analysis\\BB-SSJ-2023-09-04\\labeled-data\"\n",
      "Created \"C:\\Users\\UCPH\\gabi\\thesis analysis\\BB-SSJ-2023-09-04\\training-datasets\"\n",
      "Created \"C:\\Users\\UCPH\\gabi\\thesis analysis\\BB-SSJ-2023-09-04\\dlc-models\"\n",
      "Attempting to create a symbolic link of the video ...\n",
      "Created the symlink of C:\\Users\\UCPH\\gabi\\thesis analysis\\train\\1.avi to C:\\Users\\UCPH\\gabi\\thesis analysis\\BB-SSJ-2023-09-04\\videos\\1.avi\n",
      "Created the symlink of C:\\Users\\UCPH\\gabi\\thesis analysis\\train\\2.avi to C:\\Users\\UCPH\\gabi\\thesis analysis\\BB-SSJ-2023-09-04\\videos\\2.avi\n",
      "Created the symlink of C:\\Users\\UCPH\\gabi\\thesis analysis\\train\\3.avi to C:\\Users\\UCPH\\gabi\\thesis analysis\\BB-SSJ-2023-09-04\\videos\\3.avi\n",
      "Created the symlink of C:\\Users\\UCPH\\gabi\\thesis analysis\\train\\4.avi to C:\\Users\\UCPH\\gabi\\thesis analysis\\BB-SSJ-2023-09-04\\videos\\4.avi\n",
      "Created the symlink of C:\\Users\\UCPH\\gabi\\thesis analysis\\train\\5.avi to C:\\Users\\UCPH\\gabi\\thesis analysis\\BB-SSJ-2023-09-04\\videos\\5.avi\n",
      "Created the symlink of C:\\Users\\UCPH\\gabi\\thesis analysis\\train\\6.avi to C:\\Users\\UCPH\\gabi\\thesis analysis\\BB-SSJ-2023-09-04\\videos\\6.avi\n",
      "Created the symlink of C:\\Users\\UCPH\\gabi\\thesis analysis\\train\\7.avi to C:\\Users\\UCPH\\gabi\\thesis analysis\\BB-SSJ-2023-09-04\\videos\\7.avi\n",
      "Created the symlink of C:\\Users\\UCPH\\gabi\\thesis analysis\\train\\8.avi to C:\\Users\\UCPH\\gabi\\thesis analysis\\BB-SSJ-2023-09-04\\videos\\8.avi\n",
      "C:\\Users\\UCPH\\gabi\\thesis analysis\\BB-SSJ-2023-09-04\\videos\\1.avi\n",
      "C:\\Users\\UCPH\\gabi\\thesis analysis\\BB-SSJ-2023-09-04\\videos\\2.avi\n",
      "C:\\Users\\UCPH\\gabi\\thesis analysis\\BB-SSJ-2023-09-04\\videos\\3.avi\n",
      "C:\\Users\\UCPH\\gabi\\thesis analysis\\BB-SSJ-2023-09-04\\videos\\4.avi\n",
      "C:\\Users\\UCPH\\gabi\\thesis analysis\\BB-SSJ-2023-09-04\\videos\\5.avi\n",
      "C:\\Users\\UCPH\\gabi\\thesis analysis\\BB-SSJ-2023-09-04\\videos\\6.avi\n",
      "C:\\Users\\UCPH\\gabi\\thesis analysis\\BB-SSJ-2023-09-04\\videos\\7.avi\n",
      "C:\\Users\\UCPH\\gabi\\thesis analysis\\BB-SSJ-2023-09-04\\videos\\8.avi\n",
      "Generated \"C:\\Users\\UCPH\\gabi\\thesis analysis\\BB-SSJ-2023-09-04\\config.yaml\"\n",
      "\n",
      "A new project with name BB-SSJ-2023-09-04 is created at C:\\Users\\UCPH\\gabi\\thesis analysis and a configurable file (config.yaml) is stored there. Change the parameters in this file to adapt to your project's needs.\n",
      " Once you have changed the configuration file, use the function 'extract_frames' to select frames for labeling.\n",
      ". [OPTIONAL] Use the function 'add_new_videos' to add new videos to your project (at any stage).\n"
     ]
    }
   ],
   "source": [
    "config_path = deeplabcut.create_new_project('BB', 'SSJ', videolist, copy_videos=False, multianimal=False)"
   ]
  },
  {
   "cell_type": "code",
   "execution_count": 21,
   "id": "20a34fb4",
   "metadata": {},
   "outputs": [
    {
     "name": "stdout",
     "output_type": "stream",
     "text": [
      "Config file read successfully.\n",
      "Extracting frames based on kmeans ...\n",
      "Kmeans-quantization based extracting of frames from 0.0  seconds to 25.0  seconds.\n",
      "Extracting and downsampling... 250  frames from the video.\n"
     ]
    },
    {
     "name": "stderr",
     "output_type": "stream",
     "text": [
      "250it [00:00, 285.62it/s]\n",
      "C:\\ProgramData\\miniconda3\\envs\\DLC\\lib\\site-packages\\sklearn\\cluster\\_kmeans.py:870: FutureWarning: The default value of `n_init` will change from 3 to 'auto' in 1.4. Set the value of `n_init` explicitly to suppress the warning\n",
      "  warnings.warn(\n"
     ]
    },
    {
     "name": "stdout",
     "output_type": "stream",
     "text": [
      "Kmeans clustering ... (this might take a while)\n",
      "Extracting frames based on kmeans ...\n",
      "Kmeans-quantization based extracting of frames from 0.0  seconds to 9.6  seconds.\n",
      "Extracting and downsampling... 96  frames from the video.\n"
     ]
    },
    {
     "name": "stderr",
     "output_type": "stream",
     "text": [
      "96it [00:00, 275.09it/s]\n",
      "C:\\ProgramData\\miniconda3\\envs\\DLC\\lib\\site-packages\\sklearn\\cluster\\_kmeans.py:870: FutureWarning: The default value of `n_init` will change from 3 to 'auto' in 1.4. Set the value of `n_init` explicitly to suppress the warning\n",
      "  warnings.warn(\n"
     ]
    },
    {
     "name": "stdout",
     "output_type": "stream",
     "text": [
      "Kmeans clustering ... (this might take a while)\n",
      "Frame 95  not found!\n",
      "Extracting frames based on kmeans ...\n",
      "Kmeans-quantization based extracting of frames from 0.0  seconds to 32.5  seconds.\n",
      "Extracting and downsampling... 325  frames from the video.\n"
     ]
    },
    {
     "name": "stderr",
     "output_type": "stream",
     "text": [
      "325it [00:01, 287.37it/s]\n",
      "C:\\ProgramData\\miniconda3\\envs\\DLC\\lib\\site-packages\\sklearn\\cluster\\_kmeans.py:870: FutureWarning: The default value of `n_init` will change from 3 to 'auto' in 1.4. Set the value of `n_init` explicitly to suppress the warning\n",
      "  warnings.warn(\n"
     ]
    },
    {
     "name": "stdout",
     "output_type": "stream",
     "text": [
      "Kmeans clustering ... (this might take a while)\n",
      "Extracting frames based on kmeans ...\n",
      "Kmeans-quantization based extracting of frames from 0.0  seconds to 469.3  seconds.\n",
      "Extracting and downsampling... 4693  frames from the video.\n"
     ]
    },
    {
     "name": "stderr",
     "output_type": "stream",
     "text": [
      "4693it [00:16, 290.20it/s]\n",
      "C:\\ProgramData\\miniconda3\\envs\\DLC\\lib\\site-packages\\sklearn\\cluster\\_kmeans.py:870: FutureWarning: The default value of `n_init` will change from 3 to 'auto' in 1.4. Set the value of `n_init` explicitly to suppress the warning\n",
      "  warnings.warn(\n"
     ]
    },
    {
     "name": "stdout",
     "output_type": "stream",
     "text": [
      "Kmeans clustering ... (this might take a while)\n",
      "Extracting frames based on kmeans ...\n",
      "Kmeans-quantization based extracting of frames from 0.0  seconds to 674.82  seconds.\n",
      "Extracting and downsampling... 40489  frames from the video.\n"
     ]
    },
    {
     "name": "stderr",
     "output_type": "stream",
     "text": [
      "40489it [05:09, 130.67it/s]\n",
      "C:\\ProgramData\\miniconda3\\envs\\DLC\\lib\\site-packages\\sklearn\\cluster\\_kmeans.py:870: FutureWarning: The default value of `n_init` will change from 3 to 'auto' in 1.4. Set the value of `n_init` explicitly to suppress the warning\n",
      "  warnings.warn(\n"
     ]
    },
    {
     "name": "stdout",
     "output_type": "stream",
     "text": [
      "Kmeans clustering ... (this might take a while)\n",
      "Extracting frames based on kmeans ...\n",
      "Kmeans-quantization based extracting of frames from 0.0  seconds to 1044.37  seconds.\n",
      "Extracting and downsampling... 62662  frames from the video.\n"
     ]
    },
    {
     "name": "stderr",
     "output_type": "stream",
     "text": [
      "17830it [02:22, 125.45it/s]\n"
     ]
    },
    {
     "ename": "KeyboardInterrupt",
     "evalue": "",
     "output_type": "error",
     "traceback": [
      "\u001b[1;31m---------------------------------------------------------------------------\u001b[0m",
      "\u001b[1;31mKeyboardInterrupt\u001b[0m                         Traceback (most recent call last)",
      "Cell \u001b[1;32mIn[21], line 1\u001b[0m\n\u001b[1;32m----> 1\u001b[0m \u001b[43mdeeplabcut\u001b[49m\u001b[38;5;241;43m.\u001b[39;49m\u001b[43mextract_frames\u001b[49m\u001b[43m(\u001b[49m\u001b[43mconfig_path\u001b[49m\u001b[43m,\u001b[49m\u001b[43m \u001b[49m\u001b[43mmode\u001b[49m\u001b[38;5;241;43m=\u001b[39;49m\u001b[38;5;124;43m'\u001b[39;49m\u001b[38;5;124;43mautomatic\u001b[39;49m\u001b[38;5;124;43m'\u001b[39;49m\u001b[43m,\u001b[49m\u001b[43m \u001b[49m\u001b[43malgo\u001b[49m\u001b[38;5;241;43m=\u001b[39;49m\u001b[38;5;124;43m'\u001b[39;49m\u001b[38;5;124;43mkmeans\u001b[39;49m\u001b[38;5;124;43m'\u001b[39;49m\u001b[43m,\u001b[49m\u001b[43m \u001b[49m\u001b[43muserfeedback\u001b[49m\u001b[38;5;241;43m=\u001b[39;49m\u001b[38;5;28;43;01mFalse\u001b[39;49;00m\u001b[43m,\u001b[49m\u001b[43m \u001b[49m\u001b[43mcrop\u001b[49m\u001b[38;5;241;43m=\u001b[39;49m\u001b[38;5;28;43;01mFalse\u001b[39;49;00m\u001b[43m)\u001b[49m\n",
      "File \u001b[1;32mC:\\ProgramData\\miniconda3\\envs\\DLC\\lib\\site-packages\\deeplabcut\\generate_training_dataset\\frame_extraction.py:380\u001b[0m, in \u001b[0;36mextract_frames\u001b[1;34m(config, mode, algo, crop, userfeedback, cluster_step, cluster_resizewidth, cluster_color, opencv, slider_width, config3d, extracted_cam, videos_list)\u001b[0m\n\u001b[0;32m    378\u001b[0m \u001b[38;5;28;01melif\u001b[39;00m algo \u001b[38;5;241m==\u001b[39m \u001b[38;5;124m\"\u001b[39m\u001b[38;5;124mkmeans\u001b[39m\u001b[38;5;124m\"\u001b[39m:\n\u001b[0;32m    379\u001b[0m     \u001b[38;5;28;01mif\u001b[39;00m opencv:\n\u001b[1;32m--> 380\u001b[0m         frames2pick \u001b[38;5;241m=\u001b[39m \u001b[43mframeselectiontools\u001b[49m\u001b[38;5;241;43m.\u001b[39;49m\u001b[43mKmeansbasedFrameselectioncv2\u001b[49m\u001b[43m(\u001b[49m\n\u001b[0;32m    381\u001b[0m \u001b[43m            \u001b[49m\u001b[43mcap\u001b[49m\u001b[43m,\u001b[49m\n\u001b[0;32m    382\u001b[0m \u001b[43m            \u001b[49m\u001b[43mnumframes2pick\u001b[49m\u001b[43m,\u001b[49m\n\u001b[0;32m    383\u001b[0m \u001b[43m            \u001b[49m\u001b[43mstart\u001b[49m\u001b[43m,\u001b[49m\n\u001b[0;32m    384\u001b[0m \u001b[43m            \u001b[49m\u001b[43mstop\u001b[49m\u001b[43m,\u001b[49m\n\u001b[0;32m    385\u001b[0m \u001b[43m            \u001b[49m\u001b[43mcrop\u001b[49m\u001b[43m,\u001b[49m\n\u001b[0;32m    386\u001b[0m \u001b[43m            \u001b[49m\u001b[43mcoords\u001b[49m\u001b[43m,\u001b[49m\n\u001b[0;32m    387\u001b[0m \u001b[43m            \u001b[49m\u001b[43mstep\u001b[49m\u001b[38;5;241;43m=\u001b[39;49m\u001b[43mcluster_step\u001b[49m\u001b[43m,\u001b[49m\n\u001b[0;32m    388\u001b[0m \u001b[43m            \u001b[49m\u001b[43mresizewidth\u001b[49m\u001b[38;5;241;43m=\u001b[39;49m\u001b[43mcluster_resizewidth\u001b[49m\u001b[43m,\u001b[49m\n\u001b[0;32m    389\u001b[0m \u001b[43m            \u001b[49m\u001b[43mcolor\u001b[49m\u001b[38;5;241;43m=\u001b[39;49m\u001b[43mcluster_color\u001b[49m\u001b[43m,\u001b[49m\n\u001b[0;32m    390\u001b[0m \u001b[43m        \u001b[49m\u001b[43m)\u001b[49m\n\u001b[0;32m    391\u001b[0m     \u001b[38;5;28;01melse\u001b[39;00m:\n\u001b[0;32m    392\u001b[0m         frames2pick \u001b[38;5;241m=\u001b[39m frameselectiontools\u001b[38;5;241m.\u001b[39mKmeansbasedFrameselection(\n\u001b[0;32m    393\u001b[0m             clip,\n\u001b[0;32m    394\u001b[0m             numframes2pick,\n\u001b[1;32m   (...)\u001b[0m\n\u001b[0;32m    399\u001b[0m             color\u001b[38;5;241m=\u001b[39mcluster_color,\n\u001b[0;32m    400\u001b[0m         )\n",
      "File \u001b[1;32mC:\\ProgramData\\miniconda3\\envs\\DLC\\lib\\site-packages\\deeplabcut\\utils\\frameselectiontools.py:358\u001b[0m, in \u001b[0;36mKmeansbasedFrameselectioncv2\u001b[1;34m(cap, numframes2pick, start, stop, crop, coords, Index, step, resizewidth, batchsize, max_iter, color)\u001b[0m\n\u001b[0;32m    356\u001b[0m \u001b[38;5;28;01melse\u001b[39;00m:\n\u001b[0;32m    357\u001b[0m     \u001b[38;5;28;01mfor\u001b[39;00m counter, index \u001b[38;5;129;01min\u001b[39;00m tqdm(\u001b[38;5;28menumerate\u001b[39m(Index)):\n\u001b[1;32m--> 358\u001b[0m         frame \u001b[38;5;241m=\u001b[39m \u001b[43mcap\u001b[49m\u001b[38;5;241;43m.\u001b[39;49m\u001b[43mread_frame\u001b[49m\u001b[43m(\u001b[49m\u001b[43m)\u001b[49m\n\u001b[0;32m    359\u001b[0m         \u001b[38;5;28;01mif\u001b[39;00m frame \u001b[38;5;129;01mis\u001b[39;00m \u001b[38;5;129;01mnot\u001b[39;00m \u001b[38;5;28;01mNone\u001b[39;00m:\n\u001b[0;32m    360\u001b[0m             \u001b[38;5;28;01mif\u001b[39;00m crop:\n",
      "File \u001b[1;32mC:\\ProgramData\\miniconda3\\envs\\DLC\\lib\\site-packages\\deeplabcut\\utils\\auxfun_videos.py:126\u001b[0m, in \u001b[0;36mVideoReader.read_frame\u001b[1;34m(self, shrink, crop)\u001b[0m\n\u001b[0;32m    125\u001b[0m \u001b[38;5;28;01mdef\u001b[39;00m \u001b[38;5;21mread_frame\u001b[39m(\u001b[38;5;28mself\u001b[39m, shrink\u001b[38;5;241m=\u001b[39m\u001b[38;5;241m1\u001b[39m, crop\u001b[38;5;241m=\u001b[39m\u001b[38;5;28;01mFalse\u001b[39;00m):\n\u001b[1;32m--> 126\u001b[0m     success, frame \u001b[38;5;241m=\u001b[39m \u001b[38;5;28;43mself\u001b[39;49m\u001b[38;5;241;43m.\u001b[39;49m\u001b[43mvideo\u001b[49m\u001b[38;5;241;43m.\u001b[39;49m\u001b[43mread\u001b[49m\u001b[43m(\u001b[49m\u001b[43m)\u001b[49m\n\u001b[0;32m    127\u001b[0m     \u001b[38;5;28;01mif\u001b[39;00m \u001b[38;5;129;01mnot\u001b[39;00m success:\n\u001b[0;32m    128\u001b[0m         \u001b[38;5;28;01mreturn\u001b[39;00m\n",
      "\u001b[1;31mKeyboardInterrupt\u001b[0m: "
     ]
    }
   ],
   "source": [
    "deeplabcut.extract_frames(config_path, mode='automatic', algo='kmeans', userfeedback=False, crop=False)"
   ]
  },
  {
   "cell_type": "code",
   "execution_count": 22,
   "id": "35f2c8ae",
   "metadata": {},
   "outputs": [
    {
     "data": {
      "text/plain": [
       "'C:\\\\Users\\\\UCPH\\\\gabi\\\\thesis analysis\\\\BB-SSJ-2023-09-04\\\\config.yaml'"
      ]
     },
     "execution_count": 22,
     "metadata": {},
     "output_type": "execute_result"
    }
   ],
   "source": [
    "config_path"
   ]
  },
  {
   "cell_type": "code",
   "execution_count": 10,
   "id": "3068f07a",
   "metadata": {},
   "outputs": [
    {
     "name": "stdout",
     "output_type": "stream",
     "text": [
      "Creating images with labels by SSJ.\n"
     ]
    },
    {
     "name": "stderr",
     "output_type": "stream",
     "text": [
      "100%|██████████████████████████████████████████████████████████████████████████████████| 50/50 [00:08<00:00,  5.57it/s]\n",
      "100%|██████████████████████████████████████████████████████████████████████████████████| 46/46 [00:08<00:00,  5.65it/s]\n",
      "100%|██████████████████████████████████████████████████████████████████████████████████| 50/50 [00:08<00:00,  5.96it/s]\n",
      "100%|██████████████████████████████████████████████████████████████████████████████████| 50/50 [00:08<00:00,  5.90it/s]\n",
      "100%|██████████████████████████████████████████████████████████████████████████████████| 50/50 [00:12<00:00,  3.89it/s]\n",
      "100%|██████████████████████████████████████████████████████████████████████████████████| 50/50 [00:15<00:00,  3.20it/s]\n",
      "100%|██████████████████████████████████████████████████████████████████████████████████| 49/49 [00:17<00:00,  2.79it/s]\n",
      "100%|██████████████████████████████████████████████████████████████████████████████████| 50/50 [00:14<00:00,  3.44it/s]"
     ]
    },
    {
     "name": "stdout",
     "output_type": "stream",
     "text": [
      "If all the labels are ok, then use the function 'create_training_dataset' to create the training dataset!\n"
     ]
    },
    {
     "name": "stderr",
     "output_type": "stream",
     "text": [
      "\n"
     ]
    }
   ],
   "source": [
    "deeplabcut.check_labels(config_path, visualizeindividuals=True)"
   ]
  },
  {
   "cell_type": "code",
   "execution_count": 13,
   "id": "f17cc5b2",
   "metadata": {},
   "outputs": [
    {
     "name": "stdout",
     "output_type": "stream",
     "text": [
      "The training dataset is successfully created. Use the function 'train_network' to start training. Happy training!\n"
     ]
    },
    {
     "data": {
      "text/plain": [
       "[(0.95,\n",
       "  1,\n",
       "  (array([172,  24, 316, 169, 226, 127, 352,  28,  78, 154, 358, 206,  19,\n",
       "          372, 315,  61,   2, 342,   5, 288, 286, 371, 141, 283, 193,  16,\n",
       "           98, 107, 105, 366, 276, 210, 392, 103, 178, 273, 388, 307, 192,\n",
       "          292, 304, 318, 181, 205,  38,  21, 230,  30, 313, 237,   6, 170,\n",
       "           67, 142, 244,  29, 314,  20, 201, 214, 219,  83, 323, 191, 115,\n",
       "          390, 243, 109, 248,   4, 322,  14,  93, 242,  23,  34, 150, 194,\n",
       "          393, 153,   1, 394, 361, 306, 218,  65, 238, 174, 254,  77, 359,\n",
       "          256, 122, 363, 325, 163, 269,  97,   8, 204,  37, 253, 112, 294,\n",
       "          160,  81,  49, 187, 330, 354, 364, 267,  59,  79,  39, 120, 104,\n",
       "          296, 139,  47, 376, 157, 113, 159, 229, 261,  90,  87, 335,  13,\n",
       "          119, 106, 300,  11, 308,  55, 255, 166, 287, 197, 350,  63, 385,\n",
       "          380, 389, 373, 168,  88, 138, 185, 123, 130,  43,  80, 266,   7,\n",
       "           25, 222, 195, 121, 357, 132,  15, 215, 114,  52, 173, 179, 188,\n",
       "          291, 135, 102, 235, 337, 324, 272, 365, 155, 202, 265, 319, 167,\n",
       "          180, 378,  31, 260, 162, 190, 131, 351, 289, 245, 240, 333, 334,\n",
       "          209, 250, 100, 362, 249, 262,  35,  95, 274, 118, 299, 129, 341,\n",
       "          252, 298, 231, 186,  60, 317, 347,  18, 375, 297, 355,  32,  92,\n",
       "          152, 349, 126, 263, 211, 151, 271,  54, 116,  66,  41, 124, 177,\n",
       "          391, 158, 208, 367, 147, 223, 277,   3, 369, 345, 258, 176,  84,\n",
       "          149, 213, 251,  10, 282, 348, 356,  56, 290,   9,  22,  26, 156,\n",
       "          353, 171,  57, 279,  44, 196,  96, 338, 198, 303,  91,  99, 301,\n",
       "          165, 216, 295,  33, 110, 241, 326, 146, 175, 228, 220, 232, 257,\n",
       "           89, 217, 374, 278,  50, 233, 368, 144, 184, 384, 379,  75, 331,\n",
       "           48, 320, 310,  62, 386, 305, 377, 302,  45, 312, 227, 270, 134,\n",
       "          128, 246, 311, 200, 264, 236, 281,  46, 360,  69,  82, 125, 383,\n",
       "          327,  36, 280,   0, 268, 339, 247, 343,  85, 161, 101, 321, 212,\n",
       "           58, 239, 133, 224, 381, 199,  72, 136,  94, 203, 143, 137, 336,\n",
       "          284, 346, 164, 117,  27,  71, 225,  53, 259, 332, 108, 387, 293,\n",
       "           86,  40,  68, 309, 329,  64,  12, 221, 145, 183, 148]),\n",
       "   array([140, 328, 275,  70, 189,  17,  73,  74, 370,  76, 111, 285, 234,\n",
       "           42, 182, 207, 382, 344, 340,  51])))]"
      ]
     },
     "execution_count": 13,
     "metadata": {},
     "output_type": "execute_result"
    }
   ],
   "source": [
    "deeplabcut.create_training_dataset(config_path)"
   ]
  },
  {
   "cell_type": "code",
   "execution_count": 14,
   "id": "c169b78c",
   "metadata": {},
   "outputs": [],
   "source": [
    "deeplabcut.train_network??"
   ]
  },
  {
   "cell_type": "code",
   "execution_count": 15,
   "id": "08e65e2e",
   "metadata": {
    "scrolled": false
   },
   "outputs": [
    {
     "name": "stderr",
     "output_type": "stream",
     "text": [
      "Config:\n",
      "{'all_joints': [[0], [1], [2], [3], [4], [5]],\n",
      " 'all_joints_names': ['Nose',\n",
      "                      'Frontlimb',\n",
      "                      'HindLimb',\n",
      "                      'TailBase',\n",
      "                      'Start',\n",
      "                      'End'],\n",
      " 'alpha_r': 0.02,\n",
      " 'apply_prob': 0.5,\n",
      " 'batch_size': 1,\n",
      " 'contrast': {'clahe': True,\n",
      "              'claheratio': 0.1,\n",
      "              'histeq': True,\n",
      "              'histeqratio': 0.1},\n",
      " 'convolution': {'edge': False,\n",
      "                 'emboss': {'alpha': [0.0, 1.0], 'strength': [0.5, 1.5]},\n",
      "                 'embossratio': 0.1,\n",
      "                 'sharpen': False,\n",
      "                 'sharpenratio': 0.3},\n",
      " 'crop_pad': 0,\n",
      " 'cropratio': 0.4,\n",
      " 'dataset': 'training-datasets\\\\iteration-0\\\\UnaugmentedDataSet_BBSep4\\\\BB_SSJ95shuffle1.mat',\n",
      " 'dataset_type': 'default',\n",
      " 'decay_steps': 30000,\n",
      " 'deterministic': False,\n",
      " 'display_iters': 1000,\n",
      " 'fg_fraction': 0.25,\n",
      " 'global_scale': 0.8,\n",
      " 'init_weights': 'C:\\\\ProgramData\\\\miniconda3\\\\envs\\\\DLC\\\\lib\\\\site-packages\\\\deeplabcut\\\\pose_estimation_tensorflow\\\\models\\\\pretrained\\\\resnet_v1_50.ckpt',\n",
      " 'intermediate_supervision': False,\n",
      " 'intermediate_supervision_layer': 12,\n",
      " 'location_refinement': True,\n",
      " 'locref_huber_loss': True,\n",
      " 'locref_loss_weight': 0.05,\n",
      " 'locref_stdev': 7.2801,\n",
      " 'log_dir': 'log',\n",
      " 'lr_init': 0.0005,\n",
      " 'max_input_size': 1500,\n",
      " 'mean_pixel': [123.68, 116.779, 103.939],\n",
      " 'metadataset': 'training-datasets\\\\iteration-0\\\\UnaugmentedDataSet_BBSep4\\\\Documentation_data-BB_95shuffle1.pickle',\n",
      " 'min_input_size': 64,\n",
      " 'mirror': False,\n",
      " 'multi_stage': False,\n",
      " 'multi_step': [[0.005, 10000],\n",
      "                [0.02, 430000],\n",
      "                [0.002, 730000],\n",
      "                [0.001, 1030000]],\n",
      " 'net_type': 'resnet_50',\n",
      " 'num_joints': 6,\n",
      " 'optimizer': 'sgd',\n",
      " 'pairwise_huber_loss': False,\n",
      " 'pairwise_predict': False,\n",
      " 'partaffinityfield_predict': False,\n",
      " 'pos_dist_thresh': 17,\n",
      " 'project_path': 'C:\\\\Users\\\\UCPH\\\\gabi\\\\thesis analysis\\\\BB-SSJ-2023-09-04',\n",
      " 'regularize': False,\n",
      " 'rotation': 25,\n",
      " 'rotratio': 0.4,\n",
      " 'save_iters': 50000,\n",
      " 'scale_jitter_lo': 0.5,\n",
      " 'scale_jitter_up': 1.25,\n",
      " 'scoremap_dir': 'test',\n",
      " 'shuffle': True,\n",
      " 'snapshot_prefix': 'C:\\\\Users\\\\UCPH\\\\gabi\\\\thesis '\n",
      "                    'analysis\\\\BB-SSJ-2023-09-04\\\\dlc-models\\\\iteration-0\\\\BBSep4-trainset95shuffle1\\\\train\\\\snapshot',\n",
      " 'stride': 8.0,\n",
      " 'weigh_negatives': False,\n",
      " 'weigh_only_present_joints': False,\n",
      " 'weigh_part_predictions': False,\n",
      " 'weight_decay': 0.0001}\n"
     ]
    },
    {
     "name": "stdout",
     "output_type": "stream",
     "text": [
      "Selecting single-animal trainer\n",
      "Batch Size is 1\n"
     ]
    },
    {
     "name": "stderr",
     "output_type": "stream",
     "text": [
      "C:\\ProgramData\\miniconda3\\envs\\DLC\\lib\\site-packages\\tensorflow\\python\\keras\\engine\\base_layer_v1.py:1694: UserWarning: `layer.apply` is deprecated and will be removed in a future version. Please use `layer.__call__` method instead.\n",
      "  warnings.warn('`layer.apply` is deprecated and '\n"
     ]
    },
    {
     "name": "stdout",
     "output_type": "stream",
     "text": [
      "Loading ImageNet-pretrained resnet_50\n",
      "Max_iters overwritten as 500000\n",
      "Display_iters overwritten as 1000\n",
      "Save_iters overwritten as 10000\n",
      "Training parameter:\n",
      "{'stride': 8.0, 'weigh_part_predictions': False, 'weigh_negatives': False, 'fg_fraction': 0.25, 'mean_pixel': [123.68, 116.779, 103.939], 'shuffle': True, 'snapshot_prefix': 'C:\\\\Users\\\\UCPH\\\\gabi\\\\thesis analysis\\\\BB-SSJ-2023-09-04\\\\dlc-models\\\\iteration-0\\\\BBSep4-trainset95shuffle1\\\\train\\\\snapshot', 'log_dir': 'log', 'global_scale': 0.8, 'location_refinement': True, 'locref_stdev': 7.2801, 'locref_loss_weight': 0.05, 'locref_huber_loss': True, 'optimizer': 'sgd', 'intermediate_supervision': False, 'intermediate_supervision_layer': 12, 'regularize': False, 'weight_decay': 0.0001, 'crop_pad': 0, 'scoremap_dir': 'test', 'batch_size': 1, 'dataset_type': 'default', 'deterministic': False, 'mirror': False, 'pairwise_huber_loss': False, 'weigh_only_present_joints': False, 'partaffinityfield_predict': False, 'pairwise_predict': False, 'all_joints': [[0], [1], [2], [3], [4], [5]], 'all_joints_names': ['Nose', 'Frontlimb', 'HindLimb', 'TailBase', 'Start', 'End'], 'alpha_r': 0.02, 'apply_prob': 0.5, 'contrast': {'clahe': True, 'claheratio': 0.1, 'histeq': True, 'histeqratio': 0.1, 'gamma': False, 'sigmoid': False, 'log': False, 'linear': False}, 'convolution': {'edge': False, 'emboss': {'alpha': [0.0, 1.0], 'strength': [0.5, 1.5]}, 'embossratio': 0.1, 'sharpen': False, 'sharpenratio': 0.3}, 'cropratio': 0.4, 'dataset': 'training-datasets\\\\iteration-0\\\\UnaugmentedDataSet_BBSep4\\\\BB_SSJ95shuffle1.mat', 'decay_steps': 30000, 'display_iters': 1000, 'init_weights': 'C:\\\\ProgramData\\\\miniconda3\\\\envs\\\\DLC\\\\lib\\\\site-packages\\\\deeplabcut\\\\pose_estimation_tensorflow\\\\models\\\\pretrained\\\\resnet_v1_50.ckpt', 'lr_init': 0.0005, 'max_input_size': 1500, 'metadataset': 'training-datasets\\\\iteration-0\\\\UnaugmentedDataSet_BBSep4\\\\Documentation_data-BB_95shuffle1.pickle', 'min_input_size': 64, 'multi_stage': False, 'multi_step': [[0.005, 10000], [0.02, 430000], [0.002, 730000], [0.001, 1030000]], 'net_type': 'resnet_50', 'num_joints': 6, 'pos_dist_thresh': 17, 'project_path': 'C:\\\\Users\\\\UCPH\\\\gabi\\\\thesis analysis\\\\BB-SSJ-2023-09-04', 'rotation': 25, 'rotratio': 0.4, 'save_iters': 50000, 'scale_jitter_lo': 0.5, 'scale_jitter_up': 1.25, 'covering': True, 'elastic_transform': True, 'motion_blur': True, 'motion_blur_params': {'k': 7, 'angle': (-90, 90)}}\n",
      "Starting training....\n"
     ]
    },
    {
     "name": "stderr",
     "output_type": "stream",
     "text": [
      "iteration: 1000 loss: 0.0223 lr: 0.005\n",
      "iteration: 2000 loss: 0.0142 lr: 0.005\n",
      "iteration: 3000 loss: 0.0119 lr: 0.005\n",
      "iteration: 4000 loss: 0.0106 lr: 0.005\n",
      "iteration: 5000 loss: 0.0098 lr: 0.005\n",
      "iteration: 6000 loss: 0.0090 lr: 0.005\n",
      "iteration: 7000 loss: 0.0084 lr: 0.005\n",
      "iteration: 8000 loss: 0.0077 lr: 0.005\n",
      "iteration: 9000 loss: 0.0075 lr: 0.005\n",
      "iteration: 10000 loss: 0.0072 lr: 0.005\n",
      "iteration: 11000 loss: 0.0089 lr: 0.02\n",
      "iteration: 12000 loss: 0.0075 lr: 0.02\n",
      "iteration: 13000 loss: 0.0069 lr: 0.02\n",
      "iteration: 14000 loss: 0.0068 lr: 0.02\n",
      "iteration: 15000 loss: 0.0061 lr: 0.02\n",
      "iteration: 16000 loss: 0.0059 lr: 0.02\n",
      "iteration: 17000 loss: 0.0057 lr: 0.02\n",
      "iteration: 18000 loss: 0.0061 lr: 0.02\n",
      "iteration: 19000 loss: 0.0054 lr: 0.02\n",
      "iteration: 20000 loss: 0.0054 lr: 0.02\n",
      "iteration: 21000 loss: 0.0051 lr: 0.02\n",
      "iteration: 22000 loss: 0.0049 lr: 0.02\n",
      "iteration: 23000 loss: 0.0050 lr: 0.02\n",
      "iteration: 24000 loss: 0.0047 lr: 0.02\n",
      "iteration: 25000 loss: 0.0048 lr: 0.02\n",
      "iteration: 26000 loss: 0.0046 lr: 0.02\n",
      "iteration: 27000 loss: 0.0044 lr: 0.02\n",
      "iteration: 28000 loss: 0.0045 lr: 0.02\n",
      "iteration: 29000 loss: 0.0043 lr: 0.02\n",
      "iteration: 30000 loss: 0.0043 lr: 0.02\n",
      "iteration: 31000 loss: 0.0043 lr: 0.02\n",
      "iteration: 32000 loss: 0.0042 lr: 0.02\n",
      "iteration: 33000 loss: 0.0039 lr: 0.02\n",
      "iteration: 34000 loss: 0.0040 lr: 0.02\n",
      "iteration: 35000 loss: 0.0039 lr: 0.02\n",
      "iteration: 36000 loss: 0.0039 lr: 0.02\n",
      "iteration: 37000 loss: 0.0040 lr: 0.02\n",
      "iteration: 38000 loss: 0.0039 lr: 0.02\n",
      "iteration: 39000 loss: 0.0036 lr: 0.02\n",
      "iteration: 40000 loss: 0.0038 lr: 0.02\n",
      "iteration: 41000 loss: 0.0037 lr: 0.02\n",
      "iteration: 42000 loss: 0.0036 lr: 0.02\n",
      "iteration: 43000 loss: 0.0037 lr: 0.02\n",
      "iteration: 44000 loss: 0.0038 lr: 0.02\n",
      "iteration: 45000 loss: 0.0036 lr: 0.02\n",
      "iteration: 46000 loss: 0.0037 lr: 0.02\n",
      "iteration: 47000 loss: 0.0036 lr: 0.02\n",
      "iteration: 48000 loss: 0.0037 lr: 0.02\n",
      "iteration: 49000 loss: 0.0034 lr: 0.02\n",
      "iteration: 50000 loss: 0.0034 lr: 0.02\n",
      "iteration: 51000 loss: 0.0034 lr: 0.02\n",
      "iteration: 52000 loss: 0.0035 lr: 0.02\n",
      "iteration: 53000 loss: 0.0033 lr: 0.02\n",
      "iteration: 54000 loss: 0.0033 lr: 0.02\n",
      "iteration: 55000 loss: 0.0034 lr: 0.02\n",
      "iteration: 56000 loss: 0.0033 lr: 0.02\n",
      "iteration: 57000 loss: 0.0033 lr: 0.02\n",
      "iteration: 58000 loss: 0.0033 lr: 0.02\n",
      "iteration: 59000 loss: 0.0033 lr: 0.02\n",
      "iteration: 60000 loss: 0.0033 lr: 0.02\n",
      "iteration: 61000 loss: 0.0032 lr: 0.02\n",
      "iteration: 62000 loss: 0.0032 lr: 0.02\n",
      "iteration: 63000 loss: 0.0032 lr: 0.02\n",
      "iteration: 64000 loss: 0.0032 lr: 0.02\n",
      "iteration: 65000 loss: 0.0031 lr: 0.02\n",
      "iteration: 66000 loss: 0.0032 lr: 0.02\n",
      "iteration: 67000 loss: 0.0032 lr: 0.02\n",
      "iteration: 68000 loss: 0.0031 lr: 0.02\n",
      "iteration: 69000 loss: 0.0031 lr: 0.02\n",
      "iteration: 70000 loss: 0.0030 lr: 0.02\n",
      "iteration: 71000 loss: 0.0030 lr: 0.02\n",
      "iteration: 72000 loss: 0.0030 lr: 0.02\n",
      "iteration: 73000 loss: 0.0030 lr: 0.02\n",
      "iteration: 74000 loss: 0.0030 lr: 0.02\n",
      "iteration: 75000 loss: 0.0029 lr: 0.02\n",
      "iteration: 76000 loss: 0.0029 lr: 0.02\n",
      "iteration: 77000 loss: 0.0028 lr: 0.02\n",
      "iteration: 78000 loss: 0.0029 lr: 0.02\n",
      "iteration: 79000 loss: 0.0030 lr: 0.02\n",
      "iteration: 80000 loss: 0.0029 lr: 0.02\n",
      "iteration: 81000 loss: 0.0029 lr: 0.02\n",
      "iteration: 82000 loss: 0.0028 lr: 0.02\n",
      "iteration: 83000 loss: 0.0028 lr: 0.02\n",
      "iteration: 84000 loss: 0.0029 lr: 0.02\n",
      "iteration: 85000 loss: 0.0028 lr: 0.02\n",
      "iteration: 86000 loss: 0.0029 lr: 0.02\n",
      "iteration: 87000 loss: 0.0028 lr: 0.02\n",
      "iteration: 88000 loss: 0.0028 lr: 0.02\n",
      "iteration: 89000 loss: 0.0028 lr: 0.02\n",
      "iteration: 90000 loss: 0.0028 lr: 0.02\n",
      "iteration: 91000 loss: 0.0028 lr: 0.02\n",
      "iteration: 92000 loss: 0.0029 lr: 0.02\n",
      "iteration: 93000 loss: 0.0028 lr: 0.02\n",
      "iteration: 94000 loss: 0.0028 lr: 0.02\n",
      "iteration: 95000 loss: 0.0028 lr: 0.02\n",
      "iteration: 96000 loss: 0.0028 lr: 0.02\n",
      "iteration: 97000 loss: 0.0028 lr: 0.02\n",
      "iteration: 98000 loss: 0.0028 lr: 0.02\n",
      "iteration: 99000 loss: 0.0027 lr: 0.02\n",
      "iteration: 100000 loss: 0.0028 lr: 0.02\n",
      "iteration: 101000 loss: 0.0027 lr: 0.02\n",
      "iteration: 102000 loss: 0.0027 lr: 0.02\n",
      "iteration: 103000 loss: 0.0028 lr: 0.02\n",
      "iteration: 104000 loss: 0.0026 lr: 0.02\n",
      "iteration: 105000 loss: 0.0027 lr: 0.02\n",
      "iteration: 106000 loss: 0.0028 lr: 0.02\n",
      "iteration: 107000 loss: 0.0027 lr: 0.02\n",
      "iteration: 108000 loss: 0.0026 lr: 0.02\n",
      "iteration: 109000 loss: 0.0027 lr: 0.02\n",
      "iteration: 110000 loss: 0.0025 lr: 0.02\n",
      "iteration: 111000 loss: 0.0026 lr: 0.02\n",
      "iteration: 112000 loss: 0.0026 lr: 0.02\n",
      "iteration: 113000 loss: 0.0025 lr: 0.02\n",
      "iteration: 114000 loss: 0.0026 lr: 0.02\n",
      "iteration: 115000 loss: 0.0025 lr: 0.02\n",
      "iteration: 116000 loss: 0.0025 lr: 0.02\n",
      "iteration: 117000 loss: 0.0026 lr: 0.02\n",
      "iteration: 118000 loss: 0.0026 lr: 0.02\n",
      "iteration: 119000 loss: 0.0026 lr: 0.02\n",
      "iteration: 120000 loss: 0.0025 lr: 0.02\n",
      "iteration: 121000 loss: 0.0026 lr: 0.02\n",
      "iteration: 122000 loss: 0.0026 lr: 0.02\n",
      "iteration: 123000 loss: 0.0025 lr: 0.02\n",
      "iteration: 124000 loss: 0.0026 lr: 0.02\n",
      "iteration: 125000 loss: 0.0026 lr: 0.02\n",
      "iteration: 126000 loss: 0.0025 lr: 0.02\n",
      "iteration: 127000 loss: 0.0026 lr: 0.02\n",
      "iteration: 128000 loss: 0.0025 lr: 0.02\n",
      "iteration: 129000 loss: 0.0026 lr: 0.02\n",
      "iteration: 130000 loss: 0.0025 lr: 0.02\n",
      "iteration: 131000 loss: 0.0025 lr: 0.02\n",
      "iteration: 132000 loss: 0.0025 lr: 0.02\n",
      "iteration: 133000 loss: 0.0025 lr: 0.02\n",
      "iteration: 134000 loss: 0.0025 lr: 0.02\n",
      "iteration: 135000 loss: 0.0024 lr: 0.02\n",
      "iteration: 136000 loss: 0.0025 lr: 0.02\n",
      "iteration: 137000 loss: 0.0024 lr: 0.02\n",
      "iteration: 138000 loss: 0.0025 lr: 0.02\n",
      "iteration: 139000 loss: 0.0026 lr: 0.02\n",
      "iteration: 140000 loss: 0.0025 lr: 0.02\n",
      "iteration: 141000 loss: 0.0025 lr: 0.02\n",
      "iteration: 142000 loss: 0.0025 lr: 0.02\n",
      "iteration: 143000 loss: 0.0024 lr: 0.02\n",
      "iteration: 144000 loss: 0.0024 lr: 0.02\n",
      "iteration: 145000 loss: 0.0024 lr: 0.02\n",
      "iteration: 146000 loss: 0.0024 lr: 0.02\n",
      "iteration: 147000 loss: 0.0024 lr: 0.02\n",
      "iteration: 148000 loss: 0.0025 lr: 0.02\n",
      "iteration: 149000 loss: 0.0024 lr: 0.02\n",
      "iteration: 150000 loss: 0.0024 lr: 0.02\n",
      "iteration: 151000 loss: 0.0023 lr: 0.02\n",
      "iteration: 152000 loss: 0.0024 lr: 0.02\n",
      "iteration: 153000 loss: 0.0024 lr: 0.02\n",
      "iteration: 154000 loss: 0.0025 lr: 0.02\n",
      "iteration: 155000 loss: 0.0024 lr: 0.02\n",
      "iteration: 156000 loss: 0.0024 lr: 0.02\n",
      "iteration: 157000 loss: 0.0024 lr: 0.02\n",
      "iteration: 158000 loss: 0.0024 lr: 0.02\n",
      "iteration: 159000 loss: 0.0024 lr: 0.02\n",
      "iteration: 160000 loss: 0.0023 lr: 0.02\n",
      "iteration: 161000 loss: 0.0024 lr: 0.02\n",
      "iteration: 162000 loss: 0.0023 lr: 0.02\n",
      "iteration: 163000 loss: 0.0023 lr: 0.02\n",
      "iteration: 164000 loss: 0.0024 lr: 0.02\n",
      "iteration: 165000 loss: 0.0024 lr: 0.02\n",
      "iteration: 166000 loss: 0.0023 lr: 0.02\n",
      "iteration: 167000 loss: 0.0023 lr: 0.02\n",
      "iteration: 168000 loss: 0.0023 lr: 0.02\n",
      "iteration: 169000 loss: 0.0023 lr: 0.02\n",
      "iteration: 170000 loss: 0.0023 lr: 0.02\n",
      "iteration: 171000 loss: 0.0023 lr: 0.02\n",
      "iteration: 172000 loss: 0.0023 lr: 0.02\n",
      "iteration: 173000 loss: 0.0023 lr: 0.02\n",
      "iteration: 174000 loss: 0.0023 lr: 0.02\n",
      "iteration: 175000 loss: 0.0023 lr: 0.02\n",
      "iteration: 176000 loss: 0.0024 lr: 0.02\n",
      "iteration: 177000 loss: 0.0023 lr: 0.02\n",
      "iteration: 178000 loss: 0.0024 lr: 0.02\n",
      "iteration: 179000 loss: 0.0022 lr: 0.02\n",
      "iteration: 180000 loss: 0.0023 lr: 0.02\n",
      "iteration: 181000 loss: 0.0023 lr: 0.02\n",
      "iteration: 182000 loss: 0.0022 lr: 0.02\n",
      "iteration: 183000 loss: 0.0023 lr: 0.02\n",
      "iteration: 184000 loss: 0.0023 lr: 0.02\n",
      "iteration: 185000 loss: 0.0023 lr: 0.02\n",
      "iteration: 186000 loss: 0.0022 lr: 0.02\n",
      "iteration: 187000 loss: 0.0022 lr: 0.02\n",
      "iteration: 188000 loss: 0.0022 lr: 0.02\n",
      "iteration: 189000 loss: 0.0022 lr: 0.02\n",
      "iteration: 190000 loss: 0.0022 lr: 0.02\n",
      "iteration: 191000 loss: 0.0022 lr: 0.02\n",
      "iteration: 192000 loss: 0.0023 lr: 0.02\n",
      "iteration: 193000 loss: 0.0022 lr: 0.02\n",
      "iteration: 194000 loss: 0.0022 lr: 0.02\n",
      "iteration: 195000 loss: 0.0021 lr: 0.02\n",
      "iteration: 196000 loss: 0.0022 lr: 0.02\n",
      "iteration: 197000 loss: 0.0022 lr: 0.02\n",
      "iteration: 198000 loss: 0.0021 lr: 0.02\n",
      "iteration: 199000 loss: 0.0022 lr: 0.02\n",
      "iteration: 200000 loss: 0.0021 lr: 0.02\n",
      "iteration: 201000 loss: 0.0022 lr: 0.02\n",
      "iteration: 202000 loss: 0.0021 lr: 0.02\n",
      "iteration: 203000 loss: 0.0022 lr: 0.02\n",
      "iteration: 204000 loss: 0.0021 lr: 0.02\n",
      "iteration: 205000 loss: 0.0021 lr: 0.02\n",
      "iteration: 206000 loss: 0.0022 lr: 0.02\n",
      "iteration: 207000 loss: 0.0021 lr: 0.02\n",
      "iteration: 208000 loss: 0.0021 lr: 0.02\n"
     ]
    },
    {
     "name": "stderr",
     "output_type": "stream",
     "text": [
      "iteration: 209000 loss: 0.0021 lr: 0.02\n",
      "iteration: 210000 loss: 0.0022 lr: 0.02\n",
      "iteration: 211000 loss: 0.0022 lr: 0.02\n",
      "iteration: 212000 loss: 0.0022 lr: 0.02\n",
      "iteration: 213000 loss: 0.0021 lr: 0.02\n",
      "iteration: 214000 loss: 0.0022 lr: 0.02\n",
      "iteration: 215000 loss: 0.0022 lr: 0.02\n",
      "iteration: 216000 loss: 0.0021 lr: 0.02\n",
      "iteration: 217000 loss: 0.0022 lr: 0.02\n",
      "iteration: 218000 loss: 0.0022 lr: 0.02\n",
      "iteration: 219000 loss: 0.0021 lr: 0.02\n",
      "iteration: 220000 loss: 0.0022 lr: 0.02\n",
      "iteration: 221000 loss: 0.0021 lr: 0.02\n",
      "iteration: 222000 loss: 0.0021 lr: 0.02\n",
      "iteration: 223000 loss: 0.0021 lr: 0.02\n",
      "iteration: 224000 loss: 0.0021 lr: 0.02\n",
      "iteration: 225000 loss: 0.0021 lr: 0.02\n",
      "iteration: 226000 loss: 0.0021 lr: 0.02\n",
      "iteration: 227000 loss: 0.0020 lr: 0.02\n",
      "iteration: 228000 loss: 0.0021 lr: 0.02\n",
      "iteration: 229000 loss: 0.0021 lr: 0.02\n",
      "iteration: 230000 loss: 0.0020 lr: 0.02\n",
      "iteration: 231000 loss: 0.0022 lr: 0.02\n",
      "iteration: 232000 loss: 0.0021 lr: 0.02\n",
      "iteration: 233000 loss: 0.0021 lr: 0.02\n",
      "iteration: 234000 loss: 0.0020 lr: 0.02\n",
      "iteration: 235000 loss: 0.0022 lr: 0.02\n",
      "iteration: 236000 loss: 0.0020 lr: 0.02\n",
      "iteration: 237000 loss: 0.0021 lr: 0.02\n",
      "iteration: 238000 loss: 0.0020 lr: 0.02\n",
      "iteration: 239000 loss: 0.0021 lr: 0.02\n",
      "iteration: 240000 loss: 0.0020 lr: 0.02\n",
      "iteration: 241000 loss: 0.0020 lr: 0.02\n",
      "iteration: 242000 loss: 0.0021 lr: 0.02\n",
      "iteration: 243000 loss: 0.0022 lr: 0.02\n",
      "iteration: 244000 loss: 0.0020 lr: 0.02\n",
      "iteration: 245000 loss: 0.0021 lr: 0.02\n",
      "iteration: 246000 loss: 0.0021 lr: 0.02\n",
      "iteration: 247000 loss: 0.0021 lr: 0.02\n",
      "iteration: 248000 loss: 0.0020 lr: 0.02\n",
      "iteration: 249000 loss: 0.0020 lr: 0.02\n",
      "iteration: 250000 loss: 0.0021 lr: 0.02\n",
      "iteration: 251000 loss: 0.0021 lr: 0.02\n",
      "iteration: 252000 loss: 0.0020 lr: 0.02\n",
      "iteration: 253000 loss: 0.0020 lr: 0.02\n",
      "iteration: 254000 loss: 0.0020 lr: 0.02\n",
      "iteration: 255000 loss: 0.0021 lr: 0.02\n",
      "iteration: 256000 loss: 0.0019 lr: 0.02\n",
      "iteration: 257000 loss: 0.0020 lr: 0.02\n",
      "iteration: 258000 loss: 0.0021 lr: 0.02\n",
      "iteration: 259000 loss: 0.0021 lr: 0.02\n",
      "iteration: 260000 loss: 0.0020 lr: 0.02\n",
      "iteration: 261000 loss: 0.0019 lr: 0.02\n",
      "iteration: 262000 loss: 0.0020 lr: 0.02\n",
      "iteration: 263000 loss: 0.0020 lr: 0.02\n",
      "iteration: 264000 loss: 0.0019 lr: 0.02\n",
      "iteration: 265000 loss: 0.0019 lr: 0.02\n",
      "iteration: 266000 loss: 0.0020 lr: 0.02\n",
      "iteration: 267000 loss: 0.0020 lr: 0.02\n",
      "iteration: 268000 loss: 0.0020 lr: 0.02\n",
      "iteration: 269000 loss: 0.0019 lr: 0.02\n",
      "iteration: 270000 loss: 0.0018 lr: 0.02\n",
      "iteration: 271000 loss: 0.0019 lr: 0.02\n",
      "iteration: 272000 loss: 0.0019 lr: 0.02\n",
      "iteration: 273000 loss: 0.0019 lr: 0.02\n",
      "iteration: 274000 loss: 0.0019 lr: 0.02\n",
      "iteration: 275000 loss: 0.0019 lr: 0.02\n",
      "iteration: 276000 loss: 0.0019 lr: 0.02\n",
      "iteration: 277000 loss: 0.0020 lr: 0.02\n",
      "iteration: 278000 loss: 0.0019 lr: 0.02\n",
      "iteration: 279000 loss: 0.0018 lr: 0.02\n",
      "iteration: 280000 loss: 0.0019 lr: 0.02\n",
      "iteration: 281000 loss: 0.0019 lr: 0.02\n",
      "iteration: 282000 loss: 0.0019 lr: 0.02\n",
      "iteration: 283000 loss: 0.0019 lr: 0.02\n",
      "iteration: 284000 loss: 0.0019 lr: 0.02\n",
      "iteration: 285000 loss: 0.0019 lr: 0.02\n",
      "iteration: 286000 loss: 0.0018 lr: 0.02\n",
      "iteration: 287000 loss: 0.0019 lr: 0.02\n",
      "iteration: 288000 loss: 0.0018 lr: 0.02\n",
      "iteration: 289000 loss: 0.0018 lr: 0.02\n",
      "iteration: 290000 loss: 0.0019 lr: 0.02\n",
      "iteration: 291000 loss: 0.0019 lr: 0.02\n",
      "iteration: 292000 loss: 0.0017 lr: 0.02\n",
      "iteration: 293000 loss: 0.0018 lr: 0.02\n",
      "iteration: 294000 loss: 0.0018 lr: 0.02\n",
      "iteration: 295000 loss: 0.0019 lr: 0.02\n",
      "iteration: 296000 loss: 0.0019 lr: 0.02\n",
      "iteration: 297000 loss: 0.0019 lr: 0.02\n",
      "iteration: 298000 loss: 0.0019 lr: 0.02\n",
      "iteration: 299000 loss: 0.0018 lr: 0.02\n",
      "iteration: 300000 loss: 0.0019 lr: 0.02\n",
      "iteration: 301000 loss: 0.0018 lr: 0.02\n",
      "iteration: 302000 loss: 0.0018 lr: 0.02\n",
      "iteration: 303000 loss: 0.0019 lr: 0.02\n",
      "iteration: 304000 loss: 0.0019 lr: 0.02\n",
      "iteration: 305000 loss: 0.0018 lr: 0.02\n",
      "iteration: 306000 loss: 0.0018 lr: 0.02\n",
      "iteration: 307000 loss: 0.0018 lr: 0.02\n",
      "iteration: 308000 loss: 0.0019 lr: 0.02\n",
      "iteration: 309000 loss: 0.0019 lr: 0.02\n",
      "iteration: 310000 loss: 0.0019 lr: 0.02\n",
      "iteration: 311000 loss: 0.0018 lr: 0.02\n",
      "iteration: 312000 loss: 0.0017 lr: 0.02\n",
      "iteration: 313000 loss: 0.0018 lr: 0.02\n",
      "iteration: 314000 loss: 0.0018 lr: 0.02\n",
      "iteration: 315000 loss: 0.0017 lr: 0.02\n",
      "iteration: 316000 loss: 0.0018 lr: 0.02\n",
      "iteration: 317000 loss: 0.0019 lr: 0.02\n",
      "iteration: 318000 loss: 0.0018 lr: 0.02\n",
      "iteration: 319000 loss: 0.0017 lr: 0.02\n",
      "iteration: 320000 loss: 0.0018 lr: 0.02\n",
      "iteration: 321000 loss: 0.0018 lr: 0.02\n",
      "iteration: 322000 loss: 0.0018 lr: 0.02\n",
      "iteration: 323000 loss: 0.0017 lr: 0.02\n",
      "iteration: 324000 loss: 0.0019 lr: 0.02\n",
      "iteration: 325000 loss: 0.0018 lr: 0.02\n",
      "iteration: 326000 loss: 0.0018 lr: 0.02\n",
      "iteration: 327000 loss: 0.0017 lr: 0.02\n",
      "iteration: 328000 loss: 0.0018 lr: 0.02\n",
      "iteration: 329000 loss: 0.0017 lr: 0.02\n",
      "iteration: 330000 loss: 0.0017 lr: 0.02\n",
      "iteration: 331000 loss: 0.0017 lr: 0.02\n",
      "iteration: 332000 loss: 0.0017 lr: 0.02\n",
      "iteration: 333000 loss: 0.0018 lr: 0.02\n",
      "iteration: 334000 loss: 0.0017 lr: 0.02\n",
      "iteration: 335000 loss: 0.0018 lr: 0.02\n",
      "iteration: 336000 loss: 0.0018 lr: 0.02\n",
      "iteration: 337000 loss: 0.0017 lr: 0.02\n",
      "iteration: 338000 loss: 0.0017 lr: 0.02\n",
      "iteration: 339000 loss: 0.0016 lr: 0.02\n",
      "iteration: 340000 loss: 0.0017 lr: 0.02\n",
      "iteration: 341000 loss: 0.0018 lr: 0.02\n",
      "iteration: 342000 loss: 0.0017 lr: 0.02\n",
      "iteration: 343000 loss: 0.0017 lr: 0.02\n",
      "iteration: 344000 loss: 0.0017 lr: 0.02\n",
      "iteration: 345000 loss: 0.0017 lr: 0.02\n",
      "iteration: 346000 loss: 0.0017 lr: 0.02\n",
      "iteration: 347000 loss: 0.0016 lr: 0.02\n",
      "iteration: 348000 loss: 0.0016 lr: 0.02\n",
      "iteration: 349000 loss: 0.0018 lr: 0.02\n",
      "iteration: 350000 loss: 0.0017 lr: 0.02\n",
      "iteration: 351000 loss: 0.0017 lr: 0.02\n",
      "iteration: 352000 loss: 0.0017 lr: 0.02\n",
      "iteration: 353000 loss: 0.0016 lr: 0.02\n",
      "iteration: 354000 loss: 0.0018 lr: 0.02\n",
      "iteration: 355000 loss: 0.0017 lr: 0.02\n",
      "iteration: 356000 loss: 0.0017 lr: 0.02\n",
      "iteration: 357000 loss: 0.0017 lr: 0.02\n",
      "iteration: 358000 loss: 0.0017 lr: 0.02\n",
      "iteration: 359000 loss: 0.0018 lr: 0.02\n",
      "iteration: 360000 loss: 0.0016 lr: 0.02\n",
      "iteration: 361000 loss: 0.0017 lr: 0.02\n",
      "iteration: 362000 loss: 0.0017 lr: 0.02\n",
      "iteration: 363000 loss: 0.0017 lr: 0.02\n",
      "iteration: 364000 loss: 0.0016 lr: 0.02\n",
      "iteration: 365000 loss: 0.0017 lr: 0.02\n",
      "iteration: 366000 loss: 0.0017 lr: 0.02\n",
      "iteration: 367000 loss: 0.0017 lr: 0.02\n",
      "iteration: 368000 loss: 0.0017 lr: 0.02\n",
      "iteration: 369000 loss: 0.0017 lr: 0.02\n",
      "iteration: 370000 loss: 0.0017 lr: 0.02\n",
      "iteration: 371000 loss: 0.0016 lr: 0.02\n",
      "iteration: 372000 loss: 0.0017 lr: 0.02\n",
      "iteration: 373000 loss: 0.0017 lr: 0.02\n",
      "iteration: 374000 loss: 0.0017 lr: 0.02\n",
      "iteration: 375000 loss: 0.0017 lr: 0.02\n",
      "iteration: 376000 loss: 0.0016 lr: 0.02\n",
      "iteration: 377000 loss: 0.0017 lr: 0.02\n",
      "iteration: 378000 loss: 0.0017 lr: 0.02\n",
      "iteration: 379000 loss: 0.0015 lr: 0.02\n",
      "iteration: 380000 loss: 0.0017 lr: 0.02\n",
      "iteration: 381000 loss: 0.0017 lr: 0.02\n",
      "iteration: 382000 loss: 0.0017 lr: 0.02\n",
      "iteration: 383000 loss: 0.0016 lr: 0.02\n",
      "iteration: 384000 loss: 0.0017 lr: 0.02\n",
      "iteration: 385000 loss: 0.0016 lr: 0.02\n",
      "iteration: 386000 loss: 0.0017 lr: 0.02\n",
      "iteration: 387000 loss: 0.0017 lr: 0.02\n",
      "iteration: 388000 loss: 0.0016 lr: 0.02\n",
      "iteration: 389000 loss: 0.0016 lr: 0.02\n",
      "iteration: 390000 loss: 0.0017 lr: 0.02\n",
      "iteration: 391000 loss: 0.0016 lr: 0.02\n",
      "iteration: 392000 loss: 0.0017 lr: 0.02\n",
      "iteration: 393000 loss: 0.0016 lr: 0.02\n",
      "iteration: 394000 loss: 0.0017 lr: 0.02\n",
      "iteration: 395000 loss: 0.0016 lr: 0.02\n",
      "iteration: 396000 loss: 0.0016 lr: 0.02\n",
      "iteration: 397000 loss: 0.0016 lr: 0.02\n",
      "iteration: 398000 loss: 0.0017 lr: 0.02\n",
      "iteration: 399000 loss: 0.0016 lr: 0.02\n",
      "iteration: 400000 loss: 0.0016 lr: 0.02\n",
      "iteration: 401000 loss: 0.0016 lr: 0.02\n",
      "iteration: 402000 loss: 0.0016 lr: 0.02\n",
      "iteration: 403000 loss: 0.0017 lr: 0.02\n",
      "iteration: 404000 loss: 0.0017 lr: 0.02\n",
      "iteration: 405000 loss: 0.0016 lr: 0.02\n",
      "iteration: 406000 loss: 0.0016 lr: 0.02\n",
      "iteration: 407000 loss: 0.0016 lr: 0.02\n",
      "iteration: 408000 loss: 0.0016 lr: 0.02\n",
      "iteration: 409000 loss: 0.0016 lr: 0.02\n",
      "iteration: 410000 loss: 0.0016 lr: 0.02\n",
      "iteration: 411000 loss: 0.0015 lr: 0.02\n",
      "iteration: 412000 loss: 0.0016 lr: 0.02\n",
      "iteration: 413000 loss: 0.0016 lr: 0.02\n"
     ]
    },
    {
     "name": "stderr",
     "output_type": "stream",
     "text": [
      "iteration: 414000 loss: 0.0016 lr: 0.02\n",
      "iteration: 415000 loss: 0.0016 lr: 0.02\n",
      "iteration: 416000 loss: 0.0016 lr: 0.02\n",
      "iteration: 417000 loss: 0.0016 lr: 0.02\n",
      "iteration: 418000 loss: 0.0016 lr: 0.02\n",
      "iteration: 419000 loss: 0.0016 lr: 0.02\n",
      "iteration: 420000 loss: 0.0016 lr: 0.02\n",
      "iteration: 421000 loss: 0.0016 lr: 0.02\n",
      "iteration: 422000 loss: 0.0016 lr: 0.02\n",
      "iteration: 423000 loss: 0.0015 lr: 0.02\n",
      "iteration: 424000 loss: 0.0017 lr: 0.02\n",
      "iteration: 425000 loss: 0.0016 lr: 0.02\n",
      "iteration: 426000 loss: 0.0016 lr: 0.02\n",
      "iteration: 427000 loss: 0.0016 lr: 0.02\n",
      "iteration: 428000 loss: 0.0016 lr: 0.02\n",
      "iteration: 429000 loss: 0.0016 lr: 0.02\n",
      "iteration: 430000 loss: 0.0016 lr: 0.02\n",
      "iteration: 431000 loss: 0.0015 lr: 0.002\n",
      "iteration: 432000 loss: 0.0014 lr: 0.002\n",
      "iteration: 433000 loss: 0.0015 lr: 0.002\n",
      "iteration: 434000 loss: 0.0014 lr: 0.002\n",
      "iteration: 435000 loss: 0.0014 lr: 0.002\n",
      "iteration: 436000 loss: 0.0014 lr: 0.002\n",
      "iteration: 437000 loss: 0.0014 lr: 0.002\n",
      "iteration: 438000 loss: 0.0014 lr: 0.002\n",
      "iteration: 439000 loss: 0.0013 lr: 0.002\n",
      "iteration: 440000 loss: 0.0013 lr: 0.002\n",
      "iteration: 441000 loss: 0.0013 lr: 0.002\n",
      "iteration: 442000 loss: 0.0014 lr: 0.002\n",
      "iteration: 443000 loss: 0.0014 lr: 0.002\n",
      "iteration: 444000 loss: 0.0013 lr: 0.002\n",
      "iteration: 445000 loss: 0.0013 lr: 0.002\n",
      "iteration: 446000 loss: 0.0013 lr: 0.002\n",
      "iteration: 447000 loss: 0.0014 lr: 0.002\n",
      "iteration: 448000 loss: 0.0013 lr: 0.002\n",
      "iteration: 449000 loss: 0.0013 lr: 0.002\n",
      "iteration: 450000 loss: 0.0013 lr: 0.002\n",
      "iteration: 451000 loss: 0.0013 lr: 0.002\n",
      "iteration: 452000 loss: 0.0013 lr: 0.002\n",
      "iteration: 453000 loss: 0.0014 lr: 0.002\n",
      "iteration: 454000 loss: 0.0013 lr: 0.002\n",
      "iteration: 455000 loss: 0.0014 lr: 0.002\n",
      "iteration: 456000 loss: 0.0014 lr: 0.002\n",
      "iteration: 457000 loss: 0.0013 lr: 0.002\n",
      "iteration: 458000 loss: 0.0013 lr: 0.002\n",
      "iteration: 459000 loss: 0.0013 lr: 0.002\n",
      "iteration: 460000 loss: 0.0013 lr: 0.002\n",
      "iteration: 461000 loss: 0.0013 lr: 0.002\n",
      "iteration: 462000 loss: 0.0013 lr: 0.002\n",
      "iteration: 463000 loss: 0.0013 lr: 0.002\n",
      "iteration: 464000 loss: 0.0014 lr: 0.002\n",
      "iteration: 465000 loss: 0.0013 lr: 0.002\n",
      "iteration: 466000 loss: 0.0013 lr: 0.002\n",
      "iteration: 467000 loss: 0.0013 lr: 0.002\n",
      "iteration: 468000 loss: 0.0013 lr: 0.002\n",
      "iteration: 469000 loss: 0.0013 lr: 0.002\n",
      "iteration: 470000 loss: 0.0013 lr: 0.002\n",
      "iteration: 471000 loss: 0.0013 lr: 0.002\n",
      "iteration: 472000 loss: 0.0013 lr: 0.002\n",
      "iteration: 473000 loss: 0.0013 lr: 0.002\n",
      "iteration: 474000 loss: 0.0013 lr: 0.002\n",
      "iteration: 475000 loss: 0.0013 lr: 0.002\n",
      "iteration: 476000 loss: 0.0014 lr: 0.002\n",
      "iteration: 477000 loss: 0.0013 lr: 0.002\n",
      "iteration: 478000 loss: 0.0013 lr: 0.002\n",
      "iteration: 479000 loss: 0.0013 lr: 0.002\n",
      "iteration: 480000 loss: 0.0013 lr: 0.002\n",
      "iteration: 481000 loss: 0.0013 lr: 0.002\n",
      "iteration: 482000 loss: 0.0013 lr: 0.002\n",
      "iteration: 483000 loss: 0.0013 lr: 0.002\n",
      "iteration: 484000 loss: 0.0013 lr: 0.002\n",
      "iteration: 485000 loss: 0.0013 lr: 0.002\n",
      "iteration: 486000 loss: 0.0013 lr: 0.002\n",
      "iteration: 487000 loss: 0.0013 lr: 0.002\n",
      "iteration: 488000 loss: 0.0013 lr: 0.002\n",
      "iteration: 489000 loss: 0.0013 lr: 0.002\n",
      "iteration: 490000 loss: 0.0013 lr: 0.002\n",
      "iteration: 491000 loss: 0.0012 lr: 0.002\n",
      "iteration: 492000 loss: 0.0013 lr: 0.002\n",
      "iteration: 493000 loss: 0.0013 lr: 0.002\n",
      "iteration: 494000 loss: 0.0014 lr: 0.002\n",
      "iteration: 495000 loss: 0.0013 lr: 0.002\n",
      "iteration: 496000 loss: 0.0013 lr: 0.002\n",
      "iteration: 497000 loss: 0.0013 lr: 0.002\n",
      "iteration: 498000 loss: 0.0013 lr: 0.002\n",
      "iteration: 499000 loss: 0.0013 lr: 0.002\n",
      "iteration: 500000 loss: 0.0014 lr: 0.002\n",
      "Exception in thread Thread-6:\n",
      "Traceback (most recent call last):\n",
      "  File \"C:\\ProgramData\\miniconda3\\envs\\DLC\\lib\\threading.py\", line 932, in _bootstrap_inner\n",
      "    self.run()\n",
      "  File \"C:\\ProgramData\\miniconda3\\envs\\DLC\\lib\\threading.py\", line 870, in run\n",
      "    self._target(*self._args, **self._kwargs)\n",
      "  File \"C:\\ProgramData\\miniconda3\\envs\\DLC\\lib\\site-packages\\deeplabcut\\pose_estimation_tensorflow\\core\\train.py\", line 83, in load_and_enqueue\n",
      "    sess.run(enqueue_op, feed_dict=food)\n",
      "  File \"C:\\ProgramData\\miniconda3\\envs\\DLC\\lib\\site-packages\\tensorflow\\python\\client\\session.py\", line 968, in run\n",
      "    result = self._run(None, fetches, feed_dict, options_ptr,\n",
      "  File \"C:\\ProgramData\\miniconda3\\envs\\DLC\\lib\\site-packages\\tensorflow\\python\\client\\session.py\", line 1116, in _run\n",
      "    raise RuntimeError('Attempted to use a closed Session.')\n",
      "RuntimeError: Attempted to use a closed Session.\n"
     ]
    },
    {
     "name": "stdout",
     "output_type": "stream",
     "text": [
      "The network is now trained and ready to evaluate. Use the function 'evaluate_network' to evaluate the network.\n"
     ]
    }
   ],
   "source": [
    "deeplabcut.train_network(config_path, displayiters=1000, saveiters=10000, maxiters=500000)"
   ]
  },
  {
   "cell_type": "code",
   "execution_count": 16,
   "id": "f2afc0e6",
   "metadata": {},
   "outputs": [
    {
     "name": "stderr",
     "output_type": "stream",
     "text": [
      "Config:\n",
      "{'all_joints': [[0], [1], [2], [3], [4], [5]],\n",
      " 'all_joints_names': ['Nose',\n",
      "                      'Frontlimb',\n",
      "                      'HindLimb',\n",
      "                      'TailBase',\n",
      "                      'Start',\n",
      "                      'End'],\n",
      " 'batch_size': 1,\n",
      " 'crop_pad': 0,\n",
      " 'dataset': 'training-datasets\\\\iteration-0\\\\UnaugmentedDataSet_BBSep4\\\\BB_SSJ95shuffle1.mat',\n",
      " 'dataset_type': 'imgaug',\n",
      " 'deterministic': False,\n",
      " 'fg_fraction': 0.25,\n",
      " 'global_scale': 0.8,\n",
      " 'init_weights': 'C:\\\\ProgramData\\\\miniconda3\\\\envs\\\\DLC\\\\lib\\\\site-packages\\\\deeplabcut\\\\pose_estimation_tensorflow\\\\models\\\\pretrained\\\\resnet_v1_50.ckpt',\n",
      " 'intermediate_supervision': False,\n",
      " 'intermediate_supervision_layer': 12,\n",
      " 'location_refinement': True,\n",
      " 'locref_huber_loss': True,\n",
      " 'locref_loss_weight': 1.0,\n",
      " 'locref_stdev': 7.2801,\n",
      " 'log_dir': 'log',\n",
      " 'mean_pixel': [123.68, 116.779, 103.939],\n",
      " 'mirror': False,\n",
      " 'net_type': 'resnet_50',\n",
      " 'num_joints': 6,\n",
      " 'optimizer': 'sgd',\n",
      " 'pairwise_huber_loss': True,\n",
      " 'pairwise_predict': False,\n",
      " 'partaffinityfield_predict': False,\n",
      " 'regularize': False,\n",
      " 'scoremap_dir': 'test',\n",
      " 'shuffle': True,\n",
      " 'snapshot_prefix': 'C:\\\\Users\\\\UCPH\\\\gabi\\\\thesis '\n",
      "                    'analysis\\\\BB-SSJ-2023-09-04\\\\dlc-models\\\\iteration-0\\\\BBSep4-trainset95shuffle1\\\\test\\\\snapshot',\n",
      " 'stride': 8.0,\n",
      " 'weigh_negatives': False,\n",
      " 'weigh_only_present_joints': False,\n",
      " 'weigh_part_predictions': False,\n",
      " 'weight_decay': 0.0001}\n",
      "C:\\ProgramData\\miniconda3\\envs\\DLC\\lib\\site-packages\\tensorflow\\python\\keras\\engine\\base_layer_v1.py:1694: UserWarning: `layer.apply` is deprecated and will be removed in a future version. Please use `layer.__call__` method instead.\n",
      "  warnings.warn('`layer.apply` is deprecated and '\n"
     ]
    },
    {
     "name": "stdout",
     "output_type": "stream",
     "text": [
      "Running  DLC_resnet50_BBSep4shuffle1_500000  with # of training iterations: 500000\n",
      "Running evaluation ...\n"
     ]
    },
    {
     "name": "stderr",
     "output_type": "stream",
     "text": [
      "395it [00:26, 14.79it/s]"
     ]
    },
    {
     "name": "stdout",
     "output_type": "stream",
     "text": [
      "Analysis is done and the results are stored (see evaluation-results) for snapshot:  snapshot-500000\n",
      "Results for 500000  training iterations: 95 1 train error: 2.27 pixels. Test error: 3.54  pixels.\n",
      "With pcutoff of 0.7  train error: 2.27 pixels. Test error: 3.43 pixels\n",
      "Thereby, the errors are given by the average distances between the labels by DLC and the scorer.\n",
      "The network is evaluated and the results are stored in the subdirectory 'evaluation_results'.\n",
      "Please check the results, then choose the best model (snapshot) for prediction. You can update the config.yaml file with the appropriate index for the 'snapshotindex'.\n",
      "Use the function 'analyze_video' to make predictions on new videos.\n",
      "Otherwise, consider adding more labeled-data and retraining the network (see DeepLabCut workflow Fig 2, Nath 2019)\n"
     ]
    },
    {
     "name": "stderr",
     "output_type": "stream",
     "text": [
      "\n"
     ]
    }
   ],
   "source": [
    "deeplabcut.evaluate_network(config_path, plotting=False)"
   ]
  },
  {
   "cell_type": "code",
   "execution_count": 24,
   "id": "6fa714e9",
   "metadata": {},
   "outputs": [
    {
     "name": "stderr",
     "output_type": "stream",
     "text": [
      "Config:\n",
      "{'all_joints': [[0], [1], [2], [3], [4], [5]],\n",
      " 'all_joints_names': ['Nose',\n",
      "                      'Frontlimb',\n",
      "                      'HindLimb',\n",
      "                      'TailBase',\n",
      "                      'Start',\n",
      "                      'End'],\n",
      " 'batch_size': 1,\n",
      " 'crop_pad': 0,\n",
      " 'dataset': 'training-datasets\\\\iteration-0\\\\UnaugmentedDataSet_BBSep4\\\\BB_SSJ95shuffle1.mat',\n",
      " 'dataset_type': 'imgaug',\n",
      " 'deterministic': False,\n",
      " 'fg_fraction': 0.25,\n",
      " 'global_scale': 0.8,\n",
      " 'init_weights': 'C:\\\\ProgramData\\\\miniconda3\\\\envs\\\\DLC\\\\lib\\\\site-packages\\\\deeplabcut\\\\pose_estimation_tensorflow\\\\models\\\\pretrained\\\\resnet_v1_50.ckpt',\n",
      " 'intermediate_supervision': False,\n",
      " 'intermediate_supervision_layer': 12,\n",
      " 'location_refinement': True,\n",
      " 'locref_huber_loss': True,\n",
      " 'locref_loss_weight': 1.0,\n",
      " 'locref_stdev': 7.2801,\n",
      " 'log_dir': 'log',\n",
      " 'mean_pixel': [123.68, 116.779, 103.939],\n",
      " 'mirror': False,\n",
      " 'net_type': 'resnet_50',\n",
      " 'num_joints': 6,\n",
      " 'optimizer': 'sgd',\n",
      " 'pairwise_huber_loss': True,\n",
      " 'pairwise_predict': False,\n",
      " 'partaffinityfield_predict': False,\n",
      " 'regularize': False,\n",
      " 'scoremap_dir': 'test',\n",
      " 'shuffle': True,\n",
      " 'snapshot_prefix': 'C:\\\\Users\\\\UCPH\\\\gabi\\\\thesis '\n",
      "                    'analysis\\\\BB-SSJ-2023-09-04\\\\dlc-models\\\\iteration-0\\\\BBSep4-trainset95shuffle1\\\\test\\\\snapshot',\n",
      " 'stride': 8.0,\n",
      " 'weigh_negatives': False,\n",
      " 'weigh_only_present_joints': False,\n",
      " 'weigh_part_predictions': False,\n",
      " 'weight_decay': 0.0001}\n",
      "C:\\ProgramData\\miniconda3\\envs\\DLC\\lib\\site-packages\\tensorflow\\python\\keras\\engine\\base_layer_v1.py:1694: UserWarning: `layer.apply` is deprecated and will be removed in a future version. Please use `layer.__call__` method instead.\n",
      "  warnings.warn('`layer.apply` is deprecated and '\n"
     ]
    },
    {
     "name": "stdout",
     "output_type": "stream",
     "text": [
      "Using snapshot-500000 for model C:\\Users\\UCPH\\gabi\\thesis analysis\\BB-SSJ-2023-09-04\\dlc-models\\iteration-0\\BBSep4-trainset95shuffle1\n",
      "Starting to analyze %  C:\\Users\\UCPH\\gabi\\thesis analysis\\test3\\1_POST_BB_15_H1,6_KI_T1.avi\n",
      "Loading  C:\\Users\\UCPH\\gabi\\thesis analysis\\test3\\1_POST_BB_15_H1,6_KI_T1.avi\n",
      "Duration of video [s]:  180.07 , recorded with  15.0 fps!\n",
      "Overall # of frames:  2701  found with (before cropping) frame dimensions:  1280 720\n",
      "Starting to extract posture\n"
     ]
    },
    {
     "name": "stderr",
     "output_type": "stream",
     "text": [
      "100%|█████████████████████████████████████████████████████████████████████████████▉| 2700/2701 [01:05<00:00, 41.41it/s]\n"
     ]
    },
    {
     "name": "stdout",
     "output_type": "stream",
     "text": [
      "Saving results in C:\\Users\\UCPH\\gabi\\thesis analysis\\test3...\n",
      "Saving csv poses!\n",
      "Starting to analyze %  C:\\Users\\UCPH\\gabi\\thesis analysis\\test3\\1_POST_BB_15_H1,6_KI_T2.avi\n",
      "Loading  C:\\Users\\UCPH\\gabi\\thesis analysis\\test3\\1_POST_BB_15_H1,6_KI_T2.avi\n",
      "Duration of video [s]:  180.07 , recorded with  15.0 fps!\n",
      "Overall # of frames:  2701  found with (before cropping) frame dimensions:  1280 720\n",
      "Starting to extract posture\n"
     ]
    },
    {
     "name": "stderr",
     "output_type": "stream",
     "text": [
      "100%|█████████████████████████████████████████████████████████████████████████████▉| 2700/2701 [01:05<00:00, 41.31it/s]\n"
     ]
    },
    {
     "name": "stdout",
     "output_type": "stream",
     "text": [
      "Saving results in C:\\Users\\UCPH\\gabi\\thesis analysis\\test3...\n",
      "Saving csv poses!\n",
      "Starting to analyze %  C:\\Users\\UCPH\\gabi\\thesis analysis\\test3\\1_POST_BB_15_H1,6_KI_T3.avi\n",
      "Loading  C:\\Users\\UCPH\\gabi\\thesis analysis\\test3\\1_POST_BB_15_H1,6_KI_T3.avi\n",
      "Duration of video [s]:  180.07 , recorded with  15.0 fps!\n",
      "Overall # of frames:  2701  found with (before cropping) frame dimensions:  1280 720\n",
      "Starting to extract posture\n"
     ]
    },
    {
     "name": "stderr",
     "output_type": "stream",
     "text": [
      "100%|█████████████████████████████████████████████████████████████████████████████▉| 2700/2701 [01:05<00:00, 41.28it/s]\n"
     ]
    },
    {
     "name": "stdout",
     "output_type": "stream",
     "text": [
      "Saving results in C:\\Users\\UCPH\\gabi\\thesis analysis\\test3...\n",
      "Saving csv poses!\n",
      "Starting to analyze %  C:\\Users\\UCPH\\gabi\\thesis analysis\\test3\\1_POST_BB_15_H1,6_KI_T4.avi\n",
      "Loading  C:\\Users\\UCPH\\gabi\\thesis analysis\\test3\\1_POST_BB_15_H1,6_KI_T4.avi\n",
      "Duration of video [s]:  180.07 , recorded with  15.0 fps!\n",
      "Overall # of frames:  2701  found with (before cropping) frame dimensions:  1280 720\n",
      "Starting to extract posture\n"
     ]
    },
    {
     "name": "stderr",
     "output_type": "stream",
     "text": [
      "100%|█████████████████████████████████████████████████████████████████████████████▉| 2700/2701 [01:05<00:00, 41.28it/s]\n"
     ]
    },
    {
     "name": "stdout",
     "output_type": "stream",
     "text": [
      "Saving results in C:\\Users\\UCPH\\gabi\\thesis analysis\\test3...\n",
      "Saving csv poses!\n",
      "Starting to analyze %  C:\\Users\\UCPH\\gabi\\thesis analysis\\test3\\1_POST_BB_15_VEHE_KI_T1.avi\n",
      "Loading  C:\\Users\\UCPH\\gabi\\thesis analysis\\test3\\1_POST_BB_15_VEHE_KI_T1.avi\n",
      "Duration of video [s]:  3.0 , recorded with  15.0 fps!\n",
      "Overall # of frames:  45  found with (before cropping) frame dimensions:  1280 720\n",
      "Starting to extract posture\n"
     ]
    },
    {
     "name": "stderr",
     "output_type": "stream",
     "text": [
      " 89%|████████████████████████████████████████████████████████████████████████▉         | 40/45 [00:01<00:00, 34.24it/s]\n"
     ]
    },
    {
     "name": "stdout",
     "output_type": "stream",
     "text": [
      "Saving results in C:\\Users\\UCPH\\gabi\\thesis analysis\\test3...\n",
      "Saving csv poses!\n",
      "Starting to analyze %  C:\\Users\\UCPH\\gabi\\thesis analysis\\test3\\1_POST_BB_15_VEHE_KI_T2.avi\n",
      "Loading  C:\\Users\\UCPH\\gabi\\thesis analysis\\test3\\1_POST_BB_15_VEHE_KI_T2.avi\n",
      "Duration of video [s]:  8.47 , recorded with  15.0 fps!\n",
      "Overall # of frames:  127  found with (before cropping) frame dimensions:  1280 720\n",
      "Starting to extract posture\n"
     ]
    },
    {
     "name": "stderr",
     "output_type": "stream",
     "text": [
      " 94%|███████████████████████████████████████████████████████████████████████████▌    | 120/127 [00:03<00:00, 38.43it/s]\n"
     ]
    },
    {
     "name": "stdout",
     "output_type": "stream",
     "text": [
      "Saving results in C:\\Users\\UCPH\\gabi\\thesis analysis\\test3...\n",
      "Saving csv poses!\n",
      "Starting to analyze %  C:\\Users\\UCPH\\gabi\\thesis analysis\\test3\\1_POST_BB_15_VEHE_KI_T3.avi\n",
      "Loading  C:\\Users\\UCPH\\gabi\\thesis analysis\\test3\\1_POST_BB_15_VEHE_KI_T3.avi\n",
      "Duration of video [s]:  2.87 , recorded with  15.0 fps!\n",
      "Overall # of frames:  43  found with (before cropping) frame dimensions:  1280 720\n",
      "Starting to extract posture\n"
     ]
    },
    {
     "name": "stderr",
     "output_type": "stream",
     "text": [
      " 93%|████████████████████████████████████████████████████████████████████████████▎     | 40/43 [00:01<00:00, 34.14it/s]\n"
     ]
    },
    {
     "name": "stdout",
     "output_type": "stream",
     "text": [
      "Saving results in C:\\Users\\UCPH\\gabi\\thesis analysis\\test3...\n",
      "Saving csv poses!\n",
      "Starting to analyze %  C:\\Users\\UCPH\\gabi\\thesis analysis\\test3\\1_POST_BB_15_VEHE_KI_T4.avi\n",
      "Loading  C:\\Users\\UCPH\\gabi\\thesis analysis\\test3\\1_POST_BB_15_VEHE_KI_T4.avi\n",
      "Duration of video [s]:  5.47 , recorded with  15.0 fps!\n",
      "Overall # of frames:  82  found with (before cropping) frame dimensions:  1280 720\n",
      "Starting to extract posture\n"
     ]
    },
    {
     "name": "stderr",
     "output_type": "stream",
     "text": [
      " 98%|████████████████████████████████████████████████████████████████████████████████  | 80/82 [00:02<00:00, 37.20it/s]\n"
     ]
    },
    {
     "name": "stdout",
     "output_type": "stream",
     "text": [
      "Saving results in C:\\Users\\UCPH\\gabi\\thesis analysis\\test3...\n",
      "Saving csv poses!\n",
      "Starting to analyze %  C:\\Users\\UCPH\\gabi\\thesis analysis\\test3\\1_POST_BB_16_H1,6_WT_T1.avi\n",
      "Loading  C:\\Users\\UCPH\\gabi\\thesis analysis\\test3\\1_POST_BB_16_H1,6_WT_T1.avi\n",
      "Duration of video [s]:  26.87 , recorded with  15.0 fps!\n",
      "Overall # of frames:  403  found with (before cropping) frame dimensions:  1280 720\n",
      "Starting to extract posture\n"
     ]
    },
    {
     "name": "stderr",
     "output_type": "stream",
     "text": [
      " 99%|███████████████████████████████████████████████████████████████████████████████▍| 400/403 [00:09<00:00, 40.83it/s]\n"
     ]
    },
    {
     "name": "stdout",
     "output_type": "stream",
     "text": [
      "Saving results in C:\\Users\\UCPH\\gabi\\thesis analysis\\test3...\n",
      "Saving csv poses!\n",
      "Starting to analyze %  C:\\Users\\UCPH\\gabi\\thesis analysis\\test3\\1_POST_BB_16_H1,6_WT_T2.avi\n",
      "Loading  C:\\Users\\UCPH\\gabi\\thesis analysis\\test3\\1_POST_BB_16_H1,6_WT_T2.avi\n",
      "Duration of video [s]:  180.07 , recorded with  15.0 fps!\n",
      "Overall # of frames:  2701  found with (before cropping) frame dimensions:  1280 720\n",
      "Starting to extract posture\n"
     ]
    },
    {
     "name": "stderr",
     "output_type": "stream",
     "text": [
      "100%|█████████████████████████████████████████████████████████████████████████████▉| 2700/2701 [01:04<00:00, 42.12it/s]\n"
     ]
    },
    {
     "name": "stdout",
     "output_type": "stream",
     "text": [
      "Saving results in C:\\Users\\UCPH\\gabi\\thesis analysis\\test3...\n",
      "Saving csv poses!\n",
      "Starting to analyze %  C:\\Users\\UCPH\\gabi\\thesis analysis\\test3\\1_POST_BB_16_H1,6_WT_T3.avi\n",
      "Loading  C:\\Users\\UCPH\\gabi\\thesis analysis\\test3\\1_POST_BB_16_H1,6_WT_T3.avi\n",
      "Duration of video [s]:  180.07 , recorded with  15.0 fps!\n",
      "Overall # of frames:  2701  found with (before cropping) frame dimensions:  1280 720\n",
      "Starting to extract posture\n"
     ]
    },
    {
     "name": "stderr",
     "output_type": "stream",
     "text": [
      "100%|█████████████████████████████████████████████████████████████████████████████▉| 2700/2701 [01:04<00:00, 42.09it/s]\n"
     ]
    },
    {
     "name": "stdout",
     "output_type": "stream",
     "text": [
      "Saving results in C:\\Users\\UCPH\\gabi\\thesis analysis\\test3...\n",
      "Saving csv poses!\n",
      "Starting to analyze %  C:\\Users\\UCPH\\gabi\\thesis analysis\\test3\\1_POST_BB_16_H1,6_WT_T4.avi\n",
      "Loading  C:\\Users\\UCPH\\gabi\\thesis analysis\\test3\\1_POST_BB_16_H1,6_WT_T4.avi\n",
      "Duration of video [s]:  8.47 , recorded with  15.0 fps!\n",
      "Overall # of frames:  127  found with (before cropping) frame dimensions:  1280 720\n",
      "Starting to extract posture\n"
     ]
    },
    {
     "name": "stderr",
     "output_type": "stream",
     "text": [
      " 94%|███████████████████████████████████████████████████████████████████████████▌    | 120/127 [00:03<00:00, 38.53it/s]\n"
     ]
    },
    {
     "name": "stdout",
     "output_type": "stream",
     "text": [
      "Saving results in C:\\Users\\UCPH\\gabi\\thesis analysis\\test3...\n",
      "Saving csv poses!\n",
      "Starting to analyze %  C:\\Users\\UCPH\\gabi\\thesis analysis\\test3\\1_POST_BB_16_VEHE_WT_T1.avi\n",
      "Loading  C:\\Users\\UCPH\\gabi\\thesis analysis\\test3\\1_POST_BB_16_VEHE_WT_T1.avi\n",
      "Duration of video [s]:  6.07 , recorded with  15.0 fps!\n",
      "Overall # of frames:  91  found with (before cropping) frame dimensions:  1280 720\n",
      "Starting to extract posture\n"
     ]
    },
    {
     "name": "stderr",
     "output_type": "stream",
     "text": [
      " 99%|█████████████████████████████████████████████████████████████████████████████████ | 90/91 [00:02<00:00, 38.89it/s]\n"
     ]
    },
    {
     "name": "stdout",
     "output_type": "stream",
     "text": [
      "Saving results in C:\\Users\\UCPH\\gabi\\thesis analysis\\test3...\n",
      "Saving csv poses!\n",
      "Starting to analyze %  C:\\Users\\UCPH\\gabi\\thesis analysis\\test3\\1_POST_BB_16_VEHE_WT_T2.avi\n",
      "Loading  C:\\Users\\UCPH\\gabi\\thesis analysis\\test3\\1_POST_BB_16_VEHE_WT_T2.avi\n",
      "Duration of video [s]:  10.47 , recorded with  15.0 fps!\n",
      "Overall # of frames:  157  found with (before cropping) frame dimensions:  1280 720\n",
      "Starting to extract posture\n"
     ]
    },
    {
     "name": "stderr",
     "output_type": "stream",
     "text": [
      " 96%|████████████████████████████████████████████████████████████████████████████▍   | 150/157 [00:03<00:00, 39.21it/s]\n"
     ]
    },
    {
     "name": "stdout",
     "output_type": "stream",
     "text": [
      "Saving results in C:\\Users\\UCPH\\gabi\\thesis analysis\\test3...\n",
      "Saving csv poses!\n",
      "Starting to analyze %  C:\\Users\\UCPH\\gabi\\thesis analysis\\test3\\1_POST_BB_16_VEHE_WT_T3.avi\n",
      "Loading  C:\\Users\\UCPH\\gabi\\thesis analysis\\test3\\1_POST_BB_16_VEHE_WT_T3.avi\n",
      "Duration of video [s]:  7.27 , recorded with  15.0 fps!\n",
      "Overall # of frames:  109  found with (before cropping) frame dimensions:  1280 720\n",
      "Starting to extract posture\n"
     ]
    },
    {
     "name": "stderr",
     "output_type": "stream",
     "text": [
      " 92%|█████████████████████████████████████████████████████████████████████████▍      | 100/109 [00:02<00:00, 37.24it/s]\n"
     ]
    },
    {
     "name": "stdout",
     "output_type": "stream",
     "text": [
      "Saving results in C:\\Users\\UCPH\\gabi\\thesis analysis\\test3...\n",
      "Saving csv poses!\n",
      "Starting to analyze %  C:\\Users\\UCPH\\gabi\\thesis analysis\\test3\\1_POST_BB_16_VEHE_WT_T4.avi\n",
      "Loading  C:\\Users\\UCPH\\gabi\\thesis analysis\\test3\\1_POST_BB_16_VEHE_WT_T4.avi\n",
      "Duration of video [s]:  7.47 , recorded with  15.0 fps!\n",
      "Overall # of frames:  112  found with (before cropping) frame dimensions:  1280 720\n",
      "Starting to extract posture\n"
     ]
    },
    {
     "name": "stderr",
     "output_type": "stream",
     "text": [
      " 98%|██████████████████████████████████████████████████████████████████████████████▌ | 110/112 [00:02<00:00, 40.93it/s]\n"
     ]
    },
    {
     "name": "stdout",
     "output_type": "stream",
     "text": [
      "Saving results in C:\\Users\\UCPH\\gabi\\thesis analysis\\test3...\n",
      "Saving csv poses!\n",
      "Starting to analyze %  C:\\Users\\UCPH\\gabi\\thesis analysis\\test3\\1_POST_BB_17_H1,6_KI_T1.avi\n",
      "Loading  C:\\Users\\UCPH\\gabi\\thesis analysis\\test3\\1_POST_BB_17_H1,6_KI_T1.avi\n",
      "Duration of video [s]:  179.87 , recorded with  15.0 fps!\n",
      "Overall # of frames:  2698  found with (before cropping) frame dimensions:  1280 720\n",
      "Starting to extract posture\n"
     ]
    },
    {
     "name": "stderr",
     "output_type": "stream",
     "text": [
      " 99%|█████████████████████████████████████████████████████████████████████████████▍| 2678/2698 [01:04<00:00, 41.77it/s]\n"
     ]
    },
    {
     "name": "stdout",
     "output_type": "stream",
     "text": [
      "Saving results in C:\\Users\\UCPH\\gabi\\thesis analysis\\test3...\n",
      "Saving csv poses!\n",
      "Starting to analyze %  C:\\Users\\UCPH\\gabi\\thesis analysis\\test3\\1_POST_BB_17_H1,6_KI_T2.avi\n",
      "Loading  C:\\Users\\UCPH\\gabi\\thesis analysis\\test3\\1_POST_BB_17_H1,6_KI_T2.avi\n",
      "Duration of video [s]:  180.07 , recorded with  15.0 fps!\n",
      "Overall # of frames:  2701  found with (before cropping) frame dimensions:  1280 720\n",
      "Starting to extract posture\n"
     ]
    },
    {
     "name": "stderr",
     "output_type": "stream",
     "text": [
      "100%|█████████████████████████████████████████████████████████████████████████████▉| 2700/2701 [01:03<00:00, 42.26it/s]\n"
     ]
    },
    {
     "name": "stdout",
     "output_type": "stream",
     "text": [
      "Saving results in C:\\Users\\UCPH\\gabi\\thesis analysis\\test3...\n",
      "Saving csv poses!\n",
      "Starting to analyze %  C:\\Users\\UCPH\\gabi\\thesis analysis\\test3\\1_POST_BB_17_H1,6_KI_T3.avi\n",
      "Loading  C:\\Users\\UCPH\\gabi\\thesis analysis\\test3\\1_POST_BB_17_H1,6_KI_T3.avi\n",
      "Duration of video [s]:  180.07 , recorded with  15.0 fps!\n",
      "Overall # of frames:  2701  found with (before cropping) frame dimensions:  1280 720\n",
      "Starting to extract posture\n"
     ]
    },
    {
     "name": "stderr",
     "output_type": "stream",
     "text": [
      "100%|█████████████████████████████████████████████████████████████████████████████▉| 2700/2701 [01:04<00:00, 42.08it/s]\n"
     ]
    },
    {
     "name": "stdout",
     "output_type": "stream",
     "text": [
      "Saving results in C:\\Users\\UCPH\\gabi\\thesis analysis\\test3...\n",
      "Saving csv poses!\n",
      "Starting to analyze %  C:\\Users\\UCPH\\gabi\\thesis analysis\\test3\\1_POST_BB_17_H1,6_KI_T4.avi\n",
      "Loading  C:\\Users\\UCPH\\gabi\\thesis analysis\\test3\\1_POST_BB_17_H1,6_KI_T4.avi\n",
      "Duration of video [s]:  180.07 , recorded with  15.0 fps!\n",
      "Overall # of frames:  2701  found with (before cropping) frame dimensions:  1280 720\n",
      "Starting to extract posture\n"
     ]
    },
    {
     "name": "stderr",
     "output_type": "stream",
     "text": [
      "100%|█████████████████████████████████████████████████████████████████████████████▉| 2700/2701 [01:03<00:00, 42.20it/s]\n"
     ]
    },
    {
     "name": "stdout",
     "output_type": "stream",
     "text": [
      "Saving results in C:\\Users\\UCPH\\gabi\\thesis analysis\\test3...\n",
      "Saving csv poses!\n",
      "Starting to analyze %  C:\\Users\\UCPH\\gabi\\thesis analysis\\test3\\1_POST_BB_17_VEHE_KI_T1.avi\n",
      "Loading  C:\\Users\\UCPH\\gabi\\thesis analysis\\test3\\1_POST_BB_17_VEHE_KI_T1.avi\n",
      "Duration of video [s]:  4.87 , recorded with  15.0 fps!\n",
      "Overall # of frames:  73  found with (before cropping) frame dimensions:  1280 720\n",
      "Starting to extract posture\n"
     ]
    },
    {
     "name": "stderr",
     "output_type": "stream",
     "text": [
      " 96%|██████████████████████████████████████████████████████████████████████████████▋   | 70/73 [00:01<00:00, 35.59it/s]\n"
     ]
    },
    {
     "name": "stdout",
     "output_type": "stream",
     "text": [
      "Saving results in C:\\Users\\UCPH\\gabi\\thesis analysis\\test3...\n",
      "Saving csv poses!\n",
      "Starting to analyze %  C:\\Users\\UCPH\\gabi\\thesis analysis\\test3\\1_POST_BB_17_VEHE_KI_T2.avi\n",
      "Loading  C:\\Users\\UCPH\\gabi\\thesis analysis\\test3\\1_POST_BB_17_VEHE_KI_T2.avi\n",
      "Duration of video [s]:  4.93 , recorded with  15.0 fps!\n",
      "Overall # of frames:  74  found with (before cropping) frame dimensions:  1280 720\n",
      "Starting to extract posture\n"
     ]
    },
    {
     "name": "stderr",
     "output_type": "stream",
     "text": [
      " 95%|█████████████████████████████████████████████████████████████████████████████▌    | 70/74 [00:01<00:00, 36.49it/s]\n"
     ]
    },
    {
     "name": "stdout",
     "output_type": "stream",
     "text": [
      "Saving results in C:\\Users\\UCPH\\gabi\\thesis analysis\\test3...\n",
      "Saving csv poses!\n",
      "Starting to analyze %  C:\\Users\\UCPH\\gabi\\thesis analysis\\test3\\1_POST_BB_17_VEHE_KI_T3.avi\n",
      "Loading  C:\\Users\\UCPH\\gabi\\thesis analysis\\test3\\1_POST_BB_17_VEHE_KI_T3.avi\n",
      "Duration of video [s]:  180.07 , recorded with  15.0 fps!\n",
      "Overall # of frames:  2701  found with (before cropping) frame dimensions:  1280 720\n",
      "Starting to extract posture\n"
     ]
    },
    {
     "name": "stderr",
     "output_type": "stream",
     "text": [
      "100%|█████████████████████████████████████████████████████████████████████████████▉| 2700/2701 [01:05<00:00, 41.28it/s]\n"
     ]
    },
    {
     "name": "stdout",
     "output_type": "stream",
     "text": [
      "Saving results in C:\\Users\\UCPH\\gabi\\thesis analysis\\test3...\n",
      "Saving csv poses!\n",
      "Starting to analyze %  C:\\Users\\UCPH\\gabi\\thesis analysis\\test3\\1_POST_BB_17_VEHE_KI_T4.avi\n",
      "Loading  C:\\Users\\UCPH\\gabi\\thesis analysis\\test3\\1_POST_BB_17_VEHE_KI_T4.avi\n",
      "Duration of video [s]:  5.27 , recorded with  15.0 fps!\n",
      "Overall # of frames:  79  found with (before cropping) frame dimensions:  1280 720\n",
      "Starting to extract posture\n"
     ]
    },
    {
     "name": "stderr",
     "output_type": "stream",
     "text": [
      " 89%|████████████████████████████████████████████████████████████████████████▋         | 70/79 [00:01<00:00, 36.53it/s]\n"
     ]
    },
    {
     "name": "stdout",
     "output_type": "stream",
     "text": [
      "Saving results in C:\\Users\\UCPH\\gabi\\thesis analysis\\test3...\n",
      "Saving csv poses!\n",
      "Starting to analyze %  C:\\Users\\UCPH\\gabi\\thesis analysis\\test3\\1_POST_BB_19_H1,6_HET_T1.avi\n",
      "Loading  C:\\Users\\UCPH\\gabi\\thesis analysis\\test3\\1_POST_BB_19_H1,6_HET_T1.avi\n",
      "Duration of video [s]:  180.07 , recorded with  15.0 fps!\n",
      "Overall # of frames:  2701  found with (before cropping) frame dimensions:  1280 720\n",
      "Starting to extract posture\n"
     ]
    },
    {
     "name": "stderr",
     "output_type": "stream",
     "text": [
      "100%|█████████████████████████████████████████████████████████████████████████████▉| 2700/2701 [01:04<00:00, 42.12it/s]\n"
     ]
    },
    {
     "name": "stdout",
     "output_type": "stream",
     "text": [
      "Saving results in C:\\Users\\UCPH\\gabi\\thesis analysis\\test3...\n",
      "Saving csv poses!\n",
      "Starting to analyze %  C:\\Users\\UCPH\\gabi\\thesis analysis\\test3\\1_POST_BB_19_H1,6_HET_T2.avi\n",
      "Loading  C:\\Users\\UCPH\\gabi\\thesis analysis\\test3\\1_POST_BB_19_H1,6_HET_T2.avi\n",
      "Duration of video [s]:  180.07 , recorded with  15.0 fps!\n",
      "Overall # of frames:  2701  found with (before cropping) frame dimensions:  1280 720\n",
      "Starting to extract posture\n"
     ]
    },
    {
     "name": "stderr",
     "output_type": "stream",
     "text": [
      "100%|█████████████████████████████████████████████████████████████████████████████▉| 2700/2701 [01:03<00:00, 42.19it/s]\n"
     ]
    },
    {
     "name": "stdout",
     "output_type": "stream",
     "text": [
      "Saving results in C:\\Users\\UCPH\\gabi\\thesis analysis\\test3...\n",
      "Saving csv poses!\n",
      "Starting to analyze %  C:\\Users\\UCPH\\gabi\\thesis analysis\\test3\\1_POST_BB_19_H1,6_HET_T3.avi\n",
      "Loading  C:\\Users\\UCPH\\gabi\\thesis analysis\\test3\\1_POST_BB_19_H1,6_HET_T3.avi\n",
      "Duration of video [s]:  180.07 , recorded with  15.0 fps!\n",
      "Overall # of frames:  2701  found with (before cropping) frame dimensions:  1280 720\n",
      "Starting to extract posture\n"
     ]
    },
    {
     "name": "stderr",
     "output_type": "stream",
     "text": [
      "100%|█████████████████████████████████████████████████████████████████████████████▉| 2700/2701 [01:03<00:00, 42.20it/s]\n"
     ]
    },
    {
     "name": "stdout",
     "output_type": "stream",
     "text": [
      "Saving results in C:\\Users\\UCPH\\gabi\\thesis analysis\\test3...\n",
      "Saving csv poses!\n",
      "Starting to analyze %  C:\\Users\\UCPH\\gabi\\thesis analysis\\test3\\1_POST_BB_19_H1,6_HET_T4.avi\n",
      "Loading  C:\\Users\\UCPH\\gabi\\thesis analysis\\test3\\1_POST_BB_19_H1,6_HET_T4.avi\n",
      "Duration of video [s]:  180.07 , recorded with  15.0 fps!\n",
      "Overall # of frames:  2701  found with (before cropping) frame dimensions:  1280 720\n",
      "Starting to extract posture\n"
     ]
    },
    {
     "name": "stderr",
     "output_type": "stream",
     "text": [
      "100%|█████████████████████████████████████████████████████████████████████████████▉| 2700/2701 [01:04<00:00, 42.19it/s]\n"
     ]
    },
    {
     "name": "stdout",
     "output_type": "stream",
     "text": [
      "Saving results in C:\\Users\\UCPH\\gabi\\thesis analysis\\test3...\n",
      "Saving csv poses!\n",
      "Starting to analyze %  C:\\Users\\UCPH\\gabi\\thesis analysis\\test3\\1_POST_BB_19_VEHE_HET_T1.avi\n",
      "Loading  C:\\Users\\UCPH\\gabi\\thesis analysis\\test3\\1_POST_BB_19_VEHE_HET_T1.avi\n",
      "Duration of video [s]:  6.73 , recorded with  15.0 fps!\n",
      "Overall # of frames:  101  found with (before cropping) frame dimensions:  1280 720\n",
      "Starting to extract posture\n"
     ]
    },
    {
     "name": "stderr",
     "output_type": "stream",
     "text": [
      " 99%|███████████████████████████████████████████████████████████████████████████████▏| 100/101 [00:02<00:00, 39.85it/s]\n"
     ]
    },
    {
     "name": "stdout",
     "output_type": "stream",
     "text": [
      "Saving results in C:\\Users\\UCPH\\gabi\\thesis analysis\\test3...\n",
      "Saving csv poses!\n",
      "Starting to analyze %  C:\\Users\\UCPH\\gabi\\thesis analysis\\test3\\1_POST_BB_19_VEHE_HET_T2.avi\n",
      "Loading  C:\\Users\\UCPH\\gabi\\thesis analysis\\test3\\1_POST_BB_19_VEHE_HET_T2.avi\n",
      "Duration of video [s]:  5.27 , recorded with  15.0 fps!\n",
      "Overall # of frames:  79  found with (before cropping) frame dimensions:  1280 720\n",
      "Starting to extract posture\n"
     ]
    },
    {
     "name": "stderr",
     "output_type": "stream",
     "text": [
      " 89%|████████████████████████████████████████████████████████████████████████▋         | 70/79 [00:01<00:00, 36.29it/s]\n"
     ]
    },
    {
     "name": "stdout",
     "output_type": "stream",
     "text": [
      "Saving results in C:\\Users\\UCPH\\gabi\\thesis analysis\\test3...\n",
      "Saving csv poses!\n",
      "Starting to analyze %  C:\\Users\\UCPH\\gabi\\thesis analysis\\test3\\1_POST_BB_19_VEHE_HET_T3.avi\n",
      "Loading  C:\\Users\\UCPH\\gabi\\thesis analysis\\test3\\1_POST_BB_19_VEHE_HET_T3.avi\n",
      "Duration of video [s]:  15.07 , recorded with  15.0 fps!\n",
      "Overall # of frames:  226  found with (before cropping) frame dimensions:  1280 720\n",
      "Starting to extract posture\n"
     ]
    },
    {
     "name": "stderr",
     "output_type": "stream",
     "text": [
      " 97%|█████████████████████████████████████████████████████████████████████████████▉  | 220/226 [00:05<00:00, 39.76it/s]\n"
     ]
    },
    {
     "name": "stdout",
     "output_type": "stream",
     "text": [
      "Saving results in C:\\Users\\UCPH\\gabi\\thesis analysis\\test3...\n",
      "Saving csv poses!\n",
      "Starting to analyze %  C:\\Users\\UCPH\\gabi\\thesis analysis\\test3\\1_POST_BB_19_VEHE_HET_T4.avi\n",
      "Loading  C:\\Users\\UCPH\\gabi\\thesis analysis\\test3\\1_POST_BB_19_VEHE_HET_T4.avi\n",
      "Duration of video [s]:  6.87 , recorded with  15.0 fps!\n",
      "Overall # of frames:  103  found with (before cropping) frame dimensions:  1280 720\n",
      "Starting to extract posture\n"
     ]
    },
    {
     "name": "stderr",
     "output_type": "stream",
     "text": [
      " 97%|█████████████████████████████████████████████████████████████████████████████▋  | 100/103 [00:02<00:00, 40.16it/s]\n"
     ]
    },
    {
     "name": "stdout",
     "output_type": "stream",
     "text": [
      "Saving results in C:\\Users\\UCPH\\gabi\\thesis analysis\\test3...\n",
      "Saving csv poses!\n",
      "Starting to analyze %  C:\\Users\\UCPH\\gabi\\thesis analysis\\test3\\1_POST_BB_20_H1,6_KI_T1.avi\n",
      "Loading  C:\\Users\\UCPH\\gabi\\thesis analysis\\test3\\1_POST_BB_20_H1,6_KI_T1.avi\n",
      "Duration of video [s]:  26.87 , recorded with  15.0 fps!\n",
      "Overall # of frames:  403  found with (before cropping) frame dimensions:  1280 720\n",
      "Starting to extract posture\n"
     ]
    },
    {
     "name": "stderr",
     "output_type": "stream",
     "text": [
      " 99%|███████████████████████████████████████████████████████████████████████████████▍| 400/403 [00:09<00:00, 41.08it/s]\n"
     ]
    },
    {
     "name": "stdout",
     "output_type": "stream",
     "text": [
      "Saving results in C:\\Users\\UCPH\\gabi\\thesis analysis\\test3...\n",
      "Saving csv poses!\n",
      "Starting to analyze %  C:\\Users\\UCPH\\gabi\\thesis analysis\\test3\\1_POST_BB_20_H1,6_KI_T2.avi\n",
      "Loading  C:\\Users\\UCPH\\gabi\\thesis analysis\\test3\\1_POST_BB_20_H1,6_KI_T2.avi\n",
      "Duration of video [s]:  180.07 , recorded with  15.0 fps!\n",
      "Overall # of frames:  2701  found with (before cropping) frame dimensions:  1280 720\n",
      "Starting to extract posture\n"
     ]
    },
    {
     "name": "stderr",
     "output_type": "stream",
     "text": [
      "100%|█████████████████████████████████████████████████████████████████████████████▉| 2700/2701 [01:04<00:00, 42.13it/s]\n"
     ]
    },
    {
     "name": "stdout",
     "output_type": "stream",
     "text": [
      "Saving results in C:\\Users\\UCPH\\gabi\\thesis analysis\\test3...\n",
      "Saving csv poses!\n",
      "Starting to analyze %  C:\\Users\\UCPH\\gabi\\thesis analysis\\test3\\1_POST_BB_20_H1,6_KI_T3.avi\n",
      "Loading  C:\\Users\\UCPH\\gabi\\thesis analysis\\test3\\1_POST_BB_20_H1,6_KI_T3.avi\n",
      "Duration of video [s]:  180.07 , recorded with  15.0 fps!\n",
      "Overall # of frames:  2701  found with (before cropping) frame dimensions:  1280 720\n",
      "Starting to extract posture\n"
     ]
    },
    {
     "name": "stderr",
     "output_type": "stream",
     "text": [
      "100%|█████████████████████████████████████████████████████████████████████████████▉| 2700/2701 [01:03<00:00, 42.25it/s]\n"
     ]
    },
    {
     "name": "stdout",
     "output_type": "stream",
     "text": [
      "Saving results in C:\\Users\\UCPH\\gabi\\thesis analysis\\test3...\n",
      "Saving csv poses!\n",
      "Starting to analyze %  C:\\Users\\UCPH\\gabi\\thesis analysis\\test3\\1_POST_BB_20_H1,6_KI_T4.avi\n",
      "Loading  C:\\Users\\UCPH\\gabi\\thesis analysis\\test3\\1_POST_BB_20_H1,6_KI_T4.avi\n",
      "Duration of video [s]:  180.07 , recorded with  15.0 fps!\n",
      "Overall # of frames:  2701  found with (before cropping) frame dimensions:  1280 720\n",
      "Starting to extract posture\n"
     ]
    },
    {
     "name": "stderr",
     "output_type": "stream",
     "text": [
      "100%|█████████████████████████████████████████████████████████████████████████████▉| 2700/2701 [01:03<00:00, 42.25it/s]\n"
     ]
    },
    {
     "name": "stdout",
     "output_type": "stream",
     "text": [
      "Saving results in C:\\Users\\UCPH\\gabi\\thesis analysis\\test3...\n",
      "Saving csv poses!\n",
      "Starting to analyze %  C:\\Users\\UCPH\\gabi\\thesis analysis\\test3\\1_POST_BB_20_VEHE_KI_T1.avi\n",
      "Loading  C:\\Users\\UCPH\\gabi\\thesis analysis\\test3\\1_POST_BB_20_VEHE_KI_T1.avi\n",
      "Duration of video [s]:  2.47 , recorded with  15.0 fps!\n",
      "Overall # of frames:  37  found with (before cropping) frame dimensions:  1280 720\n",
      "Starting to extract posture\n"
     ]
    },
    {
     "name": "stderr",
     "output_type": "stream",
     "text": [
      " 81%|██████████████████████████████████████████████████████████████████▍               | 30/37 [00:00<00:00, 31.16it/s]\n"
     ]
    },
    {
     "name": "stdout",
     "output_type": "stream",
     "text": [
      "Saving results in C:\\Users\\UCPH\\gabi\\thesis analysis\\test3...\n",
      "Saving csv poses!\n",
      "Starting to analyze %  C:\\Users\\UCPH\\gabi\\thesis analysis\\test3\\1_POST_BB_20_VEHE_KI_T2.avi\n",
      "Loading  C:\\Users\\UCPH\\gabi\\thesis analysis\\test3\\1_POST_BB_20_VEHE_KI_T2.avi\n",
      "Duration of video [s]:  2.27 , recorded with  15.0 fps!\n",
      "Overall # of frames:  34  found with (before cropping) frame dimensions:  1280 720\n",
      "Starting to extract posture\n"
     ]
    },
    {
     "name": "stderr",
     "output_type": "stream",
     "text": [
      " 88%|████████████████████████████████████████████████████████████████████████▎         | 30/34 [00:00<00:00, 31.47it/s]\n"
     ]
    },
    {
     "name": "stdout",
     "output_type": "stream",
     "text": [
      "Saving results in C:\\Users\\UCPH\\gabi\\thesis analysis\\test3...\n",
      "Saving csv poses!\n",
      "Starting to analyze %  C:\\Users\\UCPH\\gabi\\thesis analysis\\test3\\1_POST_BB_20_VEHE_KI_T3.avi\n",
      "Loading  C:\\Users\\UCPH\\gabi\\thesis analysis\\test3\\1_POST_BB_20_VEHE_KI_T3.avi\n",
      "Duration of video [s]:  2.27 , recorded with  15.0 fps!\n",
      "Overall # of frames:  34  found with (before cropping) frame dimensions:  1280 720\n",
      "Starting to extract posture\n"
     ]
    },
    {
     "name": "stderr",
     "output_type": "stream",
     "text": [
      " 88%|████████████████████████████████████████████████████████████████████████▎         | 30/34 [00:00<00:00, 31.58it/s]\n"
     ]
    },
    {
     "name": "stdout",
     "output_type": "stream",
     "text": [
      "Saving results in C:\\Users\\UCPH\\gabi\\thesis analysis\\test3...\n",
      "Saving csv poses!\n",
      "Starting to analyze %  C:\\Users\\UCPH\\gabi\\thesis analysis\\test3\\1_POST_BB_20_VEHE_KI_T4.avi\n",
      "Loading  C:\\Users\\UCPH\\gabi\\thesis analysis\\test3\\1_POST_BB_20_VEHE_KI_T4.avi\n",
      "Duration of video [s]:  1.87 , recorded with  15.0 fps!\n",
      "Overall # of frames:  28  found with (before cropping) frame dimensions:  1280 720\n",
      "Starting to extract posture\n"
     ]
    },
    {
     "name": "stderr",
     "output_type": "stream",
     "text": [
      " 71%|██████████████████████████████████████████████████████████▌                       | 20/28 [00:00<00:00, 26.05it/s]\n"
     ]
    },
    {
     "name": "stdout",
     "output_type": "stream",
     "text": [
      "Saving results in C:\\Users\\UCPH\\gabi\\thesis analysis\\test3...\n",
      "Saving csv poses!\n",
      "Starting to analyze %  C:\\Users\\UCPH\\gabi\\thesis analysis\\test3\\1_POST_BB_24_H1,6_KI_T1.avi\n",
      "Loading  C:\\Users\\UCPH\\gabi\\thesis analysis\\test3\\1_POST_BB_24_H1,6_KI_T1.avi\n",
      "Duration of video [s]:  25.47 , recorded with  15.0 fps!\n",
      "Overall # of frames:  382  found with (before cropping) frame dimensions:  1280 720\n",
      "Starting to extract posture\n"
     ]
    },
    {
     "name": "stderr",
     "output_type": "stream",
     "text": [
      " 99%|███████████████████████████████████████████████████████████████████████████████▌| 380/382 [00:09<00:00, 41.69it/s]\n"
     ]
    },
    {
     "name": "stdout",
     "output_type": "stream",
     "text": [
      "Saving results in C:\\Users\\UCPH\\gabi\\thesis analysis\\test3...\n",
      "Saving csv poses!\n",
      "Starting to analyze %  C:\\Users\\UCPH\\gabi\\thesis analysis\\test3\\1_POST_BB_24_H1,6_KI_T2.avi\n",
      "Loading  C:\\Users\\UCPH\\gabi\\thesis analysis\\test3\\1_POST_BB_24_H1,6_KI_T2.avi\n",
      "Duration of video [s]:  67.87 , recorded with  15.0 fps!\n",
      "Overall # of frames:  1018  found with (before cropping) frame dimensions:  1280 720\n",
      "Starting to extract posture\n"
     ]
    },
    {
     "name": "stderr",
     "output_type": "stream",
     "text": [
      " 99%|█████████████████████████████████████████████████████████████████████████████▍| 1010/1018 [00:24<00:00, 41.51it/s]\n"
     ]
    },
    {
     "name": "stdout",
     "output_type": "stream",
     "text": [
      "Saving results in C:\\Users\\UCPH\\gabi\\thesis analysis\\test3...\n",
      "Saving csv poses!\n",
      "Starting to analyze %  C:\\Users\\UCPH\\gabi\\thesis analysis\\test3\\1_POST_BB_24_H1,6_KI_T3.avi\n",
      "Loading  C:\\Users\\UCPH\\gabi\\thesis analysis\\test3\\1_POST_BB_24_H1,6_KI_T3.avi\n",
      "Duration of video [s]:  179.67 , recorded with  15.0 fps!\n",
      "Overall # of frames:  2695  found with (before cropping) frame dimensions:  1280 720\n",
      "Starting to extract posture\n"
     ]
    },
    {
     "name": "stderr",
     "output_type": "stream",
     "text": [
      " 99%|█████████████████████████████████████████████████████████████████████████████▌| 2678/2695 [01:03<00:00, 41.93it/s]\n"
     ]
    },
    {
     "name": "stdout",
     "output_type": "stream",
     "text": [
      "Saving results in C:\\Users\\UCPH\\gabi\\thesis analysis\\test3...\n",
      "Saving csv poses!\n",
      "Starting to analyze %  C:\\Users\\UCPH\\gabi\\thesis analysis\\test3\\1_POST_BB_24_H1,6_KI_T4.avi\n",
      "Loading  C:\\Users\\UCPH\\gabi\\thesis analysis\\test3\\1_POST_BB_24_H1,6_KI_T4.avi\n",
      "Duration of video [s]:  179.87 , recorded with  15.0 fps!\n",
      "Overall # of frames:  2698  found with (before cropping) frame dimensions:  1280 720\n",
      "Starting to extract posture\n"
     ]
    },
    {
     "name": "stderr",
     "output_type": "stream",
     "text": [
      " 99%|█████████████████████████████████████████████████████████████████████████████▍| 2678/2698 [01:03<00:00, 41.90it/s]\n"
     ]
    },
    {
     "name": "stdout",
     "output_type": "stream",
     "text": [
      "Saving results in C:\\Users\\UCPH\\gabi\\thesis analysis\\test3...\n",
      "Saving csv poses!\n",
      "Starting to analyze %  C:\\Users\\UCPH\\gabi\\thesis analysis\\test3\\1_POST_BB_24_VEHE_KI_T1.avi\n",
      "Loading  C:\\Users\\UCPH\\gabi\\thesis analysis\\test3\\1_POST_BB_24_VEHE_KI_T1.avi\n",
      "Duration of video [s]:  3.33 , recorded with  15.0 fps!\n",
      "Overall # of frames:  50  found with (before cropping) frame dimensions:  1280 720\n",
      "Starting to extract posture\n"
     ]
    },
    {
     "name": "stderr",
     "output_type": "stream",
     "text": [
      "100%|██████████████████████████████████████████████████████████████████████████████████| 50/50 [00:01<00:00, 37.03it/s]\n"
     ]
    },
    {
     "name": "stdout",
     "output_type": "stream",
     "text": [
      "Saving results in C:\\Users\\UCPH\\gabi\\thesis analysis\\test3...\n",
      "Saving csv poses!\n",
      "Starting to analyze %  C:\\Users\\UCPH\\gabi\\thesis analysis\\test3\\1_POST_BB_24_VEHE_KI_T2.avi\n",
      "Loading  C:\\Users\\UCPH\\gabi\\thesis analysis\\test3\\1_POST_BB_24_VEHE_KI_T2.avi\n",
      "Duration of video [s]:  2.87 , recorded with  15.0 fps!\n",
      "Overall # of frames:  43  found with (before cropping) frame dimensions:  1280 720\n",
      "Starting to extract posture\n"
     ]
    },
    {
     "name": "stderr",
     "output_type": "stream",
     "text": [
      " 93%|████████████████████████████████████████████████████████████████████████████▎     | 40/43 [00:01<00:00, 35.00it/s]\n"
     ]
    },
    {
     "name": "stdout",
     "output_type": "stream",
     "text": [
      "Saving results in C:\\Users\\UCPH\\gabi\\thesis analysis\\test3...\n",
      "Saving csv poses!\n",
      "Starting to analyze %  C:\\Users\\UCPH\\gabi\\thesis analysis\\test3\\1_POST_BB_24_VEHE_KI_T3.avi\n",
      "Loading  C:\\Users\\UCPH\\gabi\\thesis analysis\\test3\\1_POST_BB_24_VEHE_KI_T3.avi\n",
      "Duration of video [s]:  3.27 , recorded with  15.0 fps!\n",
      "Overall # of frames:  49  found with (before cropping) frame dimensions:  1280 720\n",
      "Starting to extract posture\n"
     ]
    },
    {
     "name": "stderr",
     "output_type": "stream",
     "text": [
      " 82%|██████████████████████████████████████████████████████████████████▉               | 40/49 [00:01<00:00, 33.98it/s]\n"
     ]
    },
    {
     "name": "stdout",
     "output_type": "stream",
     "text": [
      "Saving results in C:\\Users\\UCPH\\gabi\\thesis analysis\\test3...\n",
      "Saving csv poses!\n",
      "Starting to analyze %  C:\\Users\\UCPH\\gabi\\thesis analysis\\test3\\1_POST_BB_24_VEHE_KI_T4.avi\n",
      "Loading  C:\\Users\\UCPH\\gabi\\thesis analysis\\test3\\1_POST_BB_24_VEHE_KI_T4.avi\n",
      "Duration of video [s]:  3.07 , recorded with  15.0 fps!\n",
      "Overall # of frames:  46  found with (before cropping) frame dimensions:  1280 720\n",
      "Starting to extract posture\n"
     ]
    },
    {
     "name": "stderr",
     "output_type": "stream",
     "text": [
      " 87%|███████████████████████████████████████████████████████████████████████▎          | 40/46 [00:01<00:00, 34.56it/s]\n"
     ]
    },
    {
     "name": "stdout",
     "output_type": "stream",
     "text": [
      "Saving results in C:\\Users\\UCPH\\gabi\\thesis analysis\\test3...\n",
      "Saving csv poses!\n",
      "Starting to analyze %  C:\\Users\\UCPH\\gabi\\thesis analysis\\test3\\1_POST_BB_26_H1,6_HET_T1.avi\n",
      "Loading  C:\\Users\\UCPH\\gabi\\thesis analysis\\test3\\1_POST_BB_26_H1,6_HET_T1.avi\n",
      "Duration of video [s]:  167.07 , recorded with  15.0 fps!\n",
      "Overall # of frames:  2506  found with (before cropping) frame dimensions:  1280 720\n",
      "Starting to extract posture\n"
     ]
    },
    {
     "name": "stderr",
     "output_type": "stream",
     "text": [
      "100%|█████████████████████████████████████████████████████████████████████████████▊| 2500/2506 [00:59<00:00, 42.13it/s]\n"
     ]
    },
    {
     "name": "stdout",
     "output_type": "stream",
     "text": [
      "Saving results in C:\\Users\\UCPH\\gabi\\thesis analysis\\test3...\n",
      "Saving csv poses!\n",
      "Starting to analyze %  C:\\Users\\UCPH\\gabi\\thesis analysis\\test3\\1_POST_BB_26_H1,6_HET_T2.avi\n",
      "Loading  C:\\Users\\UCPH\\gabi\\thesis analysis\\test3\\1_POST_BB_26_H1,6_HET_T2.avi\n",
      "Duration of video [s]:  180.07 , recorded with  15.0 fps!\n",
      "Overall # of frames:  2701  found with (before cropping) frame dimensions:  1280 720\n",
      "Starting to extract posture\n"
     ]
    },
    {
     "name": "stderr",
     "output_type": "stream",
     "text": [
      "100%|█████████████████████████████████████████████████████████████████████████████▉| 2700/2701 [01:04<00:00, 42.16it/s]\n"
     ]
    },
    {
     "name": "stdout",
     "output_type": "stream",
     "text": [
      "Saving results in C:\\Users\\UCPH\\gabi\\thesis analysis\\test3...\n",
      "Saving csv poses!\n",
      "Starting to analyze %  C:\\Users\\UCPH\\gabi\\thesis analysis\\test3\\1_POST_BB_26_H1,6_HET_T3.avi\n",
      "Loading  C:\\Users\\UCPH\\gabi\\thesis analysis\\test3\\1_POST_BB_26_H1,6_HET_T3.avi\n",
      "Duration of video [s]:  38.67 , recorded with  15.0 fps!\n",
      "Overall # of frames:  580  found with (before cropping) frame dimensions:  1280 720\n",
      "Starting to extract posture\n"
     ]
    },
    {
     "name": "stderr",
     "output_type": "stream",
     "text": [
      "100%|████████████████████████████████████████████████████████████████████████████████| 580/580 [00:13<00:00, 41.72it/s]\n"
     ]
    },
    {
     "name": "stdout",
     "output_type": "stream",
     "text": [
      "Saving results in C:\\Users\\UCPH\\gabi\\thesis analysis\\test3...\n",
      "Saving csv poses!\n",
      "Starting to analyze %  C:\\Users\\UCPH\\gabi\\thesis analysis\\test3\\1_POST_BB_26_H1,6_HET_T4.avi\n",
      "Loading  C:\\Users\\UCPH\\gabi\\thesis analysis\\test3\\1_POST_BB_26_H1,6_HET_T4.avi\n",
      "Duration of video [s]:  144.07 , recorded with  15.0 fps!\n",
      "Overall # of frames:  2161  found with (before cropping) frame dimensions:  1280 720\n",
      "Starting to extract posture\n"
     ]
    },
    {
     "name": "stderr",
     "output_type": "stream",
     "text": [
      " 99%|█████████████████████████████████████████████████████████████████████████████▎| 2142/2161 [00:51<00:00, 41.69it/s]\n"
     ]
    },
    {
     "name": "stdout",
     "output_type": "stream",
     "text": [
      "Saving results in C:\\Users\\UCPH\\gabi\\thesis analysis\\test3...\n",
      "Saving csv poses!\n",
      "Starting to analyze %  C:\\Users\\UCPH\\gabi\\thesis analysis\\test3\\1_POST_BB_26_VEHE_HET_T1.avi\n",
      "Loading  C:\\Users\\UCPH\\gabi\\thesis analysis\\test3\\1_POST_BB_26_VEHE_HET_T1.avi\n",
      "Duration of video [s]:  3.67 , recorded with  15.0 fps!\n",
      "Overall # of frames:  55  found with (before cropping) frame dimensions:  1280 720\n",
      "Starting to extract posture\n"
     ]
    },
    {
     "name": "stderr",
     "output_type": "stream",
     "text": [
      " 91%|██████████████████████████████████████████████████████████████████████████▌       | 50/55 [00:01<00:00, 37.07it/s]\n"
     ]
    },
    {
     "name": "stdout",
     "output_type": "stream",
     "text": [
      "Saving results in C:\\Users\\UCPH\\gabi\\thesis analysis\\test3...\n",
      "Saving csv poses!\n",
      "Starting to analyze %  C:\\Users\\UCPH\\gabi\\thesis analysis\\test3\\1_POST_BB_26_VEHE_HET_T2.avi\n",
      "Loading  C:\\Users\\UCPH\\gabi\\thesis analysis\\test3\\1_POST_BB_26_VEHE_HET_T2.avi\n",
      "Duration of video [s]:  5.27 , recorded with  15.0 fps!\n",
      "Overall # of frames:  79  found with (before cropping) frame dimensions:  1280 720\n",
      "Starting to extract posture\n"
     ]
    },
    {
     "name": "stderr",
     "output_type": "stream",
     "text": [
      " 89%|████████████████████████████████████████████████████████████████████████▋         | 70/79 [00:01<00:00, 36.56it/s]\n"
     ]
    },
    {
     "name": "stdout",
     "output_type": "stream",
     "text": [
      "Saving results in C:\\Users\\UCPH\\gabi\\thesis analysis\\test3...\n",
      "Saving csv poses!\n",
      "Starting to analyze %  C:\\Users\\UCPH\\gabi\\thesis analysis\\test3\\1_POST_BB_26_VEHE_HET_T3.avi\n",
      "Loading  C:\\Users\\UCPH\\gabi\\thesis analysis\\test3\\1_POST_BB_26_VEHE_HET_T3.avi\n",
      "Duration of video [s]:  6.67 , recorded with  15.0 fps!\n",
      "Overall # of frames:  100  found with (before cropping) frame dimensions:  1280 720\n",
      "Starting to extract posture\n"
     ]
    },
    {
     "name": "stderr",
     "output_type": "stream",
     "text": [
      "100%|████████████████████████████████████████████████████████████████████████████████| 100/100 [00:02<00:00, 40.35it/s]\n"
     ]
    },
    {
     "name": "stdout",
     "output_type": "stream",
     "text": [
      "Saving results in C:\\Users\\UCPH\\gabi\\thesis analysis\\test3...\n",
      "Saving csv poses!\n",
      "Starting to analyze %  C:\\Users\\UCPH\\gabi\\thesis analysis\\test3\\1_POST_BB_26_VEHE_HET_T4.avi\n",
      "Loading  C:\\Users\\UCPH\\gabi\\thesis analysis\\test3\\1_POST_BB_26_VEHE_HET_T4.avi\n",
      "Duration of video [s]:  4.27 , recorded with  15.0 fps!\n",
      "Overall # of frames:  64  found with (before cropping) frame dimensions:  1280 720\n",
      "Starting to extract posture\n"
     ]
    },
    {
     "name": "stderr",
     "output_type": "stream",
     "text": [
      " 94%|████████████████████████████████████████████████████████████████████████████▉     | 60/64 [00:01<00:00, 38.81it/s]\n"
     ]
    },
    {
     "name": "stdout",
     "output_type": "stream",
     "text": [
      "Saving results in C:\\Users\\UCPH\\gabi\\thesis analysis\\test3...\n",
      "Saving csv poses!\n",
      "Starting to analyze %  C:\\Users\\UCPH\\gabi\\thesis analysis\\test3\\1_POST_BB_29_H1,6_HET_T1.avi\n",
      "Loading  C:\\Users\\UCPH\\gabi\\thesis analysis\\test3\\1_POST_BB_29_H1,6_HET_T1.avi\n",
      "Duration of video [s]:  7.07 , recorded with  15.0 fps!\n",
      "Overall # of frames:  106  found with (before cropping) frame dimensions:  1280 720\n",
      "Starting to extract posture\n"
     ]
    },
    {
     "name": "stderr",
     "output_type": "stream",
     "text": [
      " 94%|███████████████████████████████████████████████████████████████████████████▍    | 100/106 [00:02<00:00, 37.40it/s]\n"
     ]
    },
    {
     "name": "stdout",
     "output_type": "stream",
     "text": [
      "Saving results in C:\\Users\\UCPH\\gabi\\thesis analysis\\test3...\n",
      "Saving csv poses!\n",
      "Starting to analyze %  C:\\Users\\UCPH\\gabi\\thesis analysis\\test3\\1_POST_BB_29_H1,6_HET_T2.avi\n",
      "Loading  C:\\Users\\UCPH\\gabi\\thesis analysis\\test3\\1_POST_BB_29_H1,6_HET_T2.avi\n",
      "Duration of video [s]:  20.07 , recorded with  15.0 fps!\n",
      "Overall # of frames:  301  found with (before cropping) frame dimensions:  1280 720\n",
      "Starting to extract posture\n"
     ]
    },
    {
     "name": "stderr",
     "output_type": "stream",
     "text": [
      "100%|███████████████████████████████████████████████████████████████████████████████▋| 300/301 [00:07<00:00, 41.22it/s]\n"
     ]
    },
    {
     "name": "stdout",
     "output_type": "stream",
     "text": [
      "Saving results in C:\\Users\\UCPH\\gabi\\thesis analysis\\test3...\n",
      "Saving csv poses!\n",
      "Starting to analyze %  C:\\Users\\UCPH\\gabi\\thesis analysis\\test3\\1_POST_BB_29_H1,6_HET_T3.avi\n",
      "Loading  C:\\Users\\UCPH\\gabi\\thesis analysis\\test3\\1_POST_BB_29_H1,6_HET_T3.avi\n",
      "Duration of video [s]:  8.67 , recorded with  15.0 fps!\n",
      "Overall # of frames:  130  found with (before cropping) frame dimensions:  1280 720\n",
      "Starting to extract posture\n"
     ]
    },
    {
     "name": "stderr",
     "output_type": "stream",
     "text": [
      "100%|████████████████████████████████████████████████████████████████████████████████| 130/130 [00:03<00:00, 40.05it/s]\n"
     ]
    },
    {
     "name": "stdout",
     "output_type": "stream",
     "text": [
      "Saving results in C:\\Users\\UCPH\\gabi\\thesis analysis\\test3...\n",
      "Saving csv poses!\n",
      "Starting to analyze %  C:\\Users\\UCPH\\gabi\\thesis analysis\\test3\\1_POST_BB_29_H1,6_HET_T4.avi\n",
      "Loading  C:\\Users\\UCPH\\gabi\\thesis analysis\\test3\\1_POST_BB_29_H1,6_HET_T4.avi\n",
      "Duration of video [s]:  179.87 , recorded with  15.0 fps!\n",
      "Overall # of frames:  2698  found with (before cropping) frame dimensions:  1280 720\n",
      "Starting to extract posture\n"
     ]
    },
    {
     "name": "stderr",
     "output_type": "stream",
     "text": [
      " 99%|█████████████████████████████████████████████████████████████████████████████▍| 2678/2698 [01:04<00:00, 41.84it/s]\n"
     ]
    },
    {
     "name": "stdout",
     "output_type": "stream",
     "text": [
      "Saving results in C:\\Users\\UCPH\\gabi\\thesis analysis\\test3...\n",
      "Saving csv poses!\n",
      "Starting to analyze %  C:\\Users\\UCPH\\gabi\\thesis analysis\\test3\\1_POST_BB_29_VEHE_HET_T1.avi\n",
      "Loading  C:\\Users\\UCPH\\gabi\\thesis analysis\\test3\\1_POST_BB_29_VEHE_HET_T1.avi\n",
      "Duration of video [s]:  4.87 , recorded with  15.0 fps!\n",
      "Overall # of frames:  73  found with (before cropping) frame dimensions:  1280 720\n",
      "Starting to extract posture\n"
     ]
    },
    {
     "name": "stderr",
     "output_type": "stream",
     "text": [
      " 96%|██████████████████████████████████████████████████████████████████████████████▋   | 70/73 [00:01<00:00, 36.70it/s]\n"
     ]
    },
    {
     "name": "stdout",
     "output_type": "stream",
     "text": [
      "Saving results in C:\\Users\\UCPH\\gabi\\thesis analysis\\test3...\n",
      "Saving csv poses!\n",
      "Starting to analyze %  C:\\Users\\UCPH\\gabi\\thesis analysis\\test3\\1_POST_BB_29_VEHE_HET_T2.avi\n",
      "Loading  C:\\Users\\UCPH\\gabi\\thesis analysis\\test3\\1_POST_BB_29_VEHE_HET_T2.avi\n",
      "Duration of video [s]:  8.67 , recorded with  15.0 fps!\n",
      "Overall # of frames:  130  found with (before cropping) frame dimensions:  1280 720\n",
      "Starting to extract posture\n"
     ]
    },
    {
     "name": "stderr",
     "output_type": "stream",
     "text": [
      "100%|████████████████████████████████████████████████████████████████████████████████| 130/130 [00:03<00:00, 39.95it/s]\n"
     ]
    },
    {
     "name": "stdout",
     "output_type": "stream",
     "text": [
      "Saving results in C:\\Users\\UCPH\\gabi\\thesis analysis\\test3...\n",
      "Saving csv poses!\n",
      "Starting to analyze %  C:\\Users\\UCPH\\gabi\\thesis analysis\\test3\\1_POST_BB_29_VEHE_HET_T3.avi\n",
      "Loading  C:\\Users\\UCPH\\gabi\\thesis analysis\\test3\\1_POST_BB_29_VEHE_HET_T3.avi\n",
      "Duration of video [s]:  5.07 , recorded with  15.0 fps!\n",
      "Overall # of frames:  76  found with (before cropping) frame dimensions:  1280 720\n",
      "Starting to extract posture\n"
     ]
    },
    {
     "name": "stderr",
     "output_type": "stream",
     "text": [
      " 92%|███████████████████████████████████████████████████████████████████████████▌      | 70/76 [00:01<00:00, 36.70it/s]\n"
     ]
    },
    {
     "name": "stdout",
     "output_type": "stream",
     "text": [
      "Saving results in C:\\Users\\UCPH\\gabi\\thesis analysis\\test3...\n",
      "Saving csv poses!\n",
      "Starting to analyze %  C:\\Users\\UCPH\\gabi\\thesis analysis\\test3\\1_POST_BB_29_VEHE_HET_T4.avi\n",
      "Loading  C:\\Users\\UCPH\\gabi\\thesis analysis\\test3\\1_POST_BB_29_VEHE_HET_T4.avi\n",
      "Duration of video [s]:  9.27 , recorded with  15.0 fps!\n",
      "Overall # of frames:  139  found with (before cropping) frame dimensions:  1280 720\n",
      "Starting to extract posture\n"
     ]
    },
    {
     "name": "stderr",
     "output_type": "stream",
     "text": [
      " 94%|██████████████████████████████████████████████████████████████████████████▊     | 130/139 [00:03<00:00, 37.69it/s]\n"
     ]
    },
    {
     "name": "stdout",
     "output_type": "stream",
     "text": [
      "Saving results in C:\\Users\\UCPH\\gabi\\thesis analysis\\test3...\n",
      "Saving csv poses!\n",
      "Starting to analyze %  C:\\Users\\UCPH\\gabi\\thesis analysis\\test3\\1_POST_BB_33_H1,6_WT_T1.avi\n",
      "Loading  C:\\Users\\UCPH\\gabi\\thesis analysis\\test3\\1_POST_BB_33_H1,6_WT_T1.avi\n",
      "Duration of video [s]:  88.67 , recorded with  15.0 fps!\n",
      "Overall # of frames:  1330  found with (before cropping) frame dimensions:  1280 720\n",
      "Starting to extract posture\n"
     ]
    },
    {
     "name": "stderr",
     "output_type": "stream",
     "text": [
      "100%|█████████████████████████████████████████████████████████████████████████████▊| 1326/1330 [00:31<00:00, 41.82it/s]\n"
     ]
    },
    {
     "name": "stdout",
     "output_type": "stream",
     "text": [
      "Saving results in C:\\Users\\UCPH\\gabi\\thesis analysis\\test3...\n",
      "Saving csv poses!\n",
      "Starting to analyze %  C:\\Users\\UCPH\\gabi\\thesis analysis\\test3\\1_POST_BB_33_H1,6_WT_T2.avi\n",
      "Loading  C:\\Users\\UCPH\\gabi\\thesis analysis\\test3\\1_POST_BB_33_H1,6_WT_T2.avi\n",
      "Duration of video [s]:  180.07 , recorded with  15.0 fps!\n",
      "Overall # of frames:  2701  found with (before cropping) frame dimensions:  1280 720\n",
      "Starting to extract posture\n"
     ]
    },
    {
     "name": "stderr",
     "output_type": "stream",
     "text": [
      "100%|█████████████████████████████████████████████████████████████████████████████▉| 2700/2701 [01:03<00:00, 42.22it/s]\n"
     ]
    },
    {
     "name": "stdout",
     "output_type": "stream",
     "text": [
      "Saving results in C:\\Users\\UCPH\\gabi\\thesis analysis\\test3...\n",
      "Saving csv poses!\n",
      "Starting to analyze %  C:\\Users\\UCPH\\gabi\\thesis analysis\\test3\\1_POST_BB_33_H1,6_WT_T3.avi\n",
      "Loading  C:\\Users\\UCPH\\gabi\\thesis analysis\\test3\\1_POST_BB_33_H1,6_WT_T3.avi\n",
      "Duration of video [s]:  9.47 , recorded with  15.0 fps!\n",
      "Overall # of frames:  142  found with (before cropping) frame dimensions:  1280 720\n",
      "Starting to extract posture\n"
     ]
    },
    {
     "name": "stderr",
     "output_type": "stream",
     "text": [
      " 99%|██████████████████████████████████████████████████████████████████████████████▊ | 140/142 [00:03<00:00, 40.41it/s]\n"
     ]
    },
    {
     "name": "stdout",
     "output_type": "stream",
     "text": [
      "Saving results in C:\\Users\\UCPH\\gabi\\thesis analysis\\test3...\n",
      "Saving csv poses!\n",
      "Starting to analyze %  C:\\Users\\UCPH\\gabi\\thesis analysis\\test3\\1_POST_BB_33_H1,6_WT_T4.avi\n",
      "Loading  C:\\Users\\UCPH\\gabi\\thesis analysis\\test3\\1_POST_BB_33_H1,6_WT_T4.avi\n",
      "Duration of video [s]:  12.13 , recorded with  15.0 fps!\n",
      "Overall # of frames:  182  found with (before cropping) frame dimensions:  1280 720\n",
      "Starting to extract posture\n"
     ]
    },
    {
     "name": "stderr",
     "output_type": "stream",
     "text": [
      " 99%|███████████████████████████████████████████████████████████████████████████████ | 180/182 [00:04<00:00, 41.08it/s]\n"
     ]
    },
    {
     "name": "stdout",
     "output_type": "stream",
     "text": [
      "Saving results in C:\\Users\\UCPH\\gabi\\thesis analysis\\test3...\n",
      "Saving csv poses!\n",
      "Starting to analyze %  C:\\Users\\UCPH\\gabi\\thesis analysis\\test3\\1_POST_BB_33_VEHE_WT_T1.avi\n",
      "Loading  C:\\Users\\UCPH\\gabi\\thesis analysis\\test3\\1_POST_BB_33_VEHE_WT_T1.avi\n",
      "Duration of video [s]:  5.0 , recorded with  15.0 fps!\n",
      "Overall # of frames:  75  found with (before cropping) frame dimensions:  1280 720\n",
      "Starting to extract posture\n"
     ]
    },
    {
     "name": "stderr",
     "output_type": "stream",
     "text": [
      " 93%|████████████████████████████████████████████████████████████████████████████▌     | 70/75 [00:01<00:00, 36.80it/s]\n"
     ]
    },
    {
     "name": "stdout",
     "output_type": "stream",
     "text": [
      "Saving results in C:\\Users\\UCPH\\gabi\\thesis analysis\\test3...\n",
      "Saving csv poses!\n",
      "Starting to analyze %  C:\\Users\\UCPH\\gabi\\thesis analysis\\test3\\1_POST_BB_33_VEHE_WT_T2.avi\n",
      "Loading  C:\\Users\\UCPH\\gabi\\thesis analysis\\test3\\1_POST_BB_33_VEHE_WT_T2.avi\n",
      "Duration of video [s]:  6.27 , recorded with  15.0 fps!\n",
      "Overall # of frames:  94  found with (before cropping) frame dimensions:  1280 720\n",
      "Starting to extract posture\n"
     ]
    },
    {
     "name": "stderr",
     "output_type": "stream",
     "text": [
      " 96%|██████████████████████████████████████████████████████████████████████████████▌   | 90/94 [00:02<00:00, 39.21it/s]\n"
     ]
    },
    {
     "name": "stdout",
     "output_type": "stream",
     "text": [
      "Saving results in C:\\Users\\UCPH\\gabi\\thesis analysis\\test3...\n",
      "Saving csv poses!\n",
      "Starting to analyze %  C:\\Users\\UCPH\\gabi\\thesis analysis\\test3\\1_POST_BB_33_VEHE_WT_T3.avi\n",
      "Loading  C:\\Users\\UCPH\\gabi\\thesis analysis\\test3\\1_POST_BB_33_VEHE_WT_T3.avi\n",
      "Duration of video [s]:  6.67 , recorded with  15.0 fps!\n",
      "Overall # of frames:  100  found with (before cropping) frame dimensions:  1280 720\n",
      "Starting to extract posture\n"
     ]
    },
    {
     "name": "stderr",
     "output_type": "stream",
     "text": [
      "100%|████████████████████████████████████████████████████████████████████████████████| 100/100 [00:02<00:00, 40.29it/s]\n"
     ]
    },
    {
     "name": "stdout",
     "output_type": "stream",
     "text": [
      "Saving results in C:\\Users\\UCPH\\gabi\\thesis analysis\\test3...\n",
      "Saving csv poses!\n",
      "Starting to analyze %  C:\\Users\\UCPH\\gabi\\thesis analysis\\test3\\1_POST_BB_33_VEHE_WT_T4.avi\n",
      "Loading  C:\\Users\\UCPH\\gabi\\thesis analysis\\test3\\1_POST_BB_33_VEHE_WT_T4.avi\n",
      "Duration of video [s]:  6.87 , recorded with  15.0 fps!\n",
      "Overall # of frames:  103  found with (before cropping) frame dimensions:  1280 720\n",
      "Starting to extract posture\n"
     ]
    },
    {
     "name": "stderr",
     "output_type": "stream",
     "text": [
      " 97%|█████████████████████████████████████████████████████████████████████████████▋  | 100/103 [00:02<00:00, 40.27it/s]\n"
     ]
    },
    {
     "name": "stdout",
     "output_type": "stream",
     "text": [
      "Saving results in C:\\Users\\UCPH\\gabi\\thesis analysis\\test3...\n",
      "Saving csv poses!\n",
      "Starting to analyze %  C:\\Users\\UCPH\\gabi\\thesis analysis\\test3\\1_POST_BB_35_H1,6_WT_T1.avi\n",
      "Loading  C:\\Users\\UCPH\\gabi\\thesis analysis\\test3\\1_POST_BB_35_H1,6_WT_T1.avi\n",
      "Duration of video [s]:  5.07 , recorded with  15.0 fps!\n",
      "Overall # of frames:  76  found with (before cropping) frame dimensions:  1280 720\n",
      "Starting to extract posture\n"
     ]
    },
    {
     "name": "stderr",
     "output_type": "stream",
     "text": [
      " 92%|███████████████████████████████████████████████████████████████████████████▌      | 70/76 [00:01<00:00, 36.61it/s]\n"
     ]
    },
    {
     "name": "stdout",
     "output_type": "stream",
     "text": [
      "Saving results in C:\\Users\\UCPH\\gabi\\thesis analysis\\test3...\n",
      "Saving csv poses!\n",
      "Starting to analyze %  C:\\Users\\UCPH\\gabi\\thesis analysis\\test3\\1_POST_BB_35_H1,6_WT_T2.avi\n",
      "Loading  C:\\Users\\UCPH\\gabi\\thesis analysis\\test3\\1_POST_BB_35_H1,6_WT_T2.avi\n",
      "Duration of video [s]:  12.07 , recorded with  15.0 fps!\n",
      "Overall # of frames:  181  found with (before cropping) frame dimensions:  1280 720\n",
      "Starting to extract posture\n"
     ]
    },
    {
     "name": "stderr",
     "output_type": "stream",
     "text": [
      " 99%|███████████████████████████████████████████████████████████████████████████████▌| 180/181 [00:04<00:00, 40.98it/s]\n"
     ]
    },
    {
     "name": "stdout",
     "output_type": "stream",
     "text": [
      "Saving results in C:\\Users\\UCPH\\gabi\\thesis analysis\\test3...\n",
      "Saving csv poses!\n",
      "Starting to analyze %  C:\\Users\\UCPH\\gabi\\thesis analysis\\test3\\1_POST_BB_35_H1,6_WT_T3.avi\n",
      "Loading  C:\\Users\\UCPH\\gabi\\thesis analysis\\test3\\1_POST_BB_35_H1,6_WT_T3.avi\n",
      "Duration of video [s]:  180.07 , recorded with  15.0 fps!\n",
      "Overall # of frames:  2701  found with (before cropping) frame dimensions:  1280 720\n",
      "Starting to extract posture\n"
     ]
    },
    {
     "name": "stderr",
     "output_type": "stream",
     "text": [
      "100%|█████████████████████████████████████████████████████████████████████████████▉| 2700/2701 [01:03<00:00, 42.24it/s]\n"
     ]
    },
    {
     "name": "stdout",
     "output_type": "stream",
     "text": [
      "Saving results in C:\\Users\\UCPH\\gabi\\thesis analysis\\test3...\n",
      "Saving csv poses!\n",
      "Starting to analyze %  C:\\Users\\UCPH\\gabi\\thesis analysis\\test3\\1_POST_BB_35_H1,6_WT_T4.avi\n",
      "Loading  C:\\Users\\UCPH\\gabi\\thesis analysis\\test3\\1_POST_BB_35_H1,6_WT_T4.avi\n",
      "Duration of video [s]:  173.67 , recorded with  15.0 fps!\n",
      "Overall # of frames:  2605  found with (before cropping) frame dimensions:  1280 720\n",
      "Starting to extract posture\n"
     ]
    },
    {
     "name": "stderr",
     "output_type": "stream",
     "text": [
      "100%|█████████████████████████████████████████████████████████████████████████████▊| 2600/2605 [01:01<00:00, 42.24it/s]\n"
     ]
    },
    {
     "name": "stdout",
     "output_type": "stream",
     "text": [
      "Saving results in C:\\Users\\UCPH\\gabi\\thesis analysis\\test3...\n",
      "Saving csv poses!\n",
      "Starting to analyze %  C:\\Users\\UCPH\\gabi\\thesis analysis\\test3\\1_POST_BB_35_VEHE_WT_T1.avi\n",
      "Loading  C:\\Users\\UCPH\\gabi\\thesis analysis\\test3\\1_POST_BB_35_VEHE_WT_T1.avi\n",
      "Duration of video [s]:  4.53 , recorded with  15.0 fps!\n",
      "Overall # of frames:  68  found with (before cropping) frame dimensions:  1280 720\n",
      "Starting to extract posture\n"
     ]
    },
    {
     "name": "stderr",
     "output_type": "stream",
     "text": [
      " 88%|████████████████████████████████████████████████████████████████████████▎         | 60/68 [00:01<00:00, 35.11it/s]\n"
     ]
    },
    {
     "name": "stdout",
     "output_type": "stream",
     "text": [
      "Saving results in C:\\Users\\UCPH\\gabi\\thesis analysis\\test3...\n",
      "Saving csv poses!\n",
      "Starting to analyze %  C:\\Users\\UCPH\\gabi\\thesis analysis\\test3\\1_POST_BB_35_VEHE_WT_T2.avi\n",
      "Loading  C:\\Users\\UCPH\\gabi\\thesis analysis\\test3\\1_POST_BB_35_VEHE_WT_T2.avi\n",
      "Duration of video [s]:  4.27 , recorded with  15.0 fps!\n",
      "Overall # of frames:  64  found with (before cropping) frame dimensions:  1280 720\n",
      "Starting to extract posture\n"
     ]
    },
    {
     "name": "stderr",
     "output_type": "stream",
     "text": [
      " 94%|████████████████████████████████████████████████████████████████████████████▉     | 60/64 [00:01<00:00, 39.44it/s]\n"
     ]
    },
    {
     "name": "stdout",
     "output_type": "stream",
     "text": [
      "Saving results in C:\\Users\\UCPH\\gabi\\thesis analysis\\test3...\n",
      "Saving csv poses!\n",
      "Starting to analyze %  C:\\Users\\UCPH\\gabi\\thesis analysis\\test3\\1_POST_BB_35_VEHE_WT_T3.avi\n",
      "Loading  C:\\Users\\UCPH\\gabi\\thesis analysis\\test3\\1_POST_BB_35_VEHE_WT_T3.avi\n",
      "Duration of video [s]:  7.27 , recorded with  15.0 fps!\n",
      "Overall # of frames:  109  found with (before cropping) frame dimensions:  1280 720\n",
      "Starting to extract posture\n"
     ]
    },
    {
     "name": "stderr",
     "output_type": "stream",
     "text": [
      " 92%|█████████████████████████████████████████████████████████████████████████▍      | 100/109 [00:02<00:00, 37.86it/s]\n"
     ]
    },
    {
     "name": "stdout",
     "output_type": "stream",
     "text": [
      "Saving results in C:\\Users\\UCPH\\gabi\\thesis analysis\\test3...\n",
      "Saving csv poses!\n",
      "Starting to analyze %  C:\\Users\\UCPH\\gabi\\thesis analysis\\test3\\1_POST_BB_35_VEHE_WT_T4.avi\n",
      "Loading  C:\\Users\\UCPH\\gabi\\thesis analysis\\test3\\1_POST_BB_35_VEHE_WT_T4.avi\n",
      "Duration of video [s]:  7.47 , recorded with  15.0 fps!\n",
      "Overall # of frames:  112  found with (before cropping) frame dimensions:  1280 720\n",
      "Starting to extract posture\n"
     ]
    },
    {
     "name": "stderr",
     "output_type": "stream",
     "text": [
      " 98%|██████████████████████████████████████████████████████████████████████████████▌ | 110/112 [00:02<00:00, 41.37it/s]\n"
     ]
    },
    {
     "name": "stdout",
     "output_type": "stream",
     "text": [
      "Saving results in C:\\Users\\UCPH\\gabi\\thesis analysis\\test3...\n",
      "Saving csv poses!\n",
      "Starting to analyze %  C:\\Users\\UCPH\\gabi\\thesis analysis\\test3\\1_POST_BB_37_H1,6_WT_T1.avi\n",
      "Loading  C:\\Users\\UCPH\\gabi\\thesis analysis\\test3\\1_POST_BB_37_H1,6_WT_T1.avi\n",
      "Duration of video [s]:  11.27 , recorded with  15.0 fps!\n",
      "Overall # of frames:  169  found with (before cropping) frame dimensions:  1280 720\n",
      "Starting to extract posture\n"
     ]
    },
    {
     "name": "stderr",
     "output_type": "stream",
     "text": [
      " 95%|███████████████████████████████████████████████████████████████████████████▋    | 160/169 [00:03<00:00, 40.29it/s]\n"
     ]
    },
    {
     "name": "stdout",
     "output_type": "stream",
     "text": [
      "Saving results in C:\\Users\\UCPH\\gabi\\thesis analysis\\test3...\n",
      "Saving csv poses!\n",
      "Starting to analyze %  C:\\Users\\UCPH\\gabi\\thesis analysis\\test3\\1_POST_BB_37_H1,6_WT_T2.avi\n",
      "Loading  C:\\Users\\UCPH\\gabi\\thesis analysis\\test3\\1_POST_BB_37_H1,6_WT_T2.avi\n",
      "Duration of video [s]:  180.07 , recorded with  15.0 fps!\n",
      "Overall # of frames:  2701  found with (before cropping) frame dimensions:  1280 720\n",
      "Starting to extract posture\n"
     ]
    },
    {
     "name": "stderr",
     "output_type": "stream",
     "text": [
      "100%|█████████████████████████████████████████████████████████████████████████████▉| 2700/2701 [01:03<00:00, 42.58it/s]\n"
     ]
    },
    {
     "name": "stdout",
     "output_type": "stream",
     "text": [
      "Saving results in C:\\Users\\UCPH\\gabi\\thesis analysis\\test3...\n",
      "Saving csv poses!\n",
      "Starting to analyze %  C:\\Users\\UCPH\\gabi\\thesis analysis\\test3\\1_POST_BB_37_H1,6_WT_T3.avi\n",
      "Loading  C:\\Users\\UCPH\\gabi\\thesis analysis\\test3\\1_POST_BB_37_H1,6_WT_T3.avi\n",
      "Duration of video [s]:  152.67 , recorded with  15.0 fps!\n",
      "Overall # of frames:  2290  found with (before cropping) frame dimensions:  1280 720\n",
      "Starting to extract posture\n"
     ]
    },
    {
     "name": "stderr",
     "output_type": "stream",
     "text": [
      "100%|█████████████████████████████████████████████████████████████████████████████▉| 2288/2290 [00:53<00:00, 42.56it/s]\n"
     ]
    },
    {
     "name": "stdout",
     "output_type": "stream",
     "text": [
      "Saving results in C:\\Users\\UCPH\\gabi\\thesis analysis\\test3...\n",
      "Saving csv poses!\n",
      "Starting to analyze %  C:\\Users\\UCPH\\gabi\\thesis analysis\\test3\\1_POST_BB_37_H1,6_WT_T4.avi\n",
      "Loading  C:\\Users\\UCPH\\gabi\\thesis analysis\\test3\\1_POST_BB_37_H1,6_WT_T4.avi\n",
      "Duration of video [s]:  110.87 , recorded with  15.0 fps!\n",
      "Overall # of frames:  1663  found with (before cropping) frame dimensions:  1280 720\n",
      "Starting to extract posture\n"
     ]
    },
    {
     "name": "stderr",
     "output_type": "stream",
     "text": [
      " 99%|█████████████████████████████████████████████████████████████████████████████▎| 1648/1663 [00:39<00:00, 41.90it/s]\n"
     ]
    },
    {
     "name": "stdout",
     "output_type": "stream",
     "text": [
      "Saving results in C:\\Users\\UCPH\\gabi\\thesis analysis\\test3...\n",
      "Saving csv poses!\n",
      "Starting to analyze %  C:\\Users\\UCPH\\gabi\\thesis analysis\\test3\\1_POST_BB_37_VEHE_WT_T1.avi\n",
      "Loading  C:\\Users\\UCPH\\gabi\\thesis analysis\\test3\\1_POST_BB_37_VEHE_WT_T1.avi\n",
      "Duration of video [s]:  5.33 , recorded with  15.0 fps!\n",
      "Overall # of frames:  80  found with (before cropping) frame dimensions:  1280 720\n",
      "Starting to extract posture\n"
     ]
    },
    {
     "name": "stderr",
     "output_type": "stream",
     "text": [
      "100%|██████████████████████████████████████████████████████████████████████████████████| 80/80 [00:01<00:00, 41.65it/s]\n"
     ]
    },
    {
     "name": "stdout",
     "output_type": "stream",
     "text": [
      "Saving results in C:\\Users\\UCPH\\gabi\\thesis analysis\\test3...\n",
      "Saving csv poses!\n",
      "Starting to analyze %  C:\\Users\\UCPH\\gabi\\thesis analysis\\test3\\1_POST_BB_37_VEHE_WT_T2.avi\n",
      "Loading  C:\\Users\\UCPH\\gabi\\thesis analysis\\test3\\1_POST_BB_37_VEHE_WT_T2.avi\n",
      "Duration of video [s]:  6.07 , recorded with  15.0 fps!\n",
      "Overall # of frames:  91  found with (before cropping) frame dimensions:  1280 720\n",
      "Starting to extract posture\n"
     ]
    },
    {
     "name": "stderr",
     "output_type": "stream",
     "text": [
      " 99%|█████████████████████████████████████████████████████████████████████████████████ | 90/91 [00:02<00:00, 39.61it/s]\n"
     ]
    },
    {
     "name": "stdout",
     "output_type": "stream",
     "text": [
      "Saving results in C:\\Users\\UCPH\\gabi\\thesis analysis\\test3...\n",
      "Saving csv poses!\n",
      "Starting to analyze %  C:\\Users\\UCPH\\gabi\\thesis analysis\\test3\\1_POST_BB_37_VEHE_WT_T3.avi\n",
      "Loading  C:\\Users\\UCPH\\gabi\\thesis analysis\\test3\\1_POST_BB_37_VEHE_WT_T3.avi\n",
      "Duration of video [s]:  9.07 , recorded with  15.0 fps!\n",
      "Overall # of frames:  136  found with (before cropping) frame dimensions:  1280 720\n",
      "Starting to extract posture\n"
     ]
    },
    {
     "name": "stderr",
     "output_type": "stream",
     "text": [
      " 96%|████████████████████████████████████████████████████████████████████████████▍   | 130/136 [00:03<00:00, 40.48it/s]\n"
     ]
    },
    {
     "name": "stdout",
     "output_type": "stream",
     "text": [
      "Saving results in C:\\Users\\UCPH\\gabi\\thesis analysis\\test3...\n",
      "Saving csv poses!\n",
      "Starting to analyze %  C:\\Users\\UCPH\\gabi\\thesis analysis\\test3\\1_POST_BB_37_VEHE_WT_T4.avi\n",
      "Loading  C:\\Users\\UCPH\\gabi\\thesis analysis\\test3\\1_POST_BB_37_VEHE_WT_T4.avi\n",
      "Duration of video [s]:  8.87 , recorded with  15.0 fps!\n",
      "Overall # of frames:  133  found with (before cropping) frame dimensions:  1280 720\n",
      "Starting to extract posture\n"
     ]
    },
    {
     "name": "stderr",
     "output_type": "stream",
     "text": [
      " 98%|██████████████████████████████████████████████████████████████████████████████▏ | 130/133 [00:03<00:00, 40.48it/s]\n"
     ]
    },
    {
     "name": "stdout",
     "output_type": "stream",
     "text": [
      "Saving results in C:\\Users\\UCPH\\gabi\\thesis analysis\\test3...\n",
      "Saving csv poses!\n",
      "Starting to analyze %  C:\\Users\\UCPH\\gabi\\thesis analysis\\test3\\1_PRE_BB_15_H1,6_KI_T1.avi\n",
      "Loading  C:\\Users\\UCPH\\gabi\\thesis analysis\\test3\\1_PRE_BB_15_H1,6_KI_T1.avi\n",
      "Duration of video [s]:  3.13 , recorded with  15.0 fps!\n",
      "Overall # of frames:  47  found with (before cropping) frame dimensions:  1280 720\n",
      "Starting to extract posture\n"
     ]
    },
    {
     "name": "stderr",
     "output_type": "stream",
     "text": [
      " 85%|█████████████████████████████████████████████████████████████████████▊            | 40/47 [00:01<00:00, 34.82it/s]\n"
     ]
    },
    {
     "name": "stdout",
     "output_type": "stream",
     "text": [
      "Saving results in C:\\Users\\UCPH\\gabi\\thesis analysis\\test3...\n",
      "Saving csv poses!\n",
      "Starting to analyze %  C:\\Users\\UCPH\\gabi\\thesis analysis\\test3\\1_PRE_BB_15_H1,6_KI_T2.avi\n",
      "Loading  C:\\Users\\UCPH\\gabi\\thesis analysis\\test3\\1_PRE_BB_15_H1,6_KI_T2.avi\n",
      "Duration of video [s]:  3.67 , recorded with  15.0 fps!\n",
      "Overall # of frames:  55  found with (before cropping) frame dimensions:  1280 720\n",
      "Starting to extract posture\n"
     ]
    },
    {
     "name": "stderr",
     "output_type": "stream",
     "text": [
      " 91%|██████████████████████████████████████████████████████████████████████████▌       | 50/55 [00:01<00:00, 37.40it/s]\n"
     ]
    },
    {
     "name": "stdout",
     "output_type": "stream",
     "text": [
      "Saving results in C:\\Users\\UCPH\\gabi\\thesis analysis\\test3...\n",
      "Saving csv poses!\n",
      "Starting to analyze %  C:\\Users\\UCPH\\gabi\\thesis analysis\\test3\\1_PRE_BB_15_H1,6_KI_T3.avi\n",
      "Loading  C:\\Users\\UCPH\\gabi\\thesis analysis\\test3\\1_PRE_BB_15_H1,6_KI_T3.avi\n",
      "Duration of video [s]:  3.27 , recorded with  15.0 fps!\n",
      "Overall # of frames:  49  found with (before cropping) frame dimensions:  1280 720\n",
      "Starting to extract posture\n"
     ]
    },
    {
     "name": "stderr",
     "output_type": "stream",
     "text": [
      " 82%|██████████████████████████████████████████████████████████████████▉               | 40/49 [00:01<00:00, 34.74it/s]\n"
     ]
    },
    {
     "name": "stdout",
     "output_type": "stream",
     "text": [
      "Saving results in C:\\Users\\UCPH\\gabi\\thesis analysis\\test3...\n",
      "Saving csv poses!\n",
      "Starting to analyze %  C:\\Users\\UCPH\\gabi\\thesis analysis\\test3\\1_PRE_BB_15_H1,6_KI_T4.avi\n",
      "Loading  C:\\Users\\UCPH\\gabi\\thesis analysis\\test3\\1_PRE_BB_15_H1,6_KI_T4.avi\n",
      "Duration of video [s]:  2.93 , recorded with  15.0 fps!\n",
      "Overall # of frames:  44  found with (before cropping) frame dimensions:  1280 720\n",
      "Starting to extract posture\n"
     ]
    },
    {
     "name": "stderr",
     "output_type": "stream",
     "text": [
      " 91%|██████████████████████████████████████████████████████████████████████████▌       | 40/44 [00:01<00:00, 34.87it/s]\n"
     ]
    },
    {
     "name": "stdout",
     "output_type": "stream",
     "text": [
      "Saving results in C:\\Users\\UCPH\\gabi\\thesis analysis\\test3...\n",
      "Saving csv poses!\n",
      "Starting to analyze %  C:\\Users\\UCPH\\gabi\\thesis analysis\\test3\\1_PRE_BB_15_VEHE_KI_T1.avi\n",
      "Loading  C:\\Users\\UCPH\\gabi\\thesis analysis\\test3\\1_PRE_BB_15_VEHE_KI_T1.avi\n",
      "Duration of video [s]:  3.53 , recorded with  15.0 fps!\n",
      "Overall # of frames:  53  found with (before cropping) frame dimensions:  1280 720\n",
      "Starting to extract posture\n"
     ]
    },
    {
     "name": "stderr",
     "output_type": "stream",
     "text": [
      " 94%|█████████████████████████████████████████████████████████████████████████████▎    | 50/53 [00:01<00:00, 37.42it/s]\n"
     ]
    },
    {
     "name": "stdout",
     "output_type": "stream",
     "text": [
      "Saving results in C:\\Users\\UCPH\\gabi\\thesis analysis\\test3...\n",
      "Saving csv poses!\n",
      "Starting to analyze %  C:\\Users\\UCPH\\gabi\\thesis analysis\\test3\\1_PRE_BB_15_VEHE_KI_T2.avi\n",
      "Loading  C:\\Users\\UCPH\\gabi\\thesis analysis\\test3\\1_PRE_BB_15_VEHE_KI_T2.avi\n",
      "Duration of video [s]:  3.07 , recorded with  15.0 fps!\n",
      "Overall # of frames:  46  found with (before cropping) frame dimensions:  1280 720\n",
      "Starting to extract posture\n"
     ]
    },
    {
     "name": "stderr",
     "output_type": "stream",
     "text": [
      " 87%|███████████████████████████████████████████████████████████████████████▎          | 40/46 [00:01<00:00, 34.74it/s]\n"
     ]
    },
    {
     "name": "stdout",
     "output_type": "stream",
     "text": [
      "Saving results in C:\\Users\\UCPH\\gabi\\thesis analysis\\test3...\n",
      "Saving csv poses!\n",
      "Starting to analyze %  C:\\Users\\UCPH\\gabi\\thesis analysis\\test3\\1_PRE_BB_15_VEHE_KI_T3.avi\n",
      "Loading  C:\\Users\\UCPH\\gabi\\thesis analysis\\test3\\1_PRE_BB_15_VEHE_KI_T3.avi\n",
      "Duration of video [s]:  2.87 , recorded with  15.0 fps!\n",
      "Overall # of frames:  43  found with (before cropping) frame dimensions:  1280 720\n",
      "Starting to extract posture\n"
     ]
    },
    {
     "name": "stderr",
     "output_type": "stream",
     "text": [
      " 93%|████████████████████████████████████████████████████████████████████████████▎     | 40/43 [00:01<00:00, 35.08it/s]\n"
     ]
    },
    {
     "name": "stdout",
     "output_type": "stream",
     "text": [
      "Saving results in C:\\Users\\UCPH\\gabi\\thesis analysis\\test3...\n",
      "Saving csv poses!\n",
      "Starting to analyze %  C:\\Users\\UCPH\\gabi\\thesis analysis\\test3\\1_PRE_BB_15_VEHE_KI_T4.avi\n",
      "Loading  C:\\Users\\UCPH\\gabi\\thesis analysis\\test3\\1_PRE_BB_15_VEHE_KI_T4.avi\n",
      "Duration of video [s]:  2.87 , recorded with  15.0 fps!\n",
      "Overall # of frames:  43  found with (before cropping) frame dimensions:  1280 720\n",
      "Starting to extract posture\n"
     ]
    },
    {
     "name": "stderr",
     "output_type": "stream",
     "text": [
      " 93%|████████████████████████████████████████████████████████████████████████████▎     | 40/43 [00:01<00:00, 35.16it/s]\n"
     ]
    },
    {
     "name": "stdout",
     "output_type": "stream",
     "text": [
      "Saving results in C:\\Users\\UCPH\\gabi\\thesis analysis\\test3...\n",
      "Saving csv poses!\n",
      "Starting to analyze %  C:\\Users\\UCPH\\gabi\\thesis analysis\\test3\\1_PRE_BB_16_H1,6_WT_T1.avi\n",
      "Loading  C:\\Users\\UCPH\\gabi\\thesis analysis\\test3\\1_PRE_BB_16_H1,6_WT_T1.avi\n",
      "Duration of video [s]:  3.8 , recorded with  15.0 fps!\n",
      "Overall # of frames:  57  found with (before cropping) frame dimensions:  1280 720\n",
      "Starting to extract posture\n"
     ]
    },
    {
     "name": "stderr",
     "output_type": "stream",
     "text": [
      " 88%|███████████████████████████████████████████████████████████████████████▉          | 50/57 [00:01<00:00, 37.45it/s]\n"
     ]
    },
    {
     "name": "stdout",
     "output_type": "stream",
     "text": [
      "Saving results in C:\\Users\\UCPH\\gabi\\thesis analysis\\test3...\n",
      "Saving csv poses!\n",
      "Starting to analyze %  C:\\Users\\UCPH\\gabi\\thesis analysis\\test3\\1_PRE_BB_16_H1,6_WT_T2.avi\n",
      "Loading  C:\\Users\\UCPH\\gabi\\thesis analysis\\test3\\1_PRE_BB_16_H1,6_WT_T2.avi\n",
      "Duration of video [s]:  5.47 , recorded with  15.0 fps!\n",
      "Overall # of frames:  82  found with (before cropping) frame dimensions:  1280 720\n",
      "Starting to extract posture\n"
     ]
    },
    {
     "name": "stderr",
     "output_type": "stream",
     "text": [
      " 98%|████████████████████████████████████████████████████████████████████████████████  | 80/82 [00:02<00:00, 38.42it/s]\n"
     ]
    },
    {
     "name": "stdout",
     "output_type": "stream",
     "text": [
      "Saving results in C:\\Users\\UCPH\\gabi\\thesis analysis\\test3...\n",
      "Saving csv poses!\n",
      "Starting to analyze %  C:\\Users\\UCPH\\gabi\\thesis analysis\\test3\\1_PRE_BB_16_H1,6_WT_T3.avi\n",
      "Loading  C:\\Users\\UCPH\\gabi\\thesis analysis\\test3\\1_PRE_BB_16_H1,6_WT_T3.avi\n",
      "Duration of video [s]:  5.47 , recorded with  15.0 fps!\n",
      "Overall # of frames:  82  found with (before cropping) frame dimensions:  1280 720\n",
      "Starting to extract posture\n"
     ]
    },
    {
     "name": "stderr",
     "output_type": "stream",
     "text": [
      " 98%|████████████████████████████████████████████████████████████████████████████████  | 80/82 [00:02<00:00, 38.33it/s]\n"
     ]
    },
    {
     "name": "stdout",
     "output_type": "stream",
     "text": [
      "Saving results in C:\\Users\\UCPH\\gabi\\thesis analysis\\test3...\n",
      "Saving csv poses!\n",
      "Starting to analyze %  C:\\Users\\UCPH\\gabi\\thesis analysis\\test3\\1_PRE_BB_16_H1,6_WT_T4.avi\n",
      "Loading  C:\\Users\\UCPH\\gabi\\thesis analysis\\test3\\1_PRE_BB_16_H1,6_WT_T4.avi\n",
      "Duration of video [s]:  5.47 , recorded with  15.0 fps!\n",
      "Overall # of frames:  82  found with (before cropping) frame dimensions:  1280 720\n",
      "Starting to extract posture\n"
     ]
    },
    {
     "name": "stderr",
     "output_type": "stream",
     "text": [
      " 98%|████████████████████████████████████████████████████████████████████████████████  | 80/82 [00:02<00:00, 38.33it/s]\n"
     ]
    },
    {
     "name": "stdout",
     "output_type": "stream",
     "text": [
      "Saving results in C:\\Users\\UCPH\\gabi\\thesis analysis\\test3...\n",
      "Saving csv poses!\n",
      "Starting to analyze %  C:\\Users\\UCPH\\gabi\\thesis analysis\\test3\\1_PRE_BB_16_VEHE_WT_T1.avi\n",
      "Loading  C:\\Users\\UCPH\\gabi\\thesis analysis\\test3\\1_PRE_BB_16_VEHE_WT_T1.avi\n",
      "Duration of video [s]:  8.93 , recorded with  15.0 fps!\n",
      "Overall # of frames:  134  found with (before cropping) frame dimensions:  1280 720\n",
      "Starting to extract posture\n"
     ]
    },
    {
     "name": "stderr",
     "output_type": "stream",
     "text": [
      " 97%|█████████████████████████████████████████████████████████████████████████████▌  | 130/134 [00:03<00:00, 40.38it/s]\n"
     ]
    },
    {
     "name": "stdout",
     "output_type": "stream",
     "text": [
      "Saving results in C:\\Users\\UCPH\\gabi\\thesis analysis\\test3...\n",
      "Saving csv poses!\n",
      "Starting to analyze %  C:\\Users\\UCPH\\gabi\\thesis analysis\\test3\\1_PRE_BB_16_VEHE_WT_T2.avi\n",
      "Loading  C:\\Users\\UCPH\\gabi\\thesis analysis\\test3\\1_PRE_BB_16_VEHE_WT_T2.avi\n",
      "Duration of video [s]:  6.0 , recorded with  15.0 fps!\n",
      "Overall # of frames:  90  found with (before cropping) frame dimensions:  1280 720\n",
      "Starting to extract posture\n"
     ]
    },
    {
     "name": "stderr",
     "output_type": "stream",
     "text": [
      "100%|██████████████████████████████████████████████████████████████████████████████████| 90/90 [00:02<00:00, 39.76it/s]\n"
     ]
    },
    {
     "name": "stdout",
     "output_type": "stream",
     "text": [
      "Saving results in C:\\Users\\UCPH\\gabi\\thesis analysis\\test3...\n",
      "Saving csv poses!\n",
      "Starting to analyze %  C:\\Users\\UCPH\\gabi\\thesis analysis\\test3\\1_PRE_BB_16_VEHE_WT_T3.avi\n",
      "Loading  C:\\Users\\UCPH\\gabi\\thesis analysis\\test3\\1_PRE_BB_16_VEHE_WT_T3.avi\n",
      "Duration of video [s]:  6.87 , recorded with  15.0 fps!\n",
      "Overall # of frames:  103  found with (before cropping) frame dimensions:  1280 720\n",
      "Starting to extract posture\n"
     ]
    },
    {
     "name": "stderr",
     "output_type": "stream",
     "text": [
      " 97%|█████████████████████████████████████████████████████████████████████████████▋  | 100/103 [00:02<00:00, 40.62it/s]\n"
     ]
    },
    {
     "name": "stdout",
     "output_type": "stream",
     "text": [
      "Saving results in C:\\Users\\UCPH\\gabi\\thesis analysis\\test3...\n",
      "Saving csv poses!\n",
      "Starting to analyze %  C:\\Users\\UCPH\\gabi\\thesis analysis\\test3\\1_PRE_BB_16_VEHE_WT_T4.avi\n",
      "Loading  C:\\Users\\UCPH\\gabi\\thesis analysis\\test3\\1_PRE_BB_16_VEHE_WT_T4.avi\n",
      "Duration of video [s]:  6.87 , recorded with  15.0 fps!\n",
      "Overall # of frames:  103  found with (before cropping) frame dimensions:  1280 720\n",
      "Starting to extract posture\n"
     ]
    },
    {
     "name": "stderr",
     "output_type": "stream",
     "text": [
      " 97%|█████████████████████████████████████████████████████████████████████████████▋  | 100/103 [00:02<00:00, 40.65it/s]\n"
     ]
    },
    {
     "name": "stdout",
     "output_type": "stream",
     "text": [
      "Saving results in C:\\Users\\UCPH\\gabi\\thesis analysis\\test3...\n",
      "Saving csv poses!\n",
      "Starting to analyze %  C:\\Users\\UCPH\\gabi\\thesis analysis\\test3\\1_PRE_BB_17_H1,6_KI_T1.avi\n",
      "Loading  C:\\Users\\UCPH\\gabi\\thesis analysis\\test3\\1_PRE_BB_17_H1,6_KI_T1.avi\n",
      "Duration of video [s]:  4.8 , recorded with  15.0 fps!\n",
      "Overall # of frames:  72  found with (before cropping) frame dimensions:  1280 720\n",
      "Starting to extract posture\n"
     ]
    },
    {
     "name": "stderr",
     "output_type": "stream",
     "text": [
      " 97%|███████████████████████████████████████████████████████████████████████████████▋  | 70/72 [00:01<00:00, 40.79it/s]\n"
     ]
    },
    {
     "name": "stdout",
     "output_type": "stream",
     "text": [
      "Saving results in C:\\Users\\UCPH\\gabi\\thesis analysis\\test3...\n",
      "Saving csv poses!\n",
      "Starting to analyze %  C:\\Users\\UCPH\\gabi\\thesis analysis\\test3\\1_PRE_BB_17_H1,6_KI_T2.avi\n",
      "Loading  C:\\Users\\UCPH\\gabi\\thesis analysis\\test3\\1_PRE_BB_17_H1,6_KI_T2.avi\n",
      "Duration of video [s]:  3.87 , recorded with  15.0 fps!\n",
      "Overall # of frames:  58  found with (before cropping) frame dimensions:  1280 720\n",
      "Starting to extract posture\n"
     ]
    },
    {
     "name": "stderr",
     "output_type": "stream",
     "text": [
      " 86%|██████████████████████████████████████████████████████████████████████▋           | 50/58 [00:01<00:00, 33.12it/s]\n"
     ]
    },
    {
     "name": "stdout",
     "output_type": "stream",
     "text": [
      "Saving results in C:\\Users\\UCPH\\gabi\\thesis analysis\\test3...\n",
      "Saving csv poses!\n",
      "Starting to analyze %  C:\\Users\\UCPH\\gabi\\thesis analysis\\test3\\1_PRE_BB_17_H1,6_KI_T3.avi\n",
      "Loading  C:\\Users\\UCPH\\gabi\\thesis analysis\\test3\\1_PRE_BB_17_H1,6_KI_T3.avi\n",
      "Duration of video [s]:  4.07 , recorded with  15.0 fps!\n",
      "Overall # of frames:  61  found with (before cropping) frame dimensions:  1280 720\n",
      "Starting to extract posture\n"
     ]
    },
    {
     "name": "stderr",
     "output_type": "stream",
     "text": [
      " 98%|████████████████████████████████████████████████████████████████████████████████▋ | 60/61 [00:01<00:00, 39.52it/s]\n"
     ]
    },
    {
     "name": "stdout",
     "output_type": "stream",
     "text": [
      "Saving results in C:\\Users\\UCPH\\gabi\\thesis analysis\\test3...\n",
      "Saving csv poses!\n",
      "Starting to analyze %  C:\\Users\\UCPH\\gabi\\thesis analysis\\test3\\1_PRE_BB_17_H1,6_KI_T4.avi\n",
      "Loading  C:\\Users\\UCPH\\gabi\\thesis analysis\\test3\\1_PRE_BB_17_H1,6_KI_T4.avi\n",
      "Duration of video [s]:  5.67 , recorded with  15.0 fps!\n",
      "Overall # of frames:  85  found with (before cropping) frame dimensions:  1280 720\n",
      "Starting to extract posture\n"
     ]
    },
    {
     "name": "stderr",
     "output_type": "stream",
     "text": [
      " 94%|█████████████████████████████████████████████████████████████████████████████▏    | 80/85 [00:02<00:00, 38.27it/s]\n"
     ]
    },
    {
     "name": "stdout",
     "output_type": "stream",
     "text": [
      "Saving results in C:\\Users\\UCPH\\gabi\\thesis analysis\\test3...\n",
      "Saving csv poses!\n",
      "Starting to analyze %  C:\\Users\\UCPH\\gabi\\thesis analysis\\test3\\1_PRE_BB_17_VEHE_KI_T1.avi\n",
      "Loading  C:\\Users\\UCPH\\gabi\\thesis analysis\\test3\\1_PRE_BB_17_VEHE_KI_T1.avi\n",
      "Duration of video [s]:  4.4 , recorded with  15.0 fps!\n",
      "Overall # of frames:  66  found with (before cropping) frame dimensions:  1280 720\n",
      "Starting to extract posture\n"
     ]
    },
    {
     "name": "stderr",
     "output_type": "stream",
     "text": [
      " 91%|██████████████████████████████████████████████████████████████████████████▌       | 60/66 [00:01<00:00, 35.24it/s]\n"
     ]
    },
    {
     "name": "stdout",
     "output_type": "stream",
     "text": [
      "Saving results in C:\\Users\\UCPH\\gabi\\thesis analysis\\test3...\n",
      "Saving csv poses!\n",
      "Starting to analyze %  C:\\Users\\UCPH\\gabi\\thesis analysis\\test3\\1_PRE_BB_17_VEHE_KI_T2.avi\n",
      "Loading  C:\\Users\\UCPH\\gabi\\thesis analysis\\test3\\1_PRE_BB_17_VEHE_KI_T2.avi\n",
      "Duration of video [s]:  3.87 , recorded with  15.0 fps!\n",
      "Overall # of frames:  58  found with (before cropping) frame dimensions:  1280 720\n",
      "Starting to extract posture\n"
     ]
    },
    {
     "name": "stderr",
     "output_type": "stream",
     "text": [
      " 86%|██████████████████████████████████████████████████████████████████████▋           | 50/58 [00:01<00:00, 33.01it/s]\n"
     ]
    },
    {
     "name": "stdout",
     "output_type": "stream",
     "text": [
      "Saving results in C:\\Users\\UCPH\\gabi\\thesis analysis\\test3...\n",
      "Saving csv poses!\n",
      "Starting to analyze %  C:\\Users\\UCPH\\gabi\\thesis analysis\\test3\\1_PRE_BB_17_VEHE_KI_T3.avi\n",
      "Loading  C:\\Users\\UCPH\\gabi\\thesis analysis\\test3\\1_PRE_BB_17_VEHE_KI_T3.avi\n",
      "Duration of video [s]:  180.07 , recorded with  15.0 fps!\n",
      "Overall # of frames:  2701  found with (before cropping) frame dimensions:  1280 720\n",
      "Starting to extract posture\n"
     ]
    },
    {
     "name": "stderr",
     "output_type": "stream",
     "text": [
      "100%|█████████████████████████████████████████████████████████████████████████████▉| 2700/2701 [01:03<00:00, 42.31it/s]\n"
     ]
    },
    {
     "name": "stdout",
     "output_type": "stream",
     "text": [
      "Saving results in C:\\Users\\UCPH\\gabi\\thesis analysis\\test3...\n",
      "Saving csv poses!\n",
      "Starting to analyze %  C:\\Users\\UCPH\\gabi\\thesis analysis\\test3\\1_PRE_BB_17_VEHE_KI_T4.avi\n",
      "Loading  C:\\Users\\UCPH\\gabi\\thesis analysis\\test3\\1_PRE_BB_17_VEHE_KI_T4.avi\n",
      "Duration of video [s]:  4.07 , recorded with  15.0 fps!\n",
      "Overall # of frames:  61  found with (before cropping) frame dimensions:  1280 720\n",
      "Starting to extract posture\n"
     ]
    },
    {
     "name": "stderr",
     "output_type": "stream",
     "text": [
      " 98%|████████████████████████████████████████████████████████████████████████████████▋ | 60/61 [00:01<00:00, 39.09it/s]\n"
     ]
    },
    {
     "name": "stdout",
     "output_type": "stream",
     "text": [
      "Saving results in C:\\Users\\UCPH\\gabi\\thesis analysis\\test3...\n",
      "Saving csv poses!\n",
      "Starting to analyze %  C:\\Users\\UCPH\\gabi\\thesis analysis\\test3\\1_PRE_BB_19_H1,6_HET_T1.avi\n",
      "Loading  C:\\Users\\UCPH\\gabi\\thesis analysis\\test3\\1_PRE_BB_19_H1,6_HET_T1.avi\n",
      "Duration of video [s]:  11.8 , recorded with  15.0 fps!\n",
      "Overall # of frames:  177  found with (before cropping) frame dimensions:  1280 720\n",
      "Starting to extract posture\n"
     ]
    },
    {
     "name": "stderr",
     "output_type": "stream",
     "text": [
      " 96%|████████████████████████████████████████████████████████████████████████████▊   | 170/177 [00:04<00:00, 39.03it/s]\n"
     ]
    },
    {
     "name": "stdout",
     "output_type": "stream",
     "text": [
      "Saving results in C:\\Users\\UCPH\\gabi\\thesis analysis\\test3...\n",
      "Saving csv poses!\n",
      "Starting to analyze %  C:\\Users\\UCPH\\gabi\\thesis analysis\\test3\\1_PRE_BB_19_H1,6_HET_T2.avi\n",
      "Loading  C:\\Users\\UCPH\\gabi\\thesis analysis\\test3\\1_PRE_BB_19_H1,6_HET_T2.avi\n",
      "Duration of video [s]:  5.87 , recorded with  15.0 fps!\n",
      "Overall # of frames:  88  found with (before cropping) frame dimensions:  1280 720\n",
      "Starting to extract posture\n"
     ]
    },
    {
     "name": "stderr",
     "output_type": "stream",
     "text": [
      " 91%|██████████████████████████████████████████████████████████████████████████▌       | 80/88 [00:02<00:00, 38.13it/s]\n"
     ]
    },
    {
     "name": "stdout",
     "output_type": "stream",
     "text": [
      "Saving results in C:\\Users\\UCPH\\gabi\\thesis analysis\\test3...\n",
      "Saving csv poses!\n",
      "Starting to analyze %  C:\\Users\\UCPH\\gabi\\thesis analysis\\test3\\1_PRE_BB_19_H1,6_HET_T3.avi\n",
      "Loading  C:\\Users\\UCPH\\gabi\\thesis analysis\\test3\\1_PRE_BB_19_H1,6_HET_T3.avi\n",
      "Duration of video [s]:  9.27 , recorded with  15.0 fps!\n",
      "Overall # of frames:  139  found with (before cropping) frame dimensions:  1280 720\n",
      "Starting to extract posture\n"
     ]
    },
    {
     "name": "stderr",
     "output_type": "stream",
     "text": [
      " 94%|██████████████████████████████████████████████████████████████████████████▊     | 130/139 [00:03<00:00, 37.95it/s]\n"
     ]
    },
    {
     "name": "stdout",
     "output_type": "stream",
     "text": [
      "Saving results in C:\\Users\\UCPH\\gabi\\thesis analysis\\test3...\n",
      "Saving csv poses!\n",
      "Starting to analyze %  C:\\Users\\UCPH\\gabi\\thesis analysis\\test3\\1_PRE_BB_19_H1,6_HET_T4.avi\n",
      "Loading  C:\\Users\\UCPH\\gabi\\thesis analysis\\test3\\1_PRE_BB_19_H1,6_HET_T4.avi\n",
      "Duration of video [s]:  15.67 , recorded with  15.0 fps!\n",
      "Overall # of frames:  235  found with (before cropping) frame dimensions:  1280 720\n",
      "Starting to extract posture\n"
     ]
    },
    {
     "name": "stderr",
     "output_type": "stream",
     "text": [
      " 98%|██████████████████████████████████████████████████████████████████████████████▎ | 230/235 [00:05<00:00, 40.21it/s]\n"
     ]
    },
    {
     "name": "stdout",
     "output_type": "stream",
     "text": [
      "Saving results in C:\\Users\\UCPH\\gabi\\thesis analysis\\test3...\n",
      "Saving csv poses!\n",
      "Starting to analyze %  C:\\Users\\UCPH\\gabi\\thesis analysis\\test3\\1_PRE_BB_19_VEHE_HET_T1.avi\n",
      "Loading  C:\\Users\\UCPH\\gabi\\thesis analysis\\test3\\1_PRE_BB_19_VEHE_HET_T1.avi\n",
      "Duration of video [s]:  4.07 , recorded with  15.0 fps!\n",
      "Overall # of frames:  61  found with (before cropping) frame dimensions:  1280 720\n",
      "Starting to extract posture\n"
     ]
    },
    {
     "name": "stderr",
     "output_type": "stream",
     "text": [
      " 98%|████████████████████████████████████████████████████████████████████████████████▋ | 60/61 [00:01<00:00, 39.35it/s]\n"
     ]
    },
    {
     "name": "stdout",
     "output_type": "stream",
     "text": [
      "Saving results in C:\\Users\\UCPH\\gabi\\thesis analysis\\test3...\n",
      "Saving csv poses!\n",
      "Starting to analyze %  C:\\Users\\UCPH\\gabi\\thesis analysis\\test3\\1_PRE_BB_19_VEHE_HET_T2.avi\n",
      "Loading  C:\\Users\\UCPH\\gabi\\thesis analysis\\test3\\1_PRE_BB_19_VEHE_HET_T2.avi\n",
      "Duration of video [s]:  4.47 , recorded with  15.0 fps!\n",
      "Overall # of frames:  67  found with (before cropping) frame dimensions:  1280 720\n",
      "Starting to extract posture\n"
     ]
    },
    {
     "name": "stderr",
     "output_type": "stream",
     "text": [
      " 90%|█████████████████████████████████████████████████████████████████████████▍        | 60/67 [00:01<00:00, 34.96it/s]\n"
     ]
    },
    {
     "name": "stdout",
     "output_type": "stream",
     "text": [
      "Saving results in C:\\Users\\UCPH\\gabi\\thesis analysis\\test3...\n",
      "Saving csv poses!\n",
      "Starting to analyze %  C:\\Users\\UCPH\\gabi\\thesis analysis\\test3\\1_PRE_BB_19_VEHE_HET_T3.avi\n",
      "Loading  C:\\Users\\UCPH\\gabi\\thesis analysis\\test3\\1_PRE_BB_19_VEHE_HET_T3.avi\n",
      "Duration of video [s]:  4.27 , recorded with  15.0 fps!\n",
      "Overall # of frames:  64  found with (before cropping) frame dimensions:  1280 720\n",
      "Starting to extract posture\n"
     ]
    },
    {
     "name": "stderr",
     "output_type": "stream",
     "text": [
      " 94%|████████████████████████████████████████████████████████████████████████████▉     | 60/64 [00:01<00:00, 39.08it/s]\n"
     ]
    },
    {
     "name": "stdout",
     "output_type": "stream",
     "text": [
      "Saving results in C:\\Users\\UCPH\\gabi\\thesis analysis\\test3...\n",
      "Saving csv poses!\n",
      "Starting to analyze %  C:\\Users\\UCPH\\gabi\\thesis analysis\\test3\\1_PRE_BB_19_VEHE_HET_T4.avi\n",
      "Loading  C:\\Users\\UCPH\\gabi\\thesis analysis\\test3\\1_PRE_BB_19_VEHE_HET_T4.avi\n",
      "Duration of video [s]:  4.87 , recorded with  15.0 fps!\n",
      "Overall # of frames:  73  found with (before cropping) frame dimensions:  1280 720\n",
      "Starting to extract posture\n"
     ]
    },
    {
     "name": "stderr",
     "output_type": "stream",
     "text": [
      " 96%|██████████████████████████████████████████████████████████████████████████████▋   | 70/73 [00:01<00:00, 36.79it/s]\n"
     ]
    },
    {
     "name": "stdout",
     "output_type": "stream",
     "text": [
      "Saving results in C:\\Users\\UCPH\\gabi\\thesis analysis\\test3...\n",
      "Saving csv poses!\n",
      "Starting to analyze %  C:\\Users\\UCPH\\gabi\\thesis analysis\\test3\\1_PRE_BB_20_H1,6_KI_T1.avi\n",
      "Loading  C:\\Users\\UCPH\\gabi\\thesis analysis\\test3\\1_PRE_BB_20_H1,6_KI_T1.avi\n",
      "Duration of video [s]:  3.07 , recorded with  15.0 fps!\n",
      "Overall # of frames:  46  found with (before cropping) frame dimensions:  1280 720\n",
      "Starting to extract posture\n"
     ]
    },
    {
     "name": "stderr",
     "output_type": "stream",
     "text": [
      " 87%|███████████████████████████████████████████████████████████████████████▎          | 40/46 [00:01<00:00, 34.75it/s]\n"
     ]
    },
    {
     "name": "stdout",
     "output_type": "stream",
     "text": [
      "Saving results in C:\\Users\\UCPH\\gabi\\thesis analysis\\test3...\n",
      "Saving csv poses!\n",
      "Starting to analyze %  C:\\Users\\UCPH\\gabi\\thesis analysis\\test3\\1_PRE_BB_20_H1,6_KI_T2.avi\n",
      "Loading  C:\\Users\\UCPH\\gabi\\thesis analysis\\test3\\1_PRE_BB_20_H1,6_KI_T2.avi\n",
      "Duration of video [s]:  2.87 , recorded with  15.0 fps!\n",
      "Overall # of frames:  43  found with (before cropping) frame dimensions:  1280 720\n",
      "Starting to extract posture\n"
     ]
    },
    {
     "name": "stderr",
     "output_type": "stream",
     "text": [
      " 93%|████████████████████████████████████████████████████████████████████████████▎     | 40/43 [00:01<00:00, 35.14it/s]\n"
     ]
    },
    {
     "name": "stdout",
     "output_type": "stream",
     "text": [
      "Saving results in C:\\Users\\UCPH\\gabi\\thesis analysis\\test3...\n",
      "Saving csv poses!\n",
      "Starting to analyze %  C:\\Users\\UCPH\\gabi\\thesis analysis\\test3\\1_PRE_BB_20_H1,6_KI_T3.avi\n",
      "Loading  C:\\Users\\UCPH\\gabi\\thesis analysis\\test3\\1_PRE_BB_20_H1,6_KI_T3.avi\n",
      "Duration of video [s]:  2.67 , recorded with  15.0 fps!\n",
      "Overall # of frames:  40  found with (before cropping) frame dimensions:  1280 720\n",
      "Starting to extract posture\n"
     ]
    },
    {
     "name": "stderr",
     "output_type": "stream",
     "text": [
      "100%|██████████████████████████████████████████████████████████████████████████████████| 40/40 [00:00<00:00, 41.59it/s]\n"
     ]
    },
    {
     "name": "stdout",
     "output_type": "stream",
     "text": [
      "Saving results in C:\\Users\\UCPH\\gabi\\thesis analysis\\test3...\n",
      "Saving csv poses!\n",
      "Starting to analyze %  C:\\Users\\UCPH\\gabi\\thesis analysis\\test3\\1_PRE_BB_20_H1,6_KI_T4.avi\n",
      "Loading  C:\\Users\\UCPH\\gabi\\thesis analysis\\test3\\1_PRE_BB_20_H1,6_KI_T4.avi\n",
      "Duration of video [s]:  2.67 , recorded with  15.0 fps!\n",
      "Overall # of frames:  40  found with (before cropping) frame dimensions:  1280 720\n",
      "Starting to extract posture\n"
     ]
    },
    {
     "name": "stderr",
     "output_type": "stream",
     "text": [
      "100%|██████████████████████████████████████████████████████████████████████████████████| 40/40 [00:00<00:00, 41.88it/s]\n"
     ]
    },
    {
     "name": "stdout",
     "output_type": "stream",
     "text": [
      "Saving results in C:\\Users\\UCPH\\gabi\\thesis analysis\\test3...\n",
      "Saving csv poses!\n",
      "Starting to analyze %  C:\\Users\\UCPH\\gabi\\thesis analysis\\test3\\1_PRE_BB_20_VEHE_KI_T1.avi\n",
      "Loading  C:\\Users\\UCPH\\gabi\\thesis analysis\\test3\\1_PRE_BB_20_VEHE_KI_T1.avi\n",
      "Duration of video [s]:  2.47 , recorded with  15.0 fps!\n",
      "Overall # of frames:  37  found with (before cropping) frame dimensions:  1280 720\n",
      "Starting to extract posture\n"
     ]
    },
    {
     "name": "stderr",
     "output_type": "stream",
     "text": [
      " 81%|██████████████████████████████████████████████████████████████████▍               | 30/37 [00:00<00:00, 31.33it/s]\n"
     ]
    },
    {
     "name": "stdout",
     "output_type": "stream",
     "text": [
      "Saving results in C:\\Users\\UCPH\\gabi\\thesis analysis\\test3...\n",
      "Saving csv poses!\n",
      "Starting to analyze %  C:\\Users\\UCPH\\gabi\\thesis analysis\\test3\\1_PRE_BB_20_VEHE_KI_T2.avi\n",
      "Loading  C:\\Users\\UCPH\\gabi\\thesis analysis\\test3\\1_PRE_BB_20_VEHE_KI_T2.avi\n",
      "Duration of video [s]:  2.07 , recorded with  15.0 fps!\n",
      "Overall # of frames:  31  found with (before cropping) frame dimensions:  1280 720\n",
      "Starting to extract posture\n"
     ]
    },
    {
     "name": "stderr",
     "output_type": "stream",
     "text": [
      " 97%|███████████████████████████████████████████████████████████████████████████████▎  | 30/31 [00:00<00:00, 38.53it/s]\n"
     ]
    },
    {
     "name": "stdout",
     "output_type": "stream",
     "text": [
      "Saving results in C:\\Users\\UCPH\\gabi\\thesis analysis\\test3...\n",
      "Saving csv poses!\n",
      "Starting to analyze %  C:\\Users\\UCPH\\gabi\\thesis analysis\\test3\\1_PRE_BB_20_VEHE_KI_T3.avi\n",
      "Loading  C:\\Users\\UCPH\\gabi\\thesis analysis\\test3\\1_PRE_BB_20_VEHE_KI_T3.avi\n",
      "Duration of video [s]:  2.27 , recorded with  15.0 fps!\n",
      "Overall # of frames:  34  found with (before cropping) frame dimensions:  1280 720\n",
      "Starting to extract posture\n"
     ]
    },
    {
     "name": "stderr",
     "output_type": "stream",
     "text": [
      " 88%|████████████████████████████████████████████████████████████████████████▎         | 30/34 [00:00<00:00, 31.37it/s]\n"
     ]
    },
    {
     "name": "stdout",
     "output_type": "stream",
     "text": [
      "Saving results in C:\\Users\\UCPH\\gabi\\thesis analysis\\test3...\n",
      "Saving csv poses!\n",
      "Starting to analyze %  C:\\Users\\UCPH\\gabi\\thesis analysis\\test3\\1_PRE_BB_20_VEHE_KI_T4.avi\n",
      "Loading  C:\\Users\\UCPH\\gabi\\thesis analysis\\test3\\1_PRE_BB_20_VEHE_KI_T4.avi\n",
      "Duration of video [s]:  2.27 , recorded with  15.0 fps!\n",
      "Overall # of frames:  34  found with (before cropping) frame dimensions:  1280 720\n",
      "Starting to extract posture\n"
     ]
    },
    {
     "name": "stderr",
     "output_type": "stream",
     "text": [
      " 88%|████████████████████████████████████████████████████████████████████████▎         | 30/34 [00:00<00:00, 31.55it/s]\n"
     ]
    },
    {
     "name": "stdout",
     "output_type": "stream",
     "text": [
      "Saving results in C:\\Users\\UCPH\\gabi\\thesis analysis\\test3...\n",
      "Saving csv poses!\n",
      "Starting to analyze %  C:\\Users\\UCPH\\gabi\\thesis analysis\\test3\\1_PRE_BB_24_H1,6_KI_T1.avi\n",
      "Loading  C:\\Users\\UCPH\\gabi\\thesis analysis\\test3\\1_PRE_BB_24_H1,6_KI_T1.avi\n",
      "Duration of video [s]:  4.27 , recorded with  15.0 fps!\n",
      "Overall # of frames:  64  found with (before cropping) frame dimensions:  1280 720\n",
      "Starting to extract posture\n"
     ]
    },
    {
     "name": "stderr",
     "output_type": "stream",
     "text": [
      " 94%|████████████████████████████████████████████████████████████████████████████▉     | 60/64 [00:01<00:00, 39.07it/s]\n"
     ]
    },
    {
     "name": "stdout",
     "output_type": "stream",
     "text": [
      "Saving results in C:\\Users\\UCPH\\gabi\\thesis analysis\\test3...\n",
      "Saving csv poses!\n",
      "Starting to analyze %  C:\\Users\\UCPH\\gabi\\thesis analysis\\test3\\1_PRE_BB_24_H1,6_KI_T2.avi\n",
      "Loading  C:\\Users\\UCPH\\gabi\\thesis analysis\\test3\\1_PRE_BB_24_H1,6_KI_T2.avi\n",
      "Duration of video [s]:  3.87 , recorded with  15.0 fps!\n",
      "Overall # of frames:  58  found with (before cropping) frame dimensions:  1280 720\n",
      "Starting to extract posture\n"
     ]
    },
    {
     "name": "stderr",
     "output_type": "stream",
     "text": [
      " 86%|██████████████████████████████████████████████████████████████████████▋           | 50/58 [00:01<00:00, 32.45it/s]\n"
     ]
    },
    {
     "name": "stdout",
     "output_type": "stream",
     "text": [
      "Saving results in C:\\Users\\UCPH\\gabi\\thesis analysis\\test3...\n",
      "Saving csv poses!\n",
      "Starting to analyze %  C:\\Users\\UCPH\\gabi\\thesis analysis\\test3\\1_PRE_BB_24_H1,6_KI_T3.avi\n",
      "Loading  C:\\Users\\UCPH\\gabi\\thesis analysis\\test3\\1_PRE_BB_24_H1,6_KI_T3.avi\n",
      "Duration of video [s]:  2.87 , recorded with  15.0 fps!\n",
      "Overall # of frames:  43  found with (before cropping) frame dimensions:  1280 720\n",
      "Starting to extract posture\n"
     ]
    },
    {
     "name": "stderr",
     "output_type": "stream",
     "text": [
      " 93%|████████████████████████████████████████████████████████████████████████████▎     | 40/43 [00:01<00:00, 34.82it/s]\n"
     ]
    },
    {
     "name": "stdout",
     "output_type": "stream",
     "text": [
      "Saving results in C:\\Users\\UCPH\\gabi\\thesis analysis\\test3...\n",
      "Saving csv poses!\n",
      "Starting to analyze %  C:\\Users\\UCPH\\gabi\\thesis analysis\\test3\\1_PRE_BB_24_H1,6_KI_T4.avi\n",
      "Loading  C:\\Users\\UCPH\\gabi\\thesis analysis\\test3\\1_PRE_BB_24_H1,6_KI_T4.avi\n",
      "Duration of video [s]:  3.67 , recorded with  15.0 fps!\n",
      "Overall # of frames:  55  found with (before cropping) frame dimensions:  1280 720\n",
      "Starting to extract posture\n"
     ]
    },
    {
     "name": "stderr",
     "output_type": "stream",
     "text": [
      " 91%|██████████████████████████████████████████████████████████████████████████▌       | 50/55 [00:01<00:00, 37.43it/s]\n"
     ]
    },
    {
     "name": "stdout",
     "output_type": "stream",
     "text": [
      "Saving results in C:\\Users\\UCPH\\gabi\\thesis analysis\\test3...\n",
      "Saving csv poses!\n",
      "Starting to analyze %  C:\\Users\\UCPH\\gabi\\thesis analysis\\test3\\1_PRE_BB_24_VEHE_KI_T1.avi\n",
      "Loading  C:\\Users\\UCPH\\gabi\\thesis analysis\\test3\\1_PRE_BB_24_VEHE_KI_T1.avi\n",
      "Duration of video [s]:  3.87 , recorded with  15.0 fps!\n",
      "Overall # of frames:  58  found with (before cropping) frame dimensions:  1280 720\n",
      "Starting to extract posture\n"
     ]
    },
    {
     "name": "stderr",
     "output_type": "stream",
     "text": [
      " 86%|██████████████████████████████████████████████████████████████████████▋           | 50/58 [00:01<00:00, 32.97it/s]\n"
     ]
    },
    {
     "name": "stdout",
     "output_type": "stream",
     "text": [
      "Saving results in C:\\Users\\UCPH\\gabi\\thesis analysis\\test3...\n",
      "Saving csv poses!\n",
      "Starting to analyze %  C:\\Users\\UCPH\\gabi\\thesis analysis\\test3\\1_PRE_BB_24_VEHE_KI_T2.avi\n",
      "Loading  C:\\Users\\UCPH\\gabi\\thesis analysis\\test3\\1_PRE_BB_24_VEHE_KI_T2.avi\n",
      "Duration of video [s]:  4.27 , recorded with  15.0 fps!\n",
      "Overall # of frames:  64  found with (before cropping) frame dimensions:  1280 720\n",
      "Starting to extract posture\n"
     ]
    },
    {
     "name": "stderr",
     "output_type": "stream",
     "text": [
      " 94%|████████████████████████████████████████████████████████████████████████████▉     | 60/64 [00:01<00:00, 39.37it/s]\n"
     ]
    },
    {
     "name": "stdout",
     "output_type": "stream",
     "text": [
      "Saving results in C:\\Users\\UCPH\\gabi\\thesis analysis\\test3...\n",
      "Saving csv poses!\n",
      "Starting to analyze %  C:\\Users\\UCPH\\gabi\\thesis analysis\\test3\\1_PRE_BB_24_VEHE_KI_T3.avi\n",
      "Loading  C:\\Users\\UCPH\\gabi\\thesis analysis\\test3\\1_PRE_BB_24_VEHE_KI_T3.avi\n",
      "Duration of video [s]:  2.47 , recorded with  15.0 fps!\n",
      "Overall # of frames:  37  found with (before cropping) frame dimensions:  1280 720\n",
      "Starting to extract posture\n"
     ]
    },
    {
     "name": "stderr",
     "output_type": "stream",
     "text": [
      " 81%|██████████████████████████████████████████████████████████████████▍               | 30/37 [00:00<00:00, 31.36it/s]\n"
     ]
    },
    {
     "name": "stdout",
     "output_type": "stream",
     "text": [
      "Saving results in C:\\Users\\UCPH\\gabi\\thesis analysis\\test3...\n",
      "Saving csv poses!\n",
      "Starting to analyze %  C:\\Users\\UCPH\\gabi\\thesis analysis\\test3\\1_PRE_BB_24_VEHE_KI_T4.avi\n",
      "Loading  C:\\Users\\UCPH\\gabi\\thesis analysis\\test3\\1_PRE_BB_24_VEHE_KI_T4.avi\n",
      "Duration of video [s]:  3.27 , recorded with  15.0 fps!\n",
      "Overall # of frames:  49  found with (before cropping) frame dimensions:  1280 720\n",
      "Starting to extract posture\n"
     ]
    },
    {
     "name": "stderr",
     "output_type": "stream",
     "text": [
      " 82%|██████████████████████████████████████████████████████████████████▉               | 40/49 [00:01<00:00, 30.30it/s]\n"
     ]
    },
    {
     "name": "stdout",
     "output_type": "stream",
     "text": [
      "Saving results in C:\\Users\\UCPH\\gabi\\thesis analysis\\test3...\n",
      "Saving csv poses!\n",
      "Starting to analyze %  C:\\Users\\UCPH\\gabi\\thesis analysis\\test3\\1_PRE_BB_26_H1,6_HET_T1.avi\n",
      "Loading  C:\\Users\\UCPH\\gabi\\thesis analysis\\test3\\1_PRE_BB_26_H1,6_HET_T1.avi\n",
      "Duration of video [s]:  4.53 , recorded with  15.0 fps!\n",
      "Overall # of frames:  68  found with (before cropping) frame dimensions:  1280 720\n",
      "Starting to extract posture\n"
     ]
    },
    {
     "name": "stderr",
     "output_type": "stream",
     "text": [
      " 88%|████████████████████████████████████████████████████████████████████████▎         | 60/68 [00:01<00:00, 35.12it/s]\n"
     ]
    },
    {
     "name": "stdout",
     "output_type": "stream",
     "text": [
      "Saving results in C:\\Users\\UCPH\\gabi\\thesis analysis\\test3...\n",
      "Saving csv poses!\n",
      "Starting to analyze %  C:\\Users\\UCPH\\gabi\\thesis analysis\\test3\\1_PRE_BB_26_H1,6_HET_T2.avi\n",
      "Loading  C:\\Users\\UCPH\\gabi\\thesis analysis\\test3\\1_PRE_BB_26_H1,6_HET_T2.avi\n",
      "Duration of video [s]:  4.87 , recorded with  15.0 fps!\n",
      "Overall # of frames:  73  found with (before cropping) frame dimensions:  1280 720\n",
      "Starting to extract posture\n"
     ]
    },
    {
     "name": "stderr",
     "output_type": "stream",
     "text": [
      " 96%|██████████████████████████████████████████████████████████████████████████████▋   | 70/73 [00:01<00:00, 40.74it/s]\n"
     ]
    },
    {
     "name": "stdout",
     "output_type": "stream",
     "text": [
      "Saving results in C:\\Users\\UCPH\\gabi\\thesis analysis\\test3...\n",
      "Saving csv poses!\n",
      "Starting to analyze %  C:\\Users\\UCPH\\gabi\\thesis analysis\\test3\\1_PRE_BB_26_H1,6_HET_T3.avi\n",
      "Loading  C:\\Users\\UCPH\\gabi\\thesis analysis\\test3\\1_PRE_BB_26_H1,6_HET_T3.avi\n",
      "Duration of video [s]:  5.27 , recorded with  15.0 fps!\n",
      "Overall # of frames:  79  found with (before cropping) frame dimensions:  1280 720\n",
      "Starting to extract posture\n"
     ]
    },
    {
     "name": "stderr",
     "output_type": "stream",
     "text": [
      " 89%|████████████████████████████████████████████████████████████████████████▋         | 70/79 [00:01<00:00, 36.48it/s]\n"
     ]
    },
    {
     "name": "stdout",
     "output_type": "stream",
     "text": [
      "Saving results in C:\\Users\\UCPH\\gabi\\thesis analysis\\test3...\n",
      "Saving csv poses!\n",
      "Starting to analyze %  C:\\Users\\UCPH\\gabi\\thesis analysis\\test3\\1_PRE_BB_26_H1,6_HET_T4.avi\n",
      "Loading  C:\\Users\\UCPH\\gabi\\thesis analysis\\test3\\1_PRE_BB_26_H1,6_HET_T4.avi\n",
      "Duration of video [s]:  5.27 , recorded with  15.0 fps!\n",
      "Overall # of frames:  79  found with (before cropping) frame dimensions:  1280 720\n",
      "Starting to extract posture\n"
     ]
    },
    {
     "name": "stderr",
     "output_type": "stream",
     "text": [
      " 89%|████████████████████████████████████████████████████████████████████████▋         | 70/79 [00:01<00:00, 36.78it/s]\n"
     ]
    },
    {
     "name": "stdout",
     "output_type": "stream",
     "text": [
      "Saving results in C:\\Users\\UCPH\\gabi\\thesis analysis\\test3...\n",
      "Saving csv poses!\n",
      "Starting to analyze %  C:\\Users\\UCPH\\gabi\\thesis analysis\\test3\\1_PRE_BB_26_VEHE_HET_T1.avi\n",
      "Loading  C:\\Users\\UCPH\\gabi\\thesis analysis\\test3\\1_PRE_BB_26_VEHE_HET_T1.avi\n",
      "Duration of video [s]:  4.13 , recorded with  15.0 fps!\n",
      "Overall # of frames:  62  found with (before cropping) frame dimensions:  1280 720\n",
      "Starting to extract posture\n"
     ]
    },
    {
     "name": "stderr",
     "output_type": "stream",
     "text": [
      " 97%|███████████████████████████████████████████████████████████████████████████████▎  | 60/62 [00:01<00:00, 39.43it/s]\n"
     ]
    },
    {
     "name": "stdout",
     "output_type": "stream",
     "text": [
      "Saving results in C:\\Users\\UCPH\\gabi\\thesis analysis\\test3...\n",
      "Saving csv poses!\n",
      "Starting to analyze %  C:\\Users\\UCPH\\gabi\\thesis analysis\\test3\\1_PRE_BB_26_VEHE_HET_T2.avi\n",
      "Loading  C:\\Users\\UCPH\\gabi\\thesis analysis\\test3\\1_PRE_BB_26_VEHE_HET_T2.avi\n",
      "Duration of video [s]:  4.67 , recorded with  15.0 fps!\n",
      "Overall # of frames:  70  found with (before cropping) frame dimensions:  1280 720\n",
      "Starting to extract posture\n"
     ]
    },
    {
     "name": "stderr",
     "output_type": "stream",
     "text": [
      "100%|██████████████████████████████████████████████████████████████████████████████████| 70/70 [00:01<00:00, 40.92it/s]\n"
     ]
    },
    {
     "name": "stdout",
     "output_type": "stream",
     "text": [
      "Saving results in C:\\Users\\UCPH\\gabi\\thesis analysis\\test3...\n",
      "Saving csv poses!\n",
      "Starting to analyze %  C:\\Users\\UCPH\\gabi\\thesis analysis\\test3\\1_PRE_BB_26_VEHE_HET_T3.avi\n",
      "Loading  C:\\Users\\UCPH\\gabi\\thesis analysis\\test3\\1_PRE_BB_26_VEHE_HET_T3.avi\n",
      "Duration of video [s]:  8.27 , recorded with  15.0 fps!\n",
      "Overall # of frames:  124  found with (before cropping) frame dimensions:  1280 720\n",
      "Starting to extract posture\n"
     ]
    },
    {
     "name": "stderr",
     "output_type": "stream",
     "text": [
      " 97%|█████████████████████████████████████████████████████████████████████████████▍  | 120/124 [00:03<00:00, 39.51it/s]\n"
     ]
    },
    {
     "name": "stdout",
     "output_type": "stream",
     "text": [
      "Saving results in C:\\Users\\UCPH\\gabi\\thesis analysis\\test3...\n",
      "Saving csv poses!\n",
      "Starting to analyze %  C:\\Users\\UCPH\\gabi\\thesis analysis\\test3\\1_PRE_BB_26_VEHE_HET_T4.avi\n",
      "Loading  C:\\Users\\UCPH\\gabi\\thesis analysis\\test3\\1_PRE_BB_26_VEHE_HET_T4.avi\n",
      "Duration of video [s]:  6.27 , recorded with  15.0 fps!\n",
      "Overall # of frames:  94  found with (before cropping) frame dimensions:  1280 720\n",
      "Starting to extract posture\n"
     ]
    },
    {
     "name": "stderr",
     "output_type": "stream",
     "text": [
      " 96%|██████████████████████████████████████████████████████████████████████████████▌   | 90/94 [00:02<00:00, 39.60it/s]\n"
     ]
    },
    {
     "name": "stdout",
     "output_type": "stream",
     "text": [
      "Saving results in C:\\Users\\UCPH\\gabi\\thesis analysis\\test3...\n",
      "Saving csv poses!\n",
      "Starting to analyze %  C:\\Users\\UCPH\\gabi\\thesis analysis\\test3\\1_PRE_BB_29_H1,6_HET_T1.avi\n",
      "Loading  C:\\Users\\UCPH\\gabi\\thesis analysis\\test3\\1_PRE_BB_29_H1,6_HET_T1.avi\n",
      "Duration of video [s]:  4.07 , recorded with  15.0 fps!\n",
      "Overall # of frames:  61  found with (before cropping) frame dimensions:  1280 720\n",
      "Starting to extract posture\n"
     ]
    },
    {
     "name": "stderr",
     "output_type": "stream",
     "text": [
      " 98%|████████████████████████████████████████████████████████████████████████████████▋ | 60/61 [00:01<00:00, 39.33it/s]\n"
     ]
    },
    {
     "name": "stdout",
     "output_type": "stream",
     "text": [
      "Saving results in C:\\Users\\UCPH\\gabi\\thesis analysis\\test3...\n",
      "Saving csv poses!\n",
      "Starting to analyze %  C:\\Users\\UCPH\\gabi\\thesis analysis\\test3\\1_PRE_BB_29_H1,6_HET_T2.avi\n",
      "Loading  C:\\Users\\UCPH\\gabi\\thesis analysis\\test3\\1_PRE_BB_29_H1,6_HET_T2.avi\n",
      "Duration of video [s]:  3.87 , recorded with  15.0 fps!\n",
      "Overall # of frames:  58  found with (before cropping) frame dimensions:  1280 720\n",
      "Starting to extract posture\n"
     ]
    },
    {
     "name": "stderr",
     "output_type": "stream",
     "text": [
      " 86%|██████████████████████████████████████████████████████████████████████▋           | 50/58 [00:01<00:00, 32.95it/s]\n"
     ]
    },
    {
     "name": "stdout",
     "output_type": "stream",
     "text": [
      "Saving results in C:\\Users\\UCPH\\gabi\\thesis analysis\\test3...\n",
      "Saving csv poses!\n",
      "Starting to analyze %  C:\\Users\\UCPH\\gabi\\thesis analysis\\test3\\1_PRE_BB_29_H1,6_HET_T3.avi\n",
      "Loading  C:\\Users\\UCPH\\gabi\\thesis analysis\\test3\\1_PRE_BB_29_H1,6_HET_T3.avi\n",
      "Duration of video [s]:  4.67 , recorded with  15.0 fps!\n",
      "Overall # of frames:  70  found with (before cropping) frame dimensions:  1280 720\n",
      "Starting to extract posture\n"
     ]
    },
    {
     "name": "stderr",
     "output_type": "stream",
     "text": [
      "100%|██████████████████████████████████████████████████████████████████████████████████| 70/70 [00:01<00:00, 40.85it/s]\n"
     ]
    },
    {
     "name": "stdout",
     "output_type": "stream",
     "text": [
      "Saving results in C:\\Users\\UCPH\\gabi\\thesis analysis\\test3...\n",
      "Saving csv poses!\n",
      "Starting to analyze %  C:\\Users\\UCPH\\gabi\\thesis analysis\\test3\\1_PRE_BB_29_H1,6_HET_T4.avi\n",
      "Loading  C:\\Users\\UCPH\\gabi\\thesis analysis\\test3\\1_PRE_BB_29_H1,6_HET_T4.avi\n",
      "Duration of video [s]:  4.67 , recorded with  15.0 fps!\n",
      "Overall # of frames:  70  found with (before cropping) frame dimensions:  1280 720\n",
      "Starting to extract posture\n"
     ]
    },
    {
     "name": "stderr",
     "output_type": "stream",
     "text": [
      "100%|██████████████████████████████████████████████████████████████████████████████████| 70/70 [00:01<00:00, 40.96it/s]\n"
     ]
    },
    {
     "name": "stdout",
     "output_type": "stream",
     "text": [
      "Saving results in C:\\Users\\UCPH\\gabi\\thesis analysis\\test3...\n",
      "Saving csv poses!\n",
      "Starting to analyze %  C:\\Users\\UCPH\\gabi\\thesis analysis\\test3\\1_PRE_BB_29_VEHE_HET_T1.avi\n",
      "Loading  C:\\Users\\UCPH\\gabi\\thesis analysis\\test3\\1_PRE_BB_29_VEHE_HET_T1.avi\n",
      "Duration of video [s]:  3.6 , recorded with  15.0 fps!\n",
      "Overall # of frames:  54  found with (before cropping) frame dimensions:  1280 720\n",
      "Starting to extract posture\n"
     ]
    },
    {
     "name": "stderr",
     "output_type": "stream",
     "text": [
      " 93%|███████████████████████████████████████████████████████████████████████████▉      | 50/54 [00:01<00:00, 37.57it/s]\n"
     ]
    },
    {
     "name": "stdout",
     "output_type": "stream",
     "text": [
      "Saving results in C:\\Users\\UCPH\\gabi\\thesis analysis\\test3...\n",
      "Saving csv poses!\n",
      "Starting to analyze %  C:\\Users\\UCPH\\gabi\\thesis analysis\\test3\\1_PRE_BB_29_VEHE_HET_T2.avi\n",
      "Loading  C:\\Users\\UCPH\\gabi\\thesis analysis\\test3\\1_PRE_BB_29_VEHE_HET_T2.avi\n",
      "Duration of video [s]:  4.87 , recorded with  15.0 fps!\n",
      "Overall # of frames:  73  found with (before cropping) frame dimensions:  1280 720\n",
      "Starting to extract posture\n"
     ]
    },
    {
     "name": "stderr",
     "output_type": "stream",
     "text": [
      " 96%|██████████████████████████████████████████████████████████████████████████████▋   | 70/73 [00:01<00:00, 40.83it/s]\n"
     ]
    },
    {
     "name": "stdout",
     "output_type": "stream",
     "text": [
      "Saving results in C:\\Users\\UCPH\\gabi\\thesis analysis\\test3...\n",
      "Saving csv poses!\n",
      "Starting to analyze %  C:\\Users\\UCPH\\gabi\\thesis analysis\\test3\\1_PRE_BB_29_VEHE_HET_T3.avi\n",
      "Loading  C:\\Users\\UCPH\\gabi\\thesis analysis\\test3\\1_PRE_BB_29_VEHE_HET_T3.avi\n",
      "Duration of video [s]:  4.87 , recorded with  15.0 fps!\n",
      "Overall # of frames:  73  found with (before cropping) frame dimensions:  1280 720\n",
      "Starting to extract posture\n"
     ]
    },
    {
     "name": "stderr",
     "output_type": "stream",
     "text": [
      " 96%|██████████████████████████████████████████████████████████████████████████████▋   | 70/73 [00:01<00:00, 36.95it/s]\n"
     ]
    },
    {
     "name": "stdout",
     "output_type": "stream",
     "text": [
      "Saving results in C:\\Users\\UCPH\\gabi\\thesis analysis\\test3...\n",
      "Saving csv poses!\n",
      "Starting to analyze %  C:\\Users\\UCPH\\gabi\\thesis analysis\\test3\\1_PRE_BB_29_VEHE_HET_T4.avi\n",
      "Loading  C:\\Users\\UCPH\\gabi\\thesis analysis\\test3\\1_PRE_BB_29_VEHE_HET_T4.avi\n",
      "Duration of video [s]:  4.07 , recorded with  15.0 fps!\n",
      "Overall # of frames:  61  found with (before cropping) frame dimensions:  1280 720\n",
      "Starting to extract posture\n"
     ]
    },
    {
     "name": "stderr",
     "output_type": "stream",
     "text": [
      " 98%|████████████████████████████████████████████████████████████████████████████████▋ | 60/61 [00:01<00:00, 39.13it/s]\n"
     ]
    },
    {
     "name": "stdout",
     "output_type": "stream",
     "text": [
      "Saving results in C:\\Users\\UCPH\\gabi\\thesis analysis\\test3...\n",
      "Saving csv poses!\n",
      "Starting to analyze %  C:\\Users\\UCPH\\gabi\\thesis analysis\\test3\\1_PRE_BB_33_H1,6_WT_T1.avi\n",
      "Loading  C:\\Users\\UCPH\\gabi\\thesis analysis\\test3\\1_PRE_BB_33_H1,6_WT_T1.avi\n",
      "Duration of video [s]:  5.67 , recorded with  15.0 fps!\n",
      "Overall # of frames:  85  found with (before cropping) frame dimensions:  1280 720\n",
      "Starting to extract posture\n"
     ]
    },
    {
     "name": "stderr",
     "output_type": "stream",
     "text": [
      " 94%|█████████████████████████████████████████████████████████████████████████████▏    | 80/85 [00:02<00:00, 38.23it/s]\n"
     ]
    },
    {
     "name": "stdout",
     "output_type": "stream",
     "text": [
      "Saving results in C:\\Users\\UCPH\\gabi\\thesis analysis\\test3...\n",
      "Saving csv poses!\n",
      "Starting to analyze %  C:\\Users\\UCPH\\gabi\\thesis analysis\\test3\\1_PRE_BB_33_H1,6_WT_T2.avi\n",
      "Loading  C:\\Users\\UCPH\\gabi\\thesis analysis\\test3\\1_PRE_BB_33_H1,6_WT_T2.avi\n",
      "Duration of video [s]:  6.47 , recorded with  15.0 fps!\n",
      "Overall # of frames:  97  found with (before cropping) frame dimensions:  1280 720\n",
      "Starting to extract posture\n"
     ]
    },
    {
     "name": "stderr",
     "output_type": "stream",
     "text": [
      " 93%|████████████████████████████████████████████████████████████████████████████      | 90/97 [00:02<00:00, 39.26it/s]\n"
     ]
    },
    {
     "name": "stdout",
     "output_type": "stream",
     "text": [
      "Saving results in C:\\Users\\UCPH\\gabi\\thesis analysis\\test3...\n",
      "Saving csv poses!\n",
      "Starting to analyze %  C:\\Users\\UCPH\\gabi\\thesis analysis\\test3\\1_PRE_BB_33_H1,6_WT_T3.avi\n",
      "Loading  C:\\Users\\UCPH\\gabi\\thesis analysis\\test3\\1_PRE_BB_33_H1,6_WT_T3.avi\n",
      "Duration of video [s]:  6.47 , recorded with  15.0 fps!\n",
      "Overall # of frames:  97  found with (before cropping) frame dimensions:  1280 720\n",
      "Starting to extract posture\n"
     ]
    },
    {
     "name": "stderr",
     "output_type": "stream",
     "text": [
      " 93%|████████████████████████████████████████████████████████████████████████████      | 90/97 [00:02<00:00, 36.41it/s]\n"
     ]
    },
    {
     "name": "stdout",
     "output_type": "stream",
     "text": [
      "Saving results in C:\\Users\\UCPH\\gabi\\thesis analysis\\test3...\n",
      "Saving csv poses!\n",
      "Starting to analyze %  C:\\Users\\UCPH\\gabi\\thesis analysis\\test3\\1_PRE_BB_33_H1,6_WT_T4.avi\n",
      "Loading  C:\\Users\\UCPH\\gabi\\thesis analysis\\test3\\1_PRE_BB_33_H1,6_WT_T4.avi\n",
      "Duration of video [s]:  7.07 , recorded with  15.0 fps!\n",
      "Overall # of frames:  106  found with (before cropping) frame dimensions:  1280 720\n",
      "Starting to extract posture\n"
     ]
    },
    {
     "name": "stderr",
     "output_type": "stream",
     "text": [
      " 94%|███████████████████████████████████████████████████████████████████████████▍    | 100/106 [00:02<00:00, 37.79it/s]\n"
     ]
    },
    {
     "name": "stdout",
     "output_type": "stream",
     "text": [
      "Saving results in C:\\Users\\UCPH\\gabi\\thesis analysis\\test3...\n",
      "Saving csv poses!\n",
      "Starting to analyze %  C:\\Users\\UCPH\\gabi\\thesis analysis\\test3\\1_PRE_BB_33_VEHE_WT_T1.avi\n",
      "Loading  C:\\Users\\UCPH\\gabi\\thesis analysis\\test3\\1_PRE_BB_33_VEHE_WT_T1.avi\n",
      "Duration of video [s]:  14.2 , recorded with  15.0 fps!\n",
      "Overall # of frames:  213  found with (before cropping) frame dimensions:  1280 720\n",
      "Starting to extract posture\n"
     ]
    },
    {
     "name": "stderr",
     "output_type": "stream",
     "text": [
      " 99%|██████████████████████████████████████████████████████████████████████████████▊ | 210/213 [00:05<00:00, 41.27it/s]\n"
     ]
    },
    {
     "name": "stdout",
     "output_type": "stream",
     "text": [
      "Saving results in C:\\Users\\UCPH\\gabi\\thesis analysis\\test3...\n",
      "Saving csv poses!\n",
      "Starting to analyze %  C:\\Users\\UCPH\\gabi\\thesis analysis\\test3\\1_PRE_BB_33_VEHE_WT_T2.avi\n",
      "Loading  C:\\Users\\UCPH\\gabi\\thesis analysis\\test3\\1_PRE_BB_33_VEHE_WT_T2.avi\n",
      "Duration of video [s]:  6.87 , recorded with  15.0 fps!\n",
      "Overall # of frames:  103  found with (before cropping) frame dimensions:  1280 720\n",
      "Starting to extract posture\n"
     ]
    },
    {
     "name": "stderr",
     "output_type": "stream",
     "text": [
      " 97%|█████████████████████████████████████████████████████████████████████████████▋  | 100/103 [00:02<00:00, 40.37it/s]\n"
     ]
    },
    {
     "name": "stdout",
     "output_type": "stream",
     "text": [
      "Saving results in C:\\Users\\UCPH\\gabi\\thesis analysis\\test3...\n",
      "Saving csv poses!\n",
      "Starting to analyze %  C:\\Users\\UCPH\\gabi\\thesis analysis\\test3\\1_PRE_BB_33_VEHE_WT_T3.avi\n",
      "Loading  C:\\Users\\UCPH\\gabi\\thesis analysis\\test3\\1_PRE_BB_33_VEHE_WT_T3.avi\n",
      "Duration of video [s]:  6.27 , recorded with  15.0 fps!\n",
      "Overall # of frames:  94  found with (before cropping) frame dimensions:  1280 720\n",
      "Starting to extract posture\n"
     ]
    },
    {
     "name": "stderr",
     "output_type": "stream",
     "text": [
      " 96%|██████████████████████████████████████████████████████████████████████████████▌   | 90/94 [00:02<00:00, 39.50it/s]\n"
     ]
    },
    {
     "name": "stdout",
     "output_type": "stream",
     "text": [
      "Saving results in C:\\Users\\UCPH\\gabi\\thesis analysis\\test3...\n",
      "Saving csv poses!\n",
      "Starting to analyze %  C:\\Users\\UCPH\\gabi\\thesis analysis\\test3\\1_PRE_BB_33_VEHE_WT_T4.avi\n",
      "Loading  C:\\Users\\UCPH\\gabi\\thesis analysis\\test3\\1_PRE_BB_33_VEHE_WT_T4.avi\n",
      "Duration of video [s]:  6.07 , recorded with  15.0 fps!\n",
      "Overall # of frames:  91  found with (before cropping) frame dimensions:  1280 720\n",
      "Starting to extract posture\n"
     ]
    },
    {
     "name": "stderr",
     "output_type": "stream",
     "text": [
      " 99%|█████████████████████████████████████████████████████████████████████████████████ | 90/91 [00:02<00:00, 39.75it/s]\n"
     ]
    },
    {
     "name": "stdout",
     "output_type": "stream",
     "text": [
      "Saving results in C:\\Users\\UCPH\\gabi\\thesis analysis\\test3...\n",
      "Saving csv poses!\n",
      "Starting to analyze %  C:\\Users\\UCPH\\gabi\\thesis analysis\\test3\\1_PRE_BB_35_H1,6_WT_T1.avi\n",
      "Loading  C:\\Users\\UCPH\\gabi\\thesis analysis\\test3\\1_PRE_BB_35_H1,6_WT_T1.avi\n",
      "Duration of video [s]:  4.33 , recorded with  15.0 fps!\n",
      "Overall # of frames:  65  found with (before cropping) frame dimensions:  1280 720\n",
      "Starting to extract posture\n"
     ]
    },
    {
     "name": "stderr",
     "output_type": "stream",
     "text": [
      " 92%|███████████████████████████████████████████████████████████████████████████▋      | 60/65 [00:01<00:00, 35.19it/s]\n"
     ]
    },
    {
     "name": "stdout",
     "output_type": "stream",
     "text": [
      "Saving results in C:\\Users\\UCPH\\gabi\\thesis analysis\\test3...\n",
      "Saving csv poses!\n",
      "Starting to analyze %  C:\\Users\\UCPH\\gabi\\thesis analysis\\test3\\1_PRE_BB_35_H1,6_WT_T2.avi\n",
      "Loading  C:\\Users\\UCPH\\gabi\\thesis analysis\\test3\\1_PRE_BB_35_H1,6_WT_T2.avi\n",
      "Duration of video [s]:  5.47 , recorded with  15.0 fps!\n",
      "Overall # of frames:  82  found with (before cropping) frame dimensions:  1280 720\n",
      "Starting to extract posture\n"
     ]
    },
    {
     "name": "stderr",
     "output_type": "stream",
     "text": [
      " 98%|████████████████████████████████████████████████████████████████████████████████  | 80/82 [00:02<00:00, 38.38it/s]\n"
     ]
    },
    {
     "name": "stdout",
     "output_type": "stream",
     "text": [
      "Saving results in C:\\Users\\UCPH\\gabi\\thesis analysis\\test3...\n",
      "Saving csv poses!\n",
      "Starting to analyze %  C:\\Users\\UCPH\\gabi\\thesis analysis\\test3\\1_PRE_BB_35_H1,6_WT_T3.avi\n",
      "Loading  C:\\Users\\UCPH\\gabi\\thesis analysis\\test3\\1_PRE_BB_35_H1,6_WT_T3.avi\n",
      "Duration of video [s]:  7.27 , recorded with  15.0 fps!\n",
      "Overall # of frames:  109  found with (before cropping) frame dimensions:  1280 720\n",
      "Starting to extract posture\n"
     ]
    },
    {
     "name": "stderr",
     "output_type": "stream",
     "text": [
      " 92%|█████████████████████████████████████████████████████████████████████████▍      | 100/109 [00:02<00:00, 37.60it/s]\n"
     ]
    },
    {
     "name": "stdout",
     "output_type": "stream",
     "text": [
      "Saving results in C:\\Users\\UCPH\\gabi\\thesis analysis\\test3...\n",
      "Saving csv poses!\n",
      "Starting to analyze %  C:\\Users\\UCPH\\gabi\\thesis analysis\\test3\\1_PRE_BB_35_H1,6_WT_T4.avi\n",
      "Loading  C:\\Users\\UCPH\\gabi\\thesis analysis\\test3\\1_PRE_BB_35_H1,6_WT_T4.avi\n",
      "Duration of video [s]:  6.27 , recorded with  15.0 fps!\n",
      "Overall # of frames:  94  found with (before cropping) frame dimensions:  1280 720\n",
      "Starting to extract posture\n"
     ]
    },
    {
     "name": "stderr",
     "output_type": "stream",
     "text": [
      " 96%|██████████████████████████████████████████████████████████████████████████████▌   | 90/94 [00:02<00:00, 39.00it/s]\n"
     ]
    },
    {
     "name": "stdout",
     "output_type": "stream",
     "text": [
      "Saving results in C:\\Users\\UCPH\\gabi\\thesis analysis\\test3...\n",
      "Saving csv poses!\n",
      "Starting to analyze %  C:\\Users\\UCPH\\gabi\\thesis analysis\\test3\\1_PRE_BB_35_VEHE_WT_T1.avi\n",
      "Loading  C:\\Users\\UCPH\\gabi\\thesis analysis\\test3\\1_PRE_BB_35_VEHE_WT_T1.avi\n",
      "Duration of video [s]:  5.67 , recorded with  15.0 fps!\n",
      "Overall # of frames:  85  found with (before cropping) frame dimensions:  1280 720\n",
      "Starting to extract posture\n"
     ]
    },
    {
     "name": "stderr",
     "output_type": "stream",
     "text": [
      " 94%|█████████████████████████████████████████████████████████████████████████████▏    | 80/85 [00:02<00:00, 38.31it/s]\n"
     ]
    },
    {
     "name": "stdout",
     "output_type": "stream",
     "text": [
      "Saving results in C:\\Users\\UCPH\\gabi\\thesis analysis\\test3...\n",
      "Saving csv poses!\n",
      "Starting to analyze %  C:\\Users\\UCPH\\gabi\\thesis analysis\\test3\\1_PRE_BB_35_VEHE_WT_T2.avi\n",
      "Loading  C:\\Users\\UCPH\\gabi\\thesis analysis\\test3\\1_PRE_BB_35_VEHE_WT_T2.avi\n",
      "Duration of video [s]:  16.47 , recorded with  15.0 fps!\n",
      "Overall # of frames:  247  found with (before cropping) frame dimensions:  1280 720\n",
      "Starting to extract posture\n"
     ]
    },
    {
     "name": "stderr",
     "output_type": "stream",
     "text": [
      " 97%|█████████████████████████████████████████████████████████████████████████████▋  | 240/247 [00:05<00:00, 40.87it/s]\n"
     ]
    },
    {
     "name": "stdout",
     "output_type": "stream",
     "text": [
      "Saving results in C:\\Users\\UCPH\\gabi\\thesis analysis\\test3...\n",
      "Saving csv poses!\n",
      "Starting to analyze %  C:\\Users\\UCPH\\gabi\\thesis analysis\\test3\\1_PRE_BB_35_VEHE_WT_T3.avi\n",
      "Loading  C:\\Users\\UCPH\\gabi\\thesis analysis\\test3\\1_PRE_BB_35_VEHE_WT_T3.avi\n",
      "Duration of video [s]:  9.0 , recorded with  15.0 fps!\n",
      "Overall # of frames:  135  found with (before cropping) frame dimensions:  1280 720\n",
      "Starting to extract posture\n"
     ]
    },
    {
     "name": "stderr",
     "output_type": "stream",
     "text": [
      " 96%|█████████████████████████████████████████████████████████████████████████████   | 130/135 [00:03<00:00, 40.46it/s]\n"
     ]
    },
    {
     "name": "stdout",
     "output_type": "stream",
     "text": [
      "Saving results in C:\\Users\\UCPH\\gabi\\thesis analysis\\test3...\n",
      "Saving csv poses!\n",
      "Starting to analyze %  C:\\Users\\UCPH\\gabi\\thesis analysis\\test3\\1_PRE_BB_35_VEHE_WT_T4.avi\n",
      "Loading  C:\\Users\\UCPH\\gabi\\thesis analysis\\test3\\1_PRE_BB_35_VEHE_WT_T4.avi\n",
      "Duration of video [s]:  9.27 , recorded with  15.0 fps!\n",
      "Overall # of frames:  139  found with (before cropping) frame dimensions:  1280 720\n",
      "Starting to extract posture\n"
     ]
    },
    {
     "name": "stderr",
     "output_type": "stream",
     "text": [
      " 94%|██████████████████████████████████████████████████████████████████████████▊     | 130/139 [00:03<00:00, 38.29it/s]\n"
     ]
    },
    {
     "name": "stdout",
     "output_type": "stream",
     "text": [
      "Saving results in C:\\Users\\UCPH\\gabi\\thesis analysis\\test3...\n",
      "Saving csv poses!\n",
      "Starting to analyze %  C:\\Users\\UCPH\\gabi\\thesis analysis\\test3\\1_PRE_BB_37_H1,6_WT_T1.avi\n",
      "Loading  C:\\Users\\UCPH\\gabi\\thesis analysis\\test3\\1_PRE_BB_37_H1,6_WT_T1.avi\n",
      "Duration of video [s]:  7.93 , recorded with  15.0 fps!\n",
      "Overall # of frames:  119  found with (before cropping) frame dimensions:  1280 720\n",
      "Starting to extract posture\n"
     ]
    },
    {
     "name": "stderr",
     "output_type": "stream",
     "text": [
      " 92%|█████████████████████████████████████████████████████████████████████████▉      | 110/119 [00:02<00:00, 38.67it/s]\n"
     ]
    },
    {
     "name": "stdout",
     "output_type": "stream",
     "text": [
      "Saving results in C:\\Users\\UCPH\\gabi\\thesis analysis\\test3...\n",
      "Saving csv poses!\n",
      "Starting to analyze %  C:\\Users\\UCPH\\gabi\\thesis analysis\\test3\\1_PRE_BB_37_H1,6_WT_T2.avi\n",
      "Loading  C:\\Users\\UCPH\\gabi\\thesis analysis\\test3\\1_PRE_BB_37_H1,6_WT_T2.avi\n",
      "Duration of video [s]:  9.2 , recorded with  15.0 fps!\n",
      "Overall # of frames:  138  found with (before cropping) frame dimensions:  1280 720\n",
      "Starting to extract posture\n"
     ]
    },
    {
     "name": "stderr",
     "output_type": "stream",
     "text": [
      " 94%|███████████████████████████████████████████████████████████████████████████▎    | 130/138 [00:03<00:00, 38.49it/s]\n"
     ]
    },
    {
     "name": "stdout",
     "output_type": "stream",
     "text": [
      "Saving results in C:\\Users\\UCPH\\gabi\\thesis analysis\\test3...\n",
      "Saving csv poses!\n",
      "Starting to analyze %  C:\\Users\\UCPH\\gabi\\thesis analysis\\test3\\1_PRE_BB_37_H1,6_WT_T3.avi\n",
      "Loading  C:\\Users\\UCPH\\gabi\\thesis analysis\\test3\\1_PRE_BB_37_H1,6_WT_T3.avi\n",
      "Duration of video [s]:  11.07 , recorded with  15.0 fps!\n",
      "Overall # of frames:  166  found with (before cropping) frame dimensions:  1280 720\n",
      "Starting to extract posture\n"
     ]
    },
    {
     "name": "stderr",
     "output_type": "stream",
     "text": [
      " 96%|█████████████████████████████████████████████████████████████████████████████   | 160/166 [00:04<00:00, 39.83it/s]\n"
     ]
    },
    {
     "name": "stdout",
     "output_type": "stream",
     "text": [
      "Saving results in C:\\Users\\UCPH\\gabi\\thesis analysis\\test3...\n",
      "Saving csv poses!\n",
      "Starting to analyze %  C:\\Users\\UCPH\\gabi\\thesis analysis\\test3\\1_PRE_BB_37_H1,6_WT_T4.avi\n",
      "Loading  C:\\Users\\UCPH\\gabi\\thesis analysis\\test3\\1_PRE_BB_37_H1,6_WT_T4.avi\n",
      "Duration of video [s]:  10.87 , recorded with  15.0 fps!\n",
      "Overall # of frames:  163  found with (before cropping) frame dimensions:  1280 720\n",
      "Starting to extract posture\n"
     ]
    },
    {
     "name": "stderr",
     "output_type": "stream",
     "text": [
      " 98%|██████████████████████████████████████████████████████████████████████████████▌ | 160/163 [00:03<00:00, 40.13it/s]\n"
     ]
    },
    {
     "name": "stdout",
     "output_type": "stream",
     "text": [
      "Saving results in C:\\Users\\UCPH\\gabi\\thesis analysis\\test3...\n",
      "Saving csv poses!\n",
      "Starting to analyze %  C:\\Users\\UCPH\\gabi\\thesis analysis\\test3\\1_PRE_BB_37_VEHE_WT_T1.avi\n",
      "Loading  C:\\Users\\UCPH\\gabi\\thesis analysis\\test3\\1_PRE_BB_37_VEHE_WT_T1.avi\n",
      "Duration of video [s]:  6.47 , recorded with  15.0 fps!\n",
      "Overall # of frames:  97  found with (before cropping) frame dimensions:  1280 720\n",
      "Starting to extract posture\n"
     ]
    },
    {
     "name": "stderr",
     "output_type": "stream",
     "text": [
      " 93%|████████████████████████████████████████████████████████████████████████████      | 90/97 [00:02<00:00, 39.25it/s]\n"
     ]
    },
    {
     "name": "stdout",
     "output_type": "stream",
     "text": [
      "Saving results in C:\\Users\\UCPH\\gabi\\thesis analysis\\test3...\n",
      "Saving csv poses!\n",
      "Starting to analyze %  C:\\Users\\UCPH\\gabi\\thesis analysis\\test3\\1_PRE_BB_37_VEHE_WT_T2.avi\n",
      "Loading  C:\\Users\\UCPH\\gabi\\thesis analysis\\test3\\1_PRE_BB_37_VEHE_WT_T2.avi\n",
      "Duration of video [s]:  6.27 , recorded with  15.0 fps!\n",
      "Overall # of frames:  94  found with (before cropping) frame dimensions:  1280 720\n",
      "Starting to extract posture\n"
     ]
    },
    {
     "name": "stderr",
     "output_type": "stream",
     "text": [
      " 96%|██████████████████████████████████████████████████████████████████████████████▌   | 90/94 [00:02<00:00, 39.25it/s]\n"
     ]
    },
    {
     "name": "stdout",
     "output_type": "stream",
     "text": [
      "Saving results in C:\\Users\\UCPH\\gabi\\thesis analysis\\test3...\n",
      "Saving csv poses!\n",
      "Starting to analyze %  C:\\Users\\UCPH\\gabi\\thesis analysis\\test3\\1_PRE_BB_37_VEHE_WT_T3.avi\n",
      "Loading  C:\\Users\\UCPH\\gabi\\thesis analysis\\test3\\1_PRE_BB_37_VEHE_WT_T3.avi\n",
      "Duration of video [s]:  7.27 , recorded with  15.0 fps!\n",
      "Overall # of frames:  109  found with (before cropping) frame dimensions:  1280 720\n",
      "Starting to extract posture\n"
     ]
    },
    {
     "name": "stderr",
     "output_type": "stream",
     "text": [
      " 92%|█████████████████████████████████████████████████████████████████████████▍      | 100/109 [00:02<00:00, 37.56it/s]\n"
     ]
    },
    {
     "name": "stdout",
     "output_type": "stream",
     "text": [
      "Saving results in C:\\Users\\UCPH\\gabi\\thesis analysis\\test3...\n",
      "Saving csv poses!\n",
      "Starting to analyze %  C:\\Users\\UCPH\\gabi\\thesis analysis\\test3\\1_PRE_BB_37_VEHE_WT_T4.avi\n",
      "Loading  C:\\Users\\UCPH\\gabi\\thesis analysis\\test3\\1_PRE_BB_37_VEHE_WT_T4.avi\n",
      "Duration of video [s]:  5.67 , recorded with  15.0 fps!\n",
      "Overall # of frames:  85  found with (before cropping) frame dimensions:  1280 720\n",
      "Starting to extract posture\n"
     ]
    },
    {
     "name": "stderr",
     "output_type": "stream",
     "text": [
      " 94%|█████████████████████████████████████████████████████████████████████████████▏    | 80/85 [00:02<00:00, 38.18it/s]"
     ]
    },
    {
     "name": "stdout",
     "output_type": "stream",
     "text": [
      "Saving results in C:\\Users\\UCPH\\gabi\\thesis analysis\\test3...\n",
      "Saving csv poses!\n",
      "The videos are analyzed. Now your research can truly start! \n",
      " You can create labeled videos with 'create_labeled_video'\n",
      "If the tracking is not satisfactory for some videos, consider expanding the training set. You can use the function 'extract_outlier_frames' to extract a few representative outlier frames.\n"
     ]
    },
    {
     "name": "stderr",
     "output_type": "stream",
     "text": [
      "\n"
     ]
    },
    {
     "data": {
      "text/plain": [
       "'DLC_resnet50_BBSep4shuffle1_500000'"
      ]
     },
     "execution_count": 24,
     "metadata": {},
     "output_type": "execute_result"
    }
   ],
   "source": [
    "deeplabcut.analyze_videos(config_path, new_videolist, save_as_csv=True)"
   ]
  },
  {
   "cell_type": "code",
   "execution_count": null,
   "id": "ddb0e542",
   "metadata": {},
   "outputs": [],
   "source": []
  }
 ],
 "metadata": {
  "kernelspec": {
   "display_name": "Python 3 (ipykernel)",
   "language": "python",
   "name": "python3"
  },
  "language_info": {
   "codemirror_mode": {
    "name": "ipython",
    "version": 3
   },
   "file_extension": ".py",
   "mimetype": "text/x-python",
   "name": "python",
   "nbconvert_exporter": "python",
   "pygments_lexer": "ipython3",
   "version": "3.8.16"
  }
 },
 "nbformat": 4,
 "nbformat_minor": 5
}
